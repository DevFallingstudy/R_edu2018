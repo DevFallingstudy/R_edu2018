{
 "cells": [
  {
   "cell_type": "markdown",
   "metadata": {},
   "source": [
    "#### written by YunGil Jun (2018. 6)"
   ]
  },
  {
   "cell_type": "markdown",
   "metadata": {},
   "source": [
    "---"
   ]
  },
  {
   "cell_type": "markdown",
   "metadata": {},
   "source": [
    "# 0. Broad Overview of data science \n",
    "> * **including _business analytics, data analytics, business intelligence, advanced analytics, machine learning_, and _AI_**)\n",
    "> * source: https://www.kdnuggets.com/2018/05/data-science-machine-learning-business-analytics.html\n",
    "\n",
    "\n",
    "**1) Business**\n",
    "> * Business case studies\n",
    "> * Qualitative analytics\n",
    "> * Preliminary data report(ing)\n",
    "> * Reporting with visuals\n",
    "> * Creating dashboards\n",
    "> * Sales forecasting\n",
    "\n",
    "![](https://www.kdnuggets.com/wp-content/uploads/business-analytics-rectangle.png)\n",
    "\n",
    "**2) Data, Analysis & Analytics**\n",
    "\n",
    "![](https://www.kdnuggets.com/wp-content/uploads/business-analytics-data-1.png)\n",
    "\n",
    "**3) Time**\n",
    "\n",
    "![](https://www.kdnuggets.com/wp-content/uploads/analysis-vs-analytics.png)\n",
    "\n",
    "**4) Data Science**\n",
    "\n",
    "![](https://www.kdnuggets.com/wp-content/uploads/data-science-past-vs-future-1.png)\n",
    "\n",
    "**5) Business Intelligence**\n",
    "\n",
    "![](https://www.kdnuggets.com/wp-content/uploads/business-intelligence-fig-1.png)\n",
    "\n",
    "**6) Machine Learning & AI**\n",
    "\n",
    "![](https://www.kdnuggets.com/wp-content/uploads/machine-learning-AI-1.png)"
   ]
  },
  {
   "cell_type": "markdown",
   "metadata": {},
   "source": [
    "# 1. What is R?\n",
    "> * **GPL(General Public License: GNU)** : 일반 공중 사용 허가서로 자유 소프트웨어 재단에서 만든 자유 소프트웨어 라이센스 (https://ko.wikipedia.org/wiki/GNU_일반_공중_사용권)\n",
    "> * #### R reference:\n",
    ">> * **공식사이트**: https://cran.r-project.org\n",
    ">> * **공식사이트 R 소개자료** : \"An Introductin to R\"(https://cran.r-project.org/doc/manuals/r-release/R-intro.html#Introduction-and-preliminaries)\n",
    ">> * \"**R** is a language and environment for statistical computing and graphics\"\n",
    ">> * CRAN Mirror"
   ]
  },
  {
   "cell_type": "markdown",
   "metadata": {},
   "source": [
    "---"
   ]
  },
  {
   "cell_type": "markdown",
   "metadata": {},
   "source": [
    "# 2. Advantage of R\n",
    "> * **Comparison of Statistical Packages**  (https://en.wikipedia.org/wiki/Comparison_of_statistical_packages)\n",
    "> * **Popularity for Data Scientists (R vs Python)**\n",
    "![](https://www.kdnuggets.com/images/top-analytics-data-science-machine-learning-software-2018-3yrs-539.jpg)\n",
    "> * **History**\n",
    "![](https://cdn-images-1.medium.com/max/800/1*h6xNiSQXjR2-F2sTy9wIig.png)\n",
    ">> * Python Invented(1989 Guido van Rossum) -> Python2(2000) -> Python3(2008)\n",
    ">> * S(Bell Labs) -> R Invented(1991 Ross Ihaka and Robert Gentleman) -> R 1.0.0(2000) -> R 3.0.2(2013)"
   ]
  },
  {
   "cell_type": "markdown",
   "metadata": {},
   "source": [
    "# 2-1. Why R?\n",
    "* Open-source\n",
    "* Lots of packages\n",
    "* High quality packages with proper document (CRAN)\n",
    "* RStudio\n",
    "* R Markdown\n",
    "* graphics capabilities\n",
    "* community support"
   ]
  },
  {
   "cell_type": "markdown",
   "metadata": {},
   "source": [
    "# 3. Environment in R\n",
    "* 통합 개발 환경IDE(Integrated Development Environment)\n",
    "> * RStudio : https://www.rstudio.com/products/RStudio/\n",
    "> * Visual Studio용 R : https://docs.microsoft.com/ko-kr/visualstudio/rtvs/installing-r-tools-for-visual-studio\n",
    "> * jupyter notebook R kernel : https://irkernel.github.io/requirements/"
   ]
  },
  {
   "cell_type": "markdown",
   "metadata": {},
   "source": [
    "---"
   ]
  },
  {
   "cell_type": "markdown",
   "metadata": {},
   "source": [
    "# 4. R community\n",
    "* #rstats hashtag : https://twitter.com/search?q=%23rstats\n",
    "* R-Ladies : https://rladies.org\n",
    "* Local R meetup groups : https://jumpingrivers.github.io/meetingsR/r-user-groups.html\n",
    "* Rweekly : https://rweekly.org\n",
    "* R-bloggers : https://www.r-bloggers.com\n",
    "* DataCarpentry(http://www.datacarpentry.org) and Software Carpentry(https://software-carpentry.org)\n",
    "\n",
    "* R Conferences : https://jumpingrivers.github.io/meetingsR/events.html \n",
    "* Github : https://github.com/trending/developers/r?since=weekly\n",
    "* The R Consortium : https://www.r-consortium.org/projects\n"
   ]
  },
  {
   "cell_type": "code",
   "execution_count": null,
   "metadata": {},
   "outputs": [],
   "source": []
  }
 ],
 "metadata": {
  "kernelspec": {
   "display_name": "R",
   "language": "R",
   "name": "ir"
  },
  "language_info": {
   "codemirror_mode": "r",
   "file_extension": ".r",
   "mimetype": "text/x-r-source",
   "name": "R",
   "pygments_lexer": "r",
   "version": "3.4.3"
  }
 },
 "nbformat": 4,
 "nbformat_minor": 2
}
