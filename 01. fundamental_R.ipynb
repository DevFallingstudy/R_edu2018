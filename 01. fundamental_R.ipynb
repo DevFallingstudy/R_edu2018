{
 "cells": [
  {
   "cell_type": "markdown",
   "metadata": {},
   "source": [
    "# 주의사항 및 내장기능\n",
    "> * 대소문자구분\n",
    "> * 주석 #\n",
    "> * 줄단위 다른 명령어를 같이 쓰는 방법 ;활용\n",
    "> * 내장기능 (Inbuilt facilities):\n",
    ">> * help, ? , ??, example(), demo(), \n",
    ">> * data(): 내장데이터\n",
    "> * libraries "
   ]
  },
  {
   "cell_type": "markdown",
   "metadata": {},
   "source": [
    "# 0. Packages\n",
    "> * 특수한 목적의 로직과 코드들의 함수 집합을 패키지라고 함\n",
    "> * 패키지 제작자가 제 3자에게 이용하기 쉽도록 활용가능한 함수들을 패키지를 통해 공유\n",
    "> * 패키지는 함수(function), 재현가능한 built-in 예제 데이터셋, 패키지 사용방법에 대한 개요 및 설명서(Vignette), 함수 도움말로 구성\n",
    "> * 패키지 공유는 CRAN(The Comprehensive R Archive Network)을 통해 공유"
   ]
  },
  {
   "cell_type": "code",
   "execution_count": 1,
   "metadata": {},
   "outputs": [
    {
     "data": {
      "text/html": [
       "<table>\n",
       "<thead><tr><th></th><th scope=col>Package</th><th scope=col>Version</th><th scope=col>Priority</th><th scope=col>Depends</th><th scope=col>Imports</th><th scope=col>LinkingTo</th><th scope=col>Suggests</th><th scope=col>Enhances</th><th scope=col>License</th><th scope=col>License_is_FOSS</th><th scope=col>License_restricts_use</th><th scope=col>OS_type</th><th scope=col>Archs</th><th scope=col>MD5sum</th><th scope=col>NeedsCompilation</th><th scope=col>File</th><th scope=col>Repository</th></tr></thead>\n",
       "<tbody>\n",
       "\t<tr><th scope=row>A3</th><td><span style=white-space:pre-wrap>A3                </span>                                                                                                </td><td>1.0.0                                                                                                                                                     </td><td>NA                                                                                                                                                        </td><td><span style=white-space:pre-wrap>R (&gt;= 2.15.0), xtable, pbapply                     </span>                                                            </td><td><span style=white-space:pre-wrap>NA                                                                                                                </span></td><td><span style=white-space:pre-wrap>NA                 </span>                                                                                               </td><td><span style=white-space:pre-wrap>randomForest, e1071                          </span>                                                                     </td><td>NA                                                                                                                                                        </td><td><span style=white-space:pre-wrap>GPL (&gt;= 2)        </span>                                                                                             </td><td>NA                                                                                                                                                        </td><td>NA                                                                                                                                                        </td><td>NA                                                                                                                                                        </td><td>NA                                                                                                                                                        </td><td>NA                                                                                                                                                        </td><td>no                                                                                                                                                        </td><td>NA                                                                                                                                                        </td><td>https://cran.r-project.org/src/contrib                                                                                                                    </td></tr>\n",
       "\t<tr><th scope=row>abbyyR</th><td><span style=white-space:pre-wrap>abbyyR            </span>                                                                                                </td><td>0.5.4                                                                                                                                                     </td><td>NA                                                                                                                                                        </td><td><span style=white-space:pre-wrap>R (&gt;= 3.2.0)                                       </span>                                                            </td><td><span style=white-space:pre-wrap>httr, XML, curl, readr, plyr, progress                                                                            </span></td><td><span style=white-space:pre-wrap>NA                 </span>                                                                                               </td><td><span style=white-space:pre-wrap>testthat, rmarkdown, knitr (&gt;= 1.11), lintr  </span>                                                                  </td><td>NA                                                                                                                                                        </td><td>MIT + file LICENSE                                                                                                                                        </td><td>NA                                                                                                                                                        </td><td>NA                                                                                                                                                        </td><td>NA                                                                                                                                                        </td><td>NA                                                                                                                                                        </td><td>NA                                                                                                                                                        </td><td>no                                                                                                                                                        </td><td>NA                                                                                                                                                        </td><td>https://cran.r-project.org/src/contrib                                                                                                                    </td></tr>\n",
       "\t<tr><th scope=row>abc</th><td><span style=white-space:pre-wrap>abc               </span>                                                                                                </td><td><span style=white-space:pre-wrap>2.1   </span>                                                                                                            </td><td>NA                                                                                                                                                        </td><td>R (&gt;= 2.10), abc.data, nnet, quantreg, MASS, locfit                                                                                                    </td><td><span style=white-space:pre-wrap>NA                                                                                                                </span></td><td><span style=white-space:pre-wrap>NA                 </span>                                                                                               </td><td><span style=white-space:pre-wrap>NA                                           </span>                                                                     </td><td>NA                                                                                                                                                        </td><td><span style=white-space:pre-wrap>GPL (&gt;= 3)        </span>                                                                                             </td><td>NA                                                                                                                                                        </td><td>NA                                                                                                                                                        </td><td>NA                                                                                                                                                        </td><td>NA                                                                                                                                                        </td><td>NA                                                                                                                                                        </td><td>no                                                                                                                                                        </td><td>NA                                                                                                                                                        </td><td>https://cran.r-project.org/src/contrib                                                                                                                    </td></tr>\n",
       "\t<tr><th scope=row>abc.data</th><td><span style=white-space:pre-wrap>abc.data          </span>                                                                                                </td><td><span style=white-space:pre-wrap>1.0   </span>                                                                                                            </td><td>NA                                                                                                                                                        </td><td><span style=white-space:pre-wrap>R (&gt;= 2.10)                                        </span>                                                            </td><td><span style=white-space:pre-wrap>NA                                                                                                                </span></td><td><span style=white-space:pre-wrap>NA                 </span>                                                                                               </td><td><span style=white-space:pre-wrap>NA                                           </span>                                                                     </td><td>NA                                                                                                                                                        </td><td><span style=white-space:pre-wrap>GPL (&gt;= 3)        </span>                                                                                             </td><td>NA                                                                                                                                                        </td><td>NA                                                                                                                                                        </td><td>NA                                                                                                                                                        </td><td>NA                                                                                                                                                        </td><td>NA                                                                                                                                                        </td><td>no                                                                                                                                                        </td><td>NA                                                                                                                                                        </td><td>https://cran.r-project.org/src/contrib                                                                                                                    </td></tr>\n",
       "\t<tr><th scope=row>ABC.RAP</th><td><span style=white-space:pre-wrap>ABC.RAP           </span>                                                                                                </td><td>0.9.0                                                                                                                                                     </td><td>NA                                                                                                                                                        </td><td><span style=white-space:pre-wrap>R (&gt;= 3.1.0)                                       </span>                                                            </td><td><span style=white-space:pre-wrap>graphics, stats, utils                                                                                            </span></td><td><span style=white-space:pre-wrap>NA                 </span>                                                                                               </td><td><span style=white-space:pre-wrap>knitr, rmarkdown                             </span>                                                                     </td><td>NA                                                                                                                                                        </td><td><span style=white-space:pre-wrap>GPL-3             </span>                                                                                                </td><td>NA                                                                                                                                                        </td><td>NA                                                                                                                                                        </td><td>NA                                                                                                                                                        </td><td>NA                                                                                                                                                        </td><td>NA                                                                                                                                                        </td><td>no                                                                                                                                                        </td><td>NA                                                                                                                                                        </td><td>https://cran.r-project.org/src/contrib                                                                                                                    </td></tr>\n",
       "\t<tr><th scope=row>ABCanalysis</th><td><span style=white-space:pre-wrap>ABCanalysis       </span>                                                                                                </td><td>1.2.1                                                                                                                                                     </td><td>NA                                                                                                                                                        </td><td><span style=white-space:pre-wrap>R (&gt;= 2.10)                                        </span>                                                            </td><td><span style=white-space:pre-wrap>plotrix                                                                                                           </span></td><td><span style=white-space:pre-wrap>NA                 </span>                                                                                               </td><td><span style=white-space:pre-wrap>NA                                           </span>                                                                     </td><td>NA                                                                                                                                                        </td><td><span style=white-space:pre-wrap>GPL-3             </span>                                                                                                </td><td>NA                                                                                                                                                        </td><td>NA                                                                                                                                                        </td><td>NA                                                                                                                                                        </td><td>NA                                                                                                                                                        </td><td>NA                                                                                                                                                        </td><td>no                                                                                                                                                        </td><td>NA                                                                                                                                                        </td><td>https://cran.r-project.org/src/contrib                                                                                                                    </td></tr>\n",
       "\t<tr><th scope=row>abcdeFBA</th><td><span style=white-space:pre-wrap>abcdeFBA          </span>                                                                                                </td><td><span style=white-space:pre-wrap>0.4   </span>                                                                                                            </td><td>NA                                                                                                                                                        </td><td><span style=white-space:pre-wrap>Rglpk,rgl,corrplot,lattice,R (&gt;= 2.10)             </span>                                                            </td><td><span style=white-space:pre-wrap>NA                                                                                                                </span></td><td><span style=white-space:pre-wrap>NA                 </span>                                                                                               </td><td><span style=white-space:pre-wrap>LIM,sybil                                    </span>                                                                     </td><td>NA                                                                                                                                                        </td><td><span style=white-space:pre-wrap>GPL-2             </span>                                                                                                </td><td>NA                                                                                                                                                        </td><td>NA                                                                                                                                                        </td><td>NA                                                                                                                                                        </td><td>NA                                                                                                                                                        </td><td>NA                                                                                                                                                        </td><td>no                                                                                                                                                        </td><td>NA                                                                                                                                                        </td><td>https://cran.r-project.org/src/contrib                                                                                                                    </td></tr>\n",
       "\t<tr><th scope=row>ABCoptim</th><td>ABCoptim                                                                                                          </td><td>0.15.0                                                                                                            </td><td>NA                                                                                                                </td><td>NA                                                                                                                </td><td>Rcpp, graphics, stats, utils                                                                                      </td><td>Rcpp                                                                                                              </td><td>testthat, covr                                                                                                    </td><td>NA                                                                                                                </td><td>MIT + file LICENSE                                                                                                </td><td>NA                                                                                                                </td><td>NA                                                                                                                </td><td>NA                                                                                                                </td><td>NA                                                                                                                </td><td>NA                                                                                                                </td><td>yes                                                                                                               </td><td>NA                                                                                                                </td><td>https://cran.r-project.org/src/contrib                                                                            </td></tr>\n",
       "\t<tr><th scope=row>ABCp2</th><td>ABCp2                                                                                                             </td><td>1.2                                                                                                               </td><td>NA                                                                                                                </td><td>MASS                                                                                                              </td><td>NA                                                                                                                </td><td>NA                                                                                                                </td><td>NA                                                                                                                </td><td>NA                                                                                                                </td><td>GPL-2                                                                                                             </td><td>NA                                                                                                                </td><td>NA                                                                                                                </td><td>NA                                                                                                                </td><td>NA                                                                                                                </td><td>NA                                                                                                                </td><td>no                                                                                                                </td><td>NA                                                                                                                </td><td>https://cran.r-project.org/src/contrib                                                                            </td></tr>\n",
       "\t<tr><th scope=row>abcrf</th><td><span style=white-space:pre-wrap>abcrf             </span>                                                                                                   </td><td>1.7.1                                                                                                                                                        </td><td>NA                                                                                                                                                           </td><td><span style=white-space:pre-wrap>R(&gt;= 3.1)                                          </span>                                                               </td><td><span style=white-space:pre-wrap>readr, MASS, matrixStats, ranger, parallel, stringr, Rcpp (&gt;=\n",
       "0.11.2)                                            </span></td><td>Rcpp, RcppArmadillo                                                                                                                                          </td><td><span style=white-space:pre-wrap>NA                                           </span>                                                                        </td><td>NA                                                                                                                                                           </td><td><span style=white-space:pre-wrap>GPL (&gt;= 2)        </span>                                                                                                </td><td>NA                                                                                                                                                           </td><td>NA                                                                                                                                                           </td><td>NA                                                                                                                                                           </td><td>NA                                                                                                                                                           </td><td>NA                                                                                                                                                           </td><td>yes                                                                                                                                                          </td><td>NA                                                                                                                                                           </td><td>https://cran.r-project.org/src/contrib                                                                                                                       </td></tr>\n",
       "\t<tr><th scope=row>abctools</th><td><span style=white-space:pre-wrap>abctools          </span>                                                                                                </td><td>1.1.1                                                                                                                                                     </td><td>NA                                                                                                                                                        </td><td><span style=white-space:pre-wrap>R (&gt;= 2.10), abc, abind, parallel, plyr, Hmisc     </span>                                                            </td><td><span style=white-space:pre-wrap>NA                                                                                                                </span></td><td><span style=white-space:pre-wrap>NA                 </span>                                                                                               </td><td><span style=white-space:pre-wrap>ggplot2, abc.data                            </span>                                                                     </td><td>NA                                                                                                                                                        </td><td><span style=white-space:pre-wrap>GPL (&gt;= 2)        </span>                                                                                             </td><td>NA                                                                                                                                                        </td><td>NA                                                                                                                                                        </td><td>NA                                                                                                                                                        </td><td>NA                                                                                                                                                        </td><td>NA                                                                                                                                                        </td><td>yes                                                                                                                                                       </td><td>NA                                                                                                                                                        </td><td>https://cran.r-project.org/src/contrib                                                                                                                    </td></tr>\n",
       "\t<tr><th scope=row>abd</th><td><span style=white-space:pre-wrap>abd               </span>                                                                                                </td><td>0.2-8                                                                                                                                                     </td><td>NA                                                                                                                                                        </td><td><span style=white-space:pre-wrap>R (&gt;= 3.0), nlme, lattice, grid, mosaic            </span>                                                            </td><td><span style=white-space:pre-wrap>NA                                                                                                                </span></td><td><span style=white-space:pre-wrap>NA                 </span>                                                                                               </td><td>boot, car, ggplot2, plyr, HH, ICC, vcd, Hmisc                                                                                                             </td><td>NA                                                                                                                                                        </td><td><span style=white-space:pre-wrap>GPL-2             </span>                                                                                                </td><td>NA                                                                                                                                                        </td><td>NA                                                                                                                                                        </td><td>NA                                                                                                                                                        </td><td>NA                                                                                                                                                        </td><td>NA                                                                                                                                                        </td><td>no                                                                                                                                                        </td><td>NA                                                                                                                                                        </td><td>https://cran.r-project.org/src/contrib                                                                                                                    </td></tr>\n",
       "\t<tr><th scope=row>abe</th><td><span style=white-space:pre-wrap>abe               </span>                                                                                                </td><td>3.0.1                                                                                                                                                     </td><td>NA                                                                                                                                                        </td><td><span style=white-space:pre-wrap>NA                                                 </span>                                                               </td><td><span style=white-space:pre-wrap>NA                                                                                                                </span></td><td><span style=white-space:pre-wrap>NA                 </span>                                                                                               </td><td><span style=white-space:pre-wrap>NA                                           </span>                                                                     </td><td>NA                                                                                                                                                        </td><td><span style=white-space:pre-wrap>GPL (&gt;= 2)        </span>                                                                                             </td><td>NA                                                                                                                                                        </td><td>NA                                                                                                                                                        </td><td>NA                                                                                                                                                        </td><td>NA                                                                                                                                                        </td><td>NA                                                                                                                                                        </td><td>no                                                                                                                                                        </td><td>NA                                                                                                                                                        </td><td>https://cran.r-project.org/src/contrib                                                                                                                    </td></tr>\n",
       "\t<tr><th scope=row>abf2</th><td>abf2                                                                                                              </td><td>0.7-1                                                                                                             </td><td>NA                                                                                                                </td><td>NA                                                                                                                </td><td>NA                                                                                                                </td><td>NA                                                                                                                </td><td>NA                                                                                                                </td><td>NA                                                                                                                </td><td>Artistic-2.0                                                                                                      </td><td>NA                                                                                                                </td><td>NA                                                                                                                </td><td>NA                                                                                                                </td><td>NA                                                                                                                </td><td>NA                                                                                                                </td><td>no                                                                                                                </td><td>NA                                                                                                                </td><td>https://cran.r-project.org/src/contrib                                                                            </td></tr>\n",
       "\t<tr><th scope=row>ABHgenotypeR</th><td>ABHgenotypeR                                                                                                      </td><td>1.0.1                                                                                                             </td><td>NA                                                                                                                </td><td>NA                                                                                                                </td><td>ggplot2, reshape2, utils                                                                                          </td><td>NA                                                                                                                </td><td>knitr, rmarkdown                                                                                                  </td><td>NA                                                                                                                </td><td>GPL-3                                                                                                             </td><td>NA                                                                                                                </td><td>NA                                                                                                                </td><td>NA                                                                                                                </td><td>NA                                                                                                                </td><td>NA                                                                                                                </td><td>no                                                                                                                </td><td>NA                                                                                                                </td><td>https://cran.r-project.org/src/contrib                                                                            </td></tr>\n",
       "\t<tr><th scope=row>abind</th><td><span style=white-space:pre-wrap>abind             </span>                                                                                                </td><td>1.4-5                                                                                                                                                     </td><td>NA                                                                                                                                                        </td><td><span style=white-space:pre-wrap>R (&gt;= 1.5.0)                                       </span>                                                            </td><td><span style=white-space:pre-wrap>methods, utils                                                                                                    </span></td><td><span style=white-space:pre-wrap>NA                 </span>                                                                                               </td><td><span style=white-space:pre-wrap>NA                                           </span>                                                                     </td><td>NA                                                                                                                                                        </td><td><span style=white-space:pre-wrap>LGPL (&gt;= 2)       </span>                                                                                             </td><td>NA                                                                                                                                                        </td><td>NA                                                                                                                                                        </td><td>NA                                                                                                                                                        </td><td>NA                                                                                                                                                        </td><td>NA                                                                                                                                                        </td><td>no                                                                                                                                                        </td><td>NA                                                                                                                                                        </td><td>https://cran.r-project.org/src/contrib                                                                                                                    </td></tr>\n",
       "\t<tr><th scope=row>abjutils</th><td><span style=white-space:pre-wrap>abjutils          </span>                                                        </td><td>0.2.1                                                                                                             </td><td>NA                                                                                                                </td><td><span style=white-space:pre-wrap>R (&gt;= 3.1)                                         </span>                    </td><td>stringr, dplyr, httr, tibble, devtools, magrittr, plyr, purrr,\n",
       "rstudioapi, scales, stringi, glue, tidyr, progress</td><td><span style=white-space:pre-wrap>NA                 </span>                                                       </td><td><span style=white-space:pre-wrap>testthat                                     </span>                             </td><td>NA                                                                                                                </td><td>MIT + file LICENSE                                                                                                </td><td>NA                                                                                                                </td><td>NA                                                                                                                </td><td>NA                                                                                                                </td><td>NA                                                                                                                </td><td>NA                                                                                                                </td><td>no                                                                                                                </td><td>NA                                                                                                                </td><td>https://cran.r-project.org/src/contrib                                                                            </td></tr>\n",
       "\t<tr><th scope=row>abn</th><td><span style=white-space:pre-wrap>abn               </span>                                                                                                </td><td>1.0.2                                                                                                                                                     </td><td>NA                                                                                                                                                        </td><td><span style=white-space:pre-wrap>Cairo, R (&gt;= 2.15.1)                               </span>                                                            </td><td><span style=white-space:pre-wrap>methods                                                                                                           </span></td><td><span style=white-space:pre-wrap>NA                 </span>                                                                                               </td><td><span style=white-space:pre-wrap>INLA, Rgraphviz                              </span>                                                                     </td><td>NA                                                                                                                                                        </td><td><span style=white-space:pre-wrap>GPL (&gt;= 2)        </span>                                                                                             </td><td>NA                                                                                                                                                        </td><td>NA                                                                                                                                                        </td><td>NA                                                                                                                                                        </td><td>NA                                                                                                                                                        </td><td>NA                                                                                                                                                        </td><td>yes                                                                                                                                                       </td><td>NA                                                                                                                                                        </td><td>https://cran.r-project.org/src/contrib                                                                                                                    </td></tr>\n",
       "\t<tr><th scope=row>abnormality</th><td><span style=white-space:pre-wrap>abnormality       </span>                                                                                                   </td><td>0.1.0                                                                                                                                                        </td><td>NA                                                                                                                                                           </td><td><span style=white-space:pre-wrap>NA                                                 </span>                                                                  </td><td><span style=white-space:pre-wrap>MASS (&gt;= 7.3.0), Matrix                                                                                           </span></td><td><span style=white-space:pre-wrap>NA                 </span>                                                                                                  </td><td><span style=white-space:pre-wrap>NA                                           </span>                                                                        </td><td>NA                                                                                                                                                           </td><td>MIT + file LICENSE                                                                                                                                           </td><td>NA                                                                                                                                                           </td><td>NA                                                                                                                                                           </td><td>NA                                                                                                                                                           </td><td>NA                                                                                                                                                           </td><td>NA                                                                                                                                                           </td><td>no                                                                                                                                                           </td><td>NA                                                                                                                                                           </td><td>https://cran.r-project.org/src/contrib                                                                                                                       </td></tr>\n",
       "\t<tr><th scope=row>abodOutlier</th><td><span style=white-space:pre-wrap>abodOutlier       </span>                                                                                                </td><td><span style=white-space:pre-wrap>0.1   </span>                                                                                                            </td><td>NA                                                                                                                                                        </td><td><span style=white-space:pre-wrap>cluster, R (&gt;= 3.1.2)                              </span>                                                            </td><td><span style=white-space:pre-wrap>NA                                                                                                                </span></td><td><span style=white-space:pre-wrap>NA                 </span>                                                                                               </td><td><span style=white-space:pre-wrap>NA                                           </span>                                                                     </td><td>NA                                                                                                                                                        </td><td>MIT + file LICENSE                                                                                                                                        </td><td>NA                                                                                                                                                        </td><td>NA                                                                                                                                                        </td><td>NA                                                                                                                                                        </td><td>NA                                                                                                                                                        </td><td>NA                                                                                                                                                        </td><td>no                                                                                                                                                        </td><td>NA                                                                                                                                                        </td><td>https://cran.r-project.org/src/contrib                                                                                                                    </td></tr>\n",
       "\t<tr><th scope=row>ABPS</th><td><span style=white-space:pre-wrap>ABPS              </span>                                                                                                </td><td><span style=white-space:pre-wrap>0.2   </span>                                                                                                            </td><td>NA                                                                                                                                                        </td><td><span style=white-space:pre-wrap>NA                                                 </span>                                                               </td><td><span style=white-space:pre-wrap>kernlab                                                                                                           </span></td><td><span style=white-space:pre-wrap>NA                 </span>                                                                                               </td><td><span style=white-space:pre-wrap>testthat                                     </span>                                                                     </td><td>NA                                                                                                                                                        </td><td><span style=white-space:pre-wrap>GPL (&gt;= 2)        </span>                                                                                             </td><td>NA                                                                                                                                                        </td><td>NA                                                                                                                                                        </td><td>NA                                                                                                                                                        </td><td>NA                                                                                                                                                        </td><td>NA                                                                                                                                                        </td><td>no                                                                                                                                                        </td><td>NA                                                                                                                                                        </td><td>https://cran.r-project.org/src/contrib                                                                                                                    </td></tr>\n",
       "\t<tr><th scope=row>AbsFilterGSEA</th><td>AbsFilterGSEA                                                                                                     </td><td>1.5.1                                                                                                             </td><td>NA                                                                                                                </td><td>NA                                                                                                                </td><td>Rcpp, Biobase, stats, DESeq, limma                                                                                </td><td>Rcpp, RcppArmadillo                                                                                               </td><td>NA                                                                                                                </td><td>NA                                                                                                                </td><td>GPL-2                                                                                                             </td><td>NA                                                                                                                </td><td>NA                                                                                                                </td><td>NA                                                                                                                </td><td>NA                                                                                                                </td><td>NA                                                                                                                </td><td>yes                                                                                                               </td><td>NA                                                                                                                </td><td>https://cran.r-project.org/src/contrib                                                                            </td></tr>\n",
       "\t<tr><th scope=row>AbSim</th><td><span style=white-space:pre-wrap>AbSim             </span>                                                                                                </td><td>0.2.4                                                                                                                                                     </td><td>NA                                                                                                                                                        </td><td><span style=white-space:pre-wrap>R(&gt;= 3.1.0), ape, poweRlaw                         </span>                                                            </td><td><span style=white-space:pre-wrap>NA                                                                                                                </span></td><td><span style=white-space:pre-wrap>NA                 </span>                                                                                               </td><td><span style=white-space:pre-wrap>knitr, rmarkdown                             </span>                                                                     </td><td>NA                                                                                                                                                        </td><td><span style=white-space:pre-wrap>GPL-2             </span>                                                                                                </td><td>NA                                                                                                                                                        </td><td>NA                                                                                                                                                        </td><td>NA                                                                                                                                                        </td><td>NA                                                                                                                                                        </td><td>NA                                                                                                                                                        </td><td>no                                                                                                                                                        </td><td>NA                                                                                                                                                        </td><td>https://cran.r-project.org/src/contrib                                                                                                                    </td></tr>\n",
       "\t<tr><th scope=row>abundant</th><td><span style=white-space:pre-wrap>abundant          </span>                                                                                                </td><td><span style=white-space:pre-wrap>1.1   </span>                                                                                                            </td><td>NA                                                                                                                                                        </td><td><span style=white-space:pre-wrap>R (&gt;= 2.10), QUIC                                  </span>                                                            </td><td><span style=white-space:pre-wrap>NA                                                                                                                </span></td><td><span style=white-space:pre-wrap>NA                 </span>                                                                                               </td><td><span style=white-space:pre-wrap>NA                                           </span>                                                                     </td><td>NA                                                                                                                                                        </td><td><span style=white-space:pre-wrap>GPL-2             </span>                                                                                                </td><td>NA                                                                                                                                                        </td><td>NA                                                                                                                                                        </td><td>NA                                                                                                                                                        </td><td>NA                                                                                                                                                        </td><td>NA                                                                                                                                                        </td><td>yes                                                                                                                                                       </td><td>NA                                                                                                                                                        </td><td>https://cran.r-project.org/src/contrib                                                                                                                    </td></tr>\n",
       "\t<tr><th scope=row>Ac3net</th><td><span style=white-space:pre-wrap>Ac3net            </span>                                                                                                </td><td>1.2.2                                                                                                                                                     </td><td>NA                                                                                                                                                        </td><td><span style=white-space:pre-wrap>R (&gt;= 3.3.0), data.table                           </span>                                                            </td><td><span style=white-space:pre-wrap>NA                                                                                                                </span></td><td><span style=white-space:pre-wrap>NA                 </span>                                                                                               </td><td><span style=white-space:pre-wrap>NA                                           </span>                                                                     </td><td>NA                                                                                                                                                        </td><td><span style=white-space:pre-wrap>GPL (&gt;= 3)        </span>                                                                                             </td><td>NA                                                                                                                                                        </td><td>NA                                                                                                                                                        </td><td>NA                                                                                                                                                        </td><td>NA                                                                                                                                                        </td><td>NA                                                                                                                                                        </td><td>no                                                                                                                                                        </td><td>NA                                                                                                                                                        </td><td>https://cran.r-project.org/src/contrib                                                                                                                    </td></tr>\n",
       "\t<tr><th scope=row>ACA</th><td><span style=white-space:pre-wrap>ACA               </span>                                                                                                </td><td><span style=white-space:pre-wrap>1.1   </span>                                                                                                            </td><td>NA                                                                                                                                                        </td><td><span style=white-space:pre-wrap>R (&gt;= 3.2.2)                                       </span>                                                            </td><td><span style=white-space:pre-wrap>graphics, grDevices, stats, utils                                                                                 </span></td><td><span style=white-space:pre-wrap>NA                 </span>                                                                                               </td><td><span style=white-space:pre-wrap>NA                                           </span>                                                                     </td><td>NA                                                                                                                                                        </td><td><span style=white-space:pre-wrap>GPL               </span>                                                                                                </td><td>NA                                                                                                                                                        </td><td>NA                                                                                                                                                        </td><td>NA                                                                                                                                                        </td><td>NA                                                                                                                                                        </td><td>NA                                                                                                                                                        </td><td>no                                                                                                                                                        </td><td>NA                                                                                                                                                        </td><td>https://cran.r-project.org/src/contrib                                                                                                                    </td></tr>\n",
       "\t<tr><th scope=row>acc</th><td><span style=white-space:pre-wrap>acc               </span>                                                                                                </td><td>1.3.3                                                                                                                                                     </td><td>NA                                                                                                                                                        </td><td><span style=white-space:pre-wrap>R (&gt;= 2.10), mhsmm                                 </span>                                                            </td><td><span style=white-space:pre-wrap>zoo, PhysicalActivity, nleqslv, plyr, methods, DBI, RSQLite,\n",
       "circlize, ggplot2, R.utils, iterators, Rcpp         </span></td><td>Rcpp, RcppArmadillo                                                                                                                                       </td><td><span style=white-space:pre-wrap>NA                                           </span>                                                                     </td><td>NA                                                                                                                                                        </td><td><span style=white-space:pre-wrap>GPL (&gt;= 2)        </span>                                                                                             </td><td>NA                                                                                                                                                        </td><td>NA                                                                                                                                                        </td><td>NA                                                                                                                                                        </td><td>NA                                                                                                                                                        </td><td>NA                                                                                                                                                        </td><td>yes                                                                                                                                                       </td><td>NA                                                                                                                                                        </td><td>https://cran.r-project.org/src/contrib                                                                                                                    </td></tr>\n",
       "\t<tr><th scope=row>accelerometry</th><td><span style=white-space:pre-wrap>accelerometry     </span>                                                                                                   </td><td>2.2.5                                                                                                                                                        </td><td>NA                                                                                                                                                           </td><td><span style=white-space:pre-wrap>R (&gt;= 3.0.0)                                       </span>                                                               </td><td><span style=white-space:pre-wrap>Rcpp (&gt;= 0.11.0)                                                                                                  </span></td><td><span style=white-space:pre-wrap>Rcpp               </span>                                                                                                  </td><td><span style=white-space:pre-wrap>NA                                           </span>                                                                        </td><td>NA                                                                                                                                                           </td><td><span style=white-space:pre-wrap>GPL-2             </span>                                                                                                   </td><td>NA                                                                                                                                                           </td><td>NA                                                                                                                                                           </td><td>NA                                                                                                                                                           </td><td>NA                                                                                                                                                           </td><td>NA                                                                                                                                                           </td><td>yes                                                                                                                                                          </td><td>NA                                                                                                                                                           </td><td>https://cran.r-project.org/src/contrib                                                                                                                       </td></tr>\n",
       "\t<tr><th scope=row>accelmissing</th><td><span style=white-space:pre-wrap>accelmissing      </span>                                                                                                </td><td><span style=white-space:pre-wrap>1.4   </span>                                                                                                            </td><td>NA                                                                                                                                                        </td><td><span style=white-space:pre-wrap>R (&gt;= 2.10), mice, pscl                            </span>                                                            </td><td><span style=white-space:pre-wrap>NA                                                                                                                </span></td><td><span style=white-space:pre-wrap>NA                 </span>                                                                                               </td><td><span style=white-space:pre-wrap>NA                                           </span>                                                                     </td><td>NA                                                                                                                                                        </td><td><span style=white-space:pre-wrap>GPL (&gt;= 2)        </span>                                                                                             </td><td>NA                                                                                                                                                        </td><td>NA                                                                                                                                                        </td><td>NA                                                                                                                                                        </td><td>NA                                                                                                                                                        </td><td>NA                                                                                                                                                        </td><td>no                                                                                                                                                        </td><td>NA                                                                                                                                                        </td><td>https://cran.r-project.org/src/contrib                                                                                                                    </td></tr>\n",
       "\t<tr><th scope=row>AcceptanceSampling</th><td>AcceptanceSampling                                                                                                                                        </td><td>1.0-5                                                                                                                                                     </td><td>NA                                                                                                                                                        </td><td><span style=white-space:pre-wrap>methods, R(&gt;= 2.4.0), stats                        </span>                                                            </td><td><span style=white-space:pre-wrap>graphics, utils                                                                                                   </span></td><td><span style=white-space:pre-wrap>NA                 </span>                                                                                               </td><td><span style=white-space:pre-wrap>NA                                           </span>                                                                     </td><td>NA                                                                                                                                                        </td><td><span style=white-space:pre-wrap>GPL (&gt;= 3)        </span>                                                                                             </td><td>NA                                                                                                                                                        </td><td>NA                                                                                                                                                        </td><td>NA                                                                                                                                                        </td><td>NA                                                                                                                                                        </td><td>NA                                                                                                                                                        </td><td>no                                                                                                                                                        </td><td>NA                                                                                                                                                        </td><td>https://cran.r-project.org/src/contrib                                                                                                                    </td></tr>\n",
       "\t<tr><th scope=row>⋮</th><td>⋮</td><td>⋮</td><td>⋮</td><td>⋮</td><td>⋮</td><td>⋮</td><td>⋮</td><td>⋮</td><td>⋮</td><td>⋮</td><td>⋮</td><td>⋮</td><td>⋮</td><td>⋮</td><td>⋮</td><td>⋮</td><td>⋮</td></tr>\n",
       "\t<tr><th scope=row>zFactor</th><td><span style=white-space:pre-wrap>zFactor         </span>                                                                                                                                                    </td><td>0.1.7                                                                                                                                                                                                       </td><td>NA                                                                                                                                                                                                          </td><td><span style=white-space:pre-wrap>R (&gt;= 2.10)                                          </span>                                                                                                            </td><td><span style=white-space:pre-wrap>rootSolve, tidyr, ggplot2, data.table, tibble, dplyr                                                                                                                </span></td><td><span style=white-space:pre-wrap>NA                 </span>                                                                                                                                                 </td><td><span style=white-space:pre-wrap>knitr, rmarkdown, testthat, knitcitations, covr                                                        </span>                                                             </td><td>NA                                                                                                                                                                                                          </td><td><span style=white-space:pre-wrap>GPL-2                      </span>                                                                                                                                         </td><td>NA                                                                                                                                                                                                          </td><td>NA                                                                                                                                                                                                          </td><td><span style=white-space:pre-wrap>NA  </span>                                                                                                                                                                </td><td>NA                                                                                                                                                                                                          </td><td>NA                                                                                                                                                                                                          </td><td>no                                                                                                                                                                                                          </td><td>NA                                                                                                                                                                                                          </td><td>https://cran.r-project.org/src/contrib                                                                                                                                                                      </td></tr>\n",
       "\t<tr><th scope=row>ZIBBSeqDiscovery</th><td>ZIBBSeqDiscovery                                                                                                                                                    </td><td>1.0                                                                                                                                                                 </td><td>NA                                                                                                                                                                  </td><td>NA                                                                                                                                                                  </td><td>mcc                                                                                                                                                                 </td><td>NA                                                                                                                                                                  </td><td>knitr, rmarkdown                                                                                                                                                    </td><td>NA                                                                                                                                                                  </td><td>GPL-2                                                                                                                                                               </td><td>NA                                                                                                                                                                  </td><td>NA                                                                                                                                                                  </td><td>NA                                                                                                                                                                  </td><td>NA                                                                                                                                                                  </td><td>NA                                                                                                                                                                  </td><td>no                                                                                                                                                                  </td><td>NA                                                                                                                                                                  </td><td>https://cran.r-project.org/src/contrib                                                                                                                              </td></tr>\n",
       "\t<tr><th scope=row>ZIBseq</th><td><span style=white-space:pre-wrap>ZIBseq          </span>                                                                                                                                                    </td><td><span style=white-space:pre-wrap>1.2   </span>                                                                                                                                                              </td><td>NA                                                                                                                                                                                                          </td><td><span style=white-space:pre-wrap>R (&gt;= 3.3.1), gamlss, nlme                           </span>                                                                                                            </td><td><span style=white-space:pre-wrap>stats, gamlss.dist                                                                                                                                                  </span></td><td><span style=white-space:pre-wrap>NA                 </span>                                                                                                                                                 </td><td><span style=white-space:pre-wrap>NA                                                                                                     </span>                                                             </td><td>NA                                                                                                                                                                                                          </td><td><span style=white-space:pre-wrap>GPL (&gt;= 2)                 </span>                                                                                                                                      </td><td>NA                                                                                                                                                                                                          </td><td>NA                                                                                                                                                                                                          </td><td><span style=white-space:pre-wrap>NA  </span>                                                                                                                                                                </td><td>NA                                                                                                                                                                                                          </td><td>NA                                                                                                                                                                                                          </td><td>no                                                                                                                                                                                                          </td><td>NA                                                                                                                                                                                                          </td><td>https://cran.r-project.org/src/contrib                                                                                                                                                                      </td></tr>\n",
       "\t<tr><th scope=row>zic</th><td><span style=white-space:pre-wrap>zic             </span>                                                                                                                                                          </td><td>0.9.1                                                                                                                                                                                                             </td><td>NA                                                                                                                                                                                                                </td><td><span style=white-space:pre-wrap>R (&gt;= 3.0.2)                                         </span>                                                                                                                  </td><td><span style=white-space:pre-wrap>Rcpp (&gt;= 0.11.0), coda (&gt;= 0.14-2)                                                                                                                                  </span></td><td>Rcpp, RcppArmadillo                                                                                                                                                                                               </td><td><span style=white-space:pre-wrap>NA                                                                                                     </span>                                                                   </td><td>NA                                                                                                                                                                                                                </td><td><span style=white-space:pre-wrap>GPL (&gt;= 2)                 </span>                                                                                                                                            </td><td>NA                                                                                                                                                                                                                </td><td>NA                                                                                                                                                                                                                </td><td><span style=white-space:pre-wrap>NA  </span>                                                                                                                                                                      </td><td>NA                                                                                                                                                                                                                </td><td>NA                                                                                                                                                                                                                </td><td>yes                                                                                                                                                                                                               </td><td>NA                                                                                                                                                                                                                </td><td>https://cran.r-project.org/src/contrib                                                                                                                                                                            </td></tr>\n",
       "\t<tr><th scope=row>ZillowR</th><td>ZillowR                                                                                                                                                             </td><td>0.1.0                                                                                                                                                               </td><td>NA                                                                                                                                                                  </td><td>NA                                                                                                                                                                  </td><td>methods, utils, RCurl, XML                                                                                                                                          </td><td>NA                                                                                                                                                                  </td><td>testthat                                                                                                                                                            </td><td>NA                                                                                                                                                                  </td><td>GPL-3                                                                                                                                                               </td><td>NA                                                                                                                                                                  </td><td>NA                                                                                                                                                                  </td><td>NA                                                                                                                                                                  </td><td>NA                                                                                                                                                                  </td><td>NA                                                                                                                                                                  </td><td>no                                                                                                                                                                  </td><td>NA                                                                                                                                                                  </td><td>https://cran.r-project.org/src/contrib                                                                                                                              </td></tr>\n",
       "\t<tr><th scope=row>ZIM</th><td>ZIM                                                                                                                                                                 </td><td>1.0.3                                                                                                                                                               </td><td>NA                                                                                                                                                                  </td><td>MASS                                                                                                                                                                </td><td>NA                                                                                                                                                                  </td><td>NA                                                                                                                                                                  </td><td>NA                                                                                                                                                                  </td><td>NA                                                                                                                                                                  </td><td>GPL-3                                                                                                                                                               </td><td>NA                                                                                                                                                                  </td><td>NA                                                                                                                                                                  </td><td>NA                                                                                                                                                                  </td><td>NA                                                                                                                                                                  </td><td>NA                                                                                                                                                                  </td><td>no                                                                                                                                                                  </td><td>NA                                                                                                                                                                  </td><td>https://cran.r-project.org/src/contrib                                                                                                                              </td></tr>\n",
       "\t<tr><th scope=row>zip</th><td>zip                                                                                                                                                                 </td><td>1.0.0                                                                                                                                                               </td><td>NA                                                                                                                                                                  </td><td>NA                                                                                                                                                                  </td><td>NA                                                                                                                                                                  </td><td>NA                                                                                                                                                                  </td><td>covr, testthat, withr                                                                                                                                               </td><td>NA                                                                                                                                                                  </td><td>CC0                                                                                                                                                                 </td><td>NA                                                                                                                                                                  </td><td>NA                                                                                                                                                                  </td><td>NA                                                                                                                                                                  </td><td>NA                                                                                                                                                                  </td><td>NA                                                                                                                                                                  </td><td>yes                                                                                                                                                                 </td><td>NA                                                                                                                                                                  </td><td>https://cran.r-project.org/src/contrib                                                                                                                              </td></tr>\n",
       "\t<tr><th scope=row>zipcode</th><td><span style=white-space:pre-wrap>zipcode         </span>                                                                                                                                                    </td><td><span style=white-space:pre-wrap>1.0   </span>                                                                                                                                                              </td><td>NA                                                                                                                                                                                                          </td><td><span style=white-space:pre-wrap>R (&gt;= 2.10)                                          </span>                                                                                                            </td><td><span style=white-space:pre-wrap>NA                                                                                                                                                                  </span></td><td><span style=white-space:pre-wrap>NA                 </span>                                                                                                                                                 </td><td><span style=white-space:pre-wrap>NA                                                                                                     </span>                                                             </td><td>NA                                                                                                                                                                                                          </td><td>CC BY-SA 2.0 + file LICENSE                                                                                                                                                                                 </td><td>NA                                                                                                                                                                                                          </td><td>NA                                                                                                                                                                                                          </td><td><span style=white-space:pre-wrap>NA  </span>                                                                                                                                                                </td><td>NA                                                                                                                                                                                                          </td><td>NA                                                                                                                                                                                                          </td><td>no                                                                                                                                                                                                          </td><td>NA                                                                                                                                                                                                          </td><td>https://cran.r-project.org/src/contrib                                                                                                                                                                      </td></tr>\n",
       "\t<tr><th scope=row>zipfextR</th><td><span style=white-space:pre-wrap>zipfextR        </span>                                                                                                                                                          </td><td>1.0.0                                                                                                                                                                                                             </td><td>NA                                                                                                                                                                                                                </td><td><span style=white-space:pre-wrap>R (&gt;= 2.0.1)                                         </span>                                                                                                                  </td><td><span style=white-space:pre-wrap>VGAM (&gt;= 0.9.8), tolerance(&gt;= 1.2.0)                                                                                                                                </span></td><td><span style=white-space:pre-wrap>NA                 </span>                                                                                                                                                       </td><td><span style=white-space:pre-wrap>testthat                                                                                               </span>                                                                   </td><td>NA                                                                                                                                                                                                                </td><td><span style=white-space:pre-wrap>GPL-3                      </span>                                                                                                                                               </td><td>NA                                                                                                                                                                                                                </td><td>NA                                                                                                                                                                                                                </td><td><span style=white-space:pre-wrap>NA  </span>                                                                                                                                                                      </td><td>NA                                                                                                                                                                                                                </td><td>NA                                                                                                                                                                                                                </td><td>no                                                                                                                                                                                                                </td><td>NA                                                                                                                                                                                                                </td><td>https://cran.r-project.org/src/contrib                                                                                                                                                                            </td></tr>\n",
       "\t<tr><th scope=row>zipfR</th><td><span style=white-space:pre-wrap>zipfR           </span>                                                                                                                                                    </td><td>0.6-10                                                                                                                                                                                                      </td><td>NA                                                                                                                                                                                                          </td><td><span style=white-space:pre-wrap>R (&gt;= 3.0.0)                                         </span>                                                                                                            </td><td><span style=white-space:pre-wrap>methods, utils, stats, graphics, grDevices                                                                                                                          </span></td><td><span style=white-space:pre-wrap>NA                 </span>                                                                                                                                                 </td><td><span style=white-space:pre-wrap>NA                                                                                                     </span>                                                             </td><td>NA                                                                                                                                                                                                          </td><td><span style=white-space:pre-wrap>GPL-3                      </span>                                                                                                                                         </td><td>NA                                                                                                                                                                                                          </td><td>NA                                                                                                                                                                                                          </td><td><span style=white-space:pre-wrap>NA  </span>                                                                                                                                                                </td><td>NA                                                                                                                                                                                                          </td><td>NA                                                                                                                                                                                                          </td><td>no                                                                                                                                                                                                          </td><td>NA                                                                                                                                                                                                          </td><td>https://cran.r-project.org/src/contrib                                                                                                                                                                      </td></tr>\n",
       "\t<tr><th scope=row>ziphsmm</th><td><span style=white-space:pre-wrap>ziphsmm         </span>                                                                                                                                                    </td><td>2.0.6                                                                                                                                                                                                       </td><td>NA                                                                                                                                                                                                          </td><td><span style=white-space:pre-wrap>R(&gt;= 3.0.0)                                          </span>                                                                                                            </td><td><span style=white-space:pre-wrap>Rcpp, pracma                                                                                                                                                        </span></td><td>Rcpp, RcppArmadillo                                                                                                                                                                                         </td><td><span style=white-space:pre-wrap>NA                                                                                                     </span>                                                             </td><td>NA                                                                                                                                                                                                          </td><td><span style=white-space:pre-wrap>GPL                        </span>                                                                                                                                         </td><td>NA                                                                                                                                                                                                          </td><td>NA                                                                                                                                                                                                          </td><td><span style=white-space:pre-wrap>NA  </span>                                                                                                                                                                </td><td>NA                                                                                                                                                                                                          </td><td>NA                                                                                                                                                                                                          </td><td>yes                                                                                                                                                                                                         </td><td>NA                                                                                                                                                                                                          </td><td>https://cran.r-project.org/src/contrib                                                                                                                                                                      </td></tr>\n",
       "\t<tr><th scope=row>zoeppritz</th><td><span style=white-space:pre-wrap>zoeppritz       </span>                                                                                                                                                    </td><td>1.0-7                                                                                                                                                                                                       </td><td>NA                                                                                                                                                                                                          </td><td><span style=white-space:pre-wrap>NA                                                   </span>                                                                                                               </td><td><span style=white-space:pre-wrap>NA                                                                                                                                                                  </span></td><td><span style=white-space:pre-wrap>NA                 </span>                                                                                                                                                 </td><td><span style=white-space:pre-wrap>NA                                                                                                     </span>                                                             </td><td>NA                                                                                                                                                                                                          </td><td><span style=white-space:pre-wrap>GPL (&gt;= 2)                 </span>                                                                                                                                      </td><td>NA                                                                                                                                                                                                          </td><td>NA                                                                                                                                                                                                          </td><td><span style=white-space:pre-wrap>NA  </span>                                                                                                                                                                </td><td>NA                                                                                                                                                                                                          </td><td>NA                                                                                                                                                                                                          </td><td>no                                                                                                                                                                                                          </td><td>NA                                                                                                                                                                                                          </td><td>https://cran.r-project.org/src/contrib                                                                                                                                                                      </td></tr>\n",
       "\t<tr><th scope=row>zoib</th><td><span style=white-space:pre-wrap>zoib            </span>                                                                                                                                                    </td><td>1.5.1                                                                                                                                                                                                       </td><td>NA                                                                                                                                                                                                          </td><td>R (&gt;= 3.3.0), rjags, coda, matrixcalc, Formula, abind                                                                                                                                                    </td><td><span style=white-space:pre-wrap>NA                                                                                                                                                                  </span></td><td><span style=white-space:pre-wrap>NA                 </span>                                                                                                                                                 </td><td><span style=white-space:pre-wrap>NA                                                                                                     </span>                                                             </td><td>NA                                                                                                                                                                                                          </td><td><span style=white-space:pre-wrap>GPL (&gt;= 3)                 </span>                                                                                                                                      </td><td>NA                                                                                                                                                                                                          </td><td>NA                                                                                                                                                                                                          </td><td><span style=white-space:pre-wrap>NA  </span>                                                                                                                                                                </td><td>NA                                                                                                                                                                                                          </td><td>NA                                                                                                                                                                                                          </td><td>no                                                                                                                                                                                                          </td><td>NA                                                                                                                                                                                                          </td><td>https://cran.r-project.org/src/contrib                                                                                                                                                                      </td></tr>\n",
       "\t<tr><th scope=row>ZOIP</th><td><span style=white-space:pre-wrap>ZOIP            </span>                                                                                                                                                    </td><td><span style=white-space:pre-wrap>0.1   </span>                                                                                                                                                              </td><td>NA                                                                                                                                                                                                          </td><td><span style=white-space:pre-wrap>R (&gt;= 3.2.0)                                         </span>                                                                                                            </td><td><span style=white-space:pre-wrap>rmutil, boot, numDeriv, GHQp, stats                                                                                                                                 </span></td><td><span style=white-space:pre-wrap>NA                 </span>                                                                                                                                                 </td><td><span style=white-space:pre-wrap>knitr, rmarkdown                                                                                       </span>                                                             </td><td>NA                                                                                                                                                                                                          </td><td><span style=white-space:pre-wrap>GPL (&gt;= 2)                 </span>                                                                                                                                      </td><td>NA                                                                                                                                                                                                          </td><td>NA                                                                                                                                                                                                          </td><td><span style=white-space:pre-wrap>NA  </span>                                                                                                                                                                </td><td>NA                                                                                                                                                                                                          </td><td>NA                                                                                                                                                                                                          </td><td>no                                                                                                                                                                                                          </td><td>NA                                                                                                                                                                                                          </td><td>https://cran.r-project.org/src/contrib                                                                                                                                                                      </td></tr>\n",
       "\t<tr><th scope=row>zonator</th><td><span style=white-space:pre-wrap>zonator         </span>                                                                                                                                                       </td><td>0.5.9                                                                                                                                                                                                          </td><td>NA                                                                                                                                                                                                             </td><td><span style=white-space:pre-wrap>R (&gt;= 2.15.2)                                        </span>                                                                                                               </td><td><span style=white-space:pre-wrap>ggplot2 (&gt;= 2.0.0), methods, RColorBrewer, raster, reshape2,\n",
       "rgdal                                                                                                 </span></td><td><span style=white-space:pre-wrap>NA                 </span>                                                                                                                                                    </td><td><span style=white-space:pre-wrap>knitr, rasterVis, rmarkdown, testthat, zdat (&gt;= 0.1.0)                                                 </span>                                                             </td><td>NA                                                                                                                                                                                                             </td><td><span style=white-space:pre-wrap>FreeBSD                    </span>                                                                                                                                            </td><td>NA                                                                                                                                                                                                             </td><td>NA                                                                                                                                                                                                             </td><td><span style=white-space:pre-wrap>NA  </span>                                                                                                                                                                   </td><td>NA                                                                                                                                                                                                             </td><td>NA                                                                                                                                                                                                             </td><td>no                                                                                                                                                                                                             </td><td>NA                                                                                                                                                                                                             </td><td>https://cran.r-project.org/src/contrib                                                                                                                                                                         </td></tr>\n",
       "\t<tr><th scope=row>zoo</th><td><span style=white-space:pre-wrap>zoo             </span>                                                                                                                                                       </td><td>1.8-2                                                                                                                                                                                                          </td><td>NA                                                                                                                                                                                                             </td><td><span style=white-space:pre-wrap>R (&gt;= 3.1.0), stats                                  </span>                                                                                                               </td><td><span style=white-space:pre-wrap>utils, graphics, grDevices, lattice (&gt;= 0.20-27)                                                                                                                    </span></td><td><span style=white-space:pre-wrap>NA                 </span>                                                                                                                                                    </td><td>coda, chron, DAAG, fts, ggplot2, mondate, scales,\n",
       "strucchange, timeDate, timeSeries, tis, tseries, xts                                                                                                        </td><td>NA                                                                                                                                                                                                             </td><td><span style=white-space:pre-wrap>GPL-2 | GPL-3              </span>                                                                                                                                            </td><td>NA                                                                                                                                                                                                             </td><td>NA                                                                                                                                                                                                             </td><td><span style=white-space:pre-wrap>NA  </span>                                                                                                                                                                   </td><td>NA                                                                                                                                                                                                             </td><td>NA                                                                                                                                                                                                             </td><td>yes                                                                                                                                                                                                            </td><td>NA                                                                                                                                                                                                             </td><td>https://cran.r-project.org/src/contrib                                                                                                                                                                         </td></tr>\n",
       "\t<tr><th scope=row>zooaRch</th><td><span style=white-space:pre-wrap>zooaRch         </span>                                                                                                                                                    </td><td><span style=white-space:pre-wrap>1.2   </span>                                                                                                                                                              </td><td>NA                                                                                                                                                                                                          </td><td><span style=white-space:pre-wrap>ggplot2                                              </span>                                                                                                               </td><td><span style=white-space:pre-wrap>NA                                                                                                                                                                  </span></td><td><span style=white-space:pre-wrap>NA                 </span>                                                                                                                                                 </td><td><span style=white-space:pre-wrap>rmarkdown, knitr                                                                                       </span>                                                             </td><td>NA                                                                                                                                                                                                          </td><td><span style=white-space:pre-wrap>GPL (&gt;= 2)                 </span>                                                                                                                                      </td><td>NA                                                                                                                                                                                                          </td><td>NA                                                                                                                                                                                                          </td><td><span style=white-space:pre-wrap>NA  </span>                                                                                                                                                                </td><td>NA                                                                                                                                                                                                          </td><td>NA                                                                                                                                                                                                          </td><td>no                                                                                                                                                                                                          </td><td>NA                                                                                                                                                                                                          </td><td>https://cran.r-project.org/src/contrib                                                                                                                                                                      </td></tr>\n",
       "\t<tr><th scope=row>zooaRchGUI</th><td><span style=white-space:pre-wrap>zooaRchGUI      </span>                                                                                                            </td><td>1.0.2                                                                                                                                                               </td><td>NA                                                                                                                                                                  </td><td><span style=white-space:pre-wrap>NA                                                   </span>                                                                       </td><td>car, coda, foreign, geomorph, ggplot2, graphics, grDevices,\n",
       "MASS, pgirmess, raster, readxl, rjags, sp, spdep, splancs,\n",
       "stats, tcltk, tcltk2, tkrplot, utils, vegan</td><td><span style=white-space:pre-wrap>NA                 </span>                                                                                                         </td><td><span style=white-space:pre-wrap>rmarkdown, knitr                                                                                       </span>                     </td><td>NA                                                                                                                                                                  </td><td><span style=white-space:pre-wrap>GPL (&gt;= 2)                 </span>                                                                                              </td><td>NA                                                                                                                                                                  </td><td>NA                                                                                                                                                                  </td><td><span style=white-space:pre-wrap>NA  </span>                                                                                                                        </td><td>NA                                                                                                                                                                  </td><td>NA                                                                                                                                                                  </td><td>no                                                                                                                                                                  </td><td>NA                                                                                                                                                                  </td><td>https://cran.r-project.org/src/contrib                                                                                                                              </td></tr>\n",
       "\t<tr><th scope=row>zoocat</th><td><span style=white-space:pre-wrap>zoocat          </span>                                                                                                                                                    </td><td>0.2.0                                                                                                                                                                                                       </td><td>NA                                                                                                                                                                                                          </td><td><span style=white-space:pre-wrap>R(&gt;= 3.1.1), zoo, reshape2                           </span>                                                                                                            </td><td><span style=white-space:pre-wrap>graphics, utils, stats, plyr, scales, grDevices                                                                                                                     </span></td><td><span style=white-space:pre-wrap>NA                 </span>                                                                                                                                                 </td><td><span style=white-space:pre-wrap>ggplot2, knitr, rmarkdown                                                                              </span>                                                             </td><td>NA                                                                                                                                                                                                          </td><td><span style=white-space:pre-wrap>GPL-3                      </span>                                                                                                                                         </td><td>NA                                                                                                                                                                                                          </td><td>NA                                                                                                                                                                                                          </td><td><span style=white-space:pre-wrap>NA  </span>                                                                                                                                                                </td><td>NA                                                                                                                                                                                                          </td><td>NA                                                                                                                                                                                                          </td><td>no                                                                                                                                                                                                          </td><td>NA                                                                                                                                                                                                          </td><td>https://cran.r-project.org/src/contrib                                                                                                                                                                      </td></tr>\n",
       "\t<tr><th scope=row>zooimage</th><td><span style=white-space:pre-wrap>zooimage        </span>                                                                                                                                                          </td><td>5.5.2                                                                                                                                                                                                             </td><td>NA                                                                                                                                                                                                                </td><td><span style=white-space:pre-wrap>R (&gt;= 2.15.0), mlearning                             </span>                                                                                                                  </td><td><span style=white-space:pre-wrap>svMisc (&gt;= 0.9-67), svDialogs (&gt;= 0.9-53), filehash, jpeg,\n",
       "png, tiff, utils, digest, tools, MASS, mda, shiny, DT                                                   </span></td><td><span style=white-space:pre-wrap>NA                 </span>                                                                                                                                                       </td><td><span style=white-space:pre-wrap>rJava, mlbench                                                                                         </span>                                                                   </td><td>NA                                                                                                                                                                                                                </td><td><span style=white-space:pre-wrap>GPL (&gt;= 2)                 </span>                                                                                                                                            </td><td>NA                                                                                                                                                                                                                </td><td>NA                                                                                                                                                                                                                </td><td><span style=white-space:pre-wrap>NA  </span>                                                                                                                                                                      </td><td>NA                                                                                                                                                                                                                </td><td>NA                                                                                                                                                                                                                </td><td>no                                                                                                                                                                                                                </td><td>NA                                                                                                                                                                                                                </td><td>https://cran.r-project.org/src/contrib                                                                                                                                                                            </td></tr>\n",
       "\t<tr><th scope=row>zoom</th><td><span style=white-space:pre-wrap>zoom            </span>                                                                                                                                                    </td><td>2.0.4                                                                                                                                                                                                       </td><td>NA                                                                                                                                                                                                          </td><td><span style=white-space:pre-wrap>R (&gt;= 2.10.0)                                        </span>                                                                                                            </td><td><span style=white-space:pre-wrap>NA                                                                                                                                                                  </span></td><td><span style=white-space:pre-wrap>NA                 </span>                                                                                                                                                 </td><td><span style=white-space:pre-wrap>testthat                                                                                               </span>                                                             </td><td>NA                                                                                                                                                                                                          </td><td><span style=white-space:pre-wrap>GPL (&gt;= 3)                 </span>                                                                                                                                      </td><td>NA                                                                                                                                                                                                          </td><td>NA                                                                                                                                                                                                          </td><td><span style=white-space:pre-wrap>NA  </span>                                                                                                                                                                </td><td>NA                                                                                                                                                                                                          </td><td>NA                                                                                                                                                                                                          </td><td>no                                                                                                                                                                                                          </td><td>NA                                                                                                                                                                                                          </td><td>https://cran.r-project.org/src/contrib                                                                                                                                                                      </td></tr>\n",
       "\t<tr><th scope=row>zoon</th><td><span style=white-space:pre-wrap>zoon            </span>                                                                                                                                                    </td><td>0.6.3                                                                                                                                                                                                       </td><td>NA                                                                                                                                                                                                          </td><td><span style=white-space:pre-wrap>raster (&gt;= 2.4-20), R (&gt;= 3.2.0)                     </span>                                                                                                         </td><td><span style=white-space:pre-wrap>dismo, methods, plyr, randomForest, RCurl, rfigshare, rgdal,\n",
       "roxygen2, rworldmap, SDMTools, sp, testthat                                                           </span></td><td><span style=white-space:pre-wrap>NA                 </span>                                                                                                                                                 </td><td><span style=white-space:pre-wrap>knitr, maxlike                                                                                         </span>                                                             </td><td>NA                                                                                                                                                                                                          </td><td>BSD_3_clause + file LICENSE                                                                                                                                                                                 </td><td>NA                                                                                                                                                                                                          </td><td>NA                                                                                                                                                                                                          </td><td><span style=white-space:pre-wrap>NA  </span>                                                                                                                                                                </td><td>NA                                                                                                                                                                                                          </td><td>NA                                                                                                                                                                                                          </td><td>no                                                                                                                                                                                                          </td><td>NA                                                                                                                                                                                                          </td><td>https://cran.r-project.org/src/contrib                                                                                                                                                                      </td></tr>\n",
       "\t<tr><th scope=row>ZRA</th><td><span style=white-space:pre-wrap>ZRA             </span>                                                                                                                                                    </td><td><span style=white-space:pre-wrap>0.2   </span>                                                                                                                                                              </td><td>NA                                                                                                                                                                                                          </td><td><span style=white-space:pre-wrap>R (&gt;= 3.0.2), forecast, dygraphs, stats              </span>                                                                                                            </td><td><span style=white-space:pre-wrap>NA                                                                                                                                                                  </span></td><td><span style=white-space:pre-wrap>NA                 </span>                                                                                                                                                 </td><td><span style=white-space:pre-wrap>NA                                                                                                     </span>                                                             </td><td>NA                                                                                                                                                                                                          </td><td><span style=white-space:pre-wrap>GPL (&gt;= 2)                 </span>                                                                                                                                      </td><td>NA                                                                                                                                                                                                          </td><td>NA                                                                                                                                                                                                          </td><td><span style=white-space:pre-wrap>NA  </span>                                                                                                                                                                </td><td>NA                                                                                                                                                                                                          </td><td>NA                                                                                                                                                                                                          </td><td>no                                                                                                                                                                                                          </td><td>NA                                                                                                                                                                                                          </td><td>https://cran.r-project.org/src/contrib                                                                                                                                                                      </td></tr>\n",
       "\t<tr><th scope=row>zscorer</th><td><span style=white-space:pre-wrap>zscorer         </span>                                                                                                                                                    </td><td>0.1.0                                                                                                                                                                                                       </td><td>NA                                                                                                                                                                                                          </td><td><span style=white-space:pre-wrap>R (&gt;= 2.10)                                          </span>                                                                                                            </td><td><span style=white-space:pre-wrap>NA                                                                                                                                                                  </span></td><td><span style=white-space:pre-wrap>NA                 </span>                                                                                                                                                 </td><td><span style=white-space:pre-wrap>testthat, knitr, rmarkdown, shiny, shinythemes                                                         </span>                                                             </td><td>NA                                                                                                                                                                                                          </td><td><span style=white-space:pre-wrap>AGPL-3                     </span>                                                                                                                                         </td><td>NA                                                                                                                                                                                                          </td><td>NA                                                                                                                                                                                                          </td><td><span style=white-space:pre-wrap>NA  </span>                                                                                                                                                                </td><td>NA                                                                                                                                                                                                          </td><td>NA                                                                                                                                                                                                          </td><td>no                                                                                                                                                                                                          </td><td>NA                                                                                                                                                                                                          </td><td>https://cran.r-project.org/src/contrib                                                                                                                                                                      </td></tr>\n",
       "\t<tr><th scope=row>Zseq</th><td><span style=white-space:pre-wrap>Zseq            </span>                                                                                                                                                    </td><td>0.2.0                                                                                                                                                                                                       </td><td>NA                                                                                                                                                                                                          </td><td><span style=white-space:pre-wrap>NA                                                   </span>                                                                                                               </td><td><span style=white-space:pre-wrap>gmp                                                                                                                                                                 </span></td><td><span style=white-space:pre-wrap>NA                 </span>                                                                                                                                                 </td><td><span style=white-space:pre-wrap>NA                                                                                                     </span>                                                             </td><td>NA                                                                                                                                                                                                          </td><td><span style=white-space:pre-wrap>GPL (&gt;= 3)                 </span>                                                                                                                                      </td><td>NA                                                                                                                                                                                                          </td><td>NA                                                                                                                                                                                                          </td><td><span style=white-space:pre-wrap>NA  </span>                                                                                                                                                                </td><td>NA                                                                                                                                                                                                          </td><td>NA                                                                                                                                                                                                          </td><td>no                                                                                                                                                                                                          </td><td>NA                                                                                                                                                                                                          </td><td>https://cran.r-project.org/src/contrib                                                                                                                                                                      </td></tr>\n",
       "\t<tr><th scope=row>zstdr</th><td><span style=white-space:pre-wrap>zstdr           </span>                                                                                                                                                       </td><td>0.1.1                                                                                                                                                                                                          </td><td>NA                                                                                                                                                                                                             </td><td><span style=white-space:pre-wrap>NA                                                   </span>                                                                                                                  </td><td><span style=white-space:pre-wrap>Rcpp (&gt;= 0.12.0)                                                                                                                                                    </span></td><td><span style=white-space:pre-wrap>Rcpp               </span>                                                                                                                                                    </td><td><span style=white-space:pre-wrap>testthat                                                                                               </span>                                                                </td><td>NA                                                                                                                                                                                                             </td><td><span style=white-space:pre-wrap>GPL (&gt;= 2)                 </span>                                                                                                                                         </td><td>NA                                                                                                                                                                                                             </td><td>NA                                                                                                                                                                                                             </td><td>unix                                                                                                                                                                                                           </td><td>NA                                                                                                                                                                                                             </td><td>NA                                                                                                                                                                                                             </td><td>yes                                                                                                                                                                                                            </td><td>NA                                                                                                                                                                                                             </td><td>https://cran.r-project.org/src/contrib                                                                                                                                                                         </td></tr>\n",
       "\t<tr><th scope=row>ztable</th><td><span style=white-space:pre-wrap>ztable          </span>                                                                                                                                                    </td><td>0.1.8                                                                                                                                                                                                       </td><td>NA                                                                                                                                                                                                          </td><td><span style=white-space:pre-wrap>R (&gt;= 3.1.2)                                         </span>                                                                                                            </td><td><span style=white-space:pre-wrap>NA                                                                                                                                                                  </span></td><td><span style=white-space:pre-wrap>NA                 </span>                                                                                                                                                 </td><td><span style=white-space:pre-wrap>MASS, survival, testthat, knitr, moonBook, magrittr                                                    </span>                                                             </td><td>NA                                                                                                                                                                                                          </td><td><span style=white-space:pre-wrap>GPL-2                      </span>                                                                                                                                         </td><td>NA                                                                                                                                                                                                          </td><td>NA                                                                                                                                                                                                          </td><td><span style=white-space:pre-wrap>NA  </span>                                                                                                                                                                </td><td>NA                                                                                                                                                                                                          </td><td>NA                                                                                                                                                                                                          </td><td>no                                                                                                                                                                                                          </td><td>NA                                                                                                                                                                                                          </td><td>https://cran.r-project.org/src/contrib                                                                                                                                                                      </td></tr>\n",
       "\t<tr><th scope=row>zTree</th><td><span style=white-space:pre-wrap>zTree           </span>                                                                                                                                                    </td><td>1.0.4                                                                                                                                                                                                       </td><td>NA                                                                                                                                                                                                          </td><td><span style=white-space:pre-wrap>R (&gt;= 3.1.0),plyr (&gt;= 1.0)                           </span>                                                                                                         </td><td><span style=white-space:pre-wrap>NA                                                                                                                                                                  </span></td><td><span style=white-space:pre-wrap>NA                 </span>                                                                                                                                                 </td><td><span style=white-space:pre-wrap>NA                                                                                                     </span>                                                             </td><td>NA                                                                                                                                                                                                          </td><td><span style=white-space:pre-wrap>GPL-3 | file LICENSE       </span>                                                                                                                                         </td><td>NA                                                                                                                                                                                                          </td><td>NA                                                                                                                                                                                                          </td><td><span style=white-space:pre-wrap>NA  </span>                                                                                                                                                                </td><td>NA                                                                                                                                                                                                          </td><td>NA                                                                                                                                                                                                          </td><td>no                                                                                                                                                                                                          </td><td>NA                                                                                                                                                                                                          </td><td>https://cran.r-project.org/src/contrib                                                                                                                                                                      </td></tr>\n",
       "\t<tr><th scope=row>ztype</th><td>ztype                                                                                                                                                               </td><td>0.1.0                                                                                                                                                               </td><td>NA                                                                                                                                                                  </td><td>NA                                                                                                                                                                  </td><td>magrittr, rvest, stats, stringr, utils, dplyr, ggplot2,\n",
       "lubridate, assertthat                                                                                      </td><td>NA                                                                                                                                                                  </td><td>NA                                                                                                                                                                  </td><td>NA                                                                                                                                                                  </td><td>GPL-3                                                                                                                                                               </td><td>NA                                                                                                                                                                  </td><td>NA                                                                                                                                                                  </td><td>NA                                                                                                                                                                  </td><td>NA                                                                                                                                                                  </td><td>NA                                                                                                                                                                  </td><td>no                                                                                                                                                                  </td><td>NA                                                                                                                                                                  </td><td>https://cran.r-project.org/src/contrib                                                                                                                              </td></tr>\n",
       "\t<tr><th scope=row>zyp</th><td><span style=white-space:pre-wrap>zyp             </span>                                                                                                                                                    </td><td>0.10-1                                                                                                                                                                                                      </td><td>NA                                                                                                                                                                                                          </td><td><span style=white-space:pre-wrap>R (&gt;= 2.4.0), Kendall                                </span>                                                                                                            </td><td><span style=white-space:pre-wrap>NA                                                                                                                                                                  </span></td><td><span style=white-space:pre-wrap>NA                 </span>                                                                                                                                                 </td><td><span style=white-space:pre-wrap>NA                                                                                                     </span>                                                             </td><td>NA                                                                                                                                                                                                          </td><td><span style=white-space:pre-wrap>LGPL-2.1                   </span>                                                                                                                                         </td><td>NA                                                                                                                                                                                                          </td><td>NA                                                                                                                                                                                                          </td><td><span style=white-space:pre-wrap>NA  </span>                                                                                                                                                                </td><td>NA                                                                                                                                                                                                          </td><td>NA                                                                                                                                                                                                          </td><td>no                                                                                                                                                                                                          </td><td>NA                                                                                                                                                                                                          </td><td>https://cran.r-project.org/src/contrib                                                                                                                                                                      </td></tr>\n",
       "</tbody>\n",
       "</table>\n"
      ],
      "text/latex": [
       "\\begin{tabular}{r|lllllllllllllllll}\n",
       "  & Package & Version & Priority & Depends & Imports & LinkingTo & Suggests & Enhances & License & License\\_is\\_FOSS & License\\_restricts\\_use & OS\\_type & Archs & MD5sum & NeedsCompilation & File & Repository\\\\\n",
       "\\hline\n",
       "\tA3 & A3                                                                                                                 & 1.0.0                                                                                                              & NA                                                                                                                 & R (>= 2.15.0), xtable, pbapply                                                                                     & NA                                                                                                                 & NA                                                                                                                 & randomForest, e1071                                                                                                & NA                                                                                                                 & GPL (>= 2)                                                                                                         & NA                                                                                                                 & NA                                                                                                                 & NA                                                                                                                 & NA                                                                                                                 & NA                                                                                                                 & no                                                                                                                 & NA                                                                                                                 & https://cran.r-project.org/src/contrib                                                                            \\\\\n",
       "\tabbyyR & abbyyR                                                                                                             & 0.5.4                                                                                                              & NA                                                                                                                 & R (>= 3.2.0)                                                                                                       & httr, XML, curl, readr, plyr, progress                                                                             & NA                                                                                                                 & testthat, rmarkdown, knitr (>= 1.11), lintr                                                                        & NA                                                                                                                 & MIT + file LICENSE                                                                                                 & NA                                                                                                                 & NA                                                                                                                 & NA                                                                                                                 & NA                                                                                                                 & NA                                                                                                                 & no                                                                                                                 & NA                                                                                                                 & https://cran.r-project.org/src/contrib                                                                            \\\\\n",
       "\tabc & abc                                                                                                                & 2.1                                                                                                                & NA                                                                                                                 & R (>= 2.10), abc.data, nnet, quantreg, MASS, locfit                                                                & NA                                                                                                                 & NA                                                                                                                 & NA                                                                                                                 & NA                                                                                                                 & GPL (>= 3)                                                                                                         & NA                                                                                                                 & NA                                                                                                                 & NA                                                                                                                 & NA                                                                                                                 & NA                                                                                                                 & no                                                                                                                 & NA                                                                                                                 & https://cran.r-project.org/src/contrib                                                                            \\\\\n",
       "\tabc.data & abc.data                                                                                                           & 1.0                                                                                                                & NA                                                                                                                 & R (>= 2.10)                                                                                                        & NA                                                                                                                 & NA                                                                                                                 & NA                                                                                                                 & NA                                                                                                                 & GPL (>= 3)                                                                                                         & NA                                                                                                                 & NA                                                                                                                 & NA                                                                                                                 & NA                                                                                                                 & NA                                                                                                                 & no                                                                                                                 & NA                                                                                                                 & https://cran.r-project.org/src/contrib                                                                            \\\\\n",
       "\tABC.RAP & ABC.RAP                                                                                                            & 0.9.0                                                                                                              & NA                                                                                                                 & R (>= 3.1.0)                                                                                                       & graphics, stats, utils                                                                                             & NA                                                                                                                 & knitr, rmarkdown                                                                                                   & NA                                                                                                                 & GPL-3                                                                                                              & NA                                                                                                                 & NA                                                                                                                 & NA                                                                                                                 & NA                                                                                                                 & NA                                                                                                                 & no                                                                                                                 & NA                                                                                                                 & https://cran.r-project.org/src/contrib                                                                            \\\\\n",
       "\tABCanalysis & ABCanalysis                                                                                                        & 1.2.1                                                                                                              & NA                                                                                                                 & R (>= 2.10)                                                                                                        & plotrix                                                                                                            & NA                                                                                                                 & NA                                                                                                                 & NA                                                                                                                 & GPL-3                                                                                                              & NA                                                                                                                 & NA                                                                                                                 & NA                                                                                                                 & NA                                                                                                                 & NA                                                                                                                 & no                                                                                                                 & NA                                                                                                                 & https://cran.r-project.org/src/contrib                                                                            \\\\\n",
       "\tabcdeFBA & abcdeFBA                                                                                                           & 0.4                                                                                                                & NA                                                                                                                 & Rglpk,rgl,corrplot,lattice,R (>= 2.10)                                                                             & NA                                                                                                                 & NA                                                                                                                 & LIM,sybil                                                                                                          & NA                                                                                                                 & GPL-2                                                                                                              & NA                                                                                                                 & NA                                                                                                                 & NA                                                                                                                 & NA                                                                                                                 & NA                                                                                                                 & no                                                                                                                 & NA                                                                                                                 & https://cran.r-project.org/src/contrib                                                                            \\\\\n",
       "\tABCoptim & ABCoptim                                                                                                           & 0.15.0                                                                                                             & NA                                                                                                                 & NA                                                                                                                 & Rcpp, graphics, stats, utils                                                                                       & Rcpp                                                                                                               & testthat, covr                                                                                                     & NA                                                                                                                 & MIT + file LICENSE                                                                                                 & NA                                                                                                                 & NA                                                                                                                 & NA                                                                                                                 & NA                                                                                                                 & NA                                                                                                                 & yes                                                                                                                & NA                                                                                                                 & https://cran.r-project.org/src/contrib                                                                            \\\\\n",
       "\tABCp2 & ABCp2                                                                                                              & 1.2                                                                                                                & NA                                                                                                                 & MASS                                                                                                               & NA                                                                                                                 & NA                                                                                                                 & NA                                                                                                                 & NA                                                                                                                 & GPL-2                                                                                                              & NA                                                                                                                 & NA                                                                                                                 & NA                                                                                                                 & NA                                                                                                                 & NA                                                                                                                 & no                                                                                                                 & NA                                                                                                                 & https://cran.r-project.org/src/contrib                                                                            \\\\\n",
       "\tabcrf & abcrf                                                                                                              & 1.7.1                                                                                                              & NA                                                                                                                 & R(>= 3.1)                                                                                                          & readr, MASS, matrixStats, ranger, parallel, stringr, Rcpp (>=\n",
       "0.11.2)                                             & Rcpp, RcppArmadillo                                                                                                & NA                                                                                                                 & NA                                                                                                                 & GPL (>= 2)                                                                                                         & NA                                                                                                                 & NA                                                                                                                 & NA                                                                                                                 & NA                                                                                                                 & NA                                                                                                                 & yes                                                                                                                & NA                                                                                                                 & https://cran.r-project.org/src/contrib                                                                            \\\\\n",
       "\tabctools & abctools                                                                                                           & 1.1.1                                                                                                              & NA                                                                                                                 & R (>= 2.10), abc, abind, parallel, plyr, Hmisc                                                                     & NA                                                                                                                 & NA                                                                                                                 & ggplot2, abc.data                                                                                                  & NA                                                                                                                 & GPL (>= 2)                                                                                                         & NA                                                                                                                 & NA                                                                                                                 & NA                                                                                                                 & NA                                                                                                                 & NA                                                                                                                 & yes                                                                                                                & NA                                                                                                                 & https://cran.r-project.org/src/contrib                                                                            \\\\\n",
       "\tabd & abd                                                                                                                & 0.2-8                                                                                                              & NA                                                                                                                 & R (>= 3.0), nlme, lattice, grid, mosaic                                                                            & NA                                                                                                                 & NA                                                                                                                 & boot, car, ggplot2, plyr, HH, ICC, vcd, Hmisc                                                                      & NA                                                                                                                 & GPL-2                                                                                                              & NA                                                                                                                 & NA                                                                                                                 & NA                                                                                                                 & NA                                                                                                                 & NA                                                                                                                 & no                                                                                                                 & NA                                                                                                                 & https://cran.r-project.org/src/contrib                                                                            \\\\\n",
       "\tabe & abe                                                                                                                & 3.0.1                                                                                                              & NA                                                                                                                 & NA                                                                                                                 & NA                                                                                                                 & NA                                                                                                                 & NA                                                                                                                 & NA                                                                                                                 & GPL (>= 2)                                                                                                         & NA                                                                                                                 & NA                                                                                                                 & NA                                                                                                                 & NA                                                                                                                 & NA                                                                                                                 & no                                                                                                                 & NA                                                                                                                 & https://cran.r-project.org/src/contrib                                                                            \\\\\n",
       "\tabf2 & abf2                                                                                                               & 0.7-1                                                                                                              & NA                                                                                                                 & NA                                                                                                                 & NA                                                                                                                 & NA                                                                                                                 & NA                                                                                                                 & NA                                                                                                                 & Artistic-2.0                                                                                                       & NA                                                                                                                 & NA                                                                                                                 & NA                                                                                                                 & NA                                                                                                                 & NA                                                                                                                 & no                                                                                                                 & NA                                                                                                                 & https://cran.r-project.org/src/contrib                                                                            \\\\\n",
       "\tABHgenotypeR & ABHgenotypeR                                                                                                       & 1.0.1                                                                                                              & NA                                                                                                                 & NA                                                                                                                 & ggplot2, reshape2, utils                                                                                           & NA                                                                                                                 & knitr, rmarkdown                                                                                                   & NA                                                                                                                 & GPL-3                                                                                                              & NA                                                                                                                 & NA                                                                                                                 & NA                                                                                                                 & NA                                                                                                                 & NA                                                                                                                 & no                                                                                                                 & NA                                                                                                                 & https://cran.r-project.org/src/contrib                                                                            \\\\\n",
       "\tabind & abind                                                                                                              & 1.4-5                                                                                                              & NA                                                                                                                 & R (>= 1.5.0)                                                                                                       & methods, utils                                                                                                     & NA                                                                                                                 & NA                                                                                                                 & NA                                                                                                                 & LGPL (>= 2)                                                                                                        & NA                                                                                                                 & NA                                                                                                                 & NA                                                                                                                 & NA                                                                                                                 & NA                                                                                                                 & no                                                                                                                 & NA                                                                                                                 & https://cran.r-project.org/src/contrib                                                                            \\\\\n",
       "\tabjutils & abjutils                                                                                                           & 0.2.1                                                                                                              & NA                                                                                                                 & R (>= 3.1)                                                                                                         & stringr, dplyr, httr, tibble, devtools, magrittr, plyr, purrr,\n",
       "rstudioapi, scales, stringi, glue, tidyr, progress & NA                                                                                                                 & testthat                                                                                                           & NA                                                                                                                 & MIT + file LICENSE                                                                                                 & NA                                                                                                                 & NA                                                                                                                 & NA                                                                                                                 & NA                                                                                                                 & NA                                                                                                                 & no                                                                                                                 & NA                                                                                                                 & https://cran.r-project.org/src/contrib                                                                            \\\\\n",
       "\tabn & abn                                                                                                                & 1.0.2                                                                                                              & NA                                                                                                                 & Cairo, R (>= 2.15.1)                                                                                               & methods                                                                                                            & NA                                                                                                                 & INLA, Rgraphviz                                                                                                    & NA                                                                                                                 & GPL (>= 2)                                                                                                         & NA                                                                                                                 & NA                                                                                                                 & NA                                                                                                                 & NA                                                                                                                 & NA                                                                                                                 & yes                                                                                                                & NA                                                                                                                 & https://cran.r-project.org/src/contrib                                                                            \\\\\n",
       "\tabnormality & abnormality                                                                                                        & 0.1.0                                                                                                              & NA                                                                                                                 & NA                                                                                                                 & MASS (>= 7.3.0), Matrix                                                                                            & NA                                                                                                                 & NA                                                                                                                 & NA                                                                                                                 & MIT + file LICENSE                                                                                                 & NA                                                                                                                 & NA                                                                                                                 & NA                                                                                                                 & NA                                                                                                                 & NA                                                                                                                 & no                                                                                                                 & NA                                                                                                                 & https://cran.r-project.org/src/contrib                                                                            \\\\\n",
       "\tabodOutlier & abodOutlier                                                                                                        & 0.1                                                                                                                & NA                                                                                                                 & cluster, R (>= 3.1.2)                                                                                              & NA                                                                                                                 & NA                                                                                                                 & NA                                                                                                                 & NA                                                                                                                 & MIT + file LICENSE                                                                                                 & NA                                                                                                                 & NA                                                                                                                 & NA                                                                                                                 & NA                                                                                                                 & NA                                                                                                                 & no                                                                                                                 & NA                                                                                                                 & https://cran.r-project.org/src/contrib                                                                            \\\\\n",
       "\tABPS & ABPS                                                                                                               & 0.2                                                                                                                & NA                                                                                                                 & NA                                                                                                                 & kernlab                                                                                                            & NA                                                                                                                 & testthat                                                                                                           & NA                                                                                                                 & GPL (>= 2)                                                                                                         & NA                                                                                                                 & NA                                                                                                                 & NA                                                                                                                 & NA                                                                                                                 & NA                                                                                                                 & no                                                                                                                 & NA                                                                                                                 & https://cran.r-project.org/src/contrib                                                                            \\\\\n",
       "\tAbsFilterGSEA & AbsFilterGSEA                                                                                                      & 1.5.1                                                                                                              & NA                                                                                                                 & NA                                                                                                                 & Rcpp, Biobase, stats, DESeq, limma                                                                                 & Rcpp, RcppArmadillo                                                                                                & NA                                                                                                                 & NA                                                                                                                 & GPL-2                                                                                                              & NA                                                                                                                 & NA                                                                                                                 & NA                                                                                                                 & NA                                                                                                                 & NA                                                                                                                 & yes                                                                                                                & NA                                                                                                                 & https://cran.r-project.org/src/contrib                                                                            \\\\\n",
       "\tAbSim & AbSim                                                                                                              & 0.2.4                                                                                                              & NA                                                                                                                 & R(>= 3.1.0), ape, poweRlaw                                                                                         & NA                                                                                                                 & NA                                                                                                                 & knitr, rmarkdown                                                                                                   & NA                                                                                                                 & GPL-2                                                                                                              & NA                                                                                                                 & NA                                                                                                                 & NA                                                                                                                 & NA                                                                                                                 & NA                                                                                                                 & no                                                                                                                 & NA                                                                                                                 & https://cran.r-project.org/src/contrib                                                                            \\\\\n",
       "\tabundant & abundant                                                                                                           & 1.1                                                                                                                & NA                                                                                                                 & R (>= 2.10), QUIC                                                                                                  & NA                                                                                                                 & NA                                                                                                                 & NA                                                                                                                 & NA                                                                                                                 & GPL-2                                                                                                              & NA                                                                                                                 & NA                                                                                                                 & NA                                                                                                                 & NA                                                                                                                 & NA                                                                                                                 & yes                                                                                                                & NA                                                                                                                 & https://cran.r-project.org/src/contrib                                                                            \\\\\n",
       "\tAc3net & Ac3net                                                                                                             & 1.2.2                                                                                                              & NA                                                                                                                 & R (>= 3.3.0), data.table                                                                                           & NA                                                                                                                 & NA                                                                                                                 & NA                                                                                                                 & NA                                                                                                                 & GPL (>= 3)                                                                                                         & NA                                                                                                                 & NA                                                                                                                 & NA                                                                                                                 & NA                                                                                                                 & NA                                                                                                                 & no                                                                                                                 & NA                                                                                                                 & https://cran.r-project.org/src/contrib                                                                            \\\\\n",
       "\tACA & ACA                                                                                                                & 1.1                                                                                                                & NA                                                                                                                 & R (>= 3.2.2)                                                                                                       & graphics, grDevices, stats, utils                                                                                  & NA                                                                                                                 & NA                                                                                                                 & NA                                                                                                                 & GPL                                                                                                                & NA                                                                                                                 & NA                                                                                                                 & NA                                                                                                                 & NA                                                                                                                 & NA                                                                                                                 & no                                                                                                                 & NA                                                                                                                 & https://cran.r-project.org/src/contrib                                                                            \\\\\n",
       "\tacc & acc                                                                                                                & 1.3.3                                                                                                              & NA                                                                                                                 & R (>= 2.10), mhsmm                                                                                                 & zoo, PhysicalActivity, nleqslv, plyr, methods, DBI, RSQLite,\n",
       "circlize, ggplot2, R.utils, iterators, Rcpp          & Rcpp, RcppArmadillo                                                                                                & NA                                                                                                                 & NA                                                                                                                 & GPL (>= 2)                                                                                                         & NA                                                                                                                 & NA                                                                                                                 & NA                                                                                                                 & NA                                                                                                                 & NA                                                                                                                 & yes                                                                                                                & NA                                                                                                                 & https://cran.r-project.org/src/contrib                                                                            \\\\\n",
       "\taccelerometry & accelerometry                                                                                                      & 2.2.5                                                                                                              & NA                                                                                                                 & R (>= 3.0.0)                                                                                                       & Rcpp (>= 0.11.0)                                                                                                   & Rcpp                                                                                                               & NA                                                                                                                 & NA                                                                                                                 & GPL-2                                                                                                              & NA                                                                                                                 & NA                                                                                                                 & NA                                                                                                                 & NA                                                                                                                 & NA                                                                                                                 & yes                                                                                                                & NA                                                                                                                 & https://cran.r-project.org/src/contrib                                                                            \\\\\n",
       "\taccelmissing & accelmissing                                                                                                       & 1.4                                                                                                                & NA                                                                                                                 & R (>= 2.10), mice, pscl                                                                                            & NA                                                                                                                 & NA                                                                                                                 & NA                                                                                                                 & NA                                                                                                                 & GPL (>= 2)                                                                                                         & NA                                                                                                                 & NA                                                                                                                 & NA                                                                                                                 & NA                                                                                                                 & NA                                                                                                                 & no                                                                                                                 & NA                                                                                                                 & https://cran.r-project.org/src/contrib                                                                            \\\\\n",
       "\tAcceptanceSampling & AcceptanceSampling                                                                                                 & 1.0-5                                                                                                              & NA                                                                                                                 & methods, R(>= 2.4.0), stats                                                                                        & graphics, utils                                                                                                    & NA                                                                                                                 & NA                                                                                                                 & NA                                                                                                                 & GPL (>= 3)                                                                                                         & NA                                                                                                                 & NA                                                                                                                 & NA                                                                                                                 & NA                                                                                                                 & NA                                                                                                                 & no                                                                                                                 & NA                                                                                                                 & https://cran.r-project.org/src/contrib                                                                            \\\\\n",
       "\t⋮ & ⋮ & ⋮ & ⋮ & ⋮ & ⋮ & ⋮ & ⋮ & ⋮ & ⋮ & ⋮ & ⋮ & ⋮ & ⋮ & ⋮ & ⋮ & ⋮ & ⋮\\\\\n",
       "\tzFactor & zFactor                                                                                                                                                              & 0.1.7                                                                                                                                                                & NA                                                                                                                                                                   & R (>= 2.10)                                                                                                                                                          & rootSolve, tidyr, ggplot2, data.table, tibble, dplyr                                                                                                                 & NA                                                                                                                                                                   & knitr, rmarkdown, testthat, knitcitations, covr                                                                                                                      & NA                                                                                                                                                                   & GPL-2                                                                                                                                                                & NA                                                                                                                                                                   & NA                                                                                                                                                                   & NA                                                                                                                                                                   & NA                                                                                                                                                                   & NA                                                                                                                                                                   & no                                                                                                                                                                   & NA                                                                                                                                                                   & https://cran.r-project.org/src/contrib                                                                                                                              \\\\\n",
       "\tZIBBSeqDiscovery & ZIBBSeqDiscovery                                                                                                                                                     & 1.0                                                                                                                                                                  & NA                                                                                                                                                                   & NA                                                                                                                                                                   & mcc                                                                                                                                                                  & NA                                                                                                                                                                   & knitr, rmarkdown                                                                                                                                                     & NA                                                                                                                                                                   & GPL-2                                                                                                                                                                & NA                                                                                                                                                                   & NA                                                                                                                                                                   & NA                                                                                                                                                                   & NA                                                                                                                                                                   & NA                                                                                                                                                                   & no                                                                                                                                                                   & NA                                                                                                                                                                   & https://cran.r-project.org/src/contrib                                                                                                                              \\\\\n",
       "\tZIBseq & ZIBseq                                                                                                                                                               & 1.2                                                                                                                                                                  & NA                                                                                                                                                                   & R (>= 3.3.1), gamlss, nlme                                                                                                                                           & stats, gamlss.dist                                                                                                                                                   & NA                                                                                                                                                                   & NA                                                                                                                                                                   & NA                                                                                                                                                                   & GPL (>= 2)                                                                                                                                                           & NA                                                                                                                                                                   & NA                                                                                                                                                                   & NA                                                                                                                                                                   & NA                                                                                                                                                                   & NA                                                                                                                                                                   & no                                                                                                                                                                   & NA                                                                                                                                                                   & https://cran.r-project.org/src/contrib                                                                                                                              \\\\\n",
       "\tzic & zic                                                                                                                                                                  & 0.9.1                                                                                                                                                                & NA                                                                                                                                                                   & R (>= 3.0.2)                                                                                                                                                         & Rcpp (>= 0.11.0), coda (>= 0.14-2)                                                                                                                                   & Rcpp, RcppArmadillo                                                                                                                                                  & NA                                                                                                                                                                   & NA                                                                                                                                                                   & GPL (>= 2)                                                                                                                                                           & NA                                                                                                                                                                   & NA                                                                                                                                                                   & NA                                                                                                                                                                   & NA                                                                                                                                                                   & NA                                                                                                                                                                   & yes                                                                                                                                                                  & NA                                                                                                                                                                   & https://cran.r-project.org/src/contrib                                                                                                                              \\\\\n",
       "\tZillowR & ZillowR                                                                                                                                                              & 0.1.0                                                                                                                                                                & NA                                                                                                                                                                   & NA                                                                                                                                                                   & methods, utils, RCurl, XML                                                                                                                                           & NA                                                                                                                                                                   & testthat                                                                                                                                                             & NA                                                                                                                                                                   & GPL-3                                                                                                                                                                & NA                                                                                                                                                                   & NA                                                                                                                                                                   & NA                                                                                                                                                                   & NA                                                                                                                                                                   & NA                                                                                                                                                                   & no                                                                                                                                                                   & NA                                                                                                                                                                   & https://cran.r-project.org/src/contrib                                                                                                                              \\\\\n",
       "\tZIM & ZIM                                                                                                                                                                  & 1.0.3                                                                                                                                                                & NA                                                                                                                                                                   & MASS                                                                                                                                                                 & NA                                                                                                                                                                   & NA                                                                                                                                                                   & NA                                                                                                                                                                   & NA                                                                                                                                                                   & GPL-3                                                                                                                                                                & NA                                                                                                                                                                   & NA                                                                                                                                                                   & NA                                                                                                                                                                   & NA                                                                                                                                                                   & NA                                                                                                                                                                   & no                                                                                                                                                                   & NA                                                                                                                                                                   & https://cran.r-project.org/src/contrib                                                                                                                              \\\\\n",
       "\tzip & zip                                                                                                                                                                  & 1.0.0                                                                                                                                                                & NA                                                                                                                                                                   & NA                                                                                                                                                                   & NA                                                                                                                                                                   & NA                                                                                                                                                                   & covr, testthat, withr                                                                                                                                                & NA                                                                                                                                                                   & CC0                                                                                                                                                                  & NA                                                                                                                                                                   & NA                                                                                                                                                                   & NA                                                                                                                                                                   & NA                                                                                                                                                                   & NA                                                                                                                                                                   & yes                                                                                                                                                                  & NA                                                                                                                                                                   & https://cran.r-project.org/src/contrib                                                                                                                              \\\\\n",
       "\tzipcode & zipcode                                                                                                                                                              & 1.0                                                                                                                                                                  & NA                                                                                                                                                                   & R (>= 2.10)                                                                                                                                                          & NA                                                                                                                                                                   & NA                                                                                                                                                                   & NA                                                                                                                                                                   & NA                                                                                                                                                                   & CC BY-SA 2.0 + file LICENSE                                                                                                                                          & NA                                                                                                                                                                   & NA                                                                                                                                                                   & NA                                                                                                                                                                   & NA                                                                                                                                                                   & NA                                                                                                                                                                   & no                                                                                                                                                                   & NA                                                                                                                                                                   & https://cran.r-project.org/src/contrib                                                                                                                              \\\\\n",
       "\tzipfextR & zipfextR                                                                                                                                                             & 1.0.0                                                                                                                                                                & NA                                                                                                                                                                   & R (>= 2.0.1)                                                                                                                                                         & VGAM (>= 0.9.8), tolerance(>= 1.2.0)                                                                                                                                 & NA                                                                                                                                                                   & testthat                                                                                                                                                             & NA                                                                                                                                                                   & GPL-3                                                                                                                                                                & NA                                                                                                                                                                   & NA                                                                                                                                                                   & NA                                                                                                                                                                   & NA                                                                                                                                                                   & NA                                                                                                                                                                   & no                                                                                                                                                                   & NA                                                                                                                                                                   & https://cran.r-project.org/src/contrib                                                                                                                              \\\\\n",
       "\tzipfR & zipfR                                                                                                                                                                & 0.6-10                                                                                                                                                               & NA                                                                                                                                                                   & R (>= 3.0.0)                                                                                                                                                         & methods, utils, stats, graphics, grDevices                                                                                                                           & NA                                                                                                                                                                   & NA                                                                                                                                                                   & NA                                                                                                                                                                   & GPL-3                                                                                                                                                                & NA                                                                                                                                                                   & NA                                                                                                                                                                   & NA                                                                                                                                                                   & NA                                                                                                                                                                   & NA                                                                                                                                                                   & no                                                                                                                                                                   & NA                                                                                                                                                                   & https://cran.r-project.org/src/contrib                                                                                                                              \\\\\n",
       "\tziphsmm & ziphsmm                                                                                                                                                              & 2.0.6                                                                                                                                                                & NA                                                                                                                                                                   & R(>= 3.0.0)                                                                                                                                                          & Rcpp, pracma                                                                                                                                                         & Rcpp, RcppArmadillo                                                                                                                                                  & NA                                                                                                                                                                   & NA                                                                                                                                                                   & GPL                                                                                                                                                                  & NA                                                                                                                                                                   & NA                                                                                                                                                                   & NA                                                                                                                                                                   & NA                                                                                                                                                                   & NA                                                                                                                                                                   & yes                                                                                                                                                                  & NA                                                                                                                                                                   & https://cran.r-project.org/src/contrib                                                                                                                              \\\\\n",
       "\tzoeppritz & zoeppritz                                                                                                                                                            & 1.0-7                                                                                                                                                                & NA                                                                                                                                                                   & NA                                                                                                                                                                   & NA                                                                                                                                                                   & NA                                                                                                                                                                   & NA                                                                                                                                                                   & NA                                                                                                                                                                   & GPL (>= 2)                                                                                                                                                           & NA                                                                                                                                                                   & NA                                                                                                                                                                   & NA                                                                                                                                                                   & NA                                                                                                                                                                   & NA                                                                                                                                                                   & no                                                                                                                                                                   & NA                                                                                                                                                                   & https://cran.r-project.org/src/contrib                                                                                                                              \\\\\n",
       "\tzoib & zoib                                                                                                                                                                 & 1.5.1                                                                                                                                                                & NA                                                                                                                                                                   & R (>= 3.3.0), rjags, coda, matrixcalc, Formula, abind                                                                                                                & NA                                                                                                                                                                   & NA                                                                                                                                                                   & NA                                                                                                                                                                   & NA                                                                                                                                                                   & GPL (>= 3)                                                                                                                                                           & NA                                                                                                                                                                   & NA                                                                                                                                                                   & NA                                                                                                                                                                   & NA                                                                                                                                                                   & NA                                                                                                                                                                   & no                                                                                                                                                                   & NA                                                                                                                                                                   & https://cran.r-project.org/src/contrib                                                                                                                              \\\\\n",
       "\tZOIP & ZOIP                                                                                                                                                                 & 0.1                                                                                                                                                                  & NA                                                                                                                                                                   & R (>= 3.2.0)                                                                                                                                                         & rmutil, boot, numDeriv, GHQp, stats                                                                                                                                  & NA                                                                                                                                                                   & knitr, rmarkdown                                                                                                                                                     & NA                                                                                                                                                                   & GPL (>= 2)                                                                                                                                                           & NA                                                                                                                                                                   & NA                                                                                                                                                                   & NA                                                                                                                                                                   & NA                                                                                                                                                                   & NA                                                                                                                                                                   & no                                                                                                                                                                   & NA                                                                                                                                                                   & https://cran.r-project.org/src/contrib                                                                                                                              \\\\\n",
       "\tzonator & zonator                                                                                                                                                              & 0.5.9                                                                                                                                                                & NA                                                                                                                                                                   & R (>= 2.15.2)                                                                                                                                                        & ggplot2 (>= 2.0.0), methods, RColorBrewer, raster, reshape2,\n",
       "rgdal                                                                                                  & NA                                                                                                                                                                   & knitr, rasterVis, rmarkdown, testthat, zdat (>= 0.1.0)                                                                                                               & NA                                                                                                                                                                   & FreeBSD                                                                                                                                                              & NA                                                                                                                                                                   & NA                                                                                                                                                                   & NA                                                                                                                                                                   & NA                                                                                                                                                                   & NA                                                                                                                                                                   & no                                                                                                                                                                   & NA                                                                                                                                                                   & https://cran.r-project.org/src/contrib                                                                                                                              \\\\\n",
       "\tzoo & zoo                                                                                                                                                                  & 1.8-2                                                                                                                                                                & NA                                                                                                                                                                   & R (>= 3.1.0), stats                                                                                                                                                  & utils, graphics, grDevices, lattice (>= 0.20-27)                                                                                                                     & NA                                                                                                                                                                   & coda, chron, DAAG, fts, ggplot2, mondate, scales,\n",
       "strucchange, timeDate, timeSeries, tis, tseries, xts                                                              & NA                                                                                                                                                                   & GPL-2 \\textbar{} GPL-3                                                                                                                                              & NA                                                                                                                                                                   & NA                                                                                                                                                                   & NA                                                                                                                                                                   & NA                                                                                                                                                                   & NA                                                                                                                                                                   & yes                                                                                                                                                                  & NA                                                                                                                                                                   & https://cran.r-project.org/src/contrib                                                                                                                              \\\\\n",
       "\tzooaRch & zooaRch                                                                                                                                                              & 1.2                                                                                                                                                                  & NA                                                                                                                                                                   & ggplot2                                                                                                                                                              & NA                                                                                                                                                                   & NA                                                                                                                                                                   & rmarkdown, knitr                                                                                                                                                     & NA                                                                                                                                                                   & GPL (>= 2)                                                                                                                                                           & NA                                                                                                                                                                   & NA                                                                                                                                                                   & NA                                                                                                                                                                   & NA                                                                                                                                                                   & NA                                                                                                                                                                   & no                                                                                                                                                                   & NA                                                                                                                                                                   & https://cran.r-project.org/src/contrib                                                                                                                              \\\\\n",
       "\tzooaRchGUI & zooaRchGUI                                                                                                                                                           & 1.0.2                                                                                                                                                                & NA                                                                                                                                                                   & NA                                                                                                                                                                   & car, coda, foreign, geomorph, ggplot2, graphics, grDevices,\n",
       "MASS, pgirmess, raster, readxl, rjags, sp, spdep, splancs,\n",
       "stats, tcltk, tcltk2, tkrplot, utils, vegan & NA                                                                                                                                                                   & rmarkdown, knitr                                                                                                                                                     & NA                                                                                                                                                                   & GPL (>= 2)                                                                                                                                                           & NA                                                                                                                                                                   & NA                                                                                                                                                                   & NA                                                                                                                                                                   & NA                                                                                                                                                                   & NA                                                                                                                                                                   & no                                                                                                                                                                   & NA                                                                                                                                                                   & https://cran.r-project.org/src/contrib                                                                                                                              \\\\\n",
       "\tzoocat & zoocat                                                                                                                                                               & 0.2.0                                                                                                                                                                & NA                                                                                                                                                                   & R(>= 3.1.1), zoo, reshape2                                                                                                                                           & graphics, utils, stats, plyr, scales, grDevices                                                                                                                      & NA                                                                                                                                                                   & ggplot2, knitr, rmarkdown                                                                                                                                            & NA                                                                                                                                                                   & GPL-3                                                                                                                                                                & NA                                                                                                                                                                   & NA                                                                                                                                                                   & NA                                                                                                                                                                   & NA                                                                                                                                                                   & NA                                                                                                                                                                   & no                                                                                                                                                                   & NA                                                                                                                                                                   & https://cran.r-project.org/src/contrib                                                                                                                              \\\\\n",
       "\tzooimage & zooimage                                                                                                                                                             & 5.5.2                                                                                                                                                                & NA                                                                                                                                                                   & R (>= 2.15.0), mlearning                                                                                                                                             & svMisc (>= 0.9-67), svDialogs (>= 0.9-53), filehash, jpeg,\n",
       "png, tiff, utils, digest, tools, MASS, mda, shiny, DT                                                    & NA                                                                                                                                                                   & rJava, mlbench                                                                                                                                                       & NA                                                                                                                                                                   & GPL (>= 2)                                                                                                                                                           & NA                                                                                                                                                                   & NA                                                                                                                                                                   & NA                                                                                                                                                                   & NA                                                                                                                                                                   & NA                                                                                                                                                                   & no                                                                                                                                                                   & NA                                                                                                                                                                   & https://cran.r-project.org/src/contrib                                                                                                                              \\\\\n",
       "\tzoom & zoom                                                                                                                                                                 & 2.0.4                                                                                                                                                                & NA                                                                                                                                                                   & R (>= 2.10.0)                                                                                                                                                        & NA                                                                                                                                                                   & NA                                                                                                                                                                   & testthat                                                                                                                                                             & NA                                                                                                                                                                   & GPL (>= 3)                                                                                                                                                           & NA                                                                                                                                                                   & NA                                                                                                                                                                   & NA                                                                                                                                                                   & NA                                                                                                                                                                   & NA                                                                                                                                                                   & no                                                                                                                                                                   & NA                                                                                                                                                                   & https://cran.r-project.org/src/contrib                                                                                                                              \\\\\n",
       "\tzoon & zoon                                                                                                                                                                 & 0.6.3                                                                                                                                                                & NA                                                                                                                                                                   & raster (>= 2.4-20), R (>= 3.2.0)                                                                                                                                     & dismo, methods, plyr, randomForest, RCurl, rfigshare, rgdal,\n",
       "roxygen2, rworldmap, SDMTools, sp, testthat                                                            & NA                                                                                                                                                                   & knitr, maxlike                                                                                                                                                       & NA                                                                                                                                                                   & BSD\\_3\\_clause + file LICENSE                                                                                                                                      & NA                                                                                                                                                                   & NA                                                                                                                                                                   & NA                                                                                                                                                                   & NA                                                                                                                                                                   & NA                                                                                                                                                                   & no                                                                                                                                                                   & NA                                                                                                                                                                   & https://cran.r-project.org/src/contrib                                                                                                                              \\\\\n",
       "\tZRA & ZRA                                                                                                                                                                  & 0.2                                                                                                                                                                  & NA                                                                                                                                                                   & R (>= 3.0.2), forecast, dygraphs, stats                                                                                                                              & NA                                                                                                                                                                   & NA                                                                                                                                                                   & NA                                                                                                                                                                   & NA                                                                                                                                                                   & GPL (>= 2)                                                                                                                                                           & NA                                                                                                                                                                   & NA                                                                                                                                                                   & NA                                                                                                                                                                   & NA                                                                                                                                                                   & NA                                                                                                                                                                   & no                                                                                                                                                                   & NA                                                                                                                                                                   & https://cran.r-project.org/src/contrib                                                                                                                              \\\\\n",
       "\tzscorer & zscorer                                                                                                                                                              & 0.1.0                                                                                                                                                                & NA                                                                                                                                                                   & R (>= 2.10)                                                                                                                                                          & NA                                                                                                                                                                   & NA                                                                                                                                                                   & testthat, knitr, rmarkdown, shiny, shinythemes                                                                                                                       & NA                                                                                                                                                                   & AGPL-3                                                                                                                                                               & NA                                                                                                                                                                   & NA                                                                                                                                                                   & NA                                                                                                                                                                   & NA                                                                                                                                                                   & NA                                                                                                                                                                   & no                                                                                                                                                                   & NA                                                                                                                                                                   & https://cran.r-project.org/src/contrib                                                                                                                              \\\\\n",
       "\tZseq & Zseq                                                                                                                                                                 & 0.2.0                                                                                                                                                                & NA                                                                                                                                                                   & NA                                                                                                                                                                   & gmp                                                                                                                                                                  & NA                                                                                                                                                                   & NA                                                                                                                                                                   & NA                                                                                                                                                                   & GPL (>= 3)                                                                                                                                                           & NA                                                                                                                                                                   & NA                                                                                                                                                                   & NA                                                                                                                                                                   & NA                                                                                                                                                                   & NA                                                                                                                                                                   & no                                                                                                                                                                   & NA                                                                                                                                                                   & https://cran.r-project.org/src/contrib                                                                                                                              \\\\\n",
       "\tzstdr & zstdr                                                                                                                                                                & 0.1.1                                                                                                                                                                & NA                                                                                                                                                                   & NA                                                                                                                                                                   & Rcpp (>= 0.12.0)                                                                                                                                                     & Rcpp                                                                                                                                                                 & testthat                                                                                                                                                             & NA                                                                                                                                                                   & GPL (>= 2)                                                                                                                                                           & NA                                                                                                                                                                   & NA                                                                                                                                                                   & unix                                                                                                                                                                 & NA                                                                                                                                                                   & NA                                                                                                                                                                   & yes                                                                                                                                                                  & NA                                                                                                                                                                   & https://cran.r-project.org/src/contrib                                                                                                                              \\\\\n",
       "\tztable & ztable                                                                                                                                                               & 0.1.8                                                                                                                                                                & NA                                                                                                                                                                   & R (>= 3.1.2)                                                                                                                                                         & NA                                                                                                                                                                   & NA                                                                                                                                                                   & MASS, survival, testthat, knitr, moonBook, magrittr                                                                                                                  & NA                                                                                                                                                                   & GPL-2                                                                                                                                                                & NA                                                                                                                                                                   & NA                                                                                                                                                                   & NA                                                                                                                                                                   & NA                                                                                                                                                                   & NA                                                                                                                                                                   & no                                                                                                                                                                   & NA                                                                                                                                                                   & https://cran.r-project.org/src/contrib                                                                                                                              \\\\\n",
       "\tzTree & zTree                                                                                                                                                                & 1.0.4                                                                                                                                                                & NA                                                                                                                                                                   & R (>= 3.1.0),plyr (>= 1.0)                                                                                                                                           & NA                                                                                                                                                                   & NA                                                                                                                                                                   & NA                                                                                                                                                                   & NA                                                                                                                                                                   & GPL-3 \\textbar{} file LICENSE                                                                                                                                       & NA                                                                                                                                                                   & NA                                                                                                                                                                   & NA                                                                                                                                                                   & NA                                                                                                                                                                   & NA                                                                                                                                                                   & no                                                                                                                                                                   & NA                                                                                                                                                                   & https://cran.r-project.org/src/contrib                                                                                                                              \\\\\n",
       "\tztype & ztype                                                                                                                                                                & 0.1.0                                                                                                                                                                & NA                                                                                                                                                                   & NA                                                                                                                                                                   & magrittr, rvest, stats, stringr, utils, dplyr, ggplot2,\n",
       "lubridate, assertthat                                                                                       & NA                                                                                                                                                                   & NA                                                                                                                                                                   & NA                                                                                                                                                                   & GPL-3                                                                                                                                                                & NA                                                                                                                                                                   & NA                                                                                                                                                                   & NA                                                                                                                                                                   & NA                                                                                                                                                                   & NA                                                                                                                                                                   & no                                                                                                                                                                   & NA                                                                                                                                                                   & https://cran.r-project.org/src/contrib                                                                                                                              \\\\\n",
       "\tzyp & zyp                                                                                                                                                                  & 0.10-1                                                                                                                                                               & NA                                                                                                                                                                   & R (>= 2.4.0), Kendall                                                                                                                                                & NA                                                                                                                                                                   & NA                                                                                                                                                                   & NA                                                                                                                                                                   & NA                                                                                                                                                                   & LGPL-2.1                                                                                                                                                             & NA                                                                                                                                                                   & NA                                                                                                                                                                   & NA                                                                                                                                                                   & NA                                                                                                                                                                   & NA                                                                                                                                                                   & no                                                                                                                                                                   & NA                                                                                                                                                                   & https://cran.r-project.org/src/contrib                                                                                                                              \\\\\n",
       "\\end{tabular}\n"
      ],
      "text/markdown": [
       "\n",
       "| <!--/--> | Package | Version | Priority | Depends | Imports | LinkingTo | Suggests | Enhances | License | License_is_FOSS | License_restricts_use | OS_type | Archs | MD5sum | NeedsCompilation | File | Repository | \n",
       "|---|---|---|---|---|---|---|---|---|---|---|---|---|---|---|---|---|---|---|---|---|---|---|---|---|---|---|---|---|---|---|---|---|---|---|---|---|---|---|---|---|---|---|---|---|---|---|---|---|---|---|---|---|---|---|---|---|---|---|---|---|\n",
       "| A3 | A3                                                                                                                 | 1.0.0                                                                                                              | NA                                                                                                                 | R (>= 2.15.0), xtable, pbapply                                                                                     | NA                                                                                                                 | NA                                                                                                                 | randomForest, e1071                                                                                                | NA                                                                                                                 | GPL (>= 2)                                                                                                         | NA                                                                                                                 | NA                                                                                                                 | NA                                                                                                                 | NA                                                                                                                 | NA                                                                                                                 | no                                                                                                                 | NA                                                                                                                 | https://cran.r-project.org/src/contrib                                                                             | \n",
       "| abbyyR | abbyyR                                                                                                             | 0.5.4                                                                                                              | NA                                                                                                                 | R (>= 3.2.0)                                                                                                       | httr, XML, curl, readr, plyr, progress                                                                             | NA                                                                                                                 | testthat, rmarkdown, knitr (>= 1.11), lintr                                                                        | NA                                                                                                                 | MIT + file LICENSE                                                                                                 | NA                                                                                                                 | NA                                                                                                                 | NA                                                                                                                 | NA                                                                                                                 | NA                                                                                                                 | no                                                                                                                 | NA                                                                                                                 | https://cran.r-project.org/src/contrib                                                                             | \n",
       "| abc | abc                                                                                                                | 2.1                                                                                                                | NA                                                                                                                 | R (>= 2.10), abc.data, nnet, quantreg, MASS, locfit                                                                | NA                                                                                                                 | NA                                                                                                                 | NA                                                                                                                 | NA                                                                                                                 | GPL (>= 3)                                                                                                         | NA                                                                                                                 | NA                                                                                                                 | NA                                                                                                                 | NA                                                                                                                 | NA                                                                                                                 | no                                                                                                                 | NA                                                                                                                 | https://cran.r-project.org/src/contrib                                                                             | \n",
       "| abc.data | abc.data                                                                                                           | 1.0                                                                                                                | NA                                                                                                                 | R (>= 2.10)                                                                                                        | NA                                                                                                                 | NA                                                                                                                 | NA                                                                                                                 | NA                                                                                                                 | GPL (>= 3)                                                                                                         | NA                                                                                                                 | NA                                                                                                                 | NA                                                                                                                 | NA                                                                                                                 | NA                                                                                                                 | no                                                                                                                 | NA                                                                                                                 | https://cran.r-project.org/src/contrib                                                                             | \n",
       "| ABC.RAP | ABC.RAP                                                                                                            | 0.9.0                                                                                                              | NA                                                                                                                 | R (>= 3.1.0)                                                                                                       | graphics, stats, utils                                                                                             | NA                                                                                                                 | knitr, rmarkdown                                                                                                   | NA                                                                                                                 | GPL-3                                                                                                              | NA                                                                                                                 | NA                                                                                                                 | NA                                                                                                                 | NA                                                                                                                 | NA                                                                                                                 | no                                                                                                                 | NA                                                                                                                 | https://cran.r-project.org/src/contrib                                                                             | \n",
       "| ABCanalysis | ABCanalysis                                                                                                        | 1.2.1                                                                                                              | NA                                                                                                                 | R (>= 2.10)                                                                                                        | plotrix                                                                                                            | NA                                                                                                                 | NA                                                                                                                 | NA                                                                                                                 | GPL-3                                                                                                              | NA                                                                                                                 | NA                                                                                                                 | NA                                                                                                                 | NA                                                                                                                 | NA                                                                                                                 | no                                                                                                                 | NA                                                                                                                 | https://cran.r-project.org/src/contrib                                                                             | \n",
       "| abcdeFBA | abcdeFBA                                                                                                           | 0.4                                                                                                                | NA                                                                                                                 | Rglpk,rgl,corrplot,lattice,R (>= 2.10)                                                                             | NA                                                                                                                 | NA                                                                                                                 | LIM,sybil                                                                                                          | NA                                                                                                                 | GPL-2                                                                                                              | NA                                                                                                                 | NA                                                                                                                 | NA                                                                                                                 | NA                                                                                                                 | NA                                                                                                                 | no                                                                                                                 | NA                                                                                                                 | https://cran.r-project.org/src/contrib                                                                             | \n",
       "| ABCoptim | ABCoptim                                                                                                           | 0.15.0                                                                                                             | NA                                                                                                                 | NA                                                                                                                 | Rcpp, graphics, stats, utils                                                                                       | Rcpp                                                                                                               | testthat, covr                                                                                                     | NA                                                                                                                 | MIT + file LICENSE                                                                                                 | NA                                                                                                                 | NA                                                                                                                 | NA                                                                                                                 | NA                                                                                                                 | NA                                                                                                                 | yes                                                                                                                | NA                                                                                                                 | https://cran.r-project.org/src/contrib                                                                             | \n",
       "| ABCp2 | ABCp2                                                                                                              | 1.2                                                                                                                | NA                                                                                                                 | MASS                                                                                                               | NA                                                                                                                 | NA                                                                                                                 | NA                                                                                                                 | NA                                                                                                                 | GPL-2                                                                                                              | NA                                                                                                                 | NA                                                                                                                 | NA                                                                                                                 | NA                                                                                                                 | NA                                                                                                                 | no                                                                                                                 | NA                                                                                                                 | https://cran.r-project.org/src/contrib                                                                             | \n",
       "| abcrf | abcrf                                                                                                              | 1.7.1                                                                                                              | NA                                                                                                                 | R(>= 3.1)                                                                                                          | readr, MASS, matrixStats, ranger, parallel, stringr, Rcpp (>=\n",
       "0.11.2)                                             | Rcpp, RcppArmadillo                                                                                                | NA                                                                                                                 | NA                                                                                                                 | GPL (>= 2)                                                                                                         | NA                                                                                                                 | NA                                                                                                                 | NA                                                                                                                 | NA                                                                                                                 | NA                                                                                                                 | yes                                                                                                                | NA                                                                                                                 | https://cran.r-project.org/src/contrib                                                                             | \n",
       "| abctools | abctools                                                                                                           | 1.1.1                                                                                                              | NA                                                                                                                 | R (>= 2.10), abc, abind, parallel, plyr, Hmisc                                                                     | NA                                                                                                                 | NA                                                                                                                 | ggplot2, abc.data                                                                                                  | NA                                                                                                                 | GPL (>= 2)                                                                                                         | NA                                                                                                                 | NA                                                                                                                 | NA                                                                                                                 | NA                                                                                                                 | NA                                                                                                                 | yes                                                                                                                | NA                                                                                                                 | https://cran.r-project.org/src/contrib                                                                             | \n",
       "| abd | abd                                                                                                                | 0.2-8                                                                                                              | NA                                                                                                                 | R (>= 3.0), nlme, lattice, grid, mosaic                                                                            | NA                                                                                                                 | NA                                                                                                                 | boot, car, ggplot2, plyr, HH, ICC, vcd, Hmisc                                                                      | NA                                                                                                                 | GPL-2                                                                                                              | NA                                                                                                                 | NA                                                                                                                 | NA                                                                                                                 | NA                                                                                                                 | NA                                                                                                                 | no                                                                                                                 | NA                                                                                                                 | https://cran.r-project.org/src/contrib                                                                             | \n",
       "| abe | abe                                                                                                                | 3.0.1                                                                                                              | NA                                                                                                                 | NA                                                                                                                 | NA                                                                                                                 | NA                                                                                                                 | NA                                                                                                                 | NA                                                                                                                 | GPL (>= 2)                                                                                                         | NA                                                                                                                 | NA                                                                                                                 | NA                                                                                                                 | NA                                                                                                                 | NA                                                                                                                 | no                                                                                                                 | NA                                                                                                                 | https://cran.r-project.org/src/contrib                                                                             | \n",
       "| abf2 | abf2                                                                                                               | 0.7-1                                                                                                              | NA                                                                                                                 | NA                                                                                                                 | NA                                                                                                                 | NA                                                                                                                 | NA                                                                                                                 | NA                                                                                                                 | Artistic-2.0                                                                                                       | NA                                                                                                                 | NA                                                                                                                 | NA                                                                                                                 | NA                                                                                                                 | NA                                                                                                                 | no                                                                                                                 | NA                                                                                                                 | https://cran.r-project.org/src/contrib                                                                             | \n",
       "| ABHgenotypeR | ABHgenotypeR                                                                                                       | 1.0.1                                                                                                              | NA                                                                                                                 | NA                                                                                                                 | ggplot2, reshape2, utils                                                                                           | NA                                                                                                                 | knitr, rmarkdown                                                                                                   | NA                                                                                                                 | GPL-3                                                                                                              | NA                                                                                                                 | NA                                                                                                                 | NA                                                                                                                 | NA                                                                                                                 | NA                                                                                                                 | no                                                                                                                 | NA                                                                                                                 | https://cran.r-project.org/src/contrib                                                                             | \n",
       "| abind | abind                                                                                                              | 1.4-5                                                                                                              | NA                                                                                                                 | R (>= 1.5.0)                                                                                                       | methods, utils                                                                                                     | NA                                                                                                                 | NA                                                                                                                 | NA                                                                                                                 | LGPL (>= 2)                                                                                                        | NA                                                                                                                 | NA                                                                                                                 | NA                                                                                                                 | NA                                                                                                                 | NA                                                                                                                 | no                                                                                                                 | NA                                                                                                                 | https://cran.r-project.org/src/contrib                                                                             | \n",
       "| abjutils | abjutils                                                                                                           | 0.2.1                                                                                                              | NA                                                                                                                 | R (>= 3.1)                                                                                                         | stringr, dplyr, httr, tibble, devtools, magrittr, plyr, purrr,\n",
       "rstudioapi, scales, stringi, glue, tidyr, progress | NA                                                                                                                 | testthat                                                                                                           | NA                                                                                                                 | MIT + file LICENSE                                                                                                 | NA                                                                                                                 | NA                                                                                                                 | NA                                                                                                                 | NA                                                                                                                 | NA                                                                                                                 | no                                                                                                                 | NA                                                                                                                 | https://cran.r-project.org/src/contrib                                                                             | \n",
       "| abn | abn                                                                                                                | 1.0.2                                                                                                              | NA                                                                                                                 | Cairo, R (>= 2.15.1)                                                                                               | methods                                                                                                            | NA                                                                                                                 | INLA, Rgraphviz                                                                                                    | NA                                                                                                                 | GPL (>= 2)                                                                                                         | NA                                                                                                                 | NA                                                                                                                 | NA                                                                                                                 | NA                                                                                                                 | NA                                                                                                                 | yes                                                                                                                | NA                                                                                                                 | https://cran.r-project.org/src/contrib                                                                             | \n",
       "| abnormality | abnormality                                                                                                        | 0.1.0                                                                                                              | NA                                                                                                                 | NA                                                                                                                 | MASS (>= 7.3.0), Matrix                                                                                            | NA                                                                                                                 | NA                                                                                                                 | NA                                                                                                                 | MIT + file LICENSE                                                                                                 | NA                                                                                                                 | NA                                                                                                                 | NA                                                                                                                 | NA                                                                                                                 | NA                                                                                                                 | no                                                                                                                 | NA                                                                                                                 | https://cran.r-project.org/src/contrib                                                                             | \n",
       "| abodOutlier | abodOutlier                                                                                                        | 0.1                                                                                                                | NA                                                                                                                 | cluster, R (>= 3.1.2)                                                                                              | NA                                                                                                                 | NA                                                                                                                 | NA                                                                                                                 | NA                                                                                                                 | MIT + file LICENSE                                                                                                 | NA                                                                                                                 | NA                                                                                                                 | NA                                                                                                                 | NA                                                                                                                 | NA                                                                                                                 | no                                                                                                                 | NA                                                                                                                 | https://cran.r-project.org/src/contrib                                                                             | \n",
       "| ABPS | ABPS                                                                                                               | 0.2                                                                                                                | NA                                                                                                                 | NA                                                                                                                 | kernlab                                                                                                            | NA                                                                                                                 | testthat                                                                                                           | NA                                                                                                                 | GPL (>= 2)                                                                                                         | NA                                                                                                                 | NA                                                                                                                 | NA                                                                                                                 | NA                                                                                                                 | NA                                                                                                                 | no                                                                                                                 | NA                                                                                                                 | https://cran.r-project.org/src/contrib                                                                             | \n",
       "| AbsFilterGSEA | AbsFilterGSEA                                                                                                      | 1.5.1                                                                                                              | NA                                                                                                                 | NA                                                                                                                 | Rcpp, Biobase, stats, DESeq, limma                                                                                 | Rcpp, RcppArmadillo                                                                                                | NA                                                                                                                 | NA                                                                                                                 | GPL-2                                                                                                              | NA                                                                                                                 | NA                                                                                                                 | NA                                                                                                                 | NA                                                                                                                 | NA                                                                                                                 | yes                                                                                                                | NA                                                                                                                 | https://cran.r-project.org/src/contrib                                                                             | \n",
       "| AbSim | AbSim                                                                                                              | 0.2.4                                                                                                              | NA                                                                                                                 | R(>= 3.1.0), ape, poweRlaw                                                                                         | NA                                                                                                                 | NA                                                                                                                 | knitr, rmarkdown                                                                                                   | NA                                                                                                                 | GPL-2                                                                                                              | NA                                                                                                                 | NA                                                                                                                 | NA                                                                                                                 | NA                                                                                                                 | NA                                                                                                                 | no                                                                                                                 | NA                                                                                                                 | https://cran.r-project.org/src/contrib                                                                             | \n",
       "| abundant | abundant                                                                                                           | 1.1                                                                                                                | NA                                                                                                                 | R (>= 2.10), QUIC                                                                                                  | NA                                                                                                                 | NA                                                                                                                 | NA                                                                                                                 | NA                                                                                                                 | GPL-2                                                                                                              | NA                                                                                                                 | NA                                                                                                                 | NA                                                                                                                 | NA                                                                                                                 | NA                                                                                                                 | yes                                                                                                                | NA                                                                                                                 | https://cran.r-project.org/src/contrib                                                                             | \n",
       "| Ac3net | Ac3net                                                                                                             | 1.2.2                                                                                                              | NA                                                                                                                 | R (>= 3.3.0), data.table                                                                                           | NA                                                                                                                 | NA                                                                                                                 | NA                                                                                                                 | NA                                                                                                                 | GPL (>= 3)                                                                                                         | NA                                                                                                                 | NA                                                                                                                 | NA                                                                                                                 | NA                                                                                                                 | NA                                                                                                                 | no                                                                                                                 | NA                                                                                                                 | https://cran.r-project.org/src/contrib                                                                             | \n",
       "| ACA | ACA                                                                                                                | 1.1                                                                                                                | NA                                                                                                                 | R (>= 3.2.2)                                                                                                       | graphics, grDevices, stats, utils                                                                                  | NA                                                                                                                 | NA                                                                                                                 | NA                                                                                                                 | GPL                                                                                                                | NA                                                                                                                 | NA                                                                                                                 | NA                                                                                                                 | NA                                                                                                                 | NA                                                                                                                 | no                                                                                                                 | NA                                                                                                                 | https://cran.r-project.org/src/contrib                                                                             | \n",
       "| acc | acc                                                                                                                | 1.3.3                                                                                                              | NA                                                                                                                 | R (>= 2.10), mhsmm                                                                                                 | zoo, PhysicalActivity, nleqslv, plyr, methods, DBI, RSQLite,\n",
       "circlize, ggplot2, R.utils, iterators, Rcpp          | Rcpp, RcppArmadillo                                                                                                | NA                                                                                                                 | NA                                                                                                                 | GPL (>= 2)                                                                                                         | NA                                                                                                                 | NA                                                                                                                 | NA                                                                                                                 | NA                                                                                                                 | NA                                                                                                                 | yes                                                                                                                | NA                                                                                                                 | https://cran.r-project.org/src/contrib                                                                             | \n",
       "| accelerometry | accelerometry                                                                                                      | 2.2.5                                                                                                              | NA                                                                                                                 | R (>= 3.0.0)                                                                                                       | Rcpp (>= 0.11.0)                                                                                                   | Rcpp                                                                                                               | NA                                                                                                                 | NA                                                                                                                 | GPL-2                                                                                                              | NA                                                                                                                 | NA                                                                                                                 | NA                                                                                                                 | NA                                                                                                                 | NA                                                                                                                 | yes                                                                                                                | NA                                                                                                                 | https://cran.r-project.org/src/contrib                                                                             | \n",
       "| accelmissing | accelmissing                                                                                                       | 1.4                                                                                                                | NA                                                                                                                 | R (>= 2.10), mice, pscl                                                                                            | NA                                                                                                                 | NA                                                                                                                 | NA                                                                                                                 | NA                                                                                                                 | GPL (>= 2)                                                                                                         | NA                                                                                                                 | NA                                                                                                                 | NA                                                                                                                 | NA                                                                                                                 | NA                                                                                                                 | no                                                                                                                 | NA                                                                                                                 | https://cran.r-project.org/src/contrib                                                                             | \n",
       "| AcceptanceSampling | AcceptanceSampling                                                                                                 | 1.0-5                                                                                                              | NA                                                                                                                 | methods, R(>= 2.4.0), stats                                                                                        | graphics, utils                                                                                                    | NA                                                                                                                 | NA                                                                                                                 | NA                                                                                                                 | GPL (>= 3)                                                                                                         | NA                                                                                                                 | NA                                                                                                                 | NA                                                                                                                 | NA                                                                                                                 | NA                                                                                                                 | no                                                                                                                 | NA                                                                                                                 | https://cran.r-project.org/src/contrib                                                                             | \n",
       "| ⋮ | ⋮ | ⋮ | ⋮ | ⋮ | ⋮ | ⋮ | ⋮ | ⋮ | ⋮ | ⋮ | ⋮ | ⋮ | ⋮ | ⋮ | ⋮ | ⋮ | ⋮ | \n",
       "| zFactor | zFactor                                                                                                                                                              | 0.1.7                                                                                                                                                                | NA                                                                                                                                                                   | R (>= 2.10)                                                                                                                                                          | rootSolve, tidyr, ggplot2, data.table, tibble, dplyr                                                                                                                 | NA                                                                                                                                                                   | knitr, rmarkdown, testthat, knitcitations, covr                                                                                                                      | NA                                                                                                                                                                   | GPL-2                                                                                                                                                                | NA                                                                                                                                                                   | NA                                                                                                                                                                   | NA                                                                                                                                                                   | NA                                                                                                                                                                   | NA                                                                                                                                                                   | no                                                                                                                                                                   | NA                                                                                                                                                                   | https://cran.r-project.org/src/contrib                                                                                                                               | \n",
       "| ZIBBSeqDiscovery | ZIBBSeqDiscovery                                                                                                                                                     | 1.0                                                                                                                                                                  | NA                                                                                                                                                                   | NA                                                                                                                                                                   | mcc                                                                                                                                                                  | NA                                                                                                                                                                   | knitr, rmarkdown                                                                                                                                                     | NA                                                                                                                                                                   | GPL-2                                                                                                                                                                | NA                                                                                                                                                                   | NA                                                                                                                                                                   | NA                                                                                                                                                                   | NA                                                                                                                                                                   | NA                                                                                                                                                                   | no                                                                                                                                                                   | NA                                                                                                                                                                   | https://cran.r-project.org/src/contrib                                                                                                                               | \n",
       "| ZIBseq | ZIBseq                                                                                                                                                               | 1.2                                                                                                                                                                  | NA                                                                                                                                                                   | R (>= 3.3.1), gamlss, nlme                                                                                                                                           | stats, gamlss.dist                                                                                                                                                   | NA                                                                                                                                                                   | NA                                                                                                                                                                   | NA                                                                                                                                                                   | GPL (>= 2)                                                                                                                                                           | NA                                                                                                                                                                   | NA                                                                                                                                                                   | NA                                                                                                                                                                   | NA                                                                                                                                                                   | NA                                                                                                                                                                   | no                                                                                                                                                                   | NA                                                                                                                                                                   | https://cran.r-project.org/src/contrib                                                                                                                               | \n",
       "| zic | zic                                                                                                                                                                  | 0.9.1                                                                                                                                                                | NA                                                                                                                                                                   | R (>= 3.0.2)                                                                                                                                                         | Rcpp (>= 0.11.0), coda (>= 0.14-2)                                                                                                                                   | Rcpp, RcppArmadillo                                                                                                                                                  | NA                                                                                                                                                                   | NA                                                                                                                                                                   | GPL (>= 2)                                                                                                                                                           | NA                                                                                                                                                                   | NA                                                                                                                                                                   | NA                                                                                                                                                                   | NA                                                                                                                                                                   | NA                                                                                                                                                                   | yes                                                                                                                                                                  | NA                                                                                                                                                                   | https://cran.r-project.org/src/contrib                                                                                                                               | \n",
       "| ZillowR | ZillowR                                                                                                                                                              | 0.1.0                                                                                                                                                                | NA                                                                                                                                                                   | NA                                                                                                                                                                   | methods, utils, RCurl, XML                                                                                                                                           | NA                                                                                                                                                                   | testthat                                                                                                                                                             | NA                                                                                                                                                                   | GPL-3                                                                                                                                                                | NA                                                                                                                                                                   | NA                                                                                                                                                                   | NA                                                                                                                                                                   | NA                                                                                                                                                                   | NA                                                                                                                                                                   | no                                                                                                                                                                   | NA                                                                                                                                                                   | https://cran.r-project.org/src/contrib                                                                                                                               | \n",
       "| ZIM | ZIM                                                                                                                                                                  | 1.0.3                                                                                                                                                                | NA                                                                                                                                                                   | MASS                                                                                                                                                                 | NA                                                                                                                                                                   | NA                                                                                                                                                                   | NA                                                                                                                                                                   | NA                                                                                                                                                                   | GPL-3                                                                                                                                                                | NA                                                                                                                                                                   | NA                                                                                                                                                                   | NA                                                                                                                                                                   | NA                                                                                                                                                                   | NA                                                                                                                                                                   | no                                                                                                                                                                   | NA                                                                                                                                                                   | https://cran.r-project.org/src/contrib                                                                                                                               | \n",
       "| zip | zip                                                                                                                                                                  | 1.0.0                                                                                                                                                                | NA                                                                                                                                                                   | NA                                                                                                                                                                   | NA                                                                                                                                                                   | NA                                                                                                                                                                   | covr, testthat, withr                                                                                                                                                | NA                                                                                                                                                                   | CC0                                                                                                                                                                  | NA                                                                                                                                                                   | NA                                                                                                                                                                   | NA                                                                                                                                                                   | NA                                                                                                                                                                   | NA                                                                                                                                                                   | yes                                                                                                                                                                  | NA                                                                                                                                                                   | https://cran.r-project.org/src/contrib                                                                                                                               | \n",
       "| zipcode | zipcode                                                                                                                                                              | 1.0                                                                                                                                                                  | NA                                                                                                                                                                   | R (>= 2.10)                                                                                                                                                          | NA                                                                                                                                                                   | NA                                                                                                                                                                   | NA                                                                                                                                                                   | NA                                                                                                                                                                   | CC BY-SA 2.0 + file LICENSE                                                                                                                                          | NA                                                                                                                                                                   | NA                                                                                                                                                                   | NA                                                                                                                                                                   | NA                                                                                                                                                                   | NA                                                                                                                                                                   | no                                                                                                                                                                   | NA                                                                                                                                                                   | https://cran.r-project.org/src/contrib                                                                                                                               | \n",
       "| zipfextR | zipfextR                                                                                                                                                             | 1.0.0                                                                                                                                                                | NA                                                                                                                                                                   | R (>= 2.0.1)                                                                                                                                                         | VGAM (>= 0.9.8), tolerance(>= 1.2.0)                                                                                                                                 | NA                                                                                                                                                                   | testthat                                                                                                                                                             | NA                                                                                                                                                                   | GPL-3                                                                                                                                                                | NA                                                                                                                                                                   | NA                                                                                                                                                                   | NA                                                                                                                                                                   | NA                                                                                                                                                                   | NA                                                                                                                                                                   | no                                                                                                                                                                   | NA                                                                                                                                                                   | https://cran.r-project.org/src/contrib                                                                                                                               | \n",
       "| zipfR | zipfR                                                                                                                                                                | 0.6-10                                                                                                                                                               | NA                                                                                                                                                                   | R (>= 3.0.0)                                                                                                                                                         | methods, utils, stats, graphics, grDevices                                                                                                                           | NA                                                                                                                                                                   | NA                                                                                                                                                                   | NA                                                                                                                                                                   | GPL-3                                                                                                                                                                | NA                                                                                                                                                                   | NA                                                                                                                                                                   | NA                                                                                                                                                                   | NA                                                                                                                                                                   | NA                                                                                                                                                                   | no                                                                                                                                                                   | NA                                                                                                                                                                   | https://cran.r-project.org/src/contrib                                                                                                                               | \n",
       "| ziphsmm | ziphsmm                                                                                                                                                              | 2.0.6                                                                                                                                                                | NA                                                                                                                                                                   | R(>= 3.0.0)                                                                                                                                                          | Rcpp, pracma                                                                                                                                                         | Rcpp, RcppArmadillo                                                                                                                                                  | NA                                                                                                                                                                   | NA                                                                                                                                                                   | GPL                                                                                                                                                                  | NA                                                                                                                                                                   | NA                                                                                                                                                                   | NA                                                                                                                                                                   | NA                                                                                                                                                                   | NA                                                                                                                                                                   | yes                                                                                                                                                                  | NA                                                                                                                                                                   | https://cran.r-project.org/src/contrib                                                                                                                               | \n",
       "| zoeppritz | zoeppritz                                                                                                                                                            | 1.0-7                                                                                                                                                                | NA                                                                                                                                                                   | NA                                                                                                                                                                   | NA                                                                                                                                                                   | NA                                                                                                                                                                   | NA                                                                                                                                                                   | NA                                                                                                                                                                   | GPL (>= 2)                                                                                                                                                           | NA                                                                                                                                                                   | NA                                                                                                                                                                   | NA                                                                                                                                                                   | NA                                                                                                                                                                   | NA                                                                                                                                                                   | no                                                                                                                                                                   | NA                                                                                                                                                                   | https://cran.r-project.org/src/contrib                                                                                                                               | \n",
       "| zoib | zoib                                                                                                                                                                 | 1.5.1                                                                                                                                                                | NA                                                                                                                                                                   | R (>= 3.3.0), rjags, coda, matrixcalc, Formula, abind                                                                                                                | NA                                                                                                                                                                   | NA                                                                                                                                                                   | NA                                                                                                                                                                   | NA                                                                                                                                                                   | GPL (>= 3)                                                                                                                                                           | NA                                                                                                                                                                   | NA                                                                                                                                                                   | NA                                                                                                                                                                   | NA                                                                                                                                                                   | NA                                                                                                                                                                   | no                                                                                                                                                                   | NA                                                                                                                                                                   | https://cran.r-project.org/src/contrib                                                                                                                               | \n",
       "| ZOIP | ZOIP                                                                                                                                                                 | 0.1                                                                                                                                                                  | NA                                                                                                                                                                   | R (>= 3.2.0)                                                                                                                                                         | rmutil, boot, numDeriv, GHQp, stats                                                                                                                                  | NA                                                                                                                                                                   | knitr, rmarkdown                                                                                                                                                     | NA                                                                                                                                                                   | GPL (>= 2)                                                                                                                                                           | NA                                                                                                                                                                   | NA                                                                                                                                                                   | NA                                                                                                                                                                   | NA                                                                                                                                                                   | NA                                                                                                                                                                   | no                                                                                                                                                                   | NA                                                                                                                                                                   | https://cran.r-project.org/src/contrib                                                                                                                               | \n",
       "| zonator | zonator                                                                                                                                                              | 0.5.9                                                                                                                                                                | NA                                                                                                                                                                   | R (>= 2.15.2)                                                                                                                                                        | ggplot2 (>= 2.0.0), methods, RColorBrewer, raster, reshape2,\n",
       "rgdal                                                                                                  | NA                                                                                                                                                                   | knitr, rasterVis, rmarkdown, testthat, zdat (>= 0.1.0)                                                                                                               | NA                                                                                                                                                                   | FreeBSD                                                                                                                                                              | NA                                                                                                                                                                   | NA                                                                                                                                                                   | NA                                                                                                                                                                   | NA                                                                                                                                                                   | NA                                                                                                                                                                   | no                                                                                                                                                                   | NA                                                                                                                                                                   | https://cran.r-project.org/src/contrib                                                                                                                               | \n",
       "| zoo | zoo                                                                                                                                                                  | 1.8-2                                                                                                                                                                | NA                                                                                                                                                                   | R (>= 3.1.0), stats                                                                                                                                                  | utils, graphics, grDevices, lattice (>= 0.20-27)                                                                                                                     | NA                                                                                                                                                                   | coda, chron, DAAG, fts, ggplot2, mondate, scales,\n",
       "strucchange, timeDate, timeSeries, tis, tseries, xts                                                              | NA                                                                                                                                                                   | GPL-2 | GPL-3                                                                                                                                                        | NA                                                                                                                                                                   | NA                                                                                                                                                                   | NA                                                                                                                                                                   | NA                                                                                                                                                                   | NA                                                                                                                                                                   | yes                                                                                                                                                                  | NA                                                                                                                                                                   | https://cran.r-project.org/src/contrib                                                                                                                               | \n",
       "| zooaRch | zooaRch                                                                                                                                                              | 1.2                                                                                                                                                                  | NA                                                                                                                                                                   | ggplot2                                                                                                                                                              | NA                                                                                                                                                                   | NA                                                                                                                                                                   | rmarkdown, knitr                                                                                                                                                     | NA                                                                                                                                                                   | GPL (>= 2)                                                                                                                                                           | NA                                                                                                                                                                   | NA                                                                                                                                                                   | NA                                                                                                                                                                   | NA                                                                                                                                                                   | NA                                                                                                                                                                   | no                                                                                                                                                                   | NA                                                                                                                                                                   | https://cran.r-project.org/src/contrib                                                                                                                               | \n",
       "| zooaRchGUI | zooaRchGUI                                                                                                                                                           | 1.0.2                                                                                                                                                                | NA                                                                                                                                                                   | NA                                                                                                                                                                   | car, coda, foreign, geomorph, ggplot2, graphics, grDevices,\n",
       "MASS, pgirmess, raster, readxl, rjags, sp, spdep, splancs,\n",
       "stats, tcltk, tcltk2, tkrplot, utils, vegan | NA                                                                                                                                                                   | rmarkdown, knitr                                                                                                                                                     | NA                                                                                                                                                                   | GPL (>= 2)                                                                                                                                                           | NA                                                                                                                                                                   | NA                                                                                                                                                                   | NA                                                                                                                                                                   | NA                                                                                                                                                                   | NA                                                                                                                                                                   | no                                                                                                                                                                   | NA                                                                                                                                                                   | https://cran.r-project.org/src/contrib                                                                                                                               | \n",
       "| zoocat | zoocat                                                                                                                                                               | 0.2.0                                                                                                                                                                | NA                                                                                                                                                                   | R(>= 3.1.1), zoo, reshape2                                                                                                                                           | graphics, utils, stats, plyr, scales, grDevices                                                                                                                      | NA                                                                                                                                                                   | ggplot2, knitr, rmarkdown                                                                                                                                            | NA                                                                                                                                                                   | GPL-3                                                                                                                                                                | NA                                                                                                                                                                   | NA                                                                                                                                                                   | NA                                                                                                                                                                   | NA                                                                                                                                                                   | NA                                                                                                                                                                   | no                                                                                                                                                                   | NA                                                                                                                                                                   | https://cran.r-project.org/src/contrib                                                                                                                               | \n",
       "| zooimage | zooimage                                                                                                                                                             | 5.5.2                                                                                                                                                                | NA                                                                                                                                                                   | R (>= 2.15.0), mlearning                                                                                                                                             | svMisc (>= 0.9-67), svDialogs (>= 0.9-53), filehash, jpeg,\n",
       "png, tiff, utils, digest, tools, MASS, mda, shiny, DT                                                    | NA                                                                                                                                                                   | rJava, mlbench                                                                                                                                                       | NA                                                                                                                                                                   | GPL (>= 2)                                                                                                                                                           | NA                                                                                                                                                                   | NA                                                                                                                                                                   | NA                                                                                                                                                                   | NA                                                                                                                                                                   | NA                                                                                                                                                                   | no                                                                                                                                                                   | NA                                                                                                                                                                   | https://cran.r-project.org/src/contrib                                                                                                                               | \n",
       "| zoom | zoom                                                                                                                                                                 | 2.0.4                                                                                                                                                                | NA                                                                                                                                                                   | R (>= 2.10.0)                                                                                                                                                        | NA                                                                                                                                                                   | NA                                                                                                                                                                   | testthat                                                                                                                                                             | NA                                                                                                                                                                   | GPL (>= 3)                                                                                                                                                           | NA                                                                                                                                                                   | NA                                                                                                                                                                   | NA                                                                                                                                                                   | NA                                                                                                                                                                   | NA                                                                                                                                                                   | no                                                                                                                                                                   | NA                                                                                                                                                                   | https://cran.r-project.org/src/contrib                                                                                                                               | \n",
       "| zoon | zoon                                                                                                                                                                 | 0.6.3                                                                                                                                                                | NA                                                                                                                                                                   | raster (>= 2.4-20), R (>= 3.2.0)                                                                                                                                     | dismo, methods, plyr, randomForest, RCurl, rfigshare, rgdal,\n",
       "roxygen2, rworldmap, SDMTools, sp, testthat                                                            | NA                                                                                                                                                                   | knitr, maxlike                                                                                                                                                       | NA                                                                                                                                                                   | BSD_3_clause + file LICENSE                                                                                                                                          | NA                                                                                                                                                                   | NA                                                                                                                                                                   | NA                                                                                                                                                                   | NA                                                                                                                                                                   | NA                                                                                                                                                                   | no                                                                                                                                                                   | NA                                                                                                                                                                   | https://cran.r-project.org/src/contrib                                                                                                                               | \n",
       "| ZRA | ZRA                                                                                                                                                                  | 0.2                                                                                                                                                                  | NA                                                                                                                                                                   | R (>= 3.0.2), forecast, dygraphs, stats                                                                                                                              | NA                                                                                                                                                                   | NA                                                                                                                                                                   | NA                                                                                                                                                                   | NA                                                                                                                                                                   | GPL (>= 2)                                                                                                                                                           | NA                                                                                                                                                                   | NA                                                                                                                                                                   | NA                                                                                                                                                                   | NA                                                                                                                                                                   | NA                                                                                                                                                                   | no                                                                                                                                                                   | NA                                                                                                                                                                   | https://cran.r-project.org/src/contrib                                                                                                                               | \n",
       "| zscorer | zscorer                                                                                                                                                              | 0.1.0                                                                                                                                                                | NA                                                                                                                                                                   | R (>= 2.10)                                                                                                                                                          | NA                                                                                                                                                                   | NA                                                                                                                                                                   | testthat, knitr, rmarkdown, shiny, shinythemes                                                                                                                       | NA                                                                                                                                                                   | AGPL-3                                                                                                                                                               | NA                                                                                                                                                                   | NA                                                                                                                                                                   | NA                                                                                                                                                                   | NA                                                                                                                                                                   | NA                                                                                                                                                                   | no                                                                                                                                                                   | NA                                                                                                                                                                   | https://cran.r-project.org/src/contrib                                                                                                                               | \n",
       "| Zseq | Zseq                                                                                                                                                                 | 0.2.0                                                                                                                                                                | NA                                                                                                                                                                   | NA                                                                                                                                                                   | gmp                                                                                                                                                                  | NA                                                                                                                                                                   | NA                                                                                                                                                                   | NA                                                                                                                                                                   | GPL (>= 3)                                                                                                                                                           | NA                                                                                                                                                                   | NA                                                                                                                                                                   | NA                                                                                                                                                                   | NA                                                                                                                                                                   | NA                                                                                                                                                                   | no                                                                                                                                                                   | NA                                                                                                                                                                   | https://cran.r-project.org/src/contrib                                                                                                                               | \n",
       "| zstdr | zstdr                                                                                                                                                                | 0.1.1                                                                                                                                                                | NA                                                                                                                                                                   | NA                                                                                                                                                                   | Rcpp (>= 0.12.0)                                                                                                                                                     | Rcpp                                                                                                                                                                 | testthat                                                                                                                                                             | NA                                                                                                                                                                   | GPL (>= 2)                                                                                                                                                           | NA                                                                                                                                                                   | NA                                                                                                                                                                   | unix                                                                                                                                                                 | NA                                                                                                                                                                   | NA                                                                                                                                                                   | yes                                                                                                                                                                  | NA                                                                                                                                                                   | https://cran.r-project.org/src/contrib                                                                                                                               | \n",
       "| ztable | ztable                                                                                                                                                               | 0.1.8                                                                                                                                                                | NA                                                                                                                                                                   | R (>= 3.1.2)                                                                                                                                                         | NA                                                                                                                                                                   | NA                                                                                                                                                                   | MASS, survival, testthat, knitr, moonBook, magrittr                                                                                                                  | NA                                                                                                                                                                   | GPL-2                                                                                                                                                                | NA                                                                                                                                                                   | NA                                                                                                                                                                   | NA                                                                                                                                                                   | NA                                                                                                                                                                   | NA                                                                                                                                                                   | no                                                                                                                                                                   | NA                                                                                                                                                                   | https://cran.r-project.org/src/contrib                                                                                                                               | \n",
       "| zTree | zTree                                                                                                                                                                | 1.0.4                                                                                                                                                                | NA                                                                                                                                                                   | R (>= 3.1.0),plyr (>= 1.0)                                                                                                                                           | NA                                                                                                                                                                   | NA                                                                                                                                                                   | NA                                                                                                                                                                   | NA                                                                                                                                                                   | GPL-3 | file LICENSE                                                                                                                                                 | NA                                                                                                                                                                   | NA                                                                                                                                                                   | NA                                                                                                                                                                   | NA                                                                                                                                                                   | NA                                                                                                                                                                   | no                                                                                                                                                                   | NA                                                                                                                                                                   | https://cran.r-project.org/src/contrib                                                                                                                               | \n",
       "| ztype | ztype                                                                                                                                                                | 0.1.0                                                                                                                                                                | NA                                                                                                                                                                   | NA                                                                                                                                                                   | magrittr, rvest, stats, stringr, utils, dplyr, ggplot2,\n",
       "lubridate, assertthat                                                                                       | NA                                                                                                                                                                   | NA                                                                                                                                                                   | NA                                                                                                                                                                   | GPL-3                                                                                                                                                                | NA                                                                                                                                                                   | NA                                                                                                                                                                   | NA                                                                                                                                                                   | NA                                                                                                                                                                   | NA                                                                                                                                                                   | no                                                                                                                                                                   | NA                                                                                                                                                                   | https://cran.r-project.org/src/contrib                                                                                                                               | \n",
       "| zyp | zyp                                                                                                                                                                  | 0.10-1                                                                                                                                                               | NA                                                                                                                                                                   | R (>= 2.4.0), Kendall                                                                                                                                                | NA                                                                                                                                                                   | NA                                                                                                                                                                   | NA                                                                                                                                                                   | NA                                                                                                                                                                   | LGPL-2.1                                                                                                                                                             | NA                                                                                                                                                                   | NA                                                                                                                                                                   | NA                                                                                                                                                                   | NA                                                                                                                                                                   | NA                                                                                                                                                                   | no                                                                                                                                                                   | NA                                                                                                                                                                   | https://cran.r-project.org/src/contrib                                                                                                                               | \n",
       "\n",
       "\n"
      ],
      "text/plain": [
       "                   Package            Version Priority\n",
       "A3                 A3                 1.0.0   NA      \n",
       "abbyyR             abbyyR             0.5.4   NA      \n",
       "abc                abc                2.1     NA      \n",
       "abc.data           abc.data           1.0     NA      \n",
       "ABC.RAP            ABC.RAP            0.9.0   NA      \n",
       "ABCanalysis        ABCanalysis        1.2.1   NA      \n",
       "abcdeFBA           abcdeFBA           0.4     NA      \n",
       "ABCoptim           ABCoptim           0.15.0  NA      \n",
       "ABCp2              ABCp2              1.2     NA      \n",
       "abcrf              abcrf              1.7.1   NA      \n",
       "abctools           abctools           1.1.1   NA      \n",
       "abd                abd                0.2-8   NA      \n",
       "abe                abe                3.0.1   NA      \n",
       "abf2               abf2               0.7-1   NA      \n",
       "ABHgenotypeR       ABHgenotypeR       1.0.1   NA      \n",
       "abind              abind              1.4-5   NA      \n",
       "abjutils           abjutils           0.2.1   NA      \n",
       "abn                abn                1.0.2   NA      \n",
       "abnormality        abnormality        0.1.0   NA      \n",
       "abodOutlier        abodOutlier        0.1     NA      \n",
       "ABPS               ABPS               0.2     NA      \n",
       "AbsFilterGSEA      AbsFilterGSEA      1.5.1   NA      \n",
       "AbSim              AbSim              0.2.4   NA      \n",
       "abundant           abundant           1.1     NA      \n",
       "Ac3net             Ac3net             1.2.2   NA      \n",
       "ACA                ACA                1.1     NA      \n",
       "acc                acc                1.3.3   NA      \n",
       "accelerometry      accelerometry      2.2.5   NA      \n",
       "accelmissing       accelmissing       1.4     NA      \n",
       "AcceptanceSampling AcceptanceSampling 1.0-5   NA      \n",
       "⋮                  ⋮                  ⋮       ⋮       \n",
       "zFactor            zFactor            0.1.7   NA      \n",
       "ZIBBSeqDiscovery   ZIBBSeqDiscovery   1.0     NA      \n",
       "ZIBseq             ZIBseq             1.2     NA      \n",
       "zic                zic                0.9.1   NA      \n",
       "ZillowR            ZillowR            0.1.0   NA      \n",
       "ZIM                ZIM                1.0.3   NA      \n",
       "zip                zip                1.0.0   NA      \n",
       "zipcode            zipcode            1.0     NA      \n",
       "zipfextR           zipfextR           1.0.0   NA      \n",
       "zipfR              zipfR              0.6-10  NA      \n",
       "ziphsmm            ziphsmm            2.0.6   NA      \n",
       "zoeppritz          zoeppritz          1.0-7   NA      \n",
       "zoib               zoib               1.5.1   NA      \n",
       "ZOIP               ZOIP               0.1     NA      \n",
       "zonator            zonator            0.5.9   NA      \n",
       "zoo                zoo                1.8-2   NA      \n",
       "zooaRch            zooaRch            1.2     NA      \n",
       "zooaRchGUI         zooaRchGUI         1.0.2   NA      \n",
       "zoocat             zoocat             0.2.0   NA      \n",
       "zooimage           zooimage           5.5.2   NA      \n",
       "zoom               zoom               2.0.4   NA      \n",
       "zoon               zoon               0.6.3   NA      \n",
       "ZRA                ZRA                0.2     NA      \n",
       "zscorer            zscorer            0.1.0   NA      \n",
       "Zseq               Zseq               0.2.0   NA      \n",
       "zstdr              zstdr              0.1.1   NA      \n",
       "ztable             ztable             0.1.8   NA      \n",
       "zTree              zTree              1.0.4   NA      \n",
       "ztype              ztype              0.1.0   NA      \n",
       "zyp                zyp                0.10-1  NA      \n",
       "                   Depends                                              \n",
       "A3                 R (>= 2.15.0), xtable, pbapply                       \n",
       "abbyyR             R (>= 3.2.0)                                         \n",
       "abc                R (>= 2.10), abc.data, nnet, quantreg, MASS, locfit  \n",
       "abc.data           R (>= 2.10)                                          \n",
       "ABC.RAP            R (>= 3.1.0)                                         \n",
       "ABCanalysis        R (>= 2.10)                                          \n",
       "abcdeFBA           Rglpk,rgl,corrplot,lattice,R (>= 2.10)               \n",
       "ABCoptim           NA                                                   \n",
       "ABCp2              MASS                                                 \n",
       "abcrf              R(>= 3.1)                                            \n",
       "abctools           R (>= 2.10), abc, abind, parallel, plyr, Hmisc       \n",
       "abd                R (>= 3.0), nlme, lattice, grid, mosaic              \n",
       "abe                NA                                                   \n",
       "abf2               NA                                                   \n",
       "ABHgenotypeR       NA                                                   \n",
       "abind              R (>= 1.5.0)                                         \n",
       "abjutils           R (>= 3.1)                                           \n",
       "abn                Cairo, R (>= 2.15.1)                                 \n",
       "abnormality        NA                                                   \n",
       "abodOutlier        cluster, R (>= 3.1.2)                                \n",
       "ABPS               NA                                                   \n",
       "AbsFilterGSEA      NA                                                   \n",
       "AbSim              R(>= 3.1.0), ape, poweRlaw                           \n",
       "abundant           R (>= 2.10), QUIC                                    \n",
       "Ac3net             R (>= 3.3.0), data.table                             \n",
       "ACA                R (>= 3.2.2)                                         \n",
       "acc                R (>= 2.10), mhsmm                                   \n",
       "accelerometry      R (>= 3.0.0)                                         \n",
       "accelmissing       R (>= 2.10), mice, pscl                              \n",
       "AcceptanceSampling methods, R(>= 2.4.0), stats                          \n",
       "⋮                  ⋮                                                    \n",
       "zFactor            R (>= 2.10)                                          \n",
       "ZIBBSeqDiscovery   NA                                                   \n",
       "ZIBseq             R (>= 3.3.1), gamlss, nlme                           \n",
       "zic                R (>= 3.0.2)                                         \n",
       "ZillowR            NA                                                   \n",
       "ZIM                MASS                                                 \n",
       "zip                NA                                                   \n",
       "zipcode            R (>= 2.10)                                          \n",
       "zipfextR           R (>= 2.0.1)                                         \n",
       "zipfR              R (>= 3.0.0)                                         \n",
       "ziphsmm            R(>= 3.0.0)                                          \n",
       "zoeppritz          NA                                                   \n",
       "zoib               R (>= 3.3.0), rjags, coda, matrixcalc, Formula, abind\n",
       "ZOIP               R (>= 3.2.0)                                         \n",
       "zonator            R (>= 2.15.2)                                        \n",
       "zoo                R (>= 3.1.0), stats                                  \n",
       "zooaRch            ggplot2                                              \n",
       "zooaRchGUI         NA                                                   \n",
       "zoocat             R(>= 3.1.1), zoo, reshape2                           \n",
       "zooimage           R (>= 2.15.0), mlearning                             \n",
       "zoom               R (>= 2.10.0)                                        \n",
       "zoon               raster (>= 2.4-20), R (>= 3.2.0)                     \n",
       "ZRA                R (>= 3.0.2), forecast, dygraphs, stats              \n",
       "zscorer            R (>= 2.10)                                          \n",
       "Zseq               NA                                                   \n",
       "zstdr              NA                                                   \n",
       "ztable             R (>= 3.1.2)                                         \n",
       "zTree              R (>= 3.1.0),plyr (>= 1.0)                           \n",
       "ztype              NA                                                   \n",
       "zyp                R (>= 2.4.0), Kendall                                \n",
       "                   Imports                                                                                                                                                             \n",
       "A3                 NA                                                                                                                                                                  \n",
       "abbyyR             httr, XML, curl, readr, plyr, progress                                                                                                                              \n",
       "abc                NA                                                                                                                                                                  \n",
       "abc.data           NA                                                                                                                                                                  \n",
       "ABC.RAP            graphics, stats, utils                                                                                                                                              \n",
       "ABCanalysis        plotrix                                                                                                                                                             \n",
       "abcdeFBA           NA                                                                                                                                                                  \n",
       "ABCoptim           Rcpp, graphics, stats, utils                                                                                                                                        \n",
       "ABCp2              NA                                                                                                                                                                  \n",
       "abcrf              readr, MASS, matrixStats, ranger, parallel, stringr, Rcpp (>=\\n0.11.2)                                                                                              \n",
       "abctools           NA                                                                                                                                                                  \n",
       "abd                NA                                                                                                                                                                  \n",
       "abe                NA                                                                                                                                                                  \n",
       "abf2               NA                                                                                                                                                                  \n",
       "ABHgenotypeR       ggplot2, reshape2, utils                                                                                                                                            \n",
       "abind              methods, utils                                                                                                                                                      \n",
       "abjutils           stringr, dplyr, httr, tibble, devtools, magrittr, plyr, purrr,\\nrstudioapi, scales, stringi, glue, tidyr, progress                                                  \n",
       "abn                methods                                                                                                                                                             \n",
       "abnormality        MASS (>= 7.3.0), Matrix                                                                                                                                             \n",
       "abodOutlier        NA                                                                                                                                                                  \n",
       "ABPS               kernlab                                                                                                                                                             \n",
       "AbsFilterGSEA      Rcpp, Biobase, stats, DESeq, limma                                                                                                                                  \n",
       "AbSim              NA                                                                                                                                                                  \n",
       "abundant           NA                                                                                                                                                                  \n",
       "Ac3net             NA                                                                                                                                                                  \n",
       "ACA                graphics, grDevices, stats, utils                                                                                                                                   \n",
       "acc                zoo, PhysicalActivity, nleqslv, plyr, methods, DBI, RSQLite,\\ncirclize, ggplot2, R.utils, iterators, Rcpp                                                           \n",
       "accelerometry      Rcpp (>= 0.11.0)                                                                                                                                                    \n",
       "accelmissing       NA                                                                                                                                                                  \n",
       "AcceptanceSampling graphics, utils                                                                                                                                                     \n",
       "⋮                  ⋮                                                                                                                                                                   \n",
       "zFactor            rootSolve, tidyr, ggplot2, data.table, tibble, dplyr                                                                                                                \n",
       "ZIBBSeqDiscovery   mcc                                                                                                                                                                 \n",
       "ZIBseq             stats, gamlss.dist                                                                                                                                                  \n",
       "zic                Rcpp (>= 0.11.0), coda (>= 0.14-2)                                                                                                                                  \n",
       "ZillowR            methods, utils, RCurl, XML                                                                                                                                          \n",
       "ZIM                NA                                                                                                                                                                  \n",
       "zip                NA                                                                                                                                                                  \n",
       "zipcode            NA                                                                                                                                                                  \n",
       "zipfextR           VGAM (>= 0.9.8), tolerance(>= 1.2.0)                                                                                                                                \n",
       "zipfR              methods, utils, stats, graphics, grDevices                                                                                                                          \n",
       "ziphsmm            Rcpp, pracma                                                                                                                                                        \n",
       "zoeppritz          NA                                                                                                                                                                  \n",
       "zoib               NA                                                                                                                                                                  \n",
       "ZOIP               rmutil, boot, numDeriv, GHQp, stats                                                                                                                                 \n",
       "zonator            ggplot2 (>= 2.0.0), methods, RColorBrewer, raster, reshape2,\\nrgdal                                                                                                 \n",
       "zoo                utils, graphics, grDevices, lattice (>= 0.20-27)                                                                                                                    \n",
       "zooaRch            NA                                                                                                                                                                  \n",
       "zooaRchGUI         car, coda, foreign, geomorph, ggplot2, graphics, grDevices,\\nMASS, pgirmess, raster, readxl, rjags, sp, spdep, splancs,\\nstats, tcltk, tcltk2, tkrplot, utils, vegan\n",
       "zoocat             graphics, utils, stats, plyr, scales, grDevices                                                                                                                     \n",
       "zooimage           svMisc (>= 0.9-67), svDialogs (>= 0.9-53), filehash, jpeg,\\npng, tiff, utils, digest, tools, MASS, mda, shiny, DT                                                   \n",
       "zoom               NA                                                                                                                                                                  \n",
       "zoon               dismo, methods, plyr, randomForest, RCurl, rfigshare, rgdal,\\nroxygen2, rworldmap, SDMTools, sp, testthat                                                           \n",
       "ZRA                NA                                                                                                                                                                  \n",
       "zscorer            NA                                                                                                                                                                  \n",
       "Zseq               gmp                                                                                                                                                                 \n",
       "zstdr              Rcpp (>= 0.12.0)                                                                                                                                                    \n",
       "ztable             NA                                                                                                                                                                  \n",
       "zTree              NA                                                                                                                                                                  \n",
       "ztype              magrittr, rvest, stats, stringr, utils, dplyr, ggplot2,\\nlubridate, assertthat                                                                                      \n",
       "zyp                NA                                                                                                                                                                  \n",
       "                   LinkingTo          \n",
       "A3                 NA                 \n",
       "abbyyR             NA                 \n",
       "abc                NA                 \n",
       "abc.data           NA                 \n",
       "ABC.RAP            NA                 \n",
       "ABCanalysis        NA                 \n",
       "abcdeFBA           NA                 \n",
       "ABCoptim           Rcpp               \n",
       "ABCp2              NA                 \n",
       "abcrf              Rcpp, RcppArmadillo\n",
       "abctools           NA                 \n",
       "abd                NA                 \n",
       "abe                NA                 \n",
       "abf2               NA                 \n",
       "ABHgenotypeR       NA                 \n",
       "abind              NA                 \n",
       "abjutils           NA                 \n",
       "abn                NA                 \n",
       "abnormality        NA                 \n",
       "abodOutlier        NA                 \n",
       "ABPS               NA                 \n",
       "AbsFilterGSEA      Rcpp, RcppArmadillo\n",
       "AbSim              NA                 \n",
       "abundant           NA                 \n",
       "Ac3net             NA                 \n",
       "ACA                NA                 \n",
       "acc                Rcpp, RcppArmadillo\n",
       "accelerometry      Rcpp               \n",
       "accelmissing       NA                 \n",
       "AcceptanceSampling NA                 \n",
       "⋮                  ⋮                  \n",
       "zFactor            NA                 \n",
       "ZIBBSeqDiscovery   NA                 \n",
       "ZIBseq             NA                 \n",
       "zic                Rcpp, RcppArmadillo\n",
       "ZillowR            NA                 \n",
       "ZIM                NA                 \n",
       "zip                NA                 \n",
       "zipcode            NA                 \n",
       "zipfextR           NA                 \n",
       "zipfR              NA                 \n",
       "ziphsmm            Rcpp, RcppArmadillo\n",
       "zoeppritz          NA                 \n",
       "zoib               NA                 \n",
       "ZOIP               NA                 \n",
       "zonator            NA                 \n",
       "zoo                NA                 \n",
       "zooaRch            NA                 \n",
       "zooaRchGUI         NA                 \n",
       "zoocat             NA                 \n",
       "zooimage           NA                 \n",
       "zoom               NA                 \n",
       "zoon               NA                 \n",
       "ZRA                NA                 \n",
       "zscorer            NA                 \n",
       "Zseq               NA                 \n",
       "zstdr              Rcpp               \n",
       "ztable             NA                 \n",
       "zTree              NA                 \n",
       "ztype              NA                 \n",
       "zyp                NA                 \n",
       "                   Suggests                                                                                               \n",
       "A3                 randomForest, e1071                                                                                    \n",
       "abbyyR             testthat, rmarkdown, knitr (>= 1.11), lintr                                                            \n",
       "abc                NA                                                                                                     \n",
       "abc.data           NA                                                                                                     \n",
       "ABC.RAP            knitr, rmarkdown                                                                                       \n",
       "ABCanalysis        NA                                                                                                     \n",
       "abcdeFBA           LIM,sybil                                                                                              \n",
       "ABCoptim           testthat, covr                                                                                         \n",
       "ABCp2              NA                                                                                                     \n",
       "abcrf              NA                                                                                                     \n",
       "abctools           ggplot2, abc.data                                                                                      \n",
       "abd                boot, car, ggplot2, plyr, HH, ICC, vcd, Hmisc                                                          \n",
       "abe                NA                                                                                                     \n",
       "abf2               NA                                                                                                     \n",
       "ABHgenotypeR       knitr, rmarkdown                                                                                       \n",
       "abind              NA                                                                                                     \n",
       "abjutils           testthat                                                                                               \n",
       "abn                INLA, Rgraphviz                                                                                        \n",
       "abnormality        NA                                                                                                     \n",
       "abodOutlier        NA                                                                                                     \n",
       "ABPS               testthat                                                                                               \n",
       "AbsFilterGSEA      NA                                                                                                     \n",
       "AbSim              knitr, rmarkdown                                                                                       \n",
       "abundant           NA                                                                                                     \n",
       "Ac3net             NA                                                                                                     \n",
       "ACA                NA                                                                                                     \n",
       "acc                NA                                                                                                     \n",
       "accelerometry      NA                                                                                                     \n",
       "accelmissing       NA                                                                                                     \n",
       "AcceptanceSampling NA                                                                                                     \n",
       "⋮                  ⋮                                                                                                      \n",
       "zFactor            knitr, rmarkdown, testthat, knitcitations, covr                                                        \n",
       "ZIBBSeqDiscovery   knitr, rmarkdown                                                                                       \n",
       "ZIBseq             NA                                                                                                     \n",
       "zic                NA                                                                                                     \n",
       "ZillowR            testthat                                                                                               \n",
       "ZIM                NA                                                                                                     \n",
       "zip                covr, testthat, withr                                                                                  \n",
       "zipcode            NA                                                                                                     \n",
       "zipfextR           testthat                                                                                               \n",
       "zipfR              NA                                                                                                     \n",
       "ziphsmm            NA                                                                                                     \n",
       "zoeppritz          NA                                                                                                     \n",
       "zoib               NA                                                                                                     \n",
       "ZOIP               knitr, rmarkdown                                                                                       \n",
       "zonator            knitr, rasterVis, rmarkdown, testthat, zdat (>= 0.1.0)                                                 \n",
       "zoo                coda, chron, DAAG, fts, ggplot2, mondate, scales,\\nstrucchange, timeDate, timeSeries, tis, tseries, xts\n",
       "zooaRch            rmarkdown, knitr                                                                                       \n",
       "zooaRchGUI         rmarkdown, knitr                                                                                       \n",
       "zoocat             ggplot2, knitr, rmarkdown                                                                              \n",
       "zooimage           rJava, mlbench                                                                                         \n",
       "zoom               testthat                                                                                               \n",
       "zoon               knitr, maxlike                                                                                         \n",
       "ZRA                NA                                                                                                     \n",
       "zscorer            testthat, knitr, rmarkdown, shiny, shinythemes                                                         \n",
       "Zseq               NA                                                                                                     \n",
       "zstdr              testthat                                                                                               \n",
       "ztable             MASS, survival, testthat, knitr, moonBook, magrittr                                                    \n",
       "zTree              NA                                                                                                     \n",
       "ztype              NA                                                                                                     \n",
       "zyp                NA                                                                                                     \n",
       "                   Enhances License                     License_is_FOSS\n",
       "A3                 NA       GPL (>= 2)                  NA             \n",
       "abbyyR             NA       MIT + file LICENSE          NA             \n",
       "abc                NA       GPL (>= 3)                  NA             \n",
       "abc.data           NA       GPL (>= 3)                  NA             \n",
       "ABC.RAP            NA       GPL-3                       NA             \n",
       "ABCanalysis        NA       GPL-3                       NA             \n",
       "abcdeFBA           NA       GPL-2                       NA             \n",
       "ABCoptim           NA       MIT + file LICENSE          NA             \n",
       "ABCp2              NA       GPL-2                       NA             \n",
       "abcrf              NA       GPL (>= 2)                  NA             \n",
       "abctools           NA       GPL (>= 2)                  NA             \n",
       "abd                NA       GPL-2                       NA             \n",
       "abe                NA       GPL (>= 2)                  NA             \n",
       "abf2               NA       Artistic-2.0                NA             \n",
       "ABHgenotypeR       NA       GPL-3                       NA             \n",
       "abind              NA       LGPL (>= 2)                 NA             \n",
       "abjutils           NA       MIT + file LICENSE          NA             \n",
       "abn                NA       GPL (>= 2)                  NA             \n",
       "abnormality        NA       MIT + file LICENSE          NA             \n",
       "abodOutlier        NA       MIT + file LICENSE          NA             \n",
       "ABPS               NA       GPL (>= 2)                  NA             \n",
       "AbsFilterGSEA      NA       GPL-2                       NA             \n",
       "AbSim              NA       GPL-2                       NA             \n",
       "abundant           NA       GPL-2                       NA             \n",
       "Ac3net             NA       GPL (>= 3)                  NA             \n",
       "ACA                NA       GPL                         NA             \n",
       "acc                NA       GPL (>= 2)                  NA             \n",
       "accelerometry      NA       GPL-2                       NA             \n",
       "accelmissing       NA       GPL (>= 2)                  NA             \n",
       "AcceptanceSampling NA       GPL (>= 3)                  NA             \n",
       "⋮                  ⋮        ⋮                           ⋮              \n",
       "zFactor            NA       GPL-2                       NA             \n",
       "ZIBBSeqDiscovery   NA       GPL-2                       NA             \n",
       "ZIBseq             NA       GPL (>= 2)                  NA             \n",
       "zic                NA       GPL (>= 2)                  NA             \n",
       "ZillowR            NA       GPL-3                       NA             \n",
       "ZIM                NA       GPL-3                       NA             \n",
       "zip                NA       CC0                         NA             \n",
       "zipcode            NA       CC BY-SA 2.0 + file LICENSE NA             \n",
       "zipfextR           NA       GPL-3                       NA             \n",
       "zipfR              NA       GPL-3                       NA             \n",
       "ziphsmm            NA       GPL                         NA             \n",
       "zoeppritz          NA       GPL (>= 2)                  NA             \n",
       "zoib               NA       GPL (>= 3)                  NA             \n",
       "ZOIP               NA       GPL (>= 2)                  NA             \n",
       "zonator            NA       FreeBSD                     NA             \n",
       "zoo                NA       GPL-2 | GPL-3               NA             \n",
       "zooaRch            NA       GPL (>= 2)                  NA             \n",
       "zooaRchGUI         NA       GPL (>= 2)                  NA             \n",
       "zoocat             NA       GPL-3                       NA             \n",
       "zooimage           NA       GPL (>= 2)                  NA             \n",
       "zoom               NA       GPL (>= 3)                  NA             \n",
       "zoon               NA       BSD_3_clause + file LICENSE NA             \n",
       "ZRA                NA       GPL (>= 2)                  NA             \n",
       "zscorer            NA       AGPL-3                      NA             \n",
       "Zseq               NA       GPL (>= 3)                  NA             \n",
       "zstdr              NA       GPL (>= 2)                  NA             \n",
       "ztable             NA       GPL-2                       NA             \n",
       "zTree              NA       GPL-3 | file LICENSE        NA             \n",
       "ztype              NA       GPL-3                       NA             \n",
       "zyp                NA       LGPL-2.1                    NA             \n",
       "                   License_restricts_use OS_type Archs MD5sum NeedsCompilation\n",
       "A3                 NA                    NA      NA    NA     no              \n",
       "abbyyR             NA                    NA      NA    NA     no              \n",
       "abc                NA                    NA      NA    NA     no              \n",
       "abc.data           NA                    NA      NA    NA     no              \n",
       "ABC.RAP            NA                    NA      NA    NA     no              \n",
       "ABCanalysis        NA                    NA      NA    NA     no              \n",
       "abcdeFBA           NA                    NA      NA    NA     no              \n",
       "ABCoptim           NA                    NA      NA    NA     yes             \n",
       "ABCp2              NA                    NA      NA    NA     no              \n",
       "abcrf              NA                    NA      NA    NA     yes             \n",
       "abctools           NA                    NA      NA    NA     yes             \n",
       "abd                NA                    NA      NA    NA     no              \n",
       "abe                NA                    NA      NA    NA     no              \n",
       "abf2               NA                    NA      NA    NA     no              \n",
       "ABHgenotypeR       NA                    NA      NA    NA     no              \n",
       "abind              NA                    NA      NA    NA     no              \n",
       "abjutils           NA                    NA      NA    NA     no              \n",
       "abn                NA                    NA      NA    NA     yes             \n",
       "abnormality        NA                    NA      NA    NA     no              \n",
       "abodOutlier        NA                    NA      NA    NA     no              \n",
       "ABPS               NA                    NA      NA    NA     no              \n",
       "AbsFilterGSEA      NA                    NA      NA    NA     yes             \n",
       "AbSim              NA                    NA      NA    NA     no              \n",
       "abundant           NA                    NA      NA    NA     yes             \n",
       "Ac3net             NA                    NA      NA    NA     no              \n",
       "ACA                NA                    NA      NA    NA     no              \n",
       "acc                NA                    NA      NA    NA     yes             \n",
       "accelerometry      NA                    NA      NA    NA     yes             \n",
       "accelmissing       NA                    NA      NA    NA     no              \n",
       "AcceptanceSampling NA                    NA      NA    NA     no              \n",
       "⋮                  ⋮                     ⋮       ⋮     ⋮      ⋮               \n",
       "zFactor            NA                    NA      NA    NA     no              \n",
       "ZIBBSeqDiscovery   NA                    NA      NA    NA     no              \n",
       "ZIBseq             NA                    NA      NA    NA     no              \n",
       "zic                NA                    NA      NA    NA     yes             \n",
       "ZillowR            NA                    NA      NA    NA     no              \n",
       "ZIM                NA                    NA      NA    NA     no              \n",
       "zip                NA                    NA      NA    NA     yes             \n",
       "zipcode            NA                    NA      NA    NA     no              \n",
       "zipfextR           NA                    NA      NA    NA     no              \n",
       "zipfR              NA                    NA      NA    NA     no              \n",
       "ziphsmm            NA                    NA      NA    NA     yes             \n",
       "zoeppritz          NA                    NA      NA    NA     no              \n",
       "zoib               NA                    NA      NA    NA     no              \n",
       "ZOIP               NA                    NA      NA    NA     no              \n",
       "zonator            NA                    NA      NA    NA     no              \n",
       "zoo                NA                    NA      NA    NA     yes             \n",
       "zooaRch            NA                    NA      NA    NA     no              \n",
       "zooaRchGUI         NA                    NA      NA    NA     no              \n",
       "zoocat             NA                    NA      NA    NA     no              \n",
       "zooimage           NA                    NA      NA    NA     no              \n",
       "zoom               NA                    NA      NA    NA     no              \n",
       "zoon               NA                    NA      NA    NA     no              \n",
       "ZRA                NA                    NA      NA    NA     no              \n",
       "zscorer            NA                    NA      NA    NA     no              \n",
       "Zseq               NA                    NA      NA    NA     no              \n",
       "zstdr              NA                    unix    NA    NA     yes             \n",
       "ztable             NA                    NA      NA    NA     no              \n",
       "zTree              NA                    NA      NA    NA     no              \n",
       "ztype              NA                    NA      NA    NA     no              \n",
       "zyp                NA                    NA      NA    NA     no              \n",
       "                   File Repository                            \n",
       "A3                 NA   https://cran.r-project.org/src/contrib\n",
       "abbyyR             NA   https://cran.r-project.org/src/contrib\n",
       "abc                NA   https://cran.r-project.org/src/contrib\n",
       "abc.data           NA   https://cran.r-project.org/src/contrib\n",
       "ABC.RAP            NA   https://cran.r-project.org/src/contrib\n",
       "ABCanalysis        NA   https://cran.r-project.org/src/contrib\n",
       "abcdeFBA           NA   https://cran.r-project.org/src/contrib\n",
       "ABCoptim           NA   https://cran.r-project.org/src/contrib\n",
       "ABCp2              NA   https://cran.r-project.org/src/contrib\n",
       "abcrf              NA   https://cran.r-project.org/src/contrib\n",
       "abctools           NA   https://cran.r-project.org/src/contrib\n",
       "abd                NA   https://cran.r-project.org/src/contrib\n",
       "abe                NA   https://cran.r-project.org/src/contrib\n",
       "abf2               NA   https://cran.r-project.org/src/contrib\n",
       "ABHgenotypeR       NA   https://cran.r-project.org/src/contrib\n",
       "abind              NA   https://cran.r-project.org/src/contrib\n",
       "abjutils           NA   https://cran.r-project.org/src/contrib\n",
       "abn                NA   https://cran.r-project.org/src/contrib\n",
       "abnormality        NA   https://cran.r-project.org/src/contrib\n",
       "abodOutlier        NA   https://cran.r-project.org/src/contrib\n",
       "ABPS               NA   https://cran.r-project.org/src/contrib\n",
       "AbsFilterGSEA      NA   https://cran.r-project.org/src/contrib\n",
       "AbSim              NA   https://cran.r-project.org/src/contrib\n",
       "abundant           NA   https://cran.r-project.org/src/contrib\n",
       "Ac3net             NA   https://cran.r-project.org/src/contrib\n",
       "ACA                NA   https://cran.r-project.org/src/contrib\n",
       "acc                NA   https://cran.r-project.org/src/contrib\n",
       "accelerometry      NA   https://cran.r-project.org/src/contrib\n",
       "accelmissing       NA   https://cran.r-project.org/src/contrib\n",
       "AcceptanceSampling NA   https://cran.r-project.org/src/contrib\n",
       "⋮                  ⋮    ⋮                                     \n",
       "zFactor            NA   https://cran.r-project.org/src/contrib\n",
       "ZIBBSeqDiscovery   NA   https://cran.r-project.org/src/contrib\n",
       "ZIBseq             NA   https://cran.r-project.org/src/contrib\n",
       "zic                NA   https://cran.r-project.org/src/contrib\n",
       "ZillowR            NA   https://cran.r-project.org/src/contrib\n",
       "ZIM                NA   https://cran.r-project.org/src/contrib\n",
       "zip                NA   https://cran.r-project.org/src/contrib\n",
       "zipcode            NA   https://cran.r-project.org/src/contrib\n",
       "zipfextR           NA   https://cran.r-project.org/src/contrib\n",
       "zipfR              NA   https://cran.r-project.org/src/contrib\n",
       "ziphsmm            NA   https://cran.r-project.org/src/contrib\n",
       "zoeppritz          NA   https://cran.r-project.org/src/contrib\n",
       "zoib               NA   https://cran.r-project.org/src/contrib\n",
       "ZOIP               NA   https://cran.r-project.org/src/contrib\n",
       "zonator            NA   https://cran.r-project.org/src/contrib\n",
       "zoo                NA   https://cran.r-project.org/src/contrib\n",
       "zooaRch            NA   https://cran.r-project.org/src/contrib\n",
       "zooaRchGUI         NA   https://cran.r-project.org/src/contrib\n",
       "zoocat             NA   https://cran.r-project.org/src/contrib\n",
       "zooimage           NA   https://cran.r-project.org/src/contrib\n",
       "zoom               NA   https://cran.r-project.org/src/contrib\n",
       "zoon               NA   https://cran.r-project.org/src/contrib\n",
       "ZRA                NA   https://cran.r-project.org/src/contrib\n",
       "zscorer            NA   https://cran.r-project.org/src/contrib\n",
       "Zseq               NA   https://cran.r-project.org/src/contrib\n",
       "zstdr              NA   https://cran.r-project.org/src/contrib\n",
       "ztable             NA   https://cran.r-project.org/src/contrib\n",
       "zTree              NA   https://cran.r-project.org/src/contrib\n",
       "ztype              NA   https://cran.r-project.org/src/contrib\n",
       "zyp                NA   https://cran.r-project.org/src/contrib"
      ]
     },
     "metadata": {},
     "output_type": "display_data"
    }
   ],
   "source": [
    "# CRAN 등재 패키지 확인\n",
    "available.packages()"
   ]
  },
  {
   "cell_type": "code",
   "execution_count": 25,
   "metadata": {},
   "outputs": [],
   "source": [
    "vignette()"
   ]
  },
  {
   "cell_type": "code",
   "execution_count": 4,
   "metadata": {},
   "outputs": [
    {
     "data": {
      "text/plain": [
       "R version 3.4.3 (2017-11-30)\n",
       "Platform: x86_64-apple-darwin13.4.0 (64-bit)\n",
       "Running under: macOS High Sierra 10.13.5\n",
       "\n",
       "Matrix products: default\n",
       "BLAS: /System/Library/Frameworks/Accelerate.framework/Versions/A/Frameworks/vecLib.framework/Versions/A/libBLAS.dylib\n",
       "LAPACK: /System/Library/Frameworks/Accelerate.framework/Versions/A/Frameworks/vecLib.framework/Versions/A/libLAPACK.dylib\n",
       "\n",
       "locale:\n",
       "[1] ko_KR.UTF-8/ko_KR.UTF-8/ko_KR.UTF-8/C/ko_KR.UTF-8/ko_KR.UTF-8\n",
       "\n",
       "attached base packages:\n",
       "[1] stats     graphics  grDevices utils     datasets  methods   base     \n",
       "\n",
       "loaded via a namespace (and not attached):\n",
       " [1] compiler_3.4.3  magrittr_1.5    IRdisplay_0.4.4 pbdZMQ_0.3-0   \n",
       " [5] tools_3.4.3     crayon_1.3.4    uuid_0.1-2      stringi_1.1.6  \n",
       " [9] IRkernel_0.8.11 jsonlite_1.5    stringr_1.2.0   digest_0.6.13  \n",
       "[13] repr_0.12.0     evaluate_0.10.1"
      ]
     },
     "metadata": {},
     "output_type": "display_data"
    }
   ],
   "source": [
    "# R.Version()\n",
    "sessionInfo()"
   ]
  },
  {
   "cell_type": "code",
   "execution_count": 31,
   "metadata": {},
   "outputs": [],
   "source": [
    "# 필요한 패키지 설치\n",
    "# install.packages('data.table', repos='http://cran.us.r-project.org')\n",
    "\n",
    "# 활용하기 위한 불러오기\n",
    "library(data.table)\n",
    "vignette(package='data.table')"
   ]
  },
  {
   "cell_type": "markdown",
   "metadata": {},
   "source": [
    "# 1. basic function"
   ]
  },
  {
   "cell_type": "code",
   "execution_count": 39,
   "metadata": {},
   "outputs": [
    {
     "data": {
      "text/html": [
       "'/Users/Gil/Documents/도큐멘트 - Gil의 MacBook Pro/R_work/R_edu'"
      ],
      "text/latex": [
       "'/Users/Gil/Documents/도큐멘트 - Gil의 MacBook Pro/R\\_work/R\\_edu'"
      ],
      "text/markdown": [
       "'/Users/Gil/Documents/도큐멘트 - Gil의 MacBook Pro/R_work/R_edu'"
      ],
      "text/plain": [
       "[1] \"/Users/Gil/Documents/도큐멘트 - Gil의 MacBook Pro/R_work/R_edu\""
      ]
     },
     "metadata": {},
     "output_type": "display_data"
    }
   ],
   "source": [
    "# the current working directory\n",
    "getwd()"
   ]
  },
  {
   "cell_type": "code",
   "execution_count": 36,
   "metadata": {},
   "outputs": [],
   "source": [
    "#  change my directory\n",
    "setwd('/Users/Gil/Documents/도큐멘트 - Gil의 MacBook Pro/R_work/R_edu')"
   ]
  },
  {
   "cell_type": "code",
   "execution_count": 40,
   "metadata": {},
   "outputs": [
    {
     "data": {
      "text/html": [],
      "text/latex": [],
      "text/markdown": [],
      "text/plain": [
       "character(0)"
      ]
     },
     "metadata": {},
     "output_type": "display_data"
    }
   ],
   "source": [
    "# list the objects in the current working workspace\n",
    "ls()"
   ]
  },
  {
   "cell_type": "code",
   "execution_count": 42,
   "metadata": {},
   "outputs": [
    {
     "name": "stdout",
     "output_type": "stream",
     "text": [
      "\n",
      "plot> require(stats) # for lowess, rpois, rnorm\n",
      "\n",
      "plot> plot(cars)\n",
      "\n",
      "plot> lines(lowess(cars))\n",
      "\n",
      "plot> plot(sin, -pi, 2*pi) # see ?plot.function\n"
     ]
    },
    {
     "data": {
      "image/png": "[encoded data removed]",
      "text/plain": [
       "plot without title"
      ]
     },
     "metadata": {},
     "output_type": "display_data"
    },
    {
     "name": "stdout",
     "output_type": "stream",
     "text": [
      "\n",
      "plot> ## Discrete Distribution Plot:\n",
      "plot> plot(table(rpois(100, 5)), type = \"h\", col = \"red\", lwd = 10,\n",
      "plot+      main = \"rpois(100, lambda = 5)\")\n"
     ]
    },
    {
     "data": {
      "image/png": "[encoded data removed]",
      "text/plain": [
       "plot without title"
      ]
     },
     "metadata": {},
     "output_type": "display_data"
    },
    {
     "name": "stdout",
     "output_type": "stream",
     "text": [
      "\n",
      "plot> ## Simple quantiles/ECDF, see ecdf() {library(stats)} for a better one:\n",
      "plot> plot(x <- sort(rnorm(47)), type = \"s\", main = \"plot(x, type = \\\"s\\\")\")\n"
     ]
    },
    {
     "data": {
      "image/png": "[encoded data removed]",
      "text/plain": [
       "Plot with title “rpois(100, lambda = 5)”"
      ]
     },
     "metadata": {},
     "output_type": "display_data"
    },
    {
     "name": "stdout",
     "output_type": "stream",
     "text": [
      "\n",
      "plot> points(x, cex = .5, col = \"dark red\")\n"
     ]
    },
    {
     "data": {
      "image/png": "[encoded data removed]",
      "text/plain": [
       "Plot with title “plot(x, type = \"s\")”"
      ]
     },
     "metadata": {},
     "output_type": "display_data"
    }
   ],
   "source": [
    "# show an example of function\n",
    "example(plot)"
   ]
  },
  {
   "cell_type": "code",
   "execution_count": 43,
   "metadata": {},
   "outputs": [],
   "source": [
    "help(plot)"
   ]
  },
  {
   "cell_type": "code",
   "execution_count": 46,
   "metadata": {},
   "outputs": [],
   "source": [
    "data()"
   ]
  },
  {
   "cell_type": "code",
   "execution_count": 53,
   "metadata": {},
   "outputs": [
    {
     "data": {
      "text/html": [
       "<table>\n",
       "<thead><tr><th scope=col>date</th><th scope=col>pce</th><th scope=col>pop</th><th scope=col>psavert</th><th scope=col>uempmed</th><th scope=col>unemploy</th></tr></thead>\n",
       "<tbody>\n",
       "\t<tr><td>1967-07-01</td><td>507.4     </td><td>198712    </td><td>12.5      </td><td>4.5       </td><td>2944      </td></tr>\n",
       "\t<tr><td>1967-08-01</td><td>510.5     </td><td>198911    </td><td>12.5      </td><td>4.7       </td><td>2945      </td></tr>\n",
       "\t<tr><td>1967-09-01</td><td>516.3     </td><td>199113    </td><td>11.7      </td><td>4.6       </td><td>2958      </td></tr>\n",
       "\t<tr><td>1967-10-01</td><td>512.9     </td><td>199311    </td><td>12.5      </td><td>4.9       </td><td>3143      </td></tr>\n",
       "</tbody>\n",
       "</table>\n"
      ],
      "text/latex": [
       "\\begin{tabular}{r|llllll}\n",
       " date & pce & pop & psavert & uempmed & unemploy\\\\\n",
       "\\hline\n",
       "\t 1967-07-01 & 507.4      & 198712     & 12.5       & 4.5        & 2944      \\\\\n",
       "\t 1967-08-01 & 510.5      & 198911     & 12.5       & 4.7        & 2945      \\\\\n",
       "\t 1967-09-01 & 516.3      & 199113     & 11.7       & 4.6        & 2958      \\\\\n",
       "\t 1967-10-01 & 512.9      & 199311     & 12.5       & 4.9        & 3143      \\\\\n",
       "\\end{tabular}\n"
      ],
      "text/markdown": [
       "\n",
       "date | pce | pop | psavert | uempmed | unemploy | \n",
       "|---|---|---|---|\n",
       "| 1967-07-01 | 507.4      | 198712     | 12.5       | 4.5        | 2944       | \n",
       "| 1967-08-01 | 510.5      | 198911     | 12.5       | 4.7        | 2945       | \n",
       "| 1967-09-01 | 516.3      | 199113     | 11.7       | 4.6        | 2958       | \n",
       "| 1967-10-01 | 512.9      | 199311     | 12.5       | 4.9        | 3143       | \n",
       "\n",
       "\n"
      ],
      "text/plain": [
       "  date       pce   pop    psavert uempmed unemploy\n",
       "1 1967-07-01 507.4 198712 12.5    4.5     2944    \n",
       "2 1967-08-01 510.5 198911 12.5    4.7     2945    \n",
       "3 1967-09-01 516.3 199113 11.7    4.6     2958    \n",
       "4 1967-10-01 512.9 199311 12.5    4.9     3143    "
      ]
     },
     "metadata": {},
     "output_type": "display_data"
    }
   ],
   "source": [
    "library(ggplot2)\n",
    "data(economics)\n",
    "head(economics, 4)"
   ]
  },
  {
   "cell_type": "markdown",
   "metadata": {},
   "source": [
    "# 2. 기초\n",
    "\n",
    "* 계산 연산자 및 함수\n",
    "\n",
    "|  Operator | Description | Operator | Description |\n",
    "|-----------|-------------|----------|-------------|\n",
    "|   +       |     덧셈     |     sum     |     합        |\n",
    "|   -       |      뺄셈    |     max     |    최대값         |\n",
    "|   *       |      곱셈    |     min     |     최소값        |\n",
    "|   /       |      나눗셈   |     mean     |    평균         |\n",
    "|   %/%     |      몫      |     var     |     분산        |\n",
    "|   %%      |   나머지      |     sd     |      표준편차       |\n",
    "|  ^ or **  |   거듭제곱    |      median    |    중앙값        |\n",
    "|   sqrt    |    제곱근     |      range    |    범위         |\n",
    "\n"
   ]
  },
  {
   "cell_type": "markdown",
   "metadata": {},
   "source": [
    "* 논리 연산자\n",
    "\n",
    "|  Operator | Description | Operator | Description |\n",
    "|---        |---          |---       |---          |\n",
    "|   <       |     작음     |     !=   |  같지 않음   |\n",
    "|   <=      |  작거나 같음   |     !x   |    NOT x  |\n",
    "|   >       |      큼      |    \\|  |  x OR y     |\n",
    "|   >=      |  크거나 같음   |   x&y    |   x AND y |\n",
    "\n",
    "\n"
   ]
  },
  {
   "cell_type": "code",
   "execution_count": 55,
   "metadata": {},
   "outputs": [
    {
     "data": {
      "text/html": [
       "3"
      ],
      "text/latex": [
       "3"
      ],
      "text/markdown": [
       "3"
      ],
      "text/plain": [
       "[1] 3"
      ]
     },
     "metadata": {},
     "output_type": "display_data"
    }
   ],
   "source": [
    "1+2"
   ]
  },
  {
   "cell_type": "code",
   "execution_count": 56,
   "metadata": {},
   "outputs": [
    {
     "data": {
      "text/html": [
       "-4"
      ],
      "text/latex": [
       "-4"
      ],
      "text/markdown": [
       "-4"
      ],
      "text/plain": [
       "[1] -4"
      ]
     },
     "metadata": {},
     "output_type": "display_data"
    }
   ],
   "source": [
    "3-7"
   ]
  },
  {
   "cell_type": "code",
   "execution_count": 57,
   "metadata": {},
   "outputs": [
    {
     "data": {
      "text/html": [
       "6"
      ],
      "text/latex": [
       "6"
      ],
      "text/markdown": [
       "6"
      ],
      "text/plain": [
       "[1] 6"
      ]
     },
     "metadata": {},
     "output_type": "display_data"
    }
   ],
   "source": [
    "3*2"
   ]
  },
  {
   "cell_type": "code",
   "execution_count": 58,
   "metadata": {},
   "outputs": [
    {
     "data": {
      "text/html": [
       "1.33333333333333"
      ],
      "text/latex": [
       "1.33333333333333"
      ],
      "text/markdown": [
       "1.33333333333333"
      ],
      "text/plain": [
       "[1] 1.333333"
      ]
     },
     "metadata": {},
     "output_type": "display_data"
    }
   ],
   "source": [
    "4/3"
   ]
  },
  {
   "cell_type": "code",
   "execution_count": 70,
   "metadata": {},
   "outputs": [
    {
     "data": {
      "text/html": [
       "2"
      ],
      "text/latex": [
       "2"
      ],
      "text/markdown": [
       "2"
      ],
      "text/plain": [
       "[1] 2"
      ]
     },
     "metadata": {},
     "output_type": "display_data"
    }
   ],
   "source": [
    "# 변수는 대소 문자 구분\n",
    "# 변수 할당\n",
    "x <- 2\n",
    "x"
   ]
  },
  {
   "cell_type": "code",
   "execution_count": 63,
   "metadata": {},
   "outputs": [
    {
     "data": {
      "text/html": [
       "2"
      ],
      "text/latex": [
       "2"
      ],
      "text/markdown": [
       "2"
      ],
      "text/plain": [
       "[1] 2"
      ]
     },
     "metadata": {},
     "output_type": "display_data"
    }
   ],
   "source": [
    "y = 2\n",
    "y"
   ]
  },
  {
   "cell_type": "code",
   "execution_count": 64,
   "metadata": {},
   "outputs": [
    {
     "data": {
      "text/html": [
       "7"
      ],
      "text/latex": [
       "7"
      ],
      "text/markdown": [
       "7"
      ],
      "text/plain": [
       "[1] 7"
      ]
     },
     "metadata": {},
     "output_type": "display_data"
    }
   ],
   "source": [
    "a <- b <- 7\n",
    "a"
   ]
  },
  {
   "cell_type": "code",
   "execution_count": 65,
   "metadata": {},
   "outputs": [
    {
     "data": {
      "text/html": [
       "7"
      ],
      "text/latex": [
       "7"
      ],
      "text/markdown": [
       "7"
      ],
      "text/plain": [
       "[1] 7"
      ]
     },
     "metadata": {},
     "output_type": "display_data"
    }
   ],
   "source": [
    "b"
   ]
  },
  {
   "cell_type": "code",
   "execution_count": 67,
   "metadata": {},
   "outputs": [
    {
     "data": {
      "text/html": [
       "4"
      ],
      "text/latex": [
       "4"
      ],
      "text/markdown": [
       "4"
      ],
      "text/plain": [
       "[1] 4"
      ]
     },
     "metadata": {},
     "output_type": "display_data"
    }
   ],
   "source": [
    "assign('j', 4)\n",
    "j"
   ]
  },
  {
   "cell_type": "code",
   "execution_count": 71,
   "metadata": {},
   "outputs": [
    {
     "name": "stderr",
     "output_type": "stream",
     "text": [
      "Warning message in rm(j):\n",
      "“객체 'j'를 찾을 수 없습니다”"
     ]
    },
    {
     "ename": "ERROR",
     "evalue": "Error in eval(expr, envir, enclos): 객체 'j'를 찾을 수 없습니다\n",
     "output_type": "error",
     "traceback": [
      "Error in eval(expr, envir, enclos): 객체 'j'를 찾을 수 없습니다\nTraceback:\n"
     ]
    }
   ],
   "source": [
    "rm(j) # 변수 삭제\n",
    "j"
   ]
  },
  {
   "cell_type": "markdown",
   "metadata": {},
   "source": [
    "# 3. 데이터 Type"
   ]
  },
  {
   "cell_type": "code",
   "execution_count": 77,
   "metadata": {},
   "outputs": [
    {
     "data": {
      "text/html": [
       "1.3"
      ],
      "text/latex": [
       "1.3"
      ],
      "text/markdown": [
       "1.3"
      ],
      "text/plain": [
       "[1] 1.3"
      ]
     },
     "metadata": {},
     "output_type": "display_data"
    }
   ],
   "source": [
    "x <- 1.3\n",
    "x"
   ]
  },
  {
   "cell_type": "code",
   "execution_count": 78,
   "metadata": {},
   "outputs": [
    {
     "data": {
      "text/html": [
       "'numeric'"
      ],
      "text/latex": [
       "'numeric'"
      ],
      "text/markdown": [
       "'numeric'"
      ],
      "text/plain": [
       "[1] \"numeric\""
      ]
     },
     "metadata": {},
     "output_type": "display_data"
    }
   ],
   "source": [
    "class(x)"
   ]
  },
  {
   "cell_type": "code",
   "execution_count": 79,
   "metadata": {},
   "outputs": [
    {
     "data": {
      "text/html": [
       "TRUE"
      ],
      "text/latex": [
       "TRUE"
      ],
      "text/markdown": [
       "TRUE"
      ],
      "text/plain": [
       "[1] TRUE"
      ]
     },
     "metadata": {},
     "output_type": "display_data"
    }
   ],
   "source": [
    "is.numeric(x)"
   ]
  },
  {
   "cell_type": "code",
   "execution_count": 80,
   "metadata": {},
   "outputs": [
    {
     "data": {
      "text/html": [
       "FALSE"
      ],
      "text/latex": [
       "FALSE"
      ],
      "text/markdown": [
       "FALSE"
      ],
      "text/plain": [
       "[1] FALSE"
      ]
     },
     "metadata": {},
     "output_type": "display_data"
    }
   ],
   "source": [
    "is.integer(x)"
   ]
  },
  {
   "cell_type": "code",
   "execution_count": 83,
   "metadata": {},
   "outputs": [
    {
     "data": {
      "text/html": [
       "'integer'"
      ],
      "text/latex": [
       "'integer'"
      ],
      "text/markdown": [
       "'integer'"
      ],
      "text/plain": [
       "[1] \"integer\""
      ]
     },
     "metadata": {},
     "output_type": "display_data"
    }
   ],
   "source": [
    "class(1L)"
   ]
  },
  {
   "cell_type": "markdown",
   "metadata": {},
   "source": [
    "> * ### 문자"
   ]
  },
  {
   "cell_type": "code",
   "execution_count": 94,
   "metadata": {},
   "outputs": [
    {
     "data": {
      "text/html": [
       "'string'"
      ],
      "text/latex": [
       "'string'"
      ],
      "text/markdown": [
       "'string'"
      ],
      "text/plain": [
       "[1] \"string\""
      ]
     },
     "metadata": {},
     "output_type": "display_data"
    }
   ],
   "source": [
    "a <- 'string'\n",
    "a"
   ]
  },
  {
   "cell_type": "code",
   "execution_count": 95,
   "metadata": {},
   "outputs": [
    {
     "data": {
      "text/html": [
       "data"
      ],
      "text/latex": [
       "data"
      ],
      "text/markdown": [
       "data"
      ],
      "text/plain": [
       "[1] data\n",
       "Levels: data"
      ]
     },
     "metadata": {},
     "output_type": "display_data"
    }
   ],
   "source": [
    "b <- factor('data')\n",
    "b"
   ]
  },
  {
   "cell_type": "code",
   "execution_count": 97,
   "metadata": {},
   "outputs": [
    {
     "data": {
      "text/plain": [
       "NULL"
      ]
     },
     "metadata": {},
     "output_type": "display_data"
    },
    {
     "data": {
      "text/html": [
       "'data'"
      ],
      "text/latex": [
       "'data'"
      ],
      "text/markdown": [
       "'data'"
      ],
      "text/plain": [
       "[1] \"data\""
      ]
     },
     "metadata": {},
     "output_type": "display_data"
    }
   ],
   "source": [
    "levels(a)\n",
    "levels(b)"
   ]
  },
  {
   "cell_type": "code",
   "execution_count": 102,
   "metadata": {},
   "outputs": [
    {
     "data": {
      "text/html": [
       "6"
      ],
      "text/latex": [
       "6"
      ],
      "text/markdown": [
       "6"
      ],
      "text/plain": [
       "[1] 6"
      ]
     },
     "metadata": {},
     "output_type": "display_data"
    }
   ],
   "source": [
    "nchar(a)"
   ]
  },
  {
   "cell_type": "code",
   "execution_count": 103,
   "metadata": {},
   "outputs": [
    {
     "ename": "ERROR",
     "evalue": "Error in nchar(b): 'nchar()'은 문자형 벡터를 필요로 합니다\n",
     "output_type": "error",
     "traceback": [
      "Error in nchar(b): 'nchar()'은 문자형 벡터를 필요로 합니다\nTraceback:\n",
      "1. nchar(b)"
     ]
    }
   ],
   "source": [
    "nchar(b)"
   ]
  },
  {
   "cell_type": "markdown",
   "metadata": {},
   "source": [
    "> * ### 시간"
   ]
  },
  {
   "cell_type": "code",
   "execution_count": 105,
   "metadata": {},
   "outputs": [
    {
     "data": {
      "text/html": [
       "<time datetime=\"2012-06-28\">2012-06-28</time>"
      ],
      "text/latex": [
       "2012-06-28"
      ],
      "text/markdown": [
       "2012-06-28"
      ],
      "text/plain": [
       "[1] \"2012-06-28\""
      ]
     },
     "metadata": {},
     "output_type": "display_data"
    }
   ],
   "source": [
    "date1 <- as.Date(\"2012-06-28\")\n",
    "date1"
   ]
  },
  {
   "cell_type": "code",
   "execution_count": 109,
   "metadata": {},
   "outputs": [
    {
     "data": {
      "text/plain": [
       "Time difference of -51.57959 mins"
      ]
     },
     "metadata": {},
     "output_type": "display_data"
    }
   ],
   "source": [
    "# 시작시간과 끝나는 시간으로 효율적으로 모형을 구성했는지 시간 체크시 활용\n",
    "as.POSIXct(\"2018-06-19 10:00:00 KST\")- Sys.time()"
   ]
  },
  {
   "cell_type": "markdown",
   "metadata": {},
   "source": [
    "> * ### 논리"
   ]
  },
  {
   "cell_type": "code",
   "execution_count": 111,
   "metadata": {},
   "outputs": [
    {
     "data": {
      "text/html": [
       "'logical'"
      ],
      "text/latex": [
       "'logical'"
      ],
      "text/markdown": [
       "'logical'"
      ],
      "text/plain": [
       "[1] \"logical\""
      ]
     },
     "metadata": {},
     "output_type": "display_data"
    },
    {
     "data": {
      "text/html": [
       "TRUE"
      ],
      "text/latex": [
       "TRUE"
      ],
      "text/markdown": [
       "TRUE"
      ],
      "text/plain": [
       "[1] TRUE"
      ]
     },
     "metadata": {},
     "output_type": "display_data"
    }
   ],
   "source": [
    "k <- TRUE\n",
    "class(k)\n",
    "is.logical(k)"
   ]
  },
  {
   "cell_type": "code",
   "execution_count": 114,
   "metadata": {},
   "outputs": [
    {
     "data": {
      "text/html": [
       "TRUE"
      ],
      "text/latex": [
       "TRUE"
      ],
      "text/markdown": [
       "TRUE"
      ],
      "text/plain": [
       "[1] TRUE"
      ]
     },
     "metadata": {},
     "output_type": "display_data"
    },
    {
     "data": {
      "text/html": [
       "FALSE"
      ],
      "text/latex": [
       "FALSE"
      ],
      "text/markdown": [
       "FALSE"
      ],
      "text/plain": [
       "[1] FALSE"
      ]
     },
     "metadata": {},
     "output_type": "display_data"
    },
    {
     "data": {
      "text/html": [
       "TRUE"
      ],
      "text/latex": [
       "TRUE"
      ],
      "text/markdown": [
       "TRUE"
      ],
      "text/plain": [
       "[1] TRUE"
      ]
     },
     "metadata": {},
     "output_type": "display_data"
    }
   ],
   "source": [
    "c <- 2\n",
    "d <- 5\n",
    "c < d\n",
    "c == d\n",
    "d == 5"
   ]
  },
  {
   "cell_type": "markdown",
   "metadata": {},
   "source": [
    "> * ### 벡터"
   ]
  },
  {
   "cell_type": "code",
   "execution_count": 116,
   "metadata": {},
   "outputs": [
    {
     "data": {
      "text/html": [
       "<ol class=list-inline>\n",
       "\t<li>1</li>\n",
       "\t<li>2</li>\n",
       "\t<li>3</li>\n",
       "\t<li>4</li>\n",
       "\t<li>5</li>\n",
       "</ol>\n"
      ],
      "text/latex": [
       "\\begin{enumerate*}\n",
       "\\item 1\n",
       "\\item 2\n",
       "\\item 3\n",
       "\\item 4\n",
       "\\item 5\n",
       "\\end{enumerate*}\n"
      ],
      "text/markdown": [
       "1. 1\n",
       "2. 2\n",
       "3. 3\n",
       "4. 4\n",
       "5. 5\n",
       "\n",
       "\n"
      ],
      "text/plain": [
       "[1] 1 2 3 4 5"
      ]
     },
     "metadata": {},
     "output_type": "display_data"
    }
   ],
   "source": [
    "x <- c( 1, 2, 3, 4, 5)\n",
    "x"
   ]
  },
  {
   "cell_type": "code",
   "execution_count": 117,
   "metadata": {},
   "outputs": [
    {
     "data": {
      "text/html": [
       "<ol class=list-inline>\n",
       "\t<li>3</li>\n",
       "\t<li>6</li>\n",
       "\t<li>9</li>\n",
       "\t<li>12</li>\n",
       "\t<li>15</li>\n",
       "</ol>\n"
      ],
      "text/latex": [
       "\\begin{enumerate*}\n",
       "\\item 3\n",
       "\\item 6\n",
       "\\item 9\n",
       "\\item 12\n",
       "\\item 15\n",
       "\\end{enumerate*}\n"
      ],
      "text/markdown": [
       "1. 3\n",
       "2. 6\n",
       "3. 9\n",
       "4. 12\n",
       "5. 15\n",
       "\n",
       "\n"
      ],
      "text/plain": [
       "[1]  3  6  9 12 15"
      ]
     },
     "metadata": {},
     "output_type": "display_data"
    }
   ],
   "source": [
    "x * 3"
   ]
  },
  {
   "cell_type": "code",
   "execution_count": 118,
   "metadata": {},
   "outputs": [
    {
     "data": {
      "text/html": [
       "<ol class=list-inline>\n",
       "\t<li>3</li>\n",
       "\t<li>4</li>\n",
       "\t<li>5</li>\n",
       "\t<li>6</li>\n",
       "\t<li>7</li>\n",
       "</ol>\n"
      ],
      "text/latex": [
       "\\begin{enumerate*}\n",
       "\\item 3\n",
       "\\item 4\n",
       "\\item 5\n",
       "\\item 6\n",
       "\\item 7\n",
       "\\end{enumerate*}\n"
      ],
      "text/markdown": [
       "1. 3\n",
       "2. 4\n",
       "3. 5\n",
       "4. 6\n",
       "5. 7\n",
       "\n",
       "\n"
      ],
      "text/plain": [
       "[1] 3 4 5 6 7"
      ]
     },
     "metadata": {},
     "output_type": "display_data"
    }
   ],
   "source": [
    "x + 2"
   ]
  },
  {
   "cell_type": "code",
   "execution_count": 119,
   "metadata": {},
   "outputs": [
    {
     "data": {
      "text/html": [
       "<ol class=list-inline>\n",
       "\t<li>-3</li>\n",
       "\t<li>-2</li>\n",
       "\t<li>-1</li>\n",
       "\t<li>0</li>\n",
       "\t<li>1</li>\n",
       "</ol>\n"
      ],
      "text/latex": [
       "\\begin{enumerate*}\n",
       "\\item -3\n",
       "\\item -2\n",
       "\\item -1\n",
       "\\item 0\n",
       "\\item 1\n",
       "\\end{enumerate*}\n"
      ],
      "text/markdown": [
       "1. -3\n",
       "2. -2\n",
       "3. -1\n",
       "4. 0\n",
       "5. 1\n",
       "\n",
       "\n"
      ],
      "text/plain": [
       "[1] -3 -2 -1  0  1"
      ]
     },
     "metadata": {},
     "output_type": "display_data"
    }
   ],
   "source": [
    "x - 4"
   ]
  },
  {
   "cell_type": "code",
   "execution_count": 121,
   "metadata": {},
   "outputs": [
    {
     "data": {
      "text/html": [
       "<ol class=list-inline>\n",
       "\t<li>0.25</li>\n",
       "\t<li>0.5</li>\n",
       "\t<li>0.75</li>\n",
       "\t<li>1</li>\n",
       "\t<li>1.25</li>\n",
       "</ol>\n"
      ],
      "text/latex": [
       "\\begin{enumerate*}\n",
       "\\item 0.25\n",
       "\\item 0.5\n",
       "\\item 0.75\n",
       "\\item 1\n",
       "\\item 1.25\n",
       "\\end{enumerate*}\n"
      ],
      "text/markdown": [
       "1. 0.25\n",
       "2. 0.5\n",
       "3. 0.75\n",
       "4. 1\n",
       "5. 1.25\n",
       "\n",
       "\n"
      ],
      "text/plain": [
       "[1] 0.25 0.50 0.75 1.00 1.25"
      ]
     },
     "metadata": {},
     "output_type": "display_data"
    }
   ],
   "source": [
    "x/4"
   ]
  },
  {
   "cell_type": "code",
   "execution_count": 122,
   "metadata": {},
   "outputs": [
    {
     "data": {
      "text/html": [
       "<ol class=list-inline>\n",
       "\t<li>1</li>\n",
       "\t<li>4</li>\n",
       "\t<li>9</li>\n",
       "\t<li>16</li>\n",
       "\t<li>25</li>\n",
       "</ol>\n"
      ],
      "text/latex": [
       "\\begin{enumerate*}\n",
       "\\item 1\n",
       "\\item 4\n",
       "\\item 9\n",
       "\\item 16\n",
       "\\item 25\n",
       "\\end{enumerate*}\n"
      ],
      "text/markdown": [
       "1. 1\n",
       "2. 4\n",
       "3. 9\n",
       "4. 16\n",
       "5. 25\n",
       "\n",
       "\n"
      ],
      "text/plain": [
       "[1]  1  4  9 16 25"
      ]
     },
     "metadata": {},
     "output_type": "display_data"
    }
   ],
   "source": [
    "x^2"
   ]
  },
  {
   "cell_type": "code",
   "execution_count": 123,
   "metadata": {},
   "outputs": [
    {
     "data": {
      "text/html": [
       "<ol class=list-inline>\n",
       "\t<li>1</li>\n",
       "\t<li>1.4142135623731</li>\n",
       "\t<li>1.73205080756888</li>\n",
       "\t<li>2</li>\n",
       "\t<li>2.23606797749979</li>\n",
       "</ol>\n"
      ],
      "text/latex": [
       "\\begin{enumerate*}\n",
       "\\item 1\n",
       "\\item 1.4142135623731\n",
       "\\item 1.73205080756888\n",
       "\\item 2\n",
       "\\item 2.23606797749979\n",
       "\\end{enumerate*}\n"
      ],
      "text/markdown": [
       "1. 1\n",
       "2. 1.4142135623731\n",
       "3. 1.73205080756888\n",
       "4. 2\n",
       "5. 2.23606797749979\n",
       "\n",
       "\n"
      ],
      "text/plain": [
       "[1] 1.000000 1.414214 1.732051 2.000000 2.236068"
      ]
     },
     "metadata": {},
     "output_type": "display_data"
    }
   ],
   "source": [
    "sqrt(x)"
   ]
  },
  {
   "cell_type": "code",
   "execution_count": 124,
   "metadata": {},
   "outputs": [
    {
     "data": {
      "text/html": [
       "<ol class=list-inline>\n",
       "\t<li>-2</li>\n",
       "\t<li>-1</li>\n",
       "\t<li>0</li>\n",
       "\t<li>1</li>\n",
       "\t<li>2</li>\n",
       "\t<li>3</li>\n",
       "</ol>\n"
      ],
      "text/latex": [
       "\\begin{enumerate*}\n",
       "\\item -2\n",
       "\\item -1\n",
       "\\item 0\n",
       "\\item 1\n",
       "\\item 2\n",
       "\\item 3\n",
       "\\end{enumerate*}\n"
      ],
      "text/markdown": [
       "1. -2\n",
       "2. -1\n",
       "3. 0\n",
       "4. 1\n",
       "5. 2\n",
       "6. 3\n",
       "\n",
       "\n"
      ],
      "text/plain": [
       "[1] -2 -1  0  1  2  3"
      ]
     },
     "metadata": {},
     "output_type": "display_data"
    }
   ],
   "source": [
    "-2:3"
   ]
  },
  {
   "cell_type": "code",
   "execution_count": 141,
   "metadata": {},
   "outputs": [
    {
     "data": {
      "text/html": [
       "5"
      ],
      "text/latex": [
       "5"
      ],
      "text/markdown": [
       "5"
      ],
      "text/plain": [
       "[1] 5"
      ]
     },
     "metadata": {},
     "output_type": "display_data"
    },
    {
     "data": {
      "text/html": [
       "5"
      ],
      "text/latex": [
       "5"
      ],
      "text/markdown": [
       "5"
      ],
      "text/plain": [
       "[1] 5"
      ]
     },
     "metadata": {},
     "output_type": "display_data"
    }
   ],
   "source": [
    "x <- 5:9\n",
    "y <- 0: 4\n",
    "length(x)\n",
    "length(y)"
   ]
  },
  {
   "cell_type": "code",
   "execution_count": 142,
   "metadata": {},
   "outputs": [
    {
     "data": {
      "text/html": [
       "<ol class=list-inline>\n",
       "\t<li>5</li>\n",
       "\t<li>7</li>\n",
       "\t<li>9</li>\n",
       "\t<li>11</li>\n",
       "\t<li>13</li>\n",
       "</ol>\n"
      ],
      "text/latex": [
       "\\begin{enumerate*}\n",
       "\\item 5\n",
       "\\item 7\n",
       "\\item 9\n",
       "\\item 11\n",
       "\\item 13\n",
       "\\end{enumerate*}\n"
      ],
      "text/markdown": [
       "1. 5\n",
       "2. 7\n",
       "3. 9\n",
       "4. 11\n",
       "5. 13\n",
       "\n",
       "\n"
      ],
      "text/plain": [
       "[1]  5  7  9 11 13"
      ]
     },
     "metadata": {},
     "output_type": "display_data"
    }
   ],
   "source": [
    "x + y"
   ]
  },
  {
   "cell_type": "code",
   "execution_count": 143,
   "metadata": {},
   "outputs": [
    {
     "data": {
      "text/html": [
       "<ol class=list-inline>\n",
       "\t<li>5</li>\n",
       "\t<li>5</li>\n",
       "\t<li>5</li>\n",
       "\t<li>5</li>\n",
       "\t<li>5</li>\n",
       "</ol>\n"
      ],
      "text/latex": [
       "\\begin{enumerate*}\n",
       "\\item 5\n",
       "\\item 5\n",
       "\\item 5\n",
       "\\item 5\n",
       "\\item 5\n",
       "\\end{enumerate*}\n"
      ],
      "text/markdown": [
       "1. 5\n",
       "2. 5\n",
       "3. 5\n",
       "4. 5\n",
       "5. 5\n",
       "\n",
       "\n"
      ],
      "text/plain": [
       "[1] 5 5 5 5 5"
      ]
     },
     "metadata": {},
     "output_type": "display_data"
    }
   ],
   "source": [
    "x-y"
   ]
  },
  {
   "cell_type": "code",
   "execution_count": 144,
   "metadata": {},
   "outputs": [
    {
     "data": {
      "text/html": [
       "<ol class=list-inline>\n",
       "\t<li>0</li>\n",
       "\t<li>6</li>\n",
       "\t<li>14</li>\n",
       "\t<li>24</li>\n",
       "\t<li>36</li>\n",
       "</ol>\n"
      ],
      "text/latex": [
       "\\begin{enumerate*}\n",
       "\\item 0\n",
       "\\item 6\n",
       "\\item 14\n",
       "\\item 24\n",
       "\\item 36\n",
       "\\end{enumerate*}\n"
      ],
      "text/markdown": [
       "1. 0\n",
       "2. 6\n",
       "3. 14\n",
       "4. 24\n",
       "5. 36\n",
       "\n",
       "\n"
      ],
      "text/plain": [
       "[1]  0  6 14 24 36"
      ]
     },
     "metadata": {},
     "output_type": "display_data"
    }
   ],
   "source": [
    "x*y"
   ]
  },
  {
   "cell_type": "code",
   "execution_count": 145,
   "metadata": {},
   "outputs": [
    {
     "data": {
      "text/html": [
       "<ol class=list-inline>\n",
       "\t<li>Inf</li>\n",
       "\t<li>6</li>\n",
       "\t<li>3.5</li>\n",
       "\t<li>2.66666666666667</li>\n",
       "\t<li>2.25</li>\n",
       "</ol>\n"
      ],
      "text/latex": [
       "\\begin{enumerate*}\n",
       "\\item Inf\n",
       "\\item 6\n",
       "\\item 3.5\n",
       "\\item 2.66666666666667\n",
       "\\item 2.25\n",
       "\\end{enumerate*}\n"
      ],
      "text/markdown": [
       "1. Inf\n",
       "2. 6\n",
       "3. 3.5\n",
       "4. 2.66666666666667\n",
       "5. 2.25\n",
       "\n",
       "\n"
      ],
      "text/plain": [
       "[1]      Inf 6.000000 3.500000 2.666667 2.250000"
      ]
     },
     "metadata": {},
     "output_type": "display_data"
    }
   ],
   "source": [
    "x/y"
   ]
  },
  {
   "cell_type": "code",
   "execution_count": 147,
   "metadata": {},
   "outputs": [
    {
     "data": {
      "text/html": [
       "<ol class=list-inline>\n",
       "\t<li>5</li>\n",
       "\t<li>6</li>\n",
       "\t<li>7</li>\n",
       "\t<li>8</li>\n",
       "\t<li>9</li>\n",
       "</ol>\n"
      ],
      "text/latex": [
       "\\begin{enumerate*}\n",
       "\\item 5\n",
       "\\item 6\n",
       "\\item 7\n",
       "\\item 8\n",
       "\\item 9\n",
       "\\end{enumerate*}\n"
      ],
      "text/markdown": [
       "1. 5\n",
       "2. 6\n",
       "3. 7\n",
       "4. 8\n",
       "5. 9\n",
       "\n",
       "\n"
      ],
      "text/plain": [
       "[1] 5 6 7 8 9"
      ]
     },
     "metadata": {},
     "output_type": "display_data"
    },
    {
     "data": {
      "text/html": [
       "<ol class=list-inline>\n",
       "\t<li>TRUE</li>\n",
       "\t<li>FALSE</li>\n",
       "\t<li>FALSE</li>\n",
       "\t<li>FALSE</li>\n",
       "\t<li>FALSE</li>\n",
       "</ol>\n"
      ],
      "text/latex": [
       "\\begin{enumerate*}\n",
       "\\item TRUE\n",
       "\\item FALSE\n",
       "\\item FALSE\n",
       "\\item FALSE\n",
       "\\item FALSE\n",
       "\\end{enumerate*}\n"
      ],
      "text/markdown": [
       "1. TRUE\n",
       "2. FALSE\n",
       "3. FALSE\n",
       "4. FALSE\n",
       "5. FALSE\n",
       "\n",
       "\n"
      ],
      "text/plain": [
       "[1]  TRUE FALSE FALSE FALSE FALSE"
      ]
     },
     "metadata": {},
     "output_type": "display_data"
    }
   ],
   "source": [
    "x\n",
    "x <= 5"
   ]
  },
  {
   "cell_type": "code",
   "execution_count": 148,
   "metadata": {},
   "outputs": [
    {
     "data": {
      "text/html": [
       "<ol class=list-inline>\n",
       "\t<li>FALSE</li>\n",
       "\t<li>FALSE</li>\n",
       "\t<li>FALSE</li>\n",
       "\t<li>FALSE</li>\n",
       "\t<li>FALSE</li>\n",
       "</ol>\n"
      ],
      "text/latex": [
       "\\begin{enumerate*}\n",
       "\\item FALSE\n",
       "\\item FALSE\n",
       "\\item FALSE\n",
       "\\item FALSE\n",
       "\\item FALSE\n",
       "\\end{enumerate*}\n"
      ],
      "text/markdown": [
       "1. FALSE\n",
       "2. FALSE\n",
       "3. FALSE\n",
       "4. FALSE\n",
       "5. FALSE\n",
       "\n",
       "\n"
      ],
      "text/plain": [
       "[1] FALSE FALSE FALSE FALSE FALSE"
      ]
     },
     "metadata": {},
     "output_type": "display_data"
    }
   ],
   "source": [
    "x < y"
   ]
  },
  {
   "cell_type": "code",
   "execution_count": 149,
   "metadata": {},
   "outputs": [
    {
     "data": {
      "text/html": [
       "FALSE"
      ],
      "text/latex": [
       "FALSE"
      ],
      "text/markdown": [
       "FALSE"
      ],
      "text/plain": [
       "[1] FALSE"
      ]
     },
     "metadata": {},
     "output_type": "display_data"
    }
   ],
   "source": [
    "any(x < y)"
   ]
  },
  {
   "cell_type": "code",
   "execution_count": 150,
   "metadata": {},
   "outputs": [
    {
     "data": {
      "text/html": [
       "FALSE"
      ],
      "text/latex": [
       "FALSE"
      ],
      "text/markdown": [
       "FALSE"
      ],
      "text/plain": [
       "[1] FALSE"
      ]
     },
     "metadata": {},
     "output_type": "display_data"
    }
   ],
   "source": [
    "all(x < y)"
   ]
  },
  {
   "cell_type": "code",
   "execution_count": 153,
   "metadata": {},
   "outputs": [
    {
     "data": {
      "text/html": [
       "<ol class=list-inline>\n",
       "\t<li>'a'</li>\n",
       "\t<li>'bcd'</li>\n",
       "\t<li>'ef'</li>\n",
       "</ol>\n"
      ],
      "text/latex": [
       "\\begin{enumerate*}\n",
       "\\item 'a'\n",
       "\\item 'bcd'\n",
       "\\item 'ef'\n",
       "\\end{enumerate*}\n"
      ],
      "text/markdown": [
       "1. 'a'\n",
       "2. 'bcd'\n",
       "3. 'ef'\n",
       "\n",
       "\n"
      ],
      "text/plain": [
       "[1] \"a\"   \"bcd\" \"ef\" "
      ]
     },
     "metadata": {},
     "output_type": "display_data"
    }
   ],
   "source": [
    "q <- c('a', 'bcd', 'ef')\n",
    "q"
   ]
  },
  {
   "cell_type": "code",
   "execution_count": 154,
   "metadata": {},
   "outputs": [
    {
     "data": {
      "text/html": [
       "<ol class=list-inline>\n",
       "\t<li>1</li>\n",
       "\t<li>3</li>\n",
       "\t<li>2</li>\n",
       "</ol>\n"
      ],
      "text/latex": [
       "\\begin{enumerate*}\n",
       "\\item 1\n",
       "\\item 3\n",
       "\\item 2\n",
       "\\end{enumerate*}\n"
      ],
      "text/markdown": [
       "1. 1\n",
       "2. 3\n",
       "3. 2\n",
       "\n",
       "\n"
      ],
      "text/plain": [
       "[1] 1 3 2"
      ]
     },
     "metadata": {},
     "output_type": "display_data"
    }
   ],
   "source": [
    "nchar(q)"
   ]
  },
  {
   "cell_type": "code",
   "execution_count": 156,
   "metadata": {},
   "outputs": [
    {
     "data": {
      "text/html": [
       "<dl class=dl-horizontal>\n",
       "\t<dt>One</dt>\n",
       "\t\t<dd>'a'</dd>\n",
       "\t<dt>Two</dt>\n",
       "\t\t<dd>'bcd'</dd>\n",
       "\t<dt>Last</dt>\n",
       "\t\t<dd>'ef'</dd>\n",
       "</dl>\n"
      ],
      "text/latex": [
       "\\begin{description*}\n",
       "\\item[One] 'a'\n",
       "\\item[Two] 'bcd'\n",
       "\\item[Last] 'ef'\n",
       "\\end{description*}\n"
      ],
      "text/markdown": [
       "One\n",
       ":   'a'Two\n",
       ":   'bcd'Last\n",
       ":   'ef'\n",
       "\n"
      ],
      "text/plain": [
       "  One   Two  Last \n",
       "  \"a\" \"bcd\"  \"ef\" "
      ]
     },
     "metadata": {},
     "output_type": "display_data"
    }
   ],
   "source": [
    "q2 <- c(One = 'a', Two = 'bcd', Last = 'ef')\n",
    "q2"
   ]
  },
  {
   "cell_type": "code",
   "execution_count": 158,
   "metadata": {},
   "outputs": [
    {
     "data": {
      "text/html": [
       "<dl class=dl-horizontal>\n",
       "\t<dt>1</dt>\n",
       "\t\t<dd>'a'</dd>\n",
       "\t<dt>2</dt>\n",
       "\t\t<dd>'bcd'</dd>\n",
       "\t<dt>var1</dt>\n",
       "\t\t<dd>'ef'</dd>\n",
       "</dl>\n"
      ],
      "text/latex": [
       "\\begin{description*}\n",
       "\\item[1] 'a'\n",
       "\\item[2] 'bcd'\n",
       "\\item[var1] 'ef'\n",
       "\\end{description*}\n"
      ],
      "text/markdown": [
       "1\n",
       ":   'a'2\n",
       ":   'bcd'var1\n",
       ":   'ef'\n",
       "\n"
      ],
      "text/plain": [
       "    1     2  var1 \n",
       "  \"a\" \"bcd\"  \"ef\" "
      ]
     },
     "metadata": {},
     "output_type": "display_data"
    }
   ],
   "source": [
    "names(q2) <- c(\"1\", \"2\", \"var1\")\n",
    "q2"
   ]
  },
  {
   "cell_type": "code",
   "execution_count": 160,
   "metadata": {},
   "outputs": [
    {
     "data": {
      "text/html": [
       "<dl class=dl-horizontal>\n",
       "\t<dt>1</dt>\n",
       "\t\t<dd>'a'</dd>\n",
       "\t<dt>2</dt>\n",
       "\t\t<dd>'bcd'</dd>\n",
       "\t<dt>var1</dt>\n",
       "\t\t<dd>'ef'</dd>\n",
       "\t<dt>4</dt>\n",
       "\t\t<dd>'var2'</dd>\n",
       "\t<dt>5</dt>\n",
       "\t\t<dd>'var1'</dd>\n",
       "\t<dt>6</dt>\n",
       "\t\t<dd>'var2'</dd>\n",
       "\t<dt>7</dt>\n",
       "\t\t<dd>'var2'</dd>\n",
       "\t<dt>8</dt>\n",
       "\t\t<dd>'var3'</dd>\n",
       "</dl>\n"
      ],
      "text/latex": [
       "\\begin{description*}\n",
       "\\item[1] 'a'\n",
       "\\item[2] 'bcd'\n",
       "\\item[var1] 'ef'\n",
       "\\item[4] 'var2'\n",
       "\\item[5] 'var1'\n",
       "\\item[6] 'var2'\n",
       "\\item[7] 'var2'\n",
       "\\item[8] 'var3'\n",
       "\\end{description*}\n"
      ],
      "text/markdown": [
       "1\n",
       ":   'a'2\n",
       ":   'bcd'var1\n",
       ":   'ef'4\n",
       ":   'var2'5\n",
       ":   'var1'6\n",
       ":   'var2'7\n",
       ":   'var2'8\n",
       ":   'var3'\n",
       "\n"
      ],
      "text/plain": [
       "     1      2   var1                                    \n",
       "   \"a\"  \"bcd\"   \"ef\" \"var2\" \"var1\" \"var2\" \"var2\" \"var3\" "
      ]
     },
     "metadata": {},
     "output_type": "display_data"
    }
   ],
   "source": [
    "q3 <- c(q2, \"var2\", \"var1\", 'var2', 'var2', 'var3')\n",
    "q3"
   ]
  },
  {
   "cell_type": "code",
   "execution_count": 164,
   "metadata": {},
   "outputs": [
    {
     "data": {
      "text/html": [
       "<dl class=dl-horizontal>\n",
       "\t<dt>1</dt>\n",
       "\t\t<dd>a</dd>\n",
       "\t<dt>2</dt>\n",
       "\t\t<dd>bcd</dd>\n",
       "\t<dt>var1</dt>\n",
       "\t\t<dd>ef</dd>\n",
       "\t<dt>4</dt>\n",
       "\t\t<dd>var2</dd>\n",
       "\t<dt>5</dt>\n",
       "\t\t<dd>var1</dd>\n",
       "\t<dt>6</dt>\n",
       "\t\t<dd>var2</dd>\n",
       "\t<dt>7</dt>\n",
       "\t\t<dd>var2</dd>\n",
       "\t<dt>8</dt>\n",
       "\t\t<dd>var3</dd>\n",
       "</dl>\n"
      ],
      "text/latex": [
       "\\begin{description*}\n",
       "\\item[1] a\n",
       "\\item[2] bcd\n",
       "\\item[var1] ef\n",
       "\\item[4] var2\n",
       "\\item[5] var1\n",
       "\\item[6] var2\n",
       "\\item[7] var2\n",
       "\\item[8] var3\n",
       "\\end{description*}\n"
      ],
      "text/markdown": [
       "1\n",
       ":   a2\n",
       ":   bcdvar1\n",
       ":   ef4\n",
       ":   var25\n",
       ":   var16\n",
       ":   var27\n",
       ":   var28\n",
       ":   var3\n",
       "\n"
      ],
      "text/plain": [
       "   1    2 var1                          \n",
       "   a  bcd   ef var2 var1 var2 var2 var3 \n",
       "Levels: a bcd ef var1 var2 var3"
      ]
     },
     "metadata": {},
     "output_type": "display_data"
    },
    {
     "data": {
      "text/html": [
       "<ol class=list-inline>\n",
       "\t<li>'a'</li>\n",
       "\t<li>'bcd'</li>\n",
       "\t<li>'ef'</li>\n",
       "\t<li>'var1'</li>\n",
       "\t<li>'var2'</li>\n",
       "\t<li>'var3'</li>\n",
       "</ol>\n"
      ],
      "text/latex": [
       "\\begin{enumerate*}\n",
       "\\item 'a'\n",
       "\\item 'bcd'\n",
       "\\item 'ef'\n",
       "\\item 'var1'\n",
       "\\item 'var2'\n",
       "\\item 'var3'\n",
       "\\end{enumerate*}\n"
      ],
      "text/markdown": [
       "1. 'a'\n",
       "2. 'bcd'\n",
       "3. 'ef'\n",
       "4. 'var1'\n",
       "5. 'var2'\n",
       "6. 'var3'\n",
       "\n",
       "\n"
      ],
      "text/plain": [
       "[1] \"a\"    \"bcd\"  \"ef\"   \"var1\" \"var2\" \"var3\""
      ]
     },
     "metadata": {},
     "output_type": "display_data"
    }
   ],
   "source": [
    "q3_fact <- as.factor(q3)\n",
    "q3_fact\n",
    "levels(q3_fact)"
   ]
  },
  {
   "cell_type": "code",
   "execution_count": 5,
   "metadata": {},
   "outputs": [
    {
     "data": {
      "text/html": [
       "<ol class=list-inline>\n",
       "\t<li>'봄'</li>\n",
       "\t<li>'여름'</li>\n",
       "\t<li>'가을'</li>\n",
       "\t<li>'겨울'</li>\n",
       "</ol>\n"
      ],
      "text/latex": [
       "\\begin{enumerate*}\n",
       "\\item '봄'\n",
       "\\item '여름'\n",
       "\\item '가을'\n",
       "\\item '겨울'\n",
       "\\end{enumerate*}\n"
      ],
      "text/markdown": [
       "1. '봄'\n",
       "2. '여름'\n",
       "3. '가을'\n",
       "4. '겨울'\n",
       "\n",
       "\n"
      ],
      "text/plain": [
       "[1] \"봄\"   \"여름\" \"가을\" \"겨울\""
      ]
     },
     "metadata": {},
     "output_type": "display_data"
    },
    {
     "name": "stdout",
     "output_type": "stream",
     "text": [
      " chr [1:4] \"봄\" \"여름\" \"가을\" \"겨울\"\n"
     ]
    }
   ],
   "source": [
    "x <- c(\"봄\", \"여름\", \"가을\", \"겨울\")\n",
    "x\n",
    "str(x)"
   ]
  },
  {
   "cell_type": "code",
   "execution_count": 4,
   "metadata": {},
   "outputs": [
    {
     "name": "stdout",
     "output_type": "stream",
     "text": [
      " Factor w/ 4 levels \"가을\",\"겨울\",..: 3 4 1 2\n"
     ]
    }
   ],
   "source": [
    "x2 <- as.factor(x)\n",
    "str(x2)\n"
   ]
  },
  {
   "cell_type": "code",
   "execution_count": 170,
   "metadata": {},
   "outputs": [
    {
     "data": {
      "text/html": [
       "<ol class=list-inline>\n",
       "\t<li>Great</li>\n",
       "\t<li>Very Good</li>\n",
       "\t<li>good</li>\n",
       "\t<li>bad</li>\n",
       "\t<li>retake</li>\n",
       "</ol>\n"
      ],
      "text/latex": [
       "\\begin{enumerate*}\n",
       "\\item Great\n",
       "\\item Very Good\n",
       "\\item good\n",
       "\\item bad\n",
       "\\item retake\n",
       "\\end{enumerate*}\n"
      ],
      "text/markdown": [
       "1. Great\n",
       "2. Very Good\n",
       "3. good\n",
       "4. bad\n",
       "5. retake\n",
       "\n",
       "\n"
      ],
      "text/plain": [
       "[1] Great     Very Good good      bad       retake   \n",
       "Levels: Great < Very Good < good < bad < retake"
      ]
     },
     "metadata": {},
     "output_type": "display_data"
    }
   ],
   "source": [
    "factor(x = c(\"Great\", \"Very Good\", \"good\", \"bad\", \"retake\"), levels = c(\"Great\", \"Very Good\", \"good\", \"bad\", \"retake\"), ordered=TRUE)"
   ]
  },
  {
   "cell_type": "code",
   "execution_count": 174,
   "metadata": {},
   "outputs": [
    {
     "data": {
      "text/html": [
       "214.5"
      ],
      "text/latex": [
       "214.5"
      ],
      "text/markdown": [
       "214.5"
      ],
      "text/plain": [
       "[1] 214.5"
      ]
     },
     "metadata": {},
     "output_type": "display_data"
    }
   ],
   "source": [
    "x <- c(1:428)\n",
    "mean(x)"
   ]
  },
  {
   "cell_type": "code",
   "execution_count": 175,
   "metadata": {},
   "outputs": [],
   "source": [
    "?'+'"
   ]
  },
  {
   "cell_type": "code",
   "execution_count": 176,
   "metadata": {},
   "outputs": [
    {
     "data": {
      "text/html": [
       "<ol class=list-inline>\n",
       "\t<li>'.colMeans'</li>\n",
       "\t<li>'.rowMeans'</li>\n",
       "\t<li>'colMeans'</li>\n",
       "\t<li>'influence.measures'</li>\n",
       "\t<li>'kmeans'</li>\n",
       "\t<li>'mean'</li>\n",
       "\t<li>'mean_cl_boot'</li>\n",
       "\t<li>'mean_cl_normal'</li>\n",
       "\t<li>'mean_sdl'</li>\n",
       "\t<li>'mean_se'</li>\n",
       "\t<li>'mean.Date'</li>\n",
       "\t<li>'mean.default'</li>\n",
       "\t<li>'mean.difftime'</li>\n",
       "\t<li>'mean.POSIXct'</li>\n",
       "\t<li>'mean.POSIXlt'</li>\n",
       "\t<li>'rowMeans'</li>\n",
       "\t<li>'weighted.mean'</li>\n",
       "</ol>\n"
      ],
      "text/latex": [
       "\\begin{enumerate*}\n",
       "\\item '.colMeans'\n",
       "\\item '.rowMeans'\n",
       "\\item 'colMeans'\n",
       "\\item 'influence.measures'\n",
       "\\item 'kmeans'\n",
       "\\item 'mean'\n",
       "\\item 'mean\\_cl\\_boot'\n",
       "\\item 'mean\\_cl\\_normal'\n",
       "\\item 'mean\\_sdl'\n",
       "\\item 'mean\\_se'\n",
       "\\item 'mean.Date'\n",
       "\\item 'mean.default'\n",
       "\\item 'mean.difftime'\n",
       "\\item 'mean.POSIXct'\n",
       "\\item 'mean.POSIXlt'\n",
       "\\item 'rowMeans'\n",
       "\\item 'weighted.mean'\n",
       "\\end{enumerate*}\n"
      ],
      "text/markdown": [
       "1. '.colMeans'\n",
       "2. '.rowMeans'\n",
       "3. 'colMeans'\n",
       "4. 'influence.measures'\n",
       "5. 'kmeans'\n",
       "6. 'mean'\n",
       "7. 'mean_cl_boot'\n",
       "8. 'mean_cl_normal'\n",
       "9. 'mean_sdl'\n",
       "10. 'mean_se'\n",
       "11. 'mean.Date'\n",
       "12. 'mean.default'\n",
       "13. 'mean.difftime'\n",
       "14. 'mean.POSIXct'\n",
       "15. 'mean.POSIXlt'\n",
       "16. 'rowMeans'\n",
       "17. 'weighted.mean'\n",
       "\n",
       "\n"
      ],
      "text/plain": [
       " [1] \".colMeans\"          \".rowMeans\"          \"colMeans\"          \n",
       " [4] \"influence.measures\" \"kmeans\"             \"mean\"              \n",
       " [7] \"mean_cl_boot\"       \"mean_cl_normal\"     \"mean_sdl\"          \n",
       "[10] \"mean_se\"            \"mean.Date\"          \"mean.default\"      \n",
       "[13] \"mean.difftime\"      \"mean.POSIXct\"       \"mean.POSIXlt\"      \n",
       "[16] \"rowMeans\"           \"weighted.mean\"     "
      ]
     },
     "metadata": {},
     "output_type": "display_data"
    }
   ],
   "source": [
    "apropos('mea')"
   ]
  },
  {
   "cell_type": "code",
   "execution_count": 179,
   "metadata": {},
   "outputs": [
    {
     "data": {
      "text/html": [
       "<ol class=list-inline>\n",
       "\t<li>1</li>\n",
       "\t<li>2</li>\n",
       "\t<li>3</li>\n",
       "\t<li>&lt;NA&gt;</li>\n",
       "\t<li>3</li>\n",
       "\t<li>&lt;NA&gt;</li>\n",
       "\t<li>2</li>\n",
       "\t<li>3</li>\n",
       "</ol>\n"
      ],
      "text/latex": [
       "\\begin{enumerate*}\n",
       "\\item 1\n",
       "\\item 2\n",
       "\\item 3\n",
       "\\item <NA>\n",
       "\\item 3\n",
       "\\item <NA>\n",
       "\\item 2\n",
       "\\item 3\n",
       "\\end{enumerate*}\n"
      ],
      "text/markdown": [
       "1. 1\n",
       "2. 2\n",
       "3. 3\n",
       "4. &lt;NA&gt;\n",
       "5. 3\n",
       "6. &lt;NA&gt;\n",
       "7. 2\n",
       "8. 3\n",
       "\n",
       "\n"
      ],
      "text/plain": [
       "[1]  1  2  3 NA  3 NA  2  3"
      ]
     },
     "metadata": {},
     "output_type": "display_data"
    }
   ],
   "source": [
    "missing_data <- c(1, 2, 3, NA, 3, NA, 2, 3)\n",
    "missing_data"
   ]
  },
  {
   "cell_type": "code",
   "execution_count": 178,
   "metadata": {},
   "outputs": [
    {
     "data": {
      "text/html": [
       "<ol class=list-inline>\n",
       "\t<li>FALSE</li>\n",
       "\t<li>FALSE</li>\n",
       "\t<li>FALSE</li>\n",
       "\t<li>TRUE</li>\n",
       "\t<li>FALSE</li>\n",
       "\t<li>TRUE</li>\n",
       "\t<li>FALSE</li>\n",
       "\t<li>FALSE</li>\n",
       "</ol>\n"
      ],
      "text/latex": [
       "\\begin{enumerate*}\n",
       "\\item FALSE\n",
       "\\item FALSE\n",
       "\\item FALSE\n",
       "\\item TRUE\n",
       "\\item FALSE\n",
       "\\item TRUE\n",
       "\\item FALSE\n",
       "\\item FALSE\n",
       "\\end{enumerate*}\n"
      ],
      "text/markdown": [
       "1. FALSE\n",
       "2. FALSE\n",
       "3. FALSE\n",
       "4. TRUE\n",
       "5. FALSE\n",
       "6. TRUE\n",
       "7. FALSE\n",
       "8. FALSE\n",
       "\n",
       "\n"
      ],
      "text/plain": [
       "[1] FALSE FALSE FALSE  TRUE FALSE  TRUE FALSE FALSE"
      ]
     },
     "metadata": {},
     "output_type": "display_data"
    }
   ],
   "source": [
    "is.na(missing_data)"
   ]
  },
  {
   "cell_type": "code",
   "execution_count": 192,
   "metadata": {},
   "outputs": [],
   "source": [
    "# missing_data[is.na(missing_data)] <- mean(missing_data, na.rm=TRUE)"
   ]
  },
  {
   "cell_type": "code",
   "execution_count": 193,
   "metadata": {},
   "outputs": [],
   "source": [
    "# missing_data"
   ]
  },
  {
   "cell_type": "code",
   "execution_count": 197,
   "metadata": {},
   "outputs": [
    {
     "data": {
      "text/html": [
       "<ol class=list-inline>\n",
       "\t<li>1</li>\n",
       "\t<li>3</li>\n",
       "</ol>\n"
      ],
      "text/latex": [
       "\\begin{enumerate*}\n",
       "\\item 1\n",
       "\\item 3\n",
       "\\end{enumerate*}\n"
      ],
      "text/markdown": [
       "1. 1\n",
       "2. 3\n",
       "\n",
       "\n"
      ],
      "text/plain": [
       "[1] 1 3"
      ]
     },
     "metadata": {},
     "output_type": "display_data"
    }
   ],
   "source": [
    "# NULL은 데이터가 없다는 것\n",
    "x_null <- c(1, NULL, 3)\n",
    "x_null"
   ]
  },
  {
   "cell_type": "markdown",
   "metadata": {},
   "source": [
    "# 4. 자료구조\n",
    "* vectors\n",
    "* Matrices\n",
    "* Arrays\n",
    "* Factors\n",
    "* Data Frames\n",
    "\n",
    "![](http://venus.ifca.unican.es/Rintro/_images/dataStructuresNew.png)\n",
    "source: http://venus.ifca.unican.es/Rintro/dataStruct.html"
   ]
  },
  {
   "cell_type": "markdown",
   "metadata": {},
   "source": [
    "## 4.1 Dataframe"
   ]
  },
  {
   "cell_type": "code",
   "execution_count": 26,
   "metadata": {},
   "outputs": [
    {
     "data": {
      "text/html": [
       "<ol class=list-inline>\n",
       "\t<li>1</li>\n",
       "\t<li>2</li>\n",
       "\t<li>3</li>\n",
       "\t<li>4</li>\n",
       "\t<li>5</li>\n",
       "\t<li>6</li>\n",
       "\t<li>7</li>\n",
       "\t<li>8</li>\n",
       "\t<li>9</li>\n",
       "\t<li>10</li>\n",
       "</ol>\n"
      ],
      "text/latex": [
       "\\begin{enumerate*}\n",
       "\\item 1\n",
       "\\item 2\n",
       "\\item 3\n",
       "\\item 4\n",
       "\\item 5\n",
       "\\item 6\n",
       "\\item 7\n",
       "\\item 8\n",
       "\\item 9\n",
       "\\item 10\n",
       "\\end{enumerate*}\n"
      ],
      "text/markdown": [
       "1. 1\n",
       "2. 2\n",
       "3. 3\n",
       "4. 4\n",
       "5. 5\n",
       "6. 6\n",
       "7. 7\n",
       "8. 8\n",
       "9. 9\n",
       "10. 10\n",
       "\n",
       "\n"
      ],
      "text/plain": [
       " [1]  1  2  3  4  5  6  7  8  9 10"
      ]
     },
     "metadata": {},
     "output_type": "display_data"
    },
    {
     "data": {
      "text/html": [
       "<ol class=list-inline>\n",
       "\t<li>0.114</li>\n",
       "\t<li>0.622</li>\n",
       "\t<li>0.609</li>\n",
       "\t<li>0.623</li>\n",
       "\t<li>0.861</li>\n",
       "\t<li>0.64</li>\n",
       "\t<li>0.009</li>\n",
       "\t<li>0.233</li>\n",
       "\t<li>0.666</li>\n",
       "\t<li>0.514</li>\n",
       "</ol>\n"
      ],
      "text/latex": [
       "\\begin{enumerate*}\n",
       "\\item 0.114\n",
       "\\item 0.622\n",
       "\\item 0.609\n",
       "\\item 0.623\n",
       "\\item 0.861\n",
       "\\item 0.64\n",
       "\\item 0.009\n",
       "\\item 0.233\n",
       "\\item 0.666\n",
       "\\item 0.514\n",
       "\\end{enumerate*}\n"
      ],
      "text/markdown": [
       "1. 0.114\n",
       "2. 0.622\n",
       "3. 0.609\n",
       "4. 0.623\n",
       "5. 0.861\n",
       "6. 0.64\n",
       "7. 0.009\n",
       "8. 0.233\n",
       "9. 0.666\n",
       "10. 0.514\n",
       "\n",
       "\n"
      ],
      "text/plain": [
       " [1] 0.114 0.622 0.609 0.623 0.861 0.640 0.009 0.233 0.666 0.514"
      ]
     },
     "metadata": {},
     "output_type": "display_data"
    },
    {
     "data": {
      "text/html": [
       "<ol class=list-inline>\n",
       "\t<li>'A'</li>\n",
       "\t<li>'B'</li>\n",
       "\t<li>'A'</li>\n",
       "\t<li>'A'</li>\n",
       "\t<li>'A'</li>\n",
       "\t<li>'C'</li>\n",
       "\t<li>'A'</li>\n",
       "\t<li>'D'</li>\n",
       "\t<li>'A'</li>\n",
       "\t<li>'A'</li>\n",
       "</ol>\n"
      ],
      "text/latex": [
       "\\begin{enumerate*}\n",
       "\\item 'A'\n",
       "\\item 'B'\n",
       "\\item 'A'\n",
       "\\item 'A'\n",
       "\\item 'A'\n",
       "\\item 'C'\n",
       "\\item 'A'\n",
       "\\item 'D'\n",
       "\\item 'A'\n",
       "\\item 'A'\n",
       "\\end{enumerate*}\n"
      ],
      "text/markdown": [
       "1. 'A'\n",
       "2. 'B'\n",
       "3. 'A'\n",
       "4. 'A'\n",
       "5. 'A'\n",
       "6. 'C'\n",
       "7. 'A'\n",
       "8. 'D'\n",
       "9. 'A'\n",
       "10. 'A'\n",
       "\n",
       "\n"
      ],
      "text/plain": [
       " [1] \"A\" \"B\" \"A\" \"A\" \"A\" \"C\" \"A\" \"D\" \"A\" \"A\""
      ]
     },
     "metadata": {},
     "output_type": "display_data"
    }
   ],
   "source": [
    "# 재실행에서 같은 샘플링 유지\n",
    "set.seed(1234)\n",
    "\n",
    "x <- 1:10\n",
    "y <- round(runif(n=10, min=0, max=1), 3)\n",
    "class <- c(\"A\", \"B\", \"A\", \"A\", \"A\", \"C\", \"A\", \"D\", \"A\", \"A\")\n",
    "x\n",
    "y\n",
    "class"
   ]
  },
  {
   "cell_type": "code",
   "execution_count": 8,
   "metadata": {},
   "outputs": [
    {
     "data": {
      "text/html": [
       "<table>\n",
       "<thead><tr><th scope=col>x</th><th scope=col>y</th><th scope=col>class</th></tr></thead>\n",
       "<tbody>\n",
       "\t<tr><td> 1   </td><td>0.114</td><td>A    </td></tr>\n",
       "\t<tr><td> 2   </td><td>0.622</td><td>B    </td></tr>\n",
       "\t<tr><td> 3   </td><td>0.609</td><td>A    </td></tr>\n",
       "\t<tr><td> 4   </td><td>0.623</td><td>A    </td></tr>\n",
       "\t<tr><td> 5   </td><td>0.861</td><td>A    </td></tr>\n",
       "\t<tr><td> 6   </td><td>0.640</td><td>C    </td></tr>\n",
       "\t<tr><td> 7   </td><td>0.009</td><td>A    </td></tr>\n",
       "\t<tr><td> 8   </td><td>0.233</td><td>D    </td></tr>\n",
       "\t<tr><td> 9   </td><td>0.666</td><td>A    </td></tr>\n",
       "\t<tr><td>10   </td><td>0.514</td><td>A    </td></tr>\n",
       "</tbody>\n",
       "</table>\n"
      ],
      "text/latex": [
       "\\begin{tabular}{r|lll}\n",
       " x & y & class\\\\\n",
       "\\hline\n",
       "\t  1    & 0.114 & A    \\\\\n",
       "\t  2    & 0.622 & B    \\\\\n",
       "\t  3    & 0.609 & A    \\\\\n",
       "\t  4    & 0.623 & A    \\\\\n",
       "\t  5    & 0.861 & A    \\\\\n",
       "\t  6    & 0.640 & C    \\\\\n",
       "\t  7    & 0.009 & A    \\\\\n",
       "\t  8    & 0.233 & D    \\\\\n",
       "\t  9    & 0.666 & A    \\\\\n",
       "\t 10    & 0.514 & A    \\\\\n",
       "\\end{tabular}\n"
      ],
      "text/markdown": [
       "\n",
       "x | y | class | \n",
       "|---|---|---|---|---|---|---|---|---|---|\n",
       "|  1    | 0.114 | A     | \n",
       "|  2    | 0.622 | B     | \n",
       "|  3    | 0.609 | A     | \n",
       "|  4    | 0.623 | A     | \n",
       "|  5    | 0.861 | A     | \n",
       "|  6    | 0.640 | C     | \n",
       "|  7    | 0.009 | A     | \n",
       "|  8    | 0.233 | D     | \n",
       "|  9    | 0.666 | A     | \n",
       "| 10    | 0.514 | A     | \n",
       "\n",
       "\n"
      ],
      "text/plain": [
       "   x  y     class\n",
       "1   1 0.114 A    \n",
       "2   2 0.622 B    \n",
       "3   3 0.609 A    \n",
       "4   4 0.623 A    \n",
       "5   5 0.861 A    \n",
       "6   6 0.640 C    \n",
       "7   7 0.009 A    \n",
       "8   8 0.233 D    \n",
       "9   9 0.666 A    \n",
       "10 10 0.514 A    "
      ]
     },
     "metadata": {},
     "output_type": "display_data"
    }
   ],
   "source": [
    "DF <- data.frame(x, y , class)\n",
    "DF"
   ]
  },
  {
   "cell_type": "code",
   "execution_count": 218,
   "metadata": {},
   "outputs": [
    {
     "data": {
      "text/html": [
       "<table>\n",
       "<thead><tr><th scope=col>번호</th><th scope=col>랜덤</th><th scope=col>등급</th></tr></thead>\n",
       "<tbody>\n",
       "\t<tr><td> 1   </td><td>0.114</td><td>A    </td></tr>\n",
       "\t<tr><td> 2   </td><td>0.622</td><td>B    </td></tr>\n",
       "\t<tr><td> 3   </td><td>0.609</td><td>A    </td></tr>\n",
       "\t<tr><td> 4   </td><td>0.623</td><td>A    </td></tr>\n",
       "\t<tr><td> 5   </td><td>0.861</td><td>A    </td></tr>\n",
       "\t<tr><td> 6   </td><td>0.640</td><td>C    </td></tr>\n",
       "\t<tr><td> 7   </td><td>0.009</td><td>A    </td></tr>\n",
       "\t<tr><td> 8   </td><td>0.233</td><td>D    </td></tr>\n",
       "\t<tr><td> 9   </td><td>0.666</td><td>A    </td></tr>\n",
       "\t<tr><td>10   </td><td>0.514</td><td>A    </td></tr>\n",
       "</tbody>\n",
       "</table>\n"
      ],
      "text/latex": [
       "\\begin{tabular}{r|lll}\n",
       " 번호 & 랜덤 & 등급\\\\\n",
       "\\hline\n",
       "\t  1    & 0.114 & A    \\\\\n",
       "\t  2    & 0.622 & B    \\\\\n",
       "\t  3    & 0.609 & A    \\\\\n",
       "\t  4    & 0.623 & A    \\\\\n",
       "\t  5    & 0.861 & A    \\\\\n",
       "\t  6    & 0.640 & C    \\\\\n",
       "\t  7    & 0.009 & A    \\\\\n",
       "\t  8    & 0.233 & D    \\\\\n",
       "\t  9    & 0.666 & A    \\\\\n",
       "\t 10    & 0.514 & A    \\\\\n",
       "\\end{tabular}\n"
      ],
      "text/markdown": [
       "\n",
       "번호 | 랜덤 | 등급 | \n",
       "|---|---|---|---|---|---|---|---|---|---|\n",
       "|  1    | 0.114 | A     | \n",
       "|  2    | 0.622 | B     | \n",
       "|  3    | 0.609 | A     | \n",
       "|  4    | 0.623 | A     | \n",
       "|  5    | 0.861 | A     | \n",
       "|  6    | 0.640 | C     | \n",
       "|  7    | 0.009 | A     | \n",
       "|  8    | 0.233 | D     | \n",
       "|  9    | 0.666 | A     | \n",
       "| 10    | 0.514 | A     | \n",
       "\n",
       "\n"
      ],
      "text/plain": [
       "   번호 랜덤  등급\n",
       "1   1   0.114 A   \n",
       "2   2   0.622 B   \n",
       "3   3   0.609 A   \n",
       "4   4   0.623 A   \n",
       "5   5   0.861 A   \n",
       "6   6   0.640 C   \n",
       "7   7   0.009 A   \n",
       "8   8   0.233 D   \n",
       "9   9   0.666 A   \n",
       "10 10   0.514 A   "
      ]
     },
     "metadata": {},
     "output_type": "display_data"
    }
   ],
   "source": [
    "DF <- data.frame(\"번호\" = x, \"랜덤\" = y, \"등급\" = class)\n",
    "DF"
   ]
  },
  {
   "cell_type": "code",
   "execution_count": 221,
   "metadata": {},
   "outputs": [
    {
     "data": {
      "text/html": [
       "10"
      ],
      "text/latex": [
       "10"
      ],
      "text/markdown": [
       "10"
      ],
      "text/plain": [
       "[1] 10"
      ]
     },
     "metadata": {},
     "output_type": "display_data"
    },
    {
     "data": {
      "text/html": [
       "3"
      ],
      "text/latex": [
       "3"
      ],
      "text/markdown": [
       "3"
      ],
      "text/plain": [
       "[1] 3"
      ]
     },
     "metadata": {},
     "output_type": "display_data"
    },
    {
     "data": {
      "text/html": [
       "<ol class=list-inline>\n",
       "\t<li>10</li>\n",
       "\t<li>3</li>\n",
       "</ol>\n"
      ],
      "text/latex": [
       "\\begin{enumerate*}\n",
       "\\item 10\n",
       "\\item 3\n",
       "\\end{enumerate*}\n"
      ],
      "text/markdown": [
       "1. 10\n",
       "2. 3\n",
       "\n",
       "\n"
      ],
      "text/plain": [
       "[1] 10  3"
      ]
     },
     "metadata": {},
     "output_type": "display_data"
    }
   ],
   "source": [
    "nrow(DF)\n",
    "ncol(DF)\n",
    "dim(DF)"
   ]
  },
  {
   "cell_type": "code",
   "execution_count": 225,
   "metadata": {},
   "outputs": [
    {
     "data": {
      "text/html": [
       "<ol class=list-inline>\n",
       "\t<li>'번호'</li>\n",
       "\t<li>'랜덤'</li>\n",
       "\t<li>'등급'</li>\n",
       "</ol>\n"
      ],
      "text/latex": [
       "\\begin{enumerate*}\n",
       "\\item '번호'\n",
       "\\item '랜덤'\n",
       "\\item '등급'\n",
       "\\end{enumerate*}\n"
      ],
      "text/markdown": [
       "1. '번호'\n",
       "2. '랜덤'\n",
       "3. '등급'\n",
       "\n",
       "\n"
      ],
      "text/plain": [
       "[1] \"번호\" \"랜덤\" \"등급\""
      ]
     },
     "metadata": {},
     "output_type": "display_data"
    },
    {
     "data": {
      "text/html": [
       "'번호'"
      ],
      "text/latex": [
       "'번호'"
      ],
      "text/markdown": [
       "'번호'"
      ],
      "text/plain": [
       "[1] \"번호\""
      ]
     },
     "metadata": {},
     "output_type": "display_data"
    }
   ],
   "source": [
    "names(DF)\n",
    "names(DF)[1]"
   ]
  },
  {
   "cell_type": "code",
   "execution_count": 226,
   "metadata": {},
   "outputs": [
    {
     "data": {
      "text/html": [
       "<ol class=list-inline>\n",
       "\t<li>'1'</li>\n",
       "\t<li>'2'</li>\n",
       "\t<li>'3'</li>\n",
       "\t<li>'4'</li>\n",
       "\t<li>'5'</li>\n",
       "\t<li>'6'</li>\n",
       "\t<li>'7'</li>\n",
       "\t<li>'8'</li>\n",
       "\t<li>'9'</li>\n",
       "\t<li>'10'</li>\n",
       "</ol>\n"
      ],
      "text/latex": [
       "\\begin{enumerate*}\n",
       "\\item '1'\n",
       "\\item '2'\n",
       "\\item '3'\n",
       "\\item '4'\n",
       "\\item '5'\n",
       "\\item '6'\n",
       "\\item '7'\n",
       "\\item '8'\n",
       "\\item '9'\n",
       "\\item '10'\n",
       "\\end{enumerate*}\n"
      ],
      "text/markdown": [
       "1. '1'\n",
       "2. '2'\n",
       "3. '3'\n",
       "4. '4'\n",
       "5. '5'\n",
       "6. '6'\n",
       "7. '7'\n",
       "8. '8'\n",
       "9. '9'\n",
       "10. '10'\n",
       "\n",
       "\n"
      ],
      "text/plain": [
       " [1] \"1\"  \"2\"  \"3\"  \"4\"  \"5\"  \"6\"  \"7\"  \"8\"  \"9\"  \"10\""
      ]
     },
     "metadata": {},
     "output_type": "display_data"
    }
   ],
   "source": [
    "rownames(DF)"
   ]
  },
  {
   "cell_type": "code",
   "execution_count": 228,
   "metadata": {},
   "outputs": [
    {
     "data": {
      "text/html": [
       "<table>\n",
       "<thead><tr><th></th><th scope=col>번호</th><th scope=col>랜덤</th><th scope=col>등급</th></tr></thead>\n",
       "<tbody>\n",
       "\t<tr><th scope=row>one</th><td> 1   </td><td>0.114</td><td>A    </td></tr>\n",
       "\t<tr><th scope=row>two</th><td> 2   </td><td>0.622</td><td>B    </td></tr>\n",
       "\t<tr><th scope=row>three</th><td> 3   </td><td>0.609</td><td>A    </td></tr>\n",
       "\t<tr><th scope=row>four</th><td> 4   </td><td>0.623</td><td>A    </td></tr>\n",
       "\t<tr><th scope=row>five</th><td> 5   </td><td>0.861</td><td>A    </td></tr>\n",
       "\t<tr><th scope=row>six</th><td> 6   </td><td>0.640</td><td>C    </td></tr>\n",
       "\t<tr><th scope=row>seven</th><td> 7   </td><td>0.009</td><td>A    </td></tr>\n",
       "\t<tr><th scope=row>eight</th><td> 8   </td><td>0.233</td><td>D    </td></tr>\n",
       "\t<tr><th scope=row>nine</th><td> 9   </td><td>0.666</td><td>A    </td></tr>\n",
       "\t<tr><th scope=row>ten</th><td>10   </td><td>0.514</td><td>A    </td></tr>\n",
       "</tbody>\n",
       "</table>\n"
      ],
      "text/latex": [
       "\\begin{tabular}{r|lll}\n",
       "  & 번호 & 랜덤 & 등급\\\\\n",
       "\\hline\n",
       "\tone &  1    & 0.114 & A    \\\\\n",
       "\ttwo &  2    & 0.622 & B    \\\\\n",
       "\tthree &  3    & 0.609 & A    \\\\\n",
       "\tfour &  4    & 0.623 & A    \\\\\n",
       "\tfive &  5    & 0.861 & A    \\\\\n",
       "\tsix &  6    & 0.640 & C    \\\\\n",
       "\tseven &  7    & 0.009 & A    \\\\\n",
       "\teight &  8    & 0.233 & D    \\\\\n",
       "\tnine &  9    & 0.666 & A    \\\\\n",
       "\tten & 10    & 0.514 & A    \\\\\n",
       "\\end{tabular}\n"
      ],
      "text/markdown": [
       "\n",
       "| <!--/--> | 번호 | 랜덤 | 등급 | \n",
       "|---|---|---|---|---|---|---|---|---|---|\n",
       "| one |  1    | 0.114 | A     | \n",
       "| two |  2    | 0.622 | B     | \n",
       "| three |  3    | 0.609 | A     | \n",
       "| four |  4    | 0.623 | A     | \n",
       "| five |  5    | 0.861 | A     | \n",
       "| six |  6    | 0.640 | C     | \n",
       "| seven |  7    | 0.009 | A     | \n",
       "| eight |  8    | 0.233 | D     | \n",
       "| nine |  9    | 0.666 | A     | \n",
       "| ten | 10    | 0.514 | A     | \n",
       "\n",
       "\n"
      ],
      "text/plain": [
       "      번호 랜덤  등급\n",
       "one    1   0.114 A   \n",
       "two    2   0.622 B   \n",
       "three  3   0.609 A   \n",
       "four   4   0.623 A   \n",
       "five   5   0.861 A   \n",
       "six    6   0.640 C   \n",
       "seven  7   0.009 A   \n",
       "eight  8   0.233 D   \n",
       "nine   9   0.666 A   \n",
       "ten   10   0.514 A   "
      ]
     },
     "metadata": {},
     "output_type": "display_data"
    }
   ],
   "source": [
    "rownames(DF) <- c('one', 'two', 'three', 'four', 'five', 'six', 'seven', 'eight', 'nine', 'ten')\n",
    "DF"
   ]
  },
  {
   "cell_type": "code",
   "execution_count": 229,
   "metadata": {},
   "outputs": [
    {
     "data": {
      "text/html": [
       "<table>\n",
       "<thead><tr><th scope=col>번호</th><th scope=col>랜덤</th><th scope=col>등급</th></tr></thead>\n",
       "<tbody>\n",
       "\t<tr><td> 1   </td><td>0.114</td><td>A    </td></tr>\n",
       "\t<tr><td> 2   </td><td>0.622</td><td>B    </td></tr>\n",
       "\t<tr><td> 3   </td><td>0.609</td><td>A    </td></tr>\n",
       "\t<tr><td> 4   </td><td>0.623</td><td>A    </td></tr>\n",
       "\t<tr><td> 5   </td><td>0.861</td><td>A    </td></tr>\n",
       "\t<tr><td> 6   </td><td>0.640</td><td>C    </td></tr>\n",
       "\t<tr><td> 7   </td><td>0.009</td><td>A    </td></tr>\n",
       "\t<tr><td> 8   </td><td>0.233</td><td>D    </td></tr>\n",
       "\t<tr><td> 9   </td><td>0.666</td><td>A    </td></tr>\n",
       "\t<tr><td>10   </td><td>0.514</td><td>A    </td></tr>\n",
       "</tbody>\n",
       "</table>\n"
      ],
      "text/latex": [
       "\\begin{tabular}{r|lll}\n",
       " 번호 & 랜덤 & 등급\\\\\n",
       "\\hline\n",
       "\t  1    & 0.114 & A    \\\\\n",
       "\t  2    & 0.622 & B    \\\\\n",
       "\t  3    & 0.609 & A    \\\\\n",
       "\t  4    & 0.623 & A    \\\\\n",
       "\t  5    & 0.861 & A    \\\\\n",
       "\t  6    & 0.640 & C    \\\\\n",
       "\t  7    & 0.009 & A    \\\\\n",
       "\t  8    & 0.233 & D    \\\\\n",
       "\t  9    & 0.666 & A    \\\\\n",
       "\t 10    & 0.514 & A    \\\\\n",
       "\\end{tabular}\n"
      ],
      "text/markdown": [
       "\n",
       "번호 | 랜덤 | 등급 | \n",
       "|---|---|---|---|---|---|---|---|---|---|\n",
       "|  1    | 0.114 | A     | \n",
       "|  2    | 0.622 | B     | \n",
       "|  3    | 0.609 | A     | \n",
       "|  4    | 0.623 | A     | \n",
       "|  5    | 0.861 | A     | \n",
       "|  6    | 0.640 | C     | \n",
       "|  7    | 0.009 | A     | \n",
       "|  8    | 0.233 | D     | \n",
       "|  9    | 0.666 | A     | \n",
       "| 10    | 0.514 | A     | \n",
       "\n",
       "\n"
      ],
      "text/plain": [
       "   번호 랜덤  등급\n",
       "1   1   0.114 A   \n",
       "2   2   0.622 B   \n",
       "3   3   0.609 A   \n",
       "4   4   0.623 A   \n",
       "5   5   0.861 A   \n",
       "6   6   0.640 C   \n",
       "7   7   0.009 A   \n",
       "8   8   0.233 D   \n",
       "9   9   0.666 A   \n",
       "10 10   0.514 A   "
      ]
     },
     "metadata": {},
     "output_type": "display_data"
    }
   ],
   "source": [
    "rownames(DF) <- NULL\n",
    "DF"
   ]
  },
  {
   "cell_type": "code",
   "execution_count": 230,
   "metadata": {},
   "outputs": [
    {
     "data": {
      "text/html": [
       "<table>\n",
       "<thead><tr><th scope=col>번호</th><th scope=col>랜덤</th><th scope=col>등급</th></tr></thead>\n",
       "<tbody>\n",
       "\t<tr><td>1    </td><td>0.114</td><td>A    </td></tr>\n",
       "\t<tr><td>2    </td><td>0.622</td><td>B    </td></tr>\n",
       "\t<tr><td>3    </td><td>0.609</td><td>A    </td></tr>\n",
       "\t<tr><td>4    </td><td>0.623</td><td>A    </td></tr>\n",
       "\t<tr><td>5    </td><td>0.861</td><td>A    </td></tr>\n",
       "\t<tr><td>6    </td><td>0.640</td><td>C    </td></tr>\n",
       "</tbody>\n",
       "</table>\n"
      ],
      "text/latex": [
       "\\begin{tabular}{r|lll}\n",
       " 번호 & 랜덤 & 등급\\\\\n",
       "\\hline\n",
       "\t 1     & 0.114 & A    \\\\\n",
       "\t 2     & 0.622 & B    \\\\\n",
       "\t 3     & 0.609 & A    \\\\\n",
       "\t 4     & 0.623 & A    \\\\\n",
       "\t 5     & 0.861 & A    \\\\\n",
       "\t 6     & 0.640 & C    \\\\\n",
       "\\end{tabular}\n"
      ],
      "text/markdown": [
       "\n",
       "번호 | 랜덤 | 등급 | \n",
       "|---|---|---|---|---|---|\n",
       "| 1     | 0.114 | A     | \n",
       "| 2     | 0.622 | B     | \n",
       "| 3     | 0.609 | A     | \n",
       "| 4     | 0.623 | A     | \n",
       "| 5     | 0.861 | A     | \n",
       "| 6     | 0.640 | C     | \n",
       "\n",
       "\n"
      ],
      "text/plain": [
       "  번호 랜덤  등급\n",
       "1 1    0.114 A   \n",
       "2 2    0.622 B   \n",
       "3 3    0.609 A   \n",
       "4 4    0.623 A   \n",
       "5 5    0.861 A   \n",
       "6 6    0.640 C   "
      ]
     },
     "metadata": {},
     "output_type": "display_data"
    },
    {
     "data": {
      "text/html": [
       "<table>\n",
       "<thead><tr><th></th><th scope=col>번호</th><th scope=col>랜덤</th><th scope=col>등급</th></tr></thead>\n",
       "<tbody>\n",
       "\t<tr><th scope=row>5</th><td> 5   </td><td>0.861</td><td>A    </td></tr>\n",
       "\t<tr><th scope=row>6</th><td> 6   </td><td>0.640</td><td>C    </td></tr>\n",
       "\t<tr><th scope=row>7</th><td> 7   </td><td>0.009</td><td>A    </td></tr>\n",
       "\t<tr><th scope=row>8</th><td> 8   </td><td>0.233</td><td>D    </td></tr>\n",
       "\t<tr><th scope=row>9</th><td> 9   </td><td>0.666</td><td>A    </td></tr>\n",
       "\t<tr><th scope=row>10</th><td>10   </td><td>0.514</td><td>A    </td></tr>\n",
       "</tbody>\n",
       "</table>\n"
      ],
      "text/latex": [
       "\\begin{tabular}{r|lll}\n",
       "  & 번호 & 랜덤 & 등급\\\\\n",
       "\\hline\n",
       "\t5 &  5    & 0.861 & A    \\\\\n",
       "\t6 &  6    & 0.640 & C    \\\\\n",
       "\t7 &  7    & 0.009 & A    \\\\\n",
       "\t8 &  8    & 0.233 & D    \\\\\n",
       "\t9 &  9    & 0.666 & A    \\\\\n",
       "\t10 & 10    & 0.514 & A    \\\\\n",
       "\\end{tabular}\n"
      ],
      "text/markdown": [
       "\n",
       "| <!--/--> | 번호 | 랜덤 | 등급 | \n",
       "|---|---|---|---|---|---|\n",
       "| 5 |  5    | 0.861 | A     | \n",
       "| 6 |  6    | 0.640 | C     | \n",
       "| 7 |  7    | 0.009 | A     | \n",
       "| 8 |  8    | 0.233 | D     | \n",
       "| 9 |  9    | 0.666 | A     | \n",
       "| 10 | 10    | 0.514 | A     | \n",
       "\n",
       "\n"
      ],
      "text/plain": [
       "   번호 랜덤  등급\n",
       "5   5   0.861 A   \n",
       "6   6   0.640 C   \n",
       "7   7   0.009 A   \n",
       "8   8   0.233 D   \n",
       "9   9   0.666 A   \n",
       "10 10   0.514 A   "
      ]
     },
     "metadata": {},
     "output_type": "display_data"
    }
   ],
   "source": [
    "head(DF)\n",
    "tail(DF)"
   ]
  },
  {
   "cell_type": "code",
   "execution_count": 232,
   "metadata": {},
   "outputs": [
    {
     "data": {
      "text/html": [
       "'data.frame'"
      ],
      "text/latex": [
       "'data.frame'"
      ],
      "text/markdown": [
       "'data.frame'"
      ],
      "text/plain": [
       "[1] \"data.frame\""
      ]
     },
     "metadata": {},
     "output_type": "display_data"
    }
   ],
   "source": [
    "class(DF)"
   ]
  },
  {
   "cell_type": "code",
   "execution_count": 234,
   "metadata": {},
   "outputs": [
    {
     "data": {
      "text/html": [
       "<ol class=list-inline>\n",
       "\t<li>A</li>\n",
       "\t<li>B</li>\n",
       "\t<li>A</li>\n",
       "\t<li>A</li>\n",
       "\t<li>A</li>\n",
       "\t<li>C</li>\n",
       "\t<li>A</li>\n",
       "\t<li>D</li>\n",
       "\t<li>A</li>\n",
       "\t<li>A</li>\n",
       "</ol>\n"
      ],
      "text/latex": [
       "\\begin{enumerate*}\n",
       "\\item A\n",
       "\\item B\n",
       "\\item A\n",
       "\\item A\n",
       "\\item A\n",
       "\\item C\n",
       "\\item A\n",
       "\\item D\n",
       "\\item A\n",
       "\\item A\n",
       "\\end{enumerate*}\n"
      ],
      "text/markdown": [
       "1. A\n",
       "2. B\n",
       "3. A\n",
       "4. A\n",
       "5. A\n",
       "6. C\n",
       "7. A\n",
       "8. D\n",
       "9. A\n",
       "10. A\n",
       "\n",
       "\n"
      ],
      "text/plain": [
       " [1] A B A A A C A D A A\n",
       "Levels: A B C D"
      ]
     },
     "metadata": {},
     "output_type": "display_data"
    }
   ],
   "source": [
    "DF$등급"
   ]
  },
  {
   "cell_type": "code",
   "execution_count": 238,
   "metadata": {},
   "outputs": [
    {
     "data": {
      "text/html": [
       "<table>\n",
       "<thead><tr><th scope=col>번호</th><th scope=col>랜덤</th><th scope=col>등급</th></tr></thead>\n",
       "<tbody>\n",
       "\t<tr><td> 1   </td><td>0.114</td><td>A    </td></tr>\n",
       "\t<tr><td> 2   </td><td>0.622</td><td>B    </td></tr>\n",
       "\t<tr><td> 3   </td><td>0.609</td><td>A    </td></tr>\n",
       "\t<tr><td> 4   </td><td>0.623</td><td>A    </td></tr>\n",
       "\t<tr><td> 5   </td><td>0.861</td><td>A    </td></tr>\n",
       "\t<tr><td> 6   </td><td>0.640</td><td>C    </td></tr>\n",
       "\t<tr><td> 7   </td><td>0.009</td><td>A    </td></tr>\n",
       "\t<tr><td> 8   </td><td>0.233</td><td>D    </td></tr>\n",
       "\t<tr><td> 9   </td><td>0.666</td><td>A    </td></tr>\n",
       "\t<tr><td>10   </td><td>0.514</td><td>A    </td></tr>\n",
       "</tbody>\n",
       "</table>\n"
      ],
      "text/latex": [
       "\\begin{tabular}{r|lll}\n",
       " 번호 & 랜덤 & 등급\\\\\n",
       "\\hline\n",
       "\t  1    & 0.114 & A    \\\\\n",
       "\t  2    & 0.622 & B    \\\\\n",
       "\t  3    & 0.609 & A    \\\\\n",
       "\t  4    & 0.623 & A    \\\\\n",
       "\t  5    & 0.861 & A    \\\\\n",
       "\t  6    & 0.640 & C    \\\\\n",
       "\t  7    & 0.009 & A    \\\\\n",
       "\t  8    & 0.233 & D    \\\\\n",
       "\t  9    & 0.666 & A    \\\\\n",
       "\t 10    & 0.514 & A    \\\\\n",
       "\\end{tabular}\n"
      ],
      "text/markdown": [
       "\n",
       "번호 | 랜덤 | 등급 | \n",
       "|---|---|---|---|---|---|---|---|---|---|\n",
       "|  1    | 0.114 | A     | \n",
       "|  2    | 0.622 | B     | \n",
       "|  3    | 0.609 | A     | \n",
       "|  4    | 0.623 | A     | \n",
       "|  5    | 0.861 | A     | \n",
       "|  6    | 0.640 | C     | \n",
       "|  7    | 0.009 | A     | \n",
       "|  8    | 0.233 | D     | \n",
       "|  9    | 0.666 | A     | \n",
       "| 10    | 0.514 | A     | \n",
       "\n",
       "\n"
      ],
      "text/plain": [
       "   번호 랜덤  등급\n",
       "1   1   0.114 A   \n",
       "2   2   0.622 B   \n",
       "3   3   0.609 A   \n",
       "4   4   0.623 A   \n",
       "5   5   0.861 A   \n",
       "6   6   0.640 C   \n",
       "7   7   0.009 A   \n",
       "8   8   0.233 D   \n",
       "9   9   0.666 A   \n",
       "10 10   0.514 A   "
      ]
     },
     "metadata": {},
     "output_type": "display_data"
    },
    {
     "data": {
      "text/html": [
       "0.009"
      ],
      "text/latex": [
       "0.009"
      ],
      "text/markdown": [
       "0.009"
      ],
      "text/plain": [
       "[1] 0.009"
      ]
     },
     "metadata": {},
     "output_type": "display_data"
    }
   ],
   "source": [
    "DF\n",
    "DF[7,2]"
   ]
  },
  {
   "cell_type": "markdown",
   "metadata": {},
   "source": [
    "## 4.2 List"
   ]
  },
  {
   "cell_type": "code",
   "execution_count": 239,
   "metadata": {},
   "outputs": [
    {
     "data": {
      "text/html": [
       "<ol>\n",
       "\t<li>1</li>\n",
       "\t<li>2</li>\n",
       "\t<li>3</li>\n",
       "</ol>\n"
      ],
      "text/latex": [
       "\\begin{enumerate}\n",
       "\\item 1\n",
       "\\item 2\n",
       "\\item 3\n",
       "\\end{enumerate}\n"
      ],
      "text/markdown": [
       "1. 1\n",
       "2. 2\n",
       "3. 3\n",
       "\n",
       "\n"
      ],
      "text/plain": [
       "[[1]]\n",
       "[1] 1\n",
       "\n",
       "[[2]]\n",
       "[1] 2\n",
       "\n",
       "[[3]]\n",
       "[1] 3\n"
      ]
     },
     "metadata": {},
     "output_type": "display_data"
    }
   ],
   "source": [
    "list(1,2,3)"
   ]
  },
  {
   "cell_type": "code",
   "execution_count": 241,
   "metadata": {},
   "outputs": [
    {
     "data": {
      "text/html": [
       "<ol>\n",
       "\t<li><ol class=list-inline>\n",
       "\t<li>1</li>\n",
       "\t<li>2</li>\n",
       "\t<li>3</li>\n",
       "</ol>\n",
       "</li>\n",
       "\t<li><ol class=list-inline>\n",
       "\t<li>4</li>\n",
       "\t<li>5</li>\n",
       "\t<li>6</li>\n",
       "\t<li>7</li>\n",
       "</ol>\n",
       "</li>\n",
       "</ol>\n"
      ],
      "text/latex": [
       "\\begin{enumerate}\n",
       "\\item \\begin{enumerate*}\n",
       "\\item 1\n",
       "\\item 2\n",
       "\\item 3\n",
       "\\end{enumerate*}\n",
       "\n",
       "\\item \\begin{enumerate*}\n",
       "\\item 4\n",
       "\\item 5\n",
       "\\item 6\n",
       "\\item 7\n",
       "\\end{enumerate*}\n",
       "\n",
       "\\end{enumerate}\n"
      ],
      "text/markdown": [
       "1. 1. 1\n",
       "2. 2\n",
       "3. 3\n",
       "\n",
       "\n",
       "\n",
       "2. 1. 4\n",
       "2. 5\n",
       "3. 6\n",
       "4. 7\n",
       "\n",
       "\n",
       "\n",
       "\n",
       "\n"
      ],
      "text/plain": [
       "[[1]]\n",
       "[1] 1 2 3\n",
       "\n",
       "[[2]]\n",
       "[1] 4 5 6 7\n"
      ]
     },
     "metadata": {},
     "output_type": "display_data"
    }
   ],
   "source": [
    "list(c(1,2,3), 4:7)"
   ]
  },
  {
   "cell_type": "code",
   "execution_count": 242,
   "metadata": {},
   "outputs": [
    {
     "data": {
      "text/html": [
       "<ol>\n",
       "\t<li><table>\n",
       "<thead><tr><th scope=col>번호</th><th scope=col>랜덤</th><th scope=col>등급</th></tr></thead>\n",
       "<tbody>\n",
       "\t<tr><td> 1   </td><td>0.114</td><td>A    </td></tr>\n",
       "\t<tr><td> 2   </td><td>0.622</td><td>B    </td></tr>\n",
       "\t<tr><td> 3   </td><td>0.609</td><td>A    </td></tr>\n",
       "\t<tr><td> 4   </td><td>0.623</td><td>A    </td></tr>\n",
       "\t<tr><td> 5   </td><td>0.861</td><td>A    </td></tr>\n",
       "\t<tr><td> 6   </td><td>0.640</td><td>C    </td></tr>\n",
       "\t<tr><td> 7   </td><td>0.009</td><td>A    </td></tr>\n",
       "\t<tr><td> 8   </td><td>0.233</td><td>D    </td></tr>\n",
       "\t<tr><td> 9   </td><td>0.666</td><td>A    </td></tr>\n",
       "\t<tr><td>10   </td><td>0.514</td><td>A    </td></tr>\n",
       "</tbody>\n",
       "</table>\n",
       "</li>\n",
       "\t<li><ol class=list-inline>\n",
       "\t<li>1</li>\n",
       "\t<li>2</li>\n",
       "\t<li>3</li>\n",
       "\t<li>4</li>\n",
       "\t<li>5</li>\n",
       "\t<li>6</li>\n",
       "\t<li>7</li>\n",
       "\t<li>8</li>\n",
       "\t<li>9</li>\n",
       "\t<li>10</li>\n",
       "</ol>\n",
       "</li>\n",
       "</ol>\n"
      ],
      "text/latex": [
       "\\begin{enumerate}\n",
       "\\item \\begin{tabular}{r|lll}\n",
       " 번호 & 랜덤 & 등급\\\\\n",
       "\\hline\n",
       "\t  1    & 0.114 & A    \\\\\n",
       "\t  2    & 0.622 & B    \\\\\n",
       "\t  3    & 0.609 & A    \\\\\n",
       "\t  4    & 0.623 & A    \\\\\n",
       "\t  5    & 0.861 & A    \\\\\n",
       "\t  6    & 0.640 & C    \\\\\n",
       "\t  7    & 0.009 & A    \\\\\n",
       "\t  8    & 0.233 & D    \\\\\n",
       "\t  9    & 0.666 & A    \\\\\n",
       "\t 10    & 0.514 & A    \\\\\n",
       "\\end{tabular}\n",
       "\n",
       "\\item \\begin{enumerate*}\n",
       "\\item 1\n",
       "\\item 2\n",
       "\\item 3\n",
       "\\item 4\n",
       "\\item 5\n",
       "\\item 6\n",
       "\\item 7\n",
       "\\item 8\n",
       "\\item 9\n",
       "\\item 10\n",
       "\\end{enumerate*}\n",
       "\n",
       "\\end{enumerate}\n"
      ],
      "text/markdown": [
       "1. \n",
       "번호 | 랜덤 | 등급 | \n",
       "|---|---|---|---|---|---|---|---|---|---|\n",
       "|  1    | 0.114 | A     | \n",
       "|  2    | 0.622 | B     | \n",
       "|  3    | 0.609 | A     | \n",
       "|  4    | 0.623 | A     | \n",
       "|  5    | 0.861 | A     | \n",
       "|  6    | 0.640 | C     | \n",
       "|  7    | 0.009 | A     | \n",
       "|  8    | 0.233 | D     | \n",
       "|  9    | 0.666 | A     | \n",
       "| 10    | 0.514 | A     | \n",
       "\n",
       "\n",
       "\n",
       "2. 1. 1\n",
       "2. 2\n",
       "3. 3\n",
       "4. 4\n",
       "5. 5\n",
       "6. 6\n",
       "7. 7\n",
       "8. 8\n",
       "9. 9\n",
       "10. 10\n",
       "\n",
       "\n",
       "\n",
       "\n",
       "\n"
      ],
      "text/plain": [
       "[[1]]\n",
       "   번호  랜덤 등급\n",
       "1     1 0.114    A\n",
       "2     2 0.622    B\n",
       "3     3 0.609    A\n",
       "4     4 0.623    A\n",
       "5     5 0.861    A\n",
       "6     6 0.640    C\n",
       "7     7 0.009    A\n",
       "8     8 0.233    D\n",
       "9     9 0.666    A\n",
       "10   10 0.514    A\n",
       "\n",
       "[[2]]\n",
       " [1]  1  2  3  4  5  6  7  8  9 10\n"
      ]
     },
     "metadata": {},
     "output_type": "display_data"
    }
   ],
   "source": [
    "list(DF, 1:10)"
   ]
  },
  {
   "cell_type": "code",
   "execution_count": 244,
   "metadata": {},
   "outputs": [
    {
     "data": {
      "text/html": [
       "<dl>\n",
       "\t<dt>$dataframe</dt>\n",
       "\t\t<dd><table>\n",
       "<thead><tr><th scope=col>번호</th><th scope=col>랜덤</th><th scope=col>등급</th></tr></thead>\n",
       "<tbody>\n",
       "\t<tr><td> 1   </td><td>0.114</td><td>A    </td></tr>\n",
       "\t<tr><td> 2   </td><td>0.622</td><td>B    </td></tr>\n",
       "\t<tr><td> 3   </td><td>0.609</td><td>A    </td></tr>\n",
       "\t<tr><td> 4   </td><td>0.623</td><td>A    </td></tr>\n",
       "\t<tr><td> 5   </td><td>0.861</td><td>A    </td></tr>\n",
       "\t<tr><td> 6   </td><td>0.640</td><td>C    </td></tr>\n",
       "\t<tr><td> 7   </td><td>0.009</td><td>A    </td></tr>\n",
       "\t<tr><td> 8   </td><td>0.233</td><td>D    </td></tr>\n",
       "\t<tr><td> 9   </td><td>0.666</td><td>A    </td></tr>\n",
       "\t<tr><td>10   </td><td>0.514</td><td>A    </td></tr>\n",
       "</tbody>\n",
       "</table>\n",
       "</dd>\n",
       "\t<dt>$vector</dt>\n",
       "\t\t<dd><ol class=list-inline>\n",
       "\t<li>1</li>\n",
       "\t<li>2</li>\n",
       "\t<li>3</li>\n",
       "\t<li>4</li>\n",
       "\t<li>5</li>\n",
       "\t<li>6</li>\n",
       "\t<li>7</li>\n",
       "\t<li>8</li>\n",
       "\t<li>9</li>\n",
       "\t<li>10</li>\n",
       "</ol>\n",
       "</dd>\n",
       "</dl>\n"
      ],
      "text/latex": [
       "\\begin{description}\n",
       "\\item[\\$dataframe] \\begin{tabular}{r|lll}\n",
       " 번호 & 랜덤 & 등급\\\\\n",
       "\\hline\n",
       "\t  1    & 0.114 & A    \\\\\n",
       "\t  2    & 0.622 & B    \\\\\n",
       "\t  3    & 0.609 & A    \\\\\n",
       "\t  4    & 0.623 & A    \\\\\n",
       "\t  5    & 0.861 & A    \\\\\n",
       "\t  6    & 0.640 & C    \\\\\n",
       "\t  7    & 0.009 & A    \\\\\n",
       "\t  8    & 0.233 & D    \\\\\n",
       "\t  9    & 0.666 & A    \\\\\n",
       "\t 10    & 0.514 & A    \\\\\n",
       "\\end{tabular}\n",
       "\n",
       "\\item[\\$vector] \\begin{enumerate*}\n",
       "\\item 1\n",
       "\\item 2\n",
       "\\item 3\n",
       "\\item 4\n",
       "\\item 5\n",
       "\\item 6\n",
       "\\item 7\n",
       "\\item 8\n",
       "\\item 9\n",
       "\\item 10\n",
       "\\end{enumerate*}\n",
       "\n",
       "\\end{description}\n"
      ],
      "text/markdown": [
       "$dataframe\n",
       ":   \n",
       "번호 | 랜덤 | 등급 | \n",
       "|---|---|---|---|---|---|---|---|---|---|\n",
       "|  1    | 0.114 | A     | \n",
       "|  2    | 0.622 | B     | \n",
       "|  3    | 0.609 | A     | \n",
       "|  4    | 0.623 | A     | \n",
       "|  5    | 0.861 | A     | \n",
       "|  6    | 0.640 | C     | \n",
       "|  7    | 0.009 | A     | \n",
       "|  8    | 0.233 | D     | \n",
       "|  9    | 0.666 | A     | \n",
       "| 10    | 0.514 | A     | \n",
       "\n",
       "\n",
       "\n",
       "$vector\n",
       ":   1. 1\n",
       "2. 2\n",
       "3. 3\n",
       "4. 4\n",
       "5. 5\n",
       "6. 6\n",
       "7. 7\n",
       "8. 8\n",
       "9. 9\n",
       "10. 10\n",
       "\n",
       "\n",
       "\n",
       "\n",
       "\n"
      ],
      "text/plain": [
       "$dataframe\n",
       "   번호  랜덤 등급\n",
       "1     1 0.114    A\n",
       "2     2 0.622    B\n",
       "3     3 0.609    A\n",
       "4     4 0.623    A\n",
       "5     5 0.861    A\n",
       "6     6 0.640    C\n",
       "7     7 0.009    A\n",
       "8     8 0.233    D\n",
       "9     9 0.666    A\n",
       "10   10 0.514    A\n",
       "\n",
       "$vector\n",
       " [1]  1  2  3  4  5  6  7  8  9 10\n"
      ]
     },
     "metadata": {},
     "output_type": "display_data"
    }
   ],
   "source": [
    "lists <- list(DF, 1:10)\n",
    "names(lists) <- c(\"dataframe\", \"vector\")\n",
    "lists"
   ]
  },
  {
   "cell_type": "code",
   "execution_count": 247,
   "metadata": {},
   "outputs": [
    {
     "data": {
      "text/html": [
       "<table>\n",
       "<thead><tr><th scope=col>번호</th><th scope=col>랜덤</th><th scope=col>등급</th></tr></thead>\n",
       "<tbody>\n",
       "\t<tr><td> 1   </td><td>0.114</td><td>A    </td></tr>\n",
       "\t<tr><td> 2   </td><td>0.622</td><td>B    </td></tr>\n",
       "\t<tr><td> 3   </td><td>0.609</td><td>A    </td></tr>\n",
       "\t<tr><td> 4   </td><td>0.623</td><td>A    </td></tr>\n",
       "\t<tr><td> 5   </td><td>0.861</td><td>A    </td></tr>\n",
       "\t<tr><td> 6   </td><td>0.640</td><td>C    </td></tr>\n",
       "\t<tr><td> 7   </td><td>0.009</td><td>A    </td></tr>\n",
       "\t<tr><td> 8   </td><td>0.233</td><td>D    </td></tr>\n",
       "\t<tr><td> 9   </td><td>0.666</td><td>A    </td></tr>\n",
       "\t<tr><td>10   </td><td>0.514</td><td>A    </td></tr>\n",
       "</tbody>\n",
       "</table>\n"
      ],
      "text/latex": [
       "\\begin{tabular}{r|lll}\n",
       " 번호 & 랜덤 & 등급\\\\\n",
       "\\hline\n",
       "\t  1    & 0.114 & A    \\\\\n",
       "\t  2    & 0.622 & B    \\\\\n",
       "\t  3    & 0.609 & A    \\\\\n",
       "\t  4    & 0.623 & A    \\\\\n",
       "\t  5    & 0.861 & A    \\\\\n",
       "\t  6    & 0.640 & C    \\\\\n",
       "\t  7    & 0.009 & A    \\\\\n",
       "\t  8    & 0.233 & D    \\\\\n",
       "\t  9    & 0.666 & A    \\\\\n",
       "\t 10    & 0.514 & A    \\\\\n",
       "\\end{tabular}\n"
      ],
      "text/markdown": [
       "\n",
       "번호 | 랜덤 | 등급 | \n",
       "|---|---|---|---|---|---|---|---|---|---|\n",
       "|  1    | 0.114 | A     | \n",
       "|  2    | 0.622 | B     | \n",
       "|  3    | 0.609 | A     | \n",
       "|  4    | 0.623 | A     | \n",
       "|  5    | 0.861 | A     | \n",
       "|  6    | 0.640 | C     | \n",
       "|  7    | 0.009 | A     | \n",
       "|  8    | 0.233 | D     | \n",
       "|  9    | 0.666 | A     | \n",
       "| 10    | 0.514 | A     | \n",
       "\n",
       "\n"
      ],
      "text/plain": [
       "   번호 랜덤  등급\n",
       "1   1   0.114 A   \n",
       "2   2   0.622 B   \n",
       "3   3   0.609 A   \n",
       "4   4   0.623 A   \n",
       "5   5   0.861 A   \n",
       "6   6   0.640 C   \n",
       "7   7   0.009 A   \n",
       "8   8   0.233 D   \n",
       "9   9   0.666 A   \n",
       "10 10   0.514 A   "
      ]
     },
     "metadata": {},
     "output_type": "display_data"
    }
   ],
   "source": [
    "lists$dataframe"
   ]
  },
  {
   "cell_type": "code",
   "execution_count": 248,
   "metadata": {},
   "outputs": [
    {
     "data": {
      "text/html": [
       "<table>\n",
       "<thead><tr><th scope=col>번호</th><th scope=col>랜덤</th><th scope=col>등급</th></tr></thead>\n",
       "<tbody>\n",
       "\t<tr><td> 1   </td><td>0.114</td><td>A    </td></tr>\n",
       "\t<tr><td> 2   </td><td>0.622</td><td>B    </td></tr>\n",
       "\t<tr><td> 3   </td><td>0.609</td><td>A    </td></tr>\n",
       "\t<tr><td> 4   </td><td>0.623</td><td>A    </td></tr>\n",
       "\t<tr><td> 5   </td><td>0.861</td><td>A    </td></tr>\n",
       "\t<tr><td> 6   </td><td>0.640</td><td>C    </td></tr>\n",
       "\t<tr><td> 7   </td><td>0.009</td><td>A    </td></tr>\n",
       "\t<tr><td> 8   </td><td>0.233</td><td>D    </td></tr>\n",
       "\t<tr><td> 9   </td><td>0.666</td><td>A    </td></tr>\n",
       "\t<tr><td>10   </td><td>0.514</td><td>A    </td></tr>\n",
       "</tbody>\n",
       "</table>\n"
      ],
      "text/latex": [
       "\\begin{tabular}{r|lll}\n",
       " 번호 & 랜덤 & 등급\\\\\n",
       "\\hline\n",
       "\t  1    & 0.114 & A    \\\\\n",
       "\t  2    & 0.622 & B    \\\\\n",
       "\t  3    & 0.609 & A    \\\\\n",
       "\t  4    & 0.623 & A    \\\\\n",
       "\t  5    & 0.861 & A    \\\\\n",
       "\t  6    & 0.640 & C    \\\\\n",
       "\t  7    & 0.009 & A    \\\\\n",
       "\t  8    & 0.233 & D    \\\\\n",
       "\t  9    & 0.666 & A    \\\\\n",
       "\t 10    & 0.514 & A    \\\\\n",
       "\\end{tabular}\n"
      ],
      "text/markdown": [
       "\n",
       "번호 | 랜덤 | 등급 | \n",
       "|---|---|---|---|---|---|---|---|---|---|\n",
       "|  1    | 0.114 | A     | \n",
       "|  2    | 0.622 | B     | \n",
       "|  3    | 0.609 | A     | \n",
       "|  4    | 0.623 | A     | \n",
       "|  5    | 0.861 | A     | \n",
       "|  6    | 0.640 | C     | \n",
       "|  7    | 0.009 | A     | \n",
       "|  8    | 0.233 | D     | \n",
       "|  9    | 0.666 | A     | \n",
       "| 10    | 0.514 | A     | \n",
       "\n",
       "\n"
      ],
      "text/plain": [
       "   번호 랜덤  등급\n",
       "1   1   0.114 A   \n",
       "2   2   0.622 B   \n",
       "3   3   0.609 A   \n",
       "4   4   0.623 A   \n",
       "5   5   0.861 A   \n",
       "6   6   0.640 C   \n",
       "7   7   0.009 A   \n",
       "8   8   0.233 D   \n",
       "9   9   0.666 A   \n",
       "10 10   0.514 A   "
      ]
     },
     "metadata": {},
     "output_type": "display_data"
    }
   ],
   "source": [
    "lists[[1]]"
   ]
  },
  {
   "cell_type": "code",
   "execution_count": 249,
   "metadata": {},
   "outputs": [
    {
     "data": {
      "text/html": [
       "<table>\n",
       "<thead><tr><th scope=col>번호</th><th scope=col>랜덤</th><th scope=col>등급</th></tr></thead>\n",
       "<tbody>\n",
       "\t<tr><td> 1   </td><td>0.114</td><td>A    </td></tr>\n",
       "\t<tr><td> 2   </td><td>0.622</td><td>B    </td></tr>\n",
       "\t<tr><td> 3   </td><td>0.609</td><td>A    </td></tr>\n",
       "\t<tr><td> 4   </td><td>0.623</td><td>A    </td></tr>\n",
       "\t<tr><td> 5   </td><td>0.861</td><td>A    </td></tr>\n",
       "\t<tr><td> 6   </td><td>0.640</td><td>C    </td></tr>\n",
       "\t<tr><td> 7   </td><td>0.009</td><td>A    </td></tr>\n",
       "\t<tr><td> 8   </td><td>0.233</td><td>D    </td></tr>\n",
       "\t<tr><td> 9   </td><td>0.666</td><td>A    </td></tr>\n",
       "\t<tr><td>10   </td><td>0.514</td><td>A    </td></tr>\n",
       "</tbody>\n",
       "</table>\n"
      ],
      "text/latex": [
       "\\begin{tabular}{r|lll}\n",
       " 번호 & 랜덤 & 등급\\\\\n",
       "\\hline\n",
       "\t  1    & 0.114 & A    \\\\\n",
       "\t  2    & 0.622 & B    \\\\\n",
       "\t  3    & 0.609 & A    \\\\\n",
       "\t  4    & 0.623 & A    \\\\\n",
       "\t  5    & 0.861 & A    \\\\\n",
       "\t  6    & 0.640 & C    \\\\\n",
       "\t  7    & 0.009 & A    \\\\\n",
       "\t  8    & 0.233 & D    \\\\\n",
       "\t  9    & 0.666 & A    \\\\\n",
       "\t 10    & 0.514 & A    \\\\\n",
       "\\end{tabular}\n"
      ],
      "text/markdown": [
       "\n",
       "번호 | 랜덤 | 등급 | \n",
       "|---|---|---|---|---|---|---|---|---|---|\n",
       "|  1    | 0.114 | A     | \n",
       "|  2    | 0.622 | B     | \n",
       "|  3    | 0.609 | A     | \n",
       "|  4    | 0.623 | A     | \n",
       "|  5    | 0.861 | A     | \n",
       "|  6    | 0.640 | C     | \n",
       "|  7    | 0.009 | A     | \n",
       "|  8    | 0.233 | D     | \n",
       "|  9    | 0.666 | A     | \n",
       "| 10    | 0.514 | A     | \n",
       "\n",
       "\n"
      ],
      "text/plain": [
       "   번호 랜덤  등급\n",
       "1   1   0.114 A   \n",
       "2   2   0.622 B   \n",
       "3   3   0.609 A   \n",
       "4   4   0.623 A   \n",
       "5   5   0.861 A   \n",
       "6   6   0.640 C   \n",
       "7   7   0.009 A   \n",
       "8   8   0.233 D   \n",
       "9   9   0.666 A   \n",
       "10 10   0.514 A   "
      ]
     },
     "metadata": {},
     "output_type": "display_data"
    }
   ],
   "source": [
    "lists[[\"dataframe\"]]"
   ]
  },
  {
   "cell_type": "code",
   "execution_count": 250,
   "metadata": {},
   "outputs": [
    {
     "data": {
      "text/html": [
       "<table>\n",
       "<thead><tr><th scope=col>랜덤</th></tr></thead>\n",
       "<tbody>\n",
       "\t<tr><td>0.114</td></tr>\n",
       "\t<tr><td>0.622</td></tr>\n",
       "\t<tr><td>0.609</td></tr>\n",
       "\t<tr><td>0.623</td></tr>\n",
       "\t<tr><td>0.861</td></tr>\n",
       "\t<tr><td>0.640</td></tr>\n",
       "\t<tr><td>0.009</td></tr>\n",
       "\t<tr><td>0.233</td></tr>\n",
       "\t<tr><td>0.666</td></tr>\n",
       "\t<tr><td>0.514</td></tr>\n",
       "</tbody>\n",
       "</table>\n"
      ],
      "text/latex": [
       "\\begin{tabular}{r|l}\n",
       " 랜덤\\\\\n",
       "\\hline\n",
       "\t 0.114\\\\\n",
       "\t 0.622\\\\\n",
       "\t 0.609\\\\\n",
       "\t 0.623\\\\\n",
       "\t 0.861\\\\\n",
       "\t 0.640\\\\\n",
       "\t 0.009\\\\\n",
       "\t 0.233\\\\\n",
       "\t 0.666\\\\\n",
       "\t 0.514\\\\\n",
       "\\end{tabular}\n"
      ],
      "text/markdown": [
       "\n",
       "랜덤 | \n",
       "|---|---|---|---|---|---|---|---|---|---|\n",
       "| 0.114 | \n",
       "| 0.622 | \n",
       "| 0.609 | \n",
       "| 0.623 | \n",
       "| 0.861 | \n",
       "| 0.640 | \n",
       "| 0.009 | \n",
       "| 0.233 | \n",
       "| 0.666 | \n",
       "| 0.514 | \n",
       "\n",
       "\n"
      ],
      "text/plain": [
       "   랜덤 \n",
       "1  0.114\n",
       "2  0.622\n",
       "3  0.609\n",
       "4  0.623\n",
       "5  0.861\n",
       "6  0.640\n",
       "7  0.009\n",
       "8  0.233\n",
       "9  0.666\n",
       "10 0.514"
      ]
     },
     "metadata": {},
     "output_type": "display_data"
    }
   ],
   "source": [
    "lists[[1]][\"랜덤\"]"
   ]
  },
  {
   "cell_type": "markdown",
   "metadata": {},
   "source": [
    "## 4.3 Matrix"
   ]
  },
  {
   "cell_type": "code",
   "execution_count": 252,
   "metadata": {},
   "outputs": [
    {
     "data": {
      "text/html": [
       "<table>\n",
       "<tbody>\n",
       "\t<tr><td>1 </td><td> 6</td></tr>\n",
       "\t<tr><td>2 </td><td> 7</td></tr>\n",
       "\t<tr><td>3 </td><td> 8</td></tr>\n",
       "\t<tr><td>4 </td><td> 9</td></tr>\n",
       "\t<tr><td>5 </td><td>10</td></tr>\n",
       "</tbody>\n",
       "</table>\n"
      ],
      "text/latex": [
       "\\begin{tabular}{ll}\n",
       "\t 1  &  6\\\\\n",
       "\t 2  &  7\\\\\n",
       "\t 3  &  8\\\\\n",
       "\t 4  &  9\\\\\n",
       "\t 5  & 10\\\\\n",
       "\\end{tabular}\n"
      ],
      "text/markdown": [
       "\n",
       "| 1  |  6 | \n",
       "| 2  |  7 | \n",
       "| 3  |  8 | \n",
       "| 4  |  9 | \n",
       "| 5  | 10 | \n",
       "\n",
       "\n"
      ],
      "text/plain": [
       "     [,1] [,2]\n",
       "[1,] 1     6  \n",
       "[2,] 2     7  \n",
       "[3,] 3     8  \n",
       "[4,] 4     9  \n",
       "[5,] 5    10  "
      ]
     },
     "metadata": {},
     "output_type": "display_data"
    }
   ],
   "source": [
    "A <- matrix(1:10, nrow = 5)\n",
    "A"
   ]
  },
  {
   "cell_type": "code",
   "execution_count": 254,
   "metadata": {},
   "outputs": [
    {
     "data": {
      "text/html": [
       "<table>\n",
       "<tbody>\n",
       "\t<tr><td>11</td><td>16</td></tr>\n",
       "\t<tr><td>12</td><td>17</td></tr>\n",
       "\t<tr><td>13</td><td>18</td></tr>\n",
       "\t<tr><td>14</td><td>19</td></tr>\n",
       "\t<tr><td>15</td><td>20</td></tr>\n",
       "</tbody>\n",
       "</table>\n"
      ],
      "text/latex": [
       "\\begin{tabular}{ll}\n",
       "\t 11 & 16\\\\\n",
       "\t 12 & 17\\\\\n",
       "\t 13 & 18\\\\\n",
       "\t 14 & 19\\\\\n",
       "\t 15 & 20\\\\\n",
       "\\end{tabular}\n"
      ],
      "text/markdown": [
       "\n",
       "| 11 | 16 | \n",
       "| 12 | 17 | \n",
       "| 13 | 18 | \n",
       "| 14 | 19 | \n",
       "| 15 | 20 | \n",
       "\n",
       "\n"
      ],
      "text/plain": [
       "     [,1] [,2]\n",
       "[1,] 11   16  \n",
       "[2,] 12   17  \n",
       "[3,] 13   18  \n",
       "[4,] 14   19  \n",
       "[5,] 15   20  "
      ]
     },
     "metadata": {},
     "output_type": "display_data"
    }
   ],
   "source": [
    "B <- matrix(11:20, ncol=2)\n",
    "B"
   ]
  },
  {
   "cell_type": "code",
   "execution_count": 258,
   "metadata": {},
   "outputs": [
    {
     "data": {
      "text/html": [
       "<table>\n",
       "<tbody>\n",
       "\t<tr><td>12</td><td>22</td></tr>\n",
       "\t<tr><td>14</td><td>24</td></tr>\n",
       "\t<tr><td>16</td><td>26</td></tr>\n",
       "\t<tr><td>18</td><td>28</td></tr>\n",
       "\t<tr><td>20</td><td>30</td></tr>\n",
       "</tbody>\n",
       "</table>\n"
      ],
      "text/latex": [
       "\\begin{tabular}{ll}\n",
       "\t 12 & 22\\\\\n",
       "\t 14 & 24\\\\\n",
       "\t 16 & 26\\\\\n",
       "\t 18 & 28\\\\\n",
       "\t 20 & 30\\\\\n",
       "\\end{tabular}\n"
      ],
      "text/markdown": [
       "\n",
       "| 12 | 22 | \n",
       "| 14 | 24 | \n",
       "| 16 | 26 | \n",
       "| 18 | 28 | \n",
       "| 20 | 30 | \n",
       "\n",
       "\n"
      ],
      "text/plain": [
       "     [,1] [,2]\n",
       "[1,] 12   22  \n",
       "[2,] 14   24  \n",
       "[3,] 16   26  \n",
       "[4,] 18   28  \n",
       "[5,] 20   30  "
      ]
     },
     "metadata": {},
     "output_type": "display_data"
    }
   ],
   "source": [
    "A+B"
   ]
  },
  {
   "cell_type": "code",
   "execution_count": 261,
   "metadata": {},
   "outputs": [
    {
     "data": {
      "text/html": [
       "<table>\n",
       "<tbody>\n",
       "\t<tr><td>11 </td><td> 96</td></tr>\n",
       "\t<tr><td>24 </td><td>119</td></tr>\n",
       "\t<tr><td>39 </td><td>144</td></tr>\n",
       "\t<tr><td>56 </td><td>171</td></tr>\n",
       "\t<tr><td>75 </td><td>200</td></tr>\n",
       "</tbody>\n",
       "</table>\n"
      ],
      "text/latex": [
       "\\begin{tabular}{ll}\n",
       "\t 11  &  96\\\\\n",
       "\t 24  & 119\\\\\n",
       "\t 39  & 144\\\\\n",
       "\t 56  & 171\\\\\n",
       "\t 75  & 200\\\\\n",
       "\\end{tabular}\n"
      ],
      "text/markdown": [
       "\n",
       "| 11  |  96 | \n",
       "| 24  | 119 | \n",
       "| 39  | 144 | \n",
       "| 56  | 171 | \n",
       "| 75  | 200 | \n",
       "\n",
       "\n"
      ],
      "text/plain": [
       "     [,1] [,2]\n",
       "[1,] 11    96 \n",
       "[2,] 24   119 \n",
       "[3,] 39   144 \n",
       "[4,] 56   171 \n",
       "[5,] 75   200 "
      ]
     },
     "metadata": {},
     "output_type": "display_data"
    }
   ],
   "source": [
    "A*B"
   ]
  },
  {
   "cell_type": "code",
   "execution_count": 263,
   "metadata": {},
   "outputs": [
    {
     "data": {
      "text/html": [
       "<table>\n",
       "<tbody>\n",
       "\t<tr><td>107</td><td>114</td><td>121</td><td>128</td><td>135</td></tr>\n",
       "\t<tr><td>134</td><td>143</td><td>152</td><td>161</td><td>170</td></tr>\n",
       "\t<tr><td>161</td><td>172</td><td>183</td><td>194</td><td>205</td></tr>\n",
       "\t<tr><td>188</td><td>201</td><td>214</td><td>227</td><td>240</td></tr>\n",
       "\t<tr><td>215</td><td>230</td><td>245</td><td>260</td><td>275</td></tr>\n",
       "</tbody>\n",
       "</table>\n"
      ],
      "text/latex": [
       "\\begin{tabular}{lllll}\n",
       "\t 107 & 114 & 121 & 128 & 135\\\\\n",
       "\t 134 & 143 & 152 & 161 & 170\\\\\n",
       "\t 161 & 172 & 183 & 194 & 205\\\\\n",
       "\t 188 & 201 & 214 & 227 & 240\\\\\n",
       "\t 215 & 230 & 245 & 260 & 275\\\\\n",
       "\\end{tabular}\n"
      ],
      "text/markdown": [
       "\n",
       "| 107 | 114 | 121 | 128 | 135 | \n",
       "| 134 | 143 | 152 | 161 | 170 | \n",
       "| 161 | 172 | 183 | 194 | 205 | \n",
       "| 188 | 201 | 214 | 227 | 240 | \n",
       "| 215 | 230 | 245 | 260 | 275 | \n",
       "\n",
       "\n"
      ],
      "text/plain": [
       "     [,1] [,2] [,3] [,4] [,5]\n",
       "[1,] 107  114  121  128  135 \n",
       "[2,] 134  143  152  161  170 \n",
       "[3,] 161  172  183  194  205 \n",
       "[4,] 188  201  214  227  240 \n",
       "[5,] 215  230  245  260  275 "
      ]
     },
     "metadata": {},
     "output_type": "display_data"
    }
   ],
   "source": [
    "# inner product\n",
    "A%*%t(B)"
   ]
  },
  {
   "cell_type": "code",
   "execution_count": 270,
   "metadata": {},
   "outputs": [
    {
     "data": {
      "text/html": [
       "<table>\n",
       "<tbody>\n",
       "\t<tr><td>109</td><td>96 </td><td>83 </td><td>70 </td><td>57 </td><td>44 </td><td>31 </td></tr>\n",
       "\t<tr><td> 96</td><td>85 </td><td>74 </td><td>63 </td><td>52 </td><td>41 </td><td>30 </td></tr>\n",
       "\t<tr><td> 83</td><td>74 </td><td>65 </td><td>56 </td><td>47 </td><td>38 </td><td>29 </td></tr>\n",
       "\t<tr><td> 70</td><td>63 </td><td>56 </td><td>49 </td><td>42 </td><td>35 </td><td>28 </td></tr>\n",
       "\t<tr><td> 57</td><td>52 </td><td>47 </td><td>42 </td><td>37 </td><td>32 </td><td>27 </td></tr>\n",
       "\t<tr><td> 44</td><td>41 </td><td>38 </td><td>35 </td><td>32 </td><td>29 </td><td>26 </td></tr>\n",
       "\t<tr><td> 31</td><td>30 </td><td>29 </td><td>28 </td><td>27 </td><td>26 </td><td>25 </td></tr>\n",
       "</tbody>\n",
       "</table>\n"
      ],
      "text/latex": [
       "\\begin{tabular}{lllllll}\n",
       "\t 109 & 96  & 83  & 70  & 57  & 44  & 31 \\\\\n",
       "\t  96 & 85  & 74  & 63  & 52  & 41  & 30 \\\\\n",
       "\t  83 & 74  & 65  & 56  & 47  & 38  & 29 \\\\\n",
       "\t  70 & 63  & 56  & 49  & 42  & 35  & 28 \\\\\n",
       "\t  57 & 52  & 47  & 42  & 37  & 32  & 27 \\\\\n",
       "\t  44 & 41  & 38  & 35  & 32  & 29  & 26 \\\\\n",
       "\t  31 & 30  & 29  & 28  & 27  & 26  & 25 \\\\\n",
       "\\end{tabular}\n"
      ],
      "text/markdown": [
       "\n",
       "| 109 | 96  | 83  | 70  | 57  | 44  | 31  | \n",
       "|  96 | 85  | 74  | 63  | 52  | 41  | 30  | \n",
       "|  83 | 74  | 65  | 56  | 47  | 38  | 29  | \n",
       "|  70 | 63  | 56  | 49  | 42  | 35  | 28  | \n",
       "|  57 | 52  | 47  | 42  | 37  | 32  | 27  | \n",
       "|  44 | 41  | 38  | 35  | 32  | 29  | 26  | \n",
       "|  31 | 30  | 29  | 28  | 27  | 26  | 25  | \n",
       "\n",
       "\n"
      ],
      "text/plain": [
       "     [,1] [,2] [,3] [,4] [,5] [,6] [,7]\n",
       "[1,] 109  96   83   70   57   44   31  \n",
       "[2,]  96  85   74   63   52   41   30  \n",
       "[3,]  83  74   65   56   47   38   29  \n",
       "[4,]  70  63   56   49   42   35   28  \n",
       "[5,]  57  52   47   42   37   32   27  \n",
       "[6,]  44  41   38   35   32   29   26  \n",
       "[7,]  31  30   29   28   27   26   25  "
      ]
     },
     "metadata": {},
     "output_type": "display_data"
    }
   ],
   "source": [
    "A <- matrix(-10:3, ncol=2)\n",
    "# 자기 자신과의 내적의 결과는 반드시 0또는 양수\n",
    "A%*%t(A)"
   ]
  },
  {
   "cell_type": "code",
   "execution_count": 277,
   "metadata": {},
   "outputs": [
    {
     "data": {
      "text/html": [
       "<table>\n",
       "<thead><tr><th scope=col>group1</th><th scope=col>group2</th></tr></thead>\n",
       "<tbody>\n",
       "\t<tr><td>-10</td><td>-3 </td></tr>\n",
       "\t<tr><td> -9</td><td>-2 </td></tr>\n",
       "\t<tr><td> -8</td><td>-1 </td></tr>\n",
       "\t<tr><td> -7</td><td> 0 </td></tr>\n",
       "\t<tr><td> -6</td><td> 1 </td></tr>\n",
       "\t<tr><td> -5</td><td> 2 </td></tr>\n",
       "\t<tr><td> -4</td><td> 3 </td></tr>\n",
       "</tbody>\n",
       "</table>\n"
      ],
      "text/latex": [
       "\\begin{tabular}{ll}\n",
       " group1 & group2\\\\\n",
       "\\hline\n",
       "\t -10 & -3 \\\\\n",
       "\t  -9 & -2 \\\\\n",
       "\t  -8 & -1 \\\\\n",
       "\t  -7 &  0 \\\\\n",
       "\t  -6 &  1 \\\\\n",
       "\t  -5 &  2 \\\\\n",
       "\t  -4 &  3 \\\\\n",
       "\\end{tabular}\n"
      ],
      "text/markdown": [
       "\n",
       "group1 | group2 | \n",
       "|---|---|---|---|---|---|---|\n",
       "| -10 | -3  | \n",
       "|  -9 | -2  | \n",
       "|  -8 | -1  | \n",
       "|  -7 |  0  | \n",
       "|  -6 |  1  | \n",
       "|  -5 |  2  | \n",
       "|  -4 |  3  | \n",
       "\n",
       "\n"
      ],
      "text/plain": [
       "     group1 group2\n",
       "[1,] -10    -3    \n",
       "[2,]  -9    -2    \n",
       "[3,]  -8    -1    \n",
       "[4,]  -7     0    \n",
       "[5,]  -6     1    \n",
       "[6,]  -5     2    \n",
       "[7,]  -4     3    "
      ]
     },
     "metadata": {},
     "output_type": "display_data"
    }
   ],
   "source": [
    "colnames(A) <- c(\"group1\", \"group2\")\n",
    "A"
   ]
  },
  {
   "cell_type": "code",
   "execution_count": 279,
   "metadata": {},
   "outputs": [
    {
     "data": {
      "text/html": [
       "<table>\n",
       "<thead><tr><th></th><th scope=col>group1</th><th scope=col>group2</th></tr></thead>\n",
       "<tbody>\n",
       "\t<tr><th scope=row>1</th><td>-10</td><td>-3 </td></tr>\n",
       "\t<tr><th scope=row>2</th><td> -9</td><td>-2 </td></tr>\n",
       "\t<tr><th scope=row>3</th><td> -8</td><td>-1 </td></tr>\n",
       "\t<tr><th scope=row>4</th><td> -7</td><td> 0 </td></tr>\n",
       "\t<tr><th scope=row>5</th><td> -6</td><td> 1 </td></tr>\n",
       "\t<tr><th scope=row>6</th><td> -5</td><td> 2 </td></tr>\n",
       "\t<tr><th scope=row>7</th><td> -4</td><td> 3 </td></tr>\n",
       "</tbody>\n",
       "</table>\n"
      ],
      "text/latex": [
       "\\begin{tabular}{r|ll}\n",
       "  & group1 & group2\\\\\n",
       "\\hline\n",
       "\t1 & -10 & -3 \\\\\n",
       "\t2 &  -9 & -2 \\\\\n",
       "\t3 &  -8 & -1 \\\\\n",
       "\t4 &  -7 &  0 \\\\\n",
       "\t5 &  -6 &  1 \\\\\n",
       "\t6 &  -5 &  2 \\\\\n",
       "\t7 &  -4 &  3 \\\\\n",
       "\\end{tabular}\n"
      ],
      "text/markdown": [
       "\n",
       "| <!--/--> | group1 | group2 | \n",
       "|---|---|---|---|---|---|---|\n",
       "| 1 | -10 | -3  | \n",
       "| 2 |  -9 | -2  | \n",
       "| 3 |  -8 | -1  | \n",
       "| 4 |  -7 |  0  | \n",
       "| 5 |  -6 |  1  | \n",
       "| 6 |  -5 |  2  | \n",
       "| 7 |  -4 |  3  | \n",
       "\n",
       "\n"
      ],
      "text/plain": [
       "  group1 group2\n",
       "1 -10    -3    \n",
       "2  -9    -2    \n",
       "3  -8    -1    \n",
       "4  -7     0    \n",
       "5  -6     1    \n",
       "6  -5     2    \n",
       "7  -4     3    "
      ]
     },
     "metadata": {},
     "output_type": "display_data"
    }
   ],
   "source": [
    "rownames(A) <- c(\"1\", \"2\", \"3\", \"4\", \"5\", \"6\", \"7\")\n",
    "A"
   ]
  },
  {
   "cell_type": "code",
   "execution_count": 280,
   "metadata": {},
   "outputs": [
    {
     "data": {
      "text/html": [
       "<table>\n",
       "<thead><tr><th></th><th scope=col>1</th><th scope=col>2</th><th scope=col>3</th><th scope=col>4</th><th scope=col>5</th><th scope=col>6</th><th scope=col>7</th></tr></thead>\n",
       "<tbody>\n",
       "\t<tr><th scope=row>group1</th><td>-10</td><td>-9 </td><td>-8 </td><td>-7 </td><td>-6 </td><td>-5 </td><td>-4 </td></tr>\n",
       "\t<tr><th scope=row>group2</th><td> -3</td><td>-2 </td><td>-1 </td><td> 0 </td><td> 1 </td><td> 2 </td><td> 3 </td></tr>\n",
       "</tbody>\n",
       "</table>\n"
      ],
      "text/latex": [
       "\\begin{tabular}{r|lllllll}\n",
       "  & 1 & 2 & 3 & 4 & 5 & 6 & 7\\\\\n",
       "\\hline\n",
       "\tgroup1 & -10 & -9  & -8  & -7  & -6  & -5  & -4 \\\\\n",
       "\tgroup2 &  -3 & -2  & -1  &  0  &  1  &  2  &  3 \\\\\n",
       "\\end{tabular}\n"
      ],
      "text/markdown": [
       "\n",
       "| <!--/--> | 1 | 2 | 3 | 4 | 5 | 6 | 7 | \n",
       "|---|---|\n",
       "| group1 | -10 | -9  | -8  | -7  | -6  | -5  | -4  | \n",
       "| group2 |  -3 | -2  | -1  |  0  |  1  |  2  |  3  | \n",
       "\n",
       "\n"
      ],
      "text/plain": [
       "       1   2  3  4  5  6  7 \n",
       "group1 -10 -9 -8 -7 -6 -5 -4\n",
       "group2  -3 -2 -1  0  1  2  3"
      ]
     },
     "metadata": {},
     "output_type": "display_data"
    }
   ],
   "source": [
    "t(A)"
   ]
  },
  {
   "cell_type": "markdown",
   "metadata": {},
   "source": [
    "## 4.4 Array"
   ]
  },
  {
   "cell_type": "code",
   "execution_count": 288,
   "metadata": {},
   "outputs": [
    {
     "data": {
      "text/html": [
       "<ol class=list-inline>\n",
       "\t<li>2</li>\n",
       "\t<li>3</li>\n",
       "\t<li>2</li>\n",
       "</ol>\n"
      ],
      "text/latex": [
       "\\begin{enumerate*}\n",
       "\\item 2\n",
       "\\item 3\n",
       "\\item 2\n",
       "\\end{enumerate*}\n"
      ],
      "text/markdown": [
       "1. 2\n",
       "2. 3\n",
       "3. 2\n",
       "\n",
       "\n"
      ],
      "text/plain": [
       "[1] 2 3 2"
      ]
     },
     "metadata": {},
     "output_type": "display_data"
    },
    {
     "data": {
      "text/html": [
       "<table>\n",
       "<tbody>\n",
       "\t<tr><td>1</td><td>3</td><td>5</td></tr>\n",
       "\t<tr><td>2</td><td>4</td><td>6</td></tr>\n",
       "</tbody>\n",
       "</table>\n"
      ],
      "text/latex": [
       "\\begin{tabular}{lll}\n",
       "\t 1 & 3 & 5\\\\\n",
       "\t 2 & 4 & 6\\\\\n",
       "\\end{tabular}\n"
      ],
      "text/markdown": [
       "\n",
       "| 1 | 3 | 5 | \n",
       "| 2 | 4 | 6 | \n",
       "\n",
       "\n"
      ],
      "text/plain": [
       "     [,1] [,2] [,3]\n",
       "[1,] 1    3    5   \n",
       "[2,] 2    4    6   "
      ]
     },
     "metadata": {},
     "output_type": "display_data"
    },
    {
     "data": {
      "text/html": [
       "<table>\n",
       "<tbody>\n",
       "\t<tr><td>7 </td><td> 9</td><td>11</td></tr>\n",
       "\t<tr><td>8 </td><td>10</td><td>12</td></tr>\n",
       "</tbody>\n",
       "</table>\n"
      ],
      "text/latex": [
       "\\begin{tabular}{lll}\n",
       "\t 7  &  9 & 11\\\\\n",
       "\t 8  & 10 & 12\\\\\n",
       "\\end{tabular}\n"
      ],
      "text/markdown": [
       "\n",
       "| 7  |  9 | 11 | \n",
       "| 8  | 10 | 12 | \n",
       "\n",
       "\n"
      ],
      "text/plain": [
       "     [,1] [,2] [,3]\n",
       "[1,] 7     9   11  \n",
       "[2,] 8    10   12  "
      ]
     },
     "metadata": {},
     "output_type": "display_data"
    }
   ],
   "source": [
    "Arr <- array(1:12, dim = c(2, 3, 2))\n",
    "dim(Arr)\n",
    "Arr[, , 1]\n",
    "Arr[, , 2]"
   ]
  },
  {
   "cell_type": "code",
   "execution_count": 289,
   "metadata": {},
   "outputs": [
    {
     "data": {
      "text/html": [
       "<ol class=list-inline>\n",
       "\t<li>1</li>\n",
       "\t<li>3</li>\n",
       "\t<li>5</li>\n",
       "</ol>\n"
      ],
      "text/latex": [
       "\\begin{enumerate*}\n",
       "\\item 1\n",
       "\\item 3\n",
       "\\item 5\n",
       "\\end{enumerate*}\n"
      ],
      "text/markdown": [
       "1. 1\n",
       "2. 3\n",
       "3. 5\n",
       "\n",
       "\n"
      ],
      "text/plain": [
       "[1] 1 3 5"
      ]
     },
     "metadata": {},
     "output_type": "display_data"
    }
   ],
   "source": [
    "Arr[1, ,1]"
   ]
  },
  {
   "cell_type": "code",
   "execution_count": 286,
   "metadata": {},
   "outputs": [
    {
     "data": {
      "text/html": [
       "<table>\n",
       "<tbody>\n",
       "\t<tr><td>1 </td><td> 7</td></tr>\n",
       "\t<tr><td>3 </td><td> 9</td></tr>\n",
       "\t<tr><td>5 </td><td>11</td></tr>\n",
       "</tbody>\n",
       "</table>\n"
      ],
      "text/latex": [
       "\\begin{tabular}{ll}\n",
       "\t 1  &  7\\\\\n",
       "\t 3  &  9\\\\\n",
       "\t 5  & 11\\\\\n",
       "\\end{tabular}\n"
      ],
      "text/markdown": [
       "\n",
       "| 1  |  7 | \n",
       "| 3  |  9 | \n",
       "| 5  | 11 | \n",
       "\n",
       "\n"
      ],
      "text/plain": [
       "     [,1] [,2]\n",
       "[1,] 1     7  \n",
       "[2,] 3     9  \n",
       "[3,] 5    11  "
      ]
     },
     "metadata": {},
     "output_type": "display_data"
    }
   ],
   "source": [
    "Arr[1, ,]"
   ]
  },
  {
   "cell_type": "code",
   "execution_count": null,
   "metadata": {},
   "outputs": [],
   "source": []
  }
 ],
 "metadata": {
  "kernelspec": {
   "display_name": "R",
   "language": "R",
   "name": "ir"
  },
  "language_info": {
   "codemirror_mode": "r",
   "file_extension": ".r",
   "mimetype": "text/x-r-source",
   "name": "R",
   "pygments_lexer": "r",
   "version": "3.4.3"
  }
 },
 "nbformat": 4,
 "nbformat_minor": 2
}
