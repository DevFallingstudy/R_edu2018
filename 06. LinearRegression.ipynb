{
 "cells": [
  {
   "cell_type": "markdown",
   "metadata": {},
   "source": [
    "# start of Example"
   ]
  },
  {
   "cell_type": "code",
   "execution_count": 1,
   "metadata": {},
   "outputs": [
    {
     "data": {
      "text/plain": [
       "R version 3.4.3 (2017-11-30)\n",
       "Platform: x86_64-apple-darwin13.4.0 (64-bit)\n",
       "Running under: macOS High Sierra 10.13.6\n",
       "\n",
       "Matrix products: default\n",
       "BLAS: /System/Library/Frameworks/Accelerate.framework/Versions/A/Frameworks/vecLib.framework/Versions/A/libBLAS.dylib\n",
       "LAPACK: /System/Library/Frameworks/Accelerate.framework/Versions/A/Frameworks/vecLib.framework/Versions/A/libLAPACK.dylib\n",
       "\n",
       "locale:\n",
       "[1] ko_KR.UTF-8/ko_KR.UTF-8/ko_KR.UTF-8/C/ko_KR.UTF-8/ko_KR.UTF-8\n",
       "\n",
       "attached base packages:\n",
       "[1] stats     graphics  grDevices utils     datasets  methods   base     \n",
       "\n",
       "loaded via a namespace (and not attached):\n",
       " [1] compiler_3.4.3  magrittr_1.5    IRdisplay_0.4.4 pbdZMQ_0.3-0   \n",
       " [5] tools_3.4.3     crayon_1.3.4    uuid_0.1-2      stringi_1.1.6  \n",
       " [9] IRkernel_0.8.11 jsonlite_1.5    stringr_1.2.0   digest_0.6.13  \n",
       "[13] repr_0.12.0     evaluate_0.10.1"
      ]
     },
     "metadata": {},
     "output_type": "display_data"
    }
   ],
   "source": [
    "rm(list=ls())\n",
    "sessionInfo()"
   ]
  },
  {
   "cell_type": "markdown",
   "metadata": {},
   "source": [
    "# Read Data"
   ]
  },
  {
   "cell_type": "code",
   "execution_count": 10,
   "metadata": {},
   "outputs": [],
   "source": [
    "library(data.table)\n",
    "\n",
    "raw <- fread('./data/공공데이터포탈_건강검진정보_2018/NHIS_OPEN_GJ_2015/NHIS_OPEN_GJ_2015.CSV')"
   ]
  },
  {
   "cell_type": "markdown",
   "metadata": {},
   "source": [
    "# Describe Data"
   ]
  },
  {
   "cell_type": "code",
   "execution_count": 12,
   "metadata": {},
   "outputs": [
    {
     "data": {
      "text/html": [
       "<table>\n",
       "<thead><tr><th scope=col>기준년도</th><th scope=col>가입자일련번호</th><th scope=col>성별코드</th><th scope=col>연령대코드(5세단위)</th><th scope=col>시도코드</th><th scope=col>신장(5Cm단위)</th><th scope=col>체중(5Kg 단위)</th><th scope=col>허리둘레</th><th scope=col>시력(좌)</th><th scope=col>시력(우)</th><th scope=col>⋯</th><th scope=col>혈청크레아티닌</th><th scope=col>(혈청지오티)AST</th><th scope=col>(혈청지오티)ALT</th><th scope=col>감마지티피</th><th scope=col>흡연상태</th><th scope=col>음주여부</th><th scope=col>구강검진 수검여부</th><th scope=col>치아우식증유무</th><th scope=col>치석유무</th><th scope=col>데이터 기준일자</th></tr></thead>\n",
       "<tbody>\n",
       "\t<tr><td>2015    </td><td>1       </td><td>2       </td><td>15      </td><td>45      </td><td>155     </td><td>60      </td><td>88      </td><td>0.6     </td><td>0.7     </td><td>⋯       </td><td>1.1     </td><td>17      </td><td>28      </td><td>23      </td><td>1       </td><td>1       </td><td>0       </td><td>NA      </td><td>NA      </td><td>20161220</td></tr>\n",
       "\t<tr><td>2015    </td><td>2       </td><td>2       </td><td>15      </td><td>11      </td><td>155     </td><td>65      </td><td>98      </td><td>1.2     </td><td>0.6     </td><td>⋯       </td><td>1.0     </td><td>25      </td><td>30      </td><td>41      </td><td>1       </td><td>1       </td><td>1       </td><td>NA      </td><td> 0      </td><td>20161220</td></tr>\n",
       "\t<tr><td>2015    </td><td>3       </td><td>2       </td><td>11      </td><td>26      </td><td>155     </td><td>65      </td><td>85      </td><td>1.2     </td><td>0.9     </td><td>⋯       </td><td>0.6     </td><td>18      </td><td>16      </td><td>25      </td><td>1       </td><td>0       </td><td>0       </td><td>NA      </td><td>NA      </td><td>20161220</td></tr>\n",
       "\t<tr><td>2015    </td><td>4       </td><td>1       </td><td> 9      </td><td>41      </td><td>175     </td><td>75      </td><td>89      </td><td>0.2     </td><td>0.2     </td><td>⋯       </td><td>0.9     </td><td>28      </td><td>40      </td><td>50      </td><td>1       </td><td>1       </td><td>1       </td><td> 0      </td><td>NA      </td><td>20161220</td></tr>\n",
       "\t<tr><td>2015    </td><td>5       </td><td>1       </td><td>16      </td><td>47      </td><td>160     </td><td>50      </td><td>78      </td><td>0.5     </td><td>0.6     </td><td>⋯       </td><td>1.0     </td><td>20      </td><td>13      </td><td>19      </td><td>2       </td><td>0       </td><td>1       </td><td>NA      </td><td> 0      </td><td>20161220</td></tr>\n",
       "\t<tr><td>2015    </td><td>6       </td><td>1       </td><td>11      </td><td>26      </td><td>170     </td><td>60      </td><td>74      </td><td>1.0     </td><td>0.8     </td><td>⋯       </td><td>0.9     </td><td>22      </td><td>16      </td><td>12      </td><td>1       </td><td>1       </td><td>0       </td><td>NA      </td><td>NA      </td><td>20161220</td></tr>\n",
       "</tbody>\n",
       "</table>\n"
      ],
      "text/latex": [
       "\\begin{tabular}{r|lllllllllllllllllllllllllllllll}\n",
       " 기준년도 & 가입자일련번호 & 성별코드 & 연령대코드(5세단위) & 시도코드 & 신장(5Cm단위) & 체중(5Kg 단위) & 허리둘레 & 시력(좌) & 시력(우) & ⋯ & 혈청크레아티닌 & (혈청지오티)AST & (혈청지오티)ALT & 감마지티피 & 흡연상태 & 음주여부 & 구강검진 수검여부 & 치아우식증유무 & 치석유무 & 데이터 기준일자\\\\\n",
       "\\hline\n",
       "\t 2015     & 1        & 2        & 15       & 45       & 155      & 60       & 88       & 0.6      & 0.7      & ⋯        & 1.1      & 17       & 28       & 23       & 1        & 1        & 0        & NA       & NA       & 20161220\\\\\n",
       "\t 2015     & 2        & 2        & 15       & 11       & 155      & 65       & 98       & 1.2      & 0.6      & ⋯        & 1.0      & 25       & 30       & 41       & 1        & 1        & 1        & NA       &  0       & 20161220\\\\\n",
       "\t 2015     & 3        & 2        & 11       & 26       & 155      & 65       & 85       & 1.2      & 0.9      & ⋯        & 0.6      & 18       & 16       & 25       & 1        & 0        & 0        & NA       & NA       & 20161220\\\\\n",
       "\t 2015     & 4        & 1        &  9       & 41       & 175      & 75       & 89       & 0.2      & 0.2      & ⋯        & 0.9      & 28       & 40       & 50       & 1        & 1        & 1        &  0       & NA       & 20161220\\\\\n",
       "\t 2015     & 5        & 1        & 16       & 47       & 160      & 50       & 78       & 0.5      & 0.6      & ⋯        & 1.0      & 20       & 13       & 19       & 2        & 0        & 1        & NA       &  0       & 20161220\\\\\n",
       "\t 2015     & 6        & 1        & 11       & 26       & 170      & 60       & 74       & 1.0      & 0.8      & ⋯        & 0.9      & 22       & 16       & 12       & 1        & 1        & 0        & NA       & NA       & 20161220\\\\\n",
       "\\end{tabular}\n"
      ],
      "text/markdown": [
       "\n",
       "기준년도 | 가입자일련번호 | 성별코드 | 연령대코드(5세단위) | 시도코드 | 신장(5Cm단위) | 체중(5Kg 단위) | 허리둘레 | 시력(좌) | 시력(우) | ⋯ | 혈청크레아티닌 | (혈청지오티)AST | (혈청지오티)ALT | 감마지티피 | 흡연상태 | 음주여부 | 구강검진 수검여부 | 치아우식증유무 | 치석유무 | 데이터 기준일자 | \n",
       "|---|---|---|---|---|---|\n",
       "| 2015     | 1        | 2        | 15       | 45       | 155      | 60       | 88       | 0.6      | 0.7      | ⋯        | 1.1      | 17       | 28       | 23       | 1        | 1        | 0        | NA       | NA       | 20161220 | \n",
       "| 2015     | 2        | 2        | 15       | 11       | 155      | 65       | 98       | 1.2      | 0.6      | ⋯        | 1.0      | 25       | 30       | 41       | 1        | 1        | 1        | NA       |  0       | 20161220 | \n",
       "| 2015     | 3        | 2        | 11       | 26       | 155      | 65       | 85       | 1.2      | 0.9      | ⋯        | 0.6      | 18       | 16       | 25       | 1        | 0        | 0        | NA       | NA       | 20161220 | \n",
       "| 2015     | 4        | 1        |  9       | 41       | 175      | 75       | 89       | 0.2      | 0.2      | ⋯        | 0.9      | 28       | 40       | 50       | 1        | 1        | 1        |  0       | NA       | 20161220 | \n",
       "| 2015     | 5        | 1        | 16       | 47       | 160      | 50       | 78       | 0.5      | 0.6      | ⋯        | 1.0      | 20       | 13       | 19       | 2        | 0        | 1        | NA       |  0       | 20161220 | \n",
       "| 2015     | 6        | 1        | 11       | 26       | 170      | 60       | 74       | 1.0      | 0.8      | ⋯        | 0.9      | 22       | 16       | 12       | 1        | 1        | 0        | NA       | NA       | 20161220 | \n",
       "\n",
       "\n"
      ],
      "text/plain": [
       "  기준년도 가입자일련번호 성별코드 연령대코드(5세단위) 시도코드 신장(5Cm단위)\n",
       "1 2015     1              2        15                  45       155          \n",
       "2 2015     2              2        15                  11       155          \n",
       "3 2015     3              2        11                  26       155          \n",
       "4 2015     4              1         9                  41       175          \n",
       "5 2015     5              1        16                  47       160          \n",
       "6 2015     6              1        11                  26       170          \n",
       "  체중(5Kg 단위) 허리둘레 시력(좌) 시력(우) ⋯ 혈청크레아티닌 (혈청지오티)AST\n",
       "1 60             88       0.6      0.7      ⋯ 1.1            17             \n",
       "2 65             98       1.2      0.6      ⋯ 1.0            25             \n",
       "3 65             85       1.2      0.9      ⋯ 0.6            18             \n",
       "4 75             89       0.2      0.2      ⋯ 0.9            28             \n",
       "5 50             78       0.5      0.6      ⋯ 1.0            20             \n",
       "6 60             74       1.0      0.8      ⋯ 0.9            22             \n",
       "  (혈청지오티)ALT 감마지티피 흡연상태 음주여부 구강검진 수검여부 치아우식증유무\n",
       "1 28              23         1        1        0                 NA            \n",
       "2 30              41         1        1        1                 NA            \n",
       "3 16              25         1        0        0                 NA            \n",
       "4 40              50         1        1        1                  0            \n",
       "5 13              19         2        0        1                 NA            \n",
       "6 16              12         1        1        0                 NA            \n",
       "  치석유무 데이터 기준일자\n",
       "1 NA       20161220       \n",
       "2  0       20161220       \n",
       "3 NA       20161220       \n",
       "4 NA       20161220       \n",
       "5  0       20161220       \n",
       "6 NA       20161220       "
      ]
     },
     "metadata": {},
     "output_type": "display_data"
    }
   ],
   "source": [
    "head(raw)"
   ]
  },
  {
   "cell_type": "code",
   "execution_count": 18,
   "metadata": {},
   "outputs": [
    {
     "data": {
      "text/html": [
       "<table>\n",
       "<thead><tr><th scope=col>기준년도</th><th scope=col>가입자일련번호</th><th scope=col>성별코드</th><th scope=col>연령대코드(5세단위)</th><th scope=col>시도코드</th><th scope=col>신장(5Cm단위)</th><th scope=col>체중(5Kg 단위)</th><th scope=col>허리둘레</th><th scope=col>시력(좌)</th><th scope=col>시력(우)</th><th scope=col>⋯</th><th scope=col>혈청크레아티닌</th><th scope=col>(혈청지오티)AST</th><th scope=col>(혈청지오티)ALT</th><th scope=col>감마지티피</th><th scope=col>흡연상태</th><th scope=col>음주여부</th><th scope=col>구강검진 수검여부</th><th scope=col>치아우식증유무</th><th scope=col>치석유무</th><th scope=col>데이터 기준일자</th></tr></thead>\n",
       "<tbody>\n",
       "\t<tr><td>2015    </td><td> 999998 </td><td>1       </td><td>13      </td><td>42      </td><td>165     </td><td>70      </td><td>94      </td><td>0.9     </td><td>0.9     </td><td>⋯       </td><td>0.9     </td><td>19      </td><td>20      </td><td>75      </td><td>3       </td><td>0       </td><td>0       </td><td>NA      </td><td>NA      </td><td>20161220</td></tr>\n",
       "\t<tr><td>2015    </td><td> 999999 </td><td>1       </td><td>12      </td><td>28      </td><td>175     </td><td>65      </td><td>82      </td><td>0.6     </td><td>0.7     </td><td>⋯       </td><td>1.1     </td><td>25      </td><td>20      </td><td>30      </td><td>3       </td><td>1       </td><td>0       </td><td>NA      </td><td>NA      </td><td>20161220</td></tr>\n",
       "\t<tr><td>2015    </td><td>1000000 </td><td>1       </td><td>11      </td><td>11      </td><td>160     </td><td>65      </td><td>84      </td><td>0.4     </td><td>0.2     </td><td>⋯       </td><td>1.0     </td><td>29      </td><td>37      </td><td>33      </td><td>2       </td><td>1       </td><td>0       </td><td>NA      </td><td>NA      </td><td>20161220</td></tr>\n",
       "</tbody>\n",
       "</table>\n"
      ],
      "text/latex": [
       "\\begin{tabular}{r|lllllllllllllllllllllllllllllll}\n",
       " 기준년도 & 가입자일련번호 & 성별코드 & 연령대코드(5세단위) & 시도코드 & 신장(5Cm단위) & 체중(5Kg 단위) & 허리둘레 & 시력(좌) & 시력(우) & ⋯ & 혈청크레아티닌 & (혈청지오티)AST & (혈청지오티)ALT & 감마지티피 & 흡연상태 & 음주여부 & 구강검진 수검여부 & 치아우식증유무 & 치석유무 & 데이터 기준일자\\\\\n",
       "\\hline\n",
       "\t 2015     &  999998  & 1        & 13       & 42       & 165      & 70       & 94       & 0.9      & 0.9      & ⋯        & 0.9      & 19       & 20       & 75       & 3        & 0        & 0        & NA       & NA       & 20161220\\\\\n",
       "\t 2015     &  999999  & 1        & 12       & 28       & 175      & 65       & 82       & 0.6      & 0.7      & ⋯        & 1.1      & 25       & 20       & 30       & 3        & 1        & 0        & NA       & NA       & 20161220\\\\\n",
       "\t 2015     & 1000000  & 1        & 11       & 11       & 160      & 65       & 84       & 0.4      & 0.2      & ⋯        & 1.0      & 29       & 37       & 33       & 2        & 1        & 0        & NA       & NA       & 20161220\\\\\n",
       "\\end{tabular}\n"
      ],
      "text/markdown": [
       "\n",
       "기준년도 | 가입자일련번호 | 성별코드 | 연령대코드(5세단위) | 시도코드 | 신장(5Cm단위) | 체중(5Kg 단위) | 허리둘레 | 시력(좌) | 시력(우) | ⋯ | 혈청크레아티닌 | (혈청지오티)AST | (혈청지오티)ALT | 감마지티피 | 흡연상태 | 음주여부 | 구강검진 수검여부 | 치아우식증유무 | 치석유무 | 데이터 기준일자 | \n",
       "|---|---|---|\n",
       "| 2015     |  999998  | 1        | 13       | 42       | 165      | 70       | 94       | 0.9      | 0.9      | ⋯        | 0.9      | 19       | 20       | 75       | 3        | 0        | 0        | NA       | NA       | 20161220 | \n",
       "| 2015     |  999999  | 1        | 12       | 28       | 175      | 65       | 82       | 0.6      | 0.7      | ⋯        | 1.1      | 25       | 20       | 30       | 3        | 1        | 0        | NA       | NA       | 20161220 | \n",
       "| 2015     | 1000000  | 1        | 11       | 11       | 160      | 65       | 84       | 0.4      | 0.2      | ⋯        | 1.0      | 29       | 37       | 33       | 2        | 1        | 0        | NA       | NA       | 20161220 | \n",
       "\n",
       "\n"
      ],
      "text/plain": [
       "  기준년도 가입자일련번호 성별코드 연령대코드(5세단위) 시도코드 신장(5Cm단위)\n",
       "1 2015      999998        1        13                  42       165          \n",
       "2 2015      999999        1        12                  28       175          \n",
       "3 2015     1000000        1        11                  11       160          \n",
       "  체중(5Kg 단위) 허리둘레 시력(좌) 시력(우) ⋯ 혈청크레아티닌 (혈청지오티)AST\n",
       "1 70             94       0.9      0.9      ⋯ 0.9            19             \n",
       "2 65             82       0.6      0.7      ⋯ 1.1            25             \n",
       "3 65             84       0.4      0.2      ⋯ 1.0            29             \n",
       "  (혈청지오티)ALT 감마지티피 흡연상태 음주여부 구강검진 수검여부 치아우식증유무\n",
       "1 20              75         3        0        0                 NA            \n",
       "2 20              30         3        1        0                 NA            \n",
       "3 37              33         2        1        0                 NA            \n",
       "  치석유무 데이터 기준일자\n",
       "1 NA       20161220       \n",
       "2 NA       20161220       \n",
       "3 NA       20161220       "
      ]
     },
     "metadata": {},
     "output_type": "display_data"
    }
   ],
   "source": [
    "tail(raw, 3)"
   ]
  },
  {
   "cell_type": "code",
   "execution_count": 13,
   "metadata": {},
   "outputs": [
    {
     "data": {
      "text/html": [
       "1000000"
      ],
      "text/latex": [
       "1000000"
      ],
      "text/markdown": [
       "1000000"
      ],
      "text/plain": [
       "[1] 1000000"
      ]
     },
     "metadata": {},
     "output_type": "display_data"
    }
   ],
   "source": [
    "nrow(raw)"
   ]
  },
  {
   "cell_type": "code",
   "execution_count": 14,
   "metadata": {},
   "outputs": [
    {
     "data": {
      "text/html": [
       "31"
      ],
      "text/latex": [
       "31"
      ],
      "text/markdown": [
       "31"
      ],
      "text/plain": [
       "[1] 31"
      ]
     },
     "metadata": {},
     "output_type": "display_data"
    }
   ],
   "source": [
    "ncol(raw)"
   ]
  },
  {
   "cell_type": "code",
   "execution_count": 15,
   "metadata": {},
   "outputs": [
    {
     "data": {
      "text/html": [
       "<ol class=list-inline>\n",
       "\t<li>1000000</li>\n",
       "\t<li>31</li>\n",
       "</ol>\n"
      ],
      "text/latex": [
       "\\begin{enumerate*}\n",
       "\\item 1000000\n",
       "\\item 31\n",
       "\\end{enumerate*}\n"
      ],
      "text/markdown": [
       "1. 1000000\n",
       "2. 31\n",
       "\n",
       "\n"
      ],
      "text/plain": [
       "[1] 1000000      31"
      ]
     },
     "metadata": {},
     "output_type": "display_data"
    }
   ],
   "source": [
    "dim(raw)"
   ]
  },
  {
   "cell_type": "code",
   "execution_count": 17,
   "metadata": {},
   "outputs": [
    {
     "data": {
      "text/html": [
       "<ol class=list-inline>\n",
       "\t<li>'기준년도'</li>\n",
       "\t<li>'가입자일련번호'</li>\n",
       "\t<li>'성별코드'</li>\n",
       "\t<li>'연령대코드(5세단위)'</li>\n",
       "\t<li>'시도코드'</li>\n",
       "\t<li>'신장(5Cm단위)'</li>\n",
       "\t<li>'체중(5Kg 단위)'</li>\n",
       "\t<li>'허리둘레'</li>\n",
       "\t<li>'시력(좌)'</li>\n",
       "\t<li>'시력(우)'</li>\n",
       "\t<li>'청력(좌)'</li>\n",
       "\t<li>'청력(우)'</li>\n",
       "\t<li>'수축기혈압'</li>\n",
       "\t<li>'이완기혈압'</li>\n",
       "\t<li>'식전혈당(공복혈당)'</li>\n",
       "\t<li>'총콜레스테롤'</li>\n",
       "\t<li>'트리글리세라이드'</li>\n",
       "\t<li>'HDL콜레스테롤'</li>\n",
       "\t<li>'LDL콜레스테롤'</li>\n",
       "\t<li>'혈색소'</li>\n",
       "\t<li>'요단백'</li>\n",
       "\t<li>'혈청크레아티닌'</li>\n",
       "\t<li>'(혈청지오티)AST'</li>\n",
       "\t<li>'(혈청지오티)ALT'</li>\n",
       "\t<li>'감마지티피'</li>\n",
       "\t<li>'흡연상태'</li>\n",
       "\t<li>'음주여부'</li>\n",
       "\t<li>'구강검진 수검여부'</li>\n",
       "\t<li>'치아우식증유무'</li>\n",
       "\t<li>'치석유무'</li>\n",
       "\t<li>'데이터 기준일자'</li>\n",
       "</ol>\n"
      ],
      "text/latex": [
       "\\begin{enumerate*}\n",
       "\\item '기준년도'\n",
       "\\item '가입자일련번호'\n",
       "\\item '성별코드'\n",
       "\\item '연령대코드(5세단위)'\n",
       "\\item '시도코드'\n",
       "\\item '신장(5Cm단위)'\n",
       "\\item '체중(5Kg 단위)'\n",
       "\\item '허리둘레'\n",
       "\\item '시력(좌)'\n",
       "\\item '시력(우)'\n",
       "\\item '청력(좌)'\n",
       "\\item '청력(우)'\n",
       "\\item '수축기혈압'\n",
       "\\item '이완기혈압'\n",
       "\\item '식전혈당(공복혈당)'\n",
       "\\item '총콜레스테롤'\n",
       "\\item '트리글리세라이드'\n",
       "\\item 'HDL콜레스테롤'\n",
       "\\item 'LDL콜레스테롤'\n",
       "\\item '혈색소'\n",
       "\\item '요단백'\n",
       "\\item '혈청크레아티닌'\n",
       "\\item '(혈청지오티)AST'\n",
       "\\item '(혈청지오티)ALT'\n",
       "\\item '감마지티피'\n",
       "\\item '흡연상태'\n",
       "\\item '음주여부'\n",
       "\\item '구강검진 수검여부'\n",
       "\\item '치아우식증유무'\n",
       "\\item '치석유무'\n",
       "\\item '데이터 기준일자'\n",
       "\\end{enumerate*}\n"
      ],
      "text/markdown": [
       "1. '기준년도'\n",
       "2. '가입자일련번호'\n",
       "3. '성별코드'\n",
       "4. '연령대코드(5세단위)'\n",
       "5. '시도코드'\n",
       "6. '신장(5Cm단위)'\n",
       "7. '체중(5Kg 단위)'\n",
       "8. '허리둘레'\n",
       "9. '시력(좌)'\n",
       "10. '시력(우)'\n",
       "11. '청력(좌)'\n",
       "12. '청력(우)'\n",
       "13. '수축기혈압'\n",
       "14. '이완기혈압'\n",
       "15. '식전혈당(공복혈당)'\n",
       "16. '총콜레스테롤'\n",
       "17. '트리글리세라이드'\n",
       "18. 'HDL콜레스테롤'\n",
       "19. 'LDL콜레스테롤'\n",
       "20. '혈색소'\n",
       "21. '요단백'\n",
       "22. '혈청크레아티닌'\n",
       "23. '(혈청지오티)AST'\n",
       "24. '(혈청지오티)ALT'\n",
       "25. '감마지티피'\n",
       "26. '흡연상태'\n",
       "27. '음주여부'\n",
       "28. '구강검진 수검여부'\n",
       "29. '치아우식증유무'\n",
       "30. '치석유무'\n",
       "31. '데이터 기준일자'\n",
       "\n",
       "\n"
      ],
      "text/plain": [
       " [1] \"기준년도\"            \"가입자일련번호\"      \"성별코드\"           \n",
       " [4] \"연령대코드(5세단위)\" \"시도코드\"            \"신장(5Cm단위)\"      \n",
       " [7] \"체중(5Kg 단위)\"      \"허리둘레\"            \"시력(좌)\"           \n",
       "[10] \"시력(우)\"            \"청력(좌)\"            \"청력(우)\"           \n",
       "[13] \"수축기혈압\"          \"이완기혈압\"          \"식전혈당(공복혈당)\" \n",
       "[16] \"총콜레스테롤\"        \"트리글리세라이드\"    \"HDL콜레스테롤\"      \n",
       "[19] \"LDL콜레스테롤\"       \"혈색소\"              \"요단백\"             \n",
       "[22] \"혈청크레아티닌\"      \"(혈청지오티)AST\"     \"(혈청지오티)ALT\"    \n",
       "[25] \"감마지티피\"          \"흡연상태\"            \"음주여부\"           \n",
       "[28] \"구강검진 수검여부\"   \"치아우식증유무\"      \"치석유무\"           \n",
       "[31] \"데이터 기준일자\"    "
      ]
     },
     "metadata": {},
     "output_type": "display_data"
    },
    {
     "data": {
      "text/html": [
       "<ol class=list-inline>\n",
       "\t<li>'기준년도'</li>\n",
       "\t<li>'가입자일련번호'</li>\n",
       "\t<li>'성별코드'</li>\n",
       "\t<li>'연령대코드(5세단위)'</li>\n",
       "\t<li>'시도코드'</li>\n",
       "\t<li>'신장(5Cm단위)'</li>\n",
       "\t<li>'체중(5Kg 단위)'</li>\n",
       "\t<li>'허리둘레'</li>\n",
       "\t<li>'시력(좌)'</li>\n",
       "\t<li>'시력(우)'</li>\n",
       "\t<li>'청력(좌)'</li>\n",
       "\t<li>'청력(우)'</li>\n",
       "\t<li>'수축기혈압'</li>\n",
       "\t<li>'이완기혈압'</li>\n",
       "\t<li>'식전혈당(공복혈당)'</li>\n",
       "\t<li>'총콜레스테롤'</li>\n",
       "\t<li>'트리글리세라이드'</li>\n",
       "\t<li>'HDL콜레스테롤'</li>\n",
       "\t<li>'LDL콜레스테롤'</li>\n",
       "\t<li>'혈색소'</li>\n",
       "\t<li>'요단백'</li>\n",
       "\t<li>'혈청크레아티닌'</li>\n",
       "\t<li>'(혈청지오티)AST'</li>\n",
       "\t<li>'(혈청지오티)ALT'</li>\n",
       "\t<li>'감마지티피'</li>\n",
       "\t<li>'흡연상태'</li>\n",
       "\t<li>'음주여부'</li>\n",
       "\t<li>'구강검진 수검여부'</li>\n",
       "\t<li>'치아우식증유무'</li>\n",
       "\t<li>'치석유무'</li>\n",
       "\t<li>'데이터 기준일자'</li>\n",
       "</ol>\n"
      ],
      "text/latex": [
       "\\begin{enumerate*}\n",
       "\\item '기준년도'\n",
       "\\item '가입자일련번호'\n",
       "\\item '성별코드'\n",
       "\\item '연령대코드(5세단위)'\n",
       "\\item '시도코드'\n",
       "\\item '신장(5Cm단위)'\n",
       "\\item '체중(5Kg 단위)'\n",
       "\\item '허리둘레'\n",
       "\\item '시력(좌)'\n",
       "\\item '시력(우)'\n",
       "\\item '청력(좌)'\n",
       "\\item '청력(우)'\n",
       "\\item '수축기혈압'\n",
       "\\item '이완기혈압'\n",
       "\\item '식전혈당(공복혈당)'\n",
       "\\item '총콜레스테롤'\n",
       "\\item '트리글리세라이드'\n",
       "\\item 'HDL콜레스테롤'\n",
       "\\item 'LDL콜레스테롤'\n",
       "\\item '혈색소'\n",
       "\\item '요단백'\n",
       "\\item '혈청크레아티닌'\n",
       "\\item '(혈청지오티)AST'\n",
       "\\item '(혈청지오티)ALT'\n",
       "\\item '감마지티피'\n",
       "\\item '흡연상태'\n",
       "\\item '음주여부'\n",
       "\\item '구강검진 수검여부'\n",
       "\\item '치아우식증유무'\n",
       "\\item '치석유무'\n",
       "\\item '데이터 기준일자'\n",
       "\\end{enumerate*}\n"
      ],
      "text/markdown": [
       "1. '기준년도'\n",
       "2. '가입자일련번호'\n",
       "3. '성별코드'\n",
       "4. '연령대코드(5세단위)'\n",
       "5. '시도코드'\n",
       "6. '신장(5Cm단위)'\n",
       "7. '체중(5Kg 단위)'\n",
       "8. '허리둘레'\n",
       "9. '시력(좌)'\n",
       "10. '시력(우)'\n",
       "11. '청력(좌)'\n",
       "12. '청력(우)'\n",
       "13. '수축기혈압'\n",
       "14. '이완기혈압'\n",
       "15. '식전혈당(공복혈당)'\n",
       "16. '총콜레스테롤'\n",
       "17. '트리글리세라이드'\n",
       "18. 'HDL콜레스테롤'\n",
       "19. 'LDL콜레스테롤'\n",
       "20. '혈색소'\n",
       "21. '요단백'\n",
       "22. '혈청크레아티닌'\n",
       "23. '(혈청지오티)AST'\n",
       "24. '(혈청지오티)ALT'\n",
       "25. '감마지티피'\n",
       "26. '흡연상태'\n",
       "27. '음주여부'\n",
       "28. '구강검진 수검여부'\n",
       "29. '치아우식증유무'\n",
       "30. '치석유무'\n",
       "31. '데이터 기준일자'\n",
       "\n",
       "\n"
      ],
      "text/plain": [
       " [1] \"기준년도\"            \"가입자일련번호\"      \"성별코드\"           \n",
       " [4] \"연령대코드(5세단위)\" \"시도코드\"            \"신장(5Cm단위)\"      \n",
       " [7] \"체중(5Kg 단위)\"      \"허리둘레\"            \"시력(좌)\"           \n",
       "[10] \"시력(우)\"            \"청력(좌)\"            \"청력(우)\"           \n",
       "[13] \"수축기혈압\"          \"이완기혈압\"          \"식전혈당(공복혈당)\" \n",
       "[16] \"총콜레스테롤\"        \"트리글리세라이드\"    \"HDL콜레스테롤\"      \n",
       "[19] \"LDL콜레스테롤\"       \"혈색소\"              \"요단백\"             \n",
       "[22] \"혈청크레아티닌\"      \"(혈청지오티)AST\"     \"(혈청지오티)ALT\"    \n",
       "[25] \"감마지티피\"          \"흡연상태\"            \"음주여부\"           \n",
       "[28] \"구강검진 수검여부\"   \"치아우식증유무\"      \"치석유무\"           \n",
       "[31] \"데이터 기준일자\"    "
      ]
     },
     "metadata": {},
     "output_type": "display_data"
    }
   ],
   "source": [
    "names(raw)\n",
    "colnames(raw)"
   ]
  },
  {
   "cell_type": "markdown",
   "metadata": {},
   "source": [
    "# Selecting or Keeping Columns"
   ]
  },
  {
   "cell_type": "code",
   "execution_count": 19,
   "metadata": {},
   "outputs": [
    {
     "data": {
      "text/html": [
       "<table>\n",
       "<thead><tr><th scope=col>신장(5Cm단위)</th></tr></thead>\n",
       "<tbody>\n",
       "\t<tr><td>155</td></tr>\n",
       "\t<tr><td>155</td></tr>\n",
       "\t<tr><td>155</td></tr>\n",
       "\t<tr><td>175</td></tr>\n",
       "\t<tr><td>160</td></tr>\n",
       "\t<tr><td>170</td></tr>\n",
       "</tbody>\n",
       "</table>\n"
      ],
      "text/latex": [
       "\\begin{tabular}{r|l}\n",
       " 신장(5Cm단위)\\\\\n",
       "\\hline\n",
       "\t 155\\\\\n",
       "\t 155\\\\\n",
       "\t 155\\\\\n",
       "\t 175\\\\\n",
       "\t 160\\\\\n",
       "\t 170\\\\\n",
       "\\end{tabular}\n"
      ],
      "text/markdown": [
       "\n",
       "신장(5Cm단위) | \n",
       "|---|---|---|---|---|---|\n",
       "| 155 | \n",
       "| 155 | \n",
       "| 155 | \n",
       "| 175 | \n",
       "| 160 | \n",
       "| 170 | \n",
       "\n",
       "\n"
      ],
      "text/plain": [
       "  신장(5Cm단위)\n",
       "1 155          \n",
       "2 155          \n",
       "3 155          \n",
       "4 175          \n",
       "5 160          \n",
       "6 170          "
      ]
     },
     "metadata": {},
     "output_type": "display_data"
    }
   ],
   "source": [
    "dat1 <- raw[,\"신장(5Cm단위)\"]\n",
    "head(dat1)"
   ]
  },
  {
   "cell_type": "code",
   "execution_count": 20,
   "metadata": {},
   "outputs": [
    {
     "data": {
      "text/html": [
       "<table>\n",
       "<thead><tr><th scope=col>신장(5Cm단위)</th></tr></thead>\n",
       "<tbody>\n",
       "\t<tr><td>155</td></tr>\n",
       "\t<tr><td>155</td></tr>\n",
       "\t<tr><td>155</td></tr>\n",
       "\t<tr><td>175</td></tr>\n",
       "\t<tr><td>160</td></tr>\n",
       "\t<tr><td>170</td></tr>\n",
       "</tbody>\n",
       "</table>\n"
      ],
      "text/latex": [
       "\\begin{tabular}{r|l}\n",
       " 신장(5Cm단위)\\\\\n",
       "\\hline\n",
       "\t 155\\\\\n",
       "\t 155\\\\\n",
       "\t 155\\\\\n",
       "\t 175\\\\\n",
       "\t 160\\\\\n",
       "\t 170\\\\\n",
       "\\end{tabular}\n"
      ],
      "text/markdown": [
       "\n",
       "신장(5Cm단위) | \n",
       "|---|---|---|---|---|---|\n",
       "| 155 | \n",
       "| 155 | \n",
       "| 155 | \n",
       "| 175 | \n",
       "| 160 | \n",
       "| 170 | \n",
       "\n",
       "\n"
      ],
      "text/plain": [
       "  신장(5Cm단위)\n",
       "1 155          \n",
       "2 155          \n",
       "3 155          \n",
       "4 175          \n",
       "5 160          \n",
       "6 170          "
      ]
     },
     "metadata": {},
     "output_type": "display_data"
    }
   ],
   "source": [
    "dat1 <- raw[,c(\"신장(5Cm단위)\")]\n",
    "head(dat1)"
   ]
  },
  {
   "cell_type": "code",
   "execution_count": 21,
   "metadata": {},
   "outputs": [
    {
     "data": {
      "text/html": [
       "<table>\n",
       "<thead><tr><th scope=col>신장(5Cm단위)</th></tr></thead>\n",
       "<tbody>\n",
       "\t<tr><td>155</td></tr>\n",
       "\t<tr><td>155</td></tr>\n",
       "\t<tr><td>155</td></tr>\n",
       "\t<tr><td>175</td></tr>\n",
       "\t<tr><td>160</td></tr>\n",
       "\t<tr><td>170</td></tr>\n",
       "</tbody>\n",
       "</table>\n"
      ],
      "text/latex": [
       "\\begin{tabular}{r|l}\n",
       " 신장(5Cm단위)\\\\\n",
       "\\hline\n",
       "\t 155\\\\\n",
       "\t 155\\\\\n",
       "\t 155\\\\\n",
       "\t 175\\\\\n",
       "\t 160\\\\\n",
       "\t 170\\\\\n",
       "\\end{tabular}\n"
      ],
      "text/markdown": [
       "\n",
       "신장(5Cm단위) | \n",
       "|---|---|---|---|---|---|\n",
       "| 155 | \n",
       "| 155 | \n",
       "| 155 | \n",
       "| 175 | \n",
       "| 160 | \n",
       "| 170 | \n",
       "\n",
       "\n"
      ],
      "text/plain": [
       "  신장(5Cm단위)\n",
       "1 155          \n",
       "2 155          \n",
       "3 155          \n",
       "4 175          \n",
       "5 160          \n",
       "6 170          "
      ]
     },
     "metadata": {},
     "output_type": "display_data"
    }
   ],
   "source": [
    "dat1 <- raw[,c(\"신장(5Cm단위)\"), with=FALSE]\n",
    "head(dat1)"
   ]
  },
  {
   "cell_type": "code",
   "execution_count": 22,
   "metadata": {},
   "outputs": [
    {
     "data": {
      "text/html": [
       "<table>\n",
       "<thead><tr><th scope=col>신장(5Cm단위)</th></tr></thead>\n",
       "<tbody>\n",
       "\t<tr><td>155</td></tr>\n",
       "\t<tr><td>155</td></tr>\n",
       "\t<tr><td>155</td></tr>\n",
       "\t<tr><td>175</td></tr>\n",
       "\t<tr><td>160</td></tr>\n",
       "\t<tr><td>170</td></tr>\n",
       "</tbody>\n",
       "</table>\n"
      ],
      "text/latex": [
       "\\begin{tabular}{r|l}\n",
       " 신장(5Cm단위)\\\\\n",
       "\\hline\n",
       "\t 155\\\\\n",
       "\t 155\\\\\n",
       "\t 155\\\\\n",
       "\t 175\\\\\n",
       "\t 160\\\\\n",
       "\t 170\\\\\n",
       "\\end{tabular}\n"
      ],
      "text/markdown": [
       "\n",
       "신장(5Cm단위) | \n",
       "|---|---|---|---|---|---|\n",
       "| 155 | \n",
       "| 155 | \n",
       "| 155 | \n",
       "| 175 | \n",
       "| 160 | \n",
       "| 170 | \n",
       "\n",
       "\n"
      ],
      "text/plain": [
       "  신장(5Cm단위)\n",
       "1 155          \n",
       "2 155          \n",
       "3 155          \n",
       "4 175          \n",
       "5 160          \n",
       "6 170          "
      ]
     },
     "metadata": {},
     "output_type": "display_data"
    }
   ],
   "source": [
    "dat2 <- raw[,6, with=FALSE]\n",
    "head(dat2)"
   ]
  },
  {
   "cell_type": "code",
   "execution_count": 23,
   "metadata": {},
   "outputs": [
    {
     "data": {
      "text/html": [
       "<table>\n",
       "<thead><tr><th scope=col>기준년도</th><th scope=col>허리둘레</th></tr></thead>\n",
       "<tbody>\n",
       "\t<tr><td>2015</td><td>88  </td></tr>\n",
       "\t<tr><td>2015</td><td>98  </td></tr>\n",
       "\t<tr><td>2015</td><td>85  </td></tr>\n",
       "\t<tr><td>2015</td><td>89  </td></tr>\n",
       "\t<tr><td>2015</td><td>78  </td></tr>\n",
       "\t<tr><td>2015</td><td>74  </td></tr>\n",
       "</tbody>\n",
       "</table>\n"
      ],
      "text/latex": [
       "\\begin{tabular}{r|ll}\n",
       " 기준년도 & 허리둘레\\\\\n",
       "\\hline\n",
       "\t 2015 & 88  \\\\\n",
       "\t 2015 & 98  \\\\\n",
       "\t 2015 & 85  \\\\\n",
       "\t 2015 & 89  \\\\\n",
       "\t 2015 & 78  \\\\\n",
       "\t 2015 & 74  \\\\\n",
       "\\end{tabular}\n"
      ],
      "text/markdown": [
       "\n",
       "기준년도 | 허리둘레 | \n",
       "|---|---|---|---|---|---|\n",
       "| 2015 | 88   | \n",
       "| 2015 | 98   | \n",
       "| 2015 | 85   | \n",
       "| 2015 | 89   | \n",
       "| 2015 | 78   | \n",
       "| 2015 | 74   | \n",
       "\n",
       "\n"
      ],
      "text/plain": [
       "  기준년도 허리둘레\n",
       "1 2015     88      \n",
       "2 2015     98      \n",
       "3 2015     85      \n",
       "4 2015     89      \n",
       "5 2015     78      \n",
       "6 2015     74      "
      ]
     },
     "metadata": {},
     "output_type": "display_data"
    }
   ],
   "source": [
    "dat3 <- raw[,.(기준년도, 허리둘레)]\n",
    "head(dat3)"
   ]
  },
  {
   "cell_type": "markdown",
   "metadata": {},
   "source": [
    "### Keeping multiple columns based on column position"
   ]
  },
  {
   "cell_type": "code",
   "execution_count": 24,
   "metadata": {},
   "outputs": [
    {
     "data": {
      "text/html": [
       "<table>\n",
       "<thead><tr><th scope=col>기준년도</th><th scope=col>성별코드</th><th scope=col>시도코드</th><th scope=col>신장(5Cm단위)</th><th scope=col>체중(5Kg 단위)</th><th scope=col>허리둘레</th></tr></thead>\n",
       "<tbody>\n",
       "\t<tr><td>2015</td><td>2   </td><td>45  </td><td>155 </td><td>60  </td><td>88  </td></tr>\n",
       "\t<tr><td>2015</td><td>2   </td><td>11  </td><td>155 </td><td>65  </td><td>98  </td></tr>\n",
       "\t<tr><td>2015</td><td>2   </td><td>26  </td><td>155 </td><td>65  </td><td>85  </td></tr>\n",
       "\t<tr><td>2015</td><td>1   </td><td>41  </td><td>175 </td><td>75  </td><td>89  </td></tr>\n",
       "\t<tr><td>2015</td><td>1   </td><td>47  </td><td>160 </td><td>50  </td><td>78  </td></tr>\n",
       "\t<tr><td>2015</td><td>1   </td><td>26  </td><td>170 </td><td>60  </td><td>74  </td></tr>\n",
       "</tbody>\n",
       "</table>\n"
      ],
      "text/latex": [
       "\\begin{tabular}{r|llllll}\n",
       " 기준년도 & 성별코드 & 시도코드 & 신장(5Cm단위) & 체중(5Kg 단위) & 허리둘레\\\\\n",
       "\\hline\n",
       "\t 2015 & 2    & 45   & 155  & 60   & 88  \\\\\n",
       "\t 2015 & 2    & 11   & 155  & 65   & 98  \\\\\n",
       "\t 2015 & 2    & 26   & 155  & 65   & 85  \\\\\n",
       "\t 2015 & 1    & 41   & 175  & 75   & 89  \\\\\n",
       "\t 2015 & 1    & 47   & 160  & 50   & 78  \\\\\n",
       "\t 2015 & 1    & 26   & 170  & 60   & 74  \\\\\n",
       "\\end{tabular}\n"
      ],
      "text/markdown": [
       "\n",
       "기준년도 | 성별코드 | 시도코드 | 신장(5Cm단위) | 체중(5Kg 단위) | 허리둘레 | \n",
       "|---|---|---|---|---|---|\n",
       "| 2015 | 2    | 45   | 155  | 60   | 88   | \n",
       "| 2015 | 2    | 11   | 155  | 65   | 98   | \n",
       "| 2015 | 2    | 26   | 155  | 65   | 85   | \n",
       "| 2015 | 1    | 41   | 175  | 75   | 89   | \n",
       "| 2015 | 1    | 47   | 160  | 50   | 78   | \n",
       "| 2015 | 1    | 26   | 170  | 60   | 74   | \n",
       "\n",
       "\n"
      ],
      "text/plain": [
       "  기준년도 성별코드 시도코드 신장(5Cm단위) 체중(5Kg 단위) 허리둘레\n",
       "1 2015     2        45       155           60             88      \n",
       "2 2015     2        11       155           65             98      \n",
       "3 2015     2        26       155           65             85      \n",
       "4 2015     1        41       175           75             89      \n",
       "5 2015     1        47       160           50             78      \n",
       "6 2015     1        26       170           60             74      "
      ]
     },
     "metadata": {},
     "output_type": "display_data"
    }
   ],
   "source": [
    "dat4 <- raw[,c(1,3, 5:8)]\n",
    "head(dat4)"
   ]
  },
  {
   "cell_type": "markdown",
   "metadata": {},
   "source": [
    "### Dropping Multiple Columns"
   ]
  },
  {
   "cell_type": "code",
   "execution_count": 25,
   "metadata": {},
   "outputs": [
    {
     "data": {
      "text/html": [
       "<table>\n",
       "<thead><tr><th scope=col>가입자일련번호</th><th scope=col>연령대코드(5세단위)</th><th scope=col>시력(좌)</th><th scope=col>시력(우)</th><th scope=col>청력(좌)</th><th scope=col>청력(우)</th><th scope=col>수축기혈압</th><th scope=col>이완기혈압</th><th scope=col>식전혈당(공복혈당)</th><th scope=col>총콜레스테롤</th><th scope=col>⋯</th><th scope=col>혈청크레아티닌</th><th scope=col>(혈청지오티)AST</th><th scope=col>(혈청지오티)ALT</th><th scope=col>감마지티피</th><th scope=col>흡연상태</th><th scope=col>음주여부</th><th scope=col>구강검진 수검여부</th><th scope=col>치아우식증유무</th><th scope=col>치석유무</th><th scope=col>데이터 기준일자</th></tr></thead>\n",
       "<tbody>\n",
       "\t<tr><td>1       </td><td>15      </td><td>0.6     </td><td>0.7     </td><td>1       </td><td>2       </td><td>112     </td><td>74      </td><td>180     </td><td>169     </td><td>⋯       </td><td>1.1     </td><td>17      </td><td>28      </td><td>23      </td><td>1       </td><td>1       </td><td>0       </td><td>NA      </td><td>NA      </td><td>20161220</td></tr>\n",
       "\t<tr><td>2       </td><td>15      </td><td>1.2     </td><td>0.6     </td><td>1       </td><td>1       </td><td>130     </td><td>80      </td><td>179     </td><td>162     </td><td>⋯       </td><td>1.0     </td><td>25      </td><td>30      </td><td>41      </td><td>1       </td><td>1       </td><td>1       </td><td>NA      </td><td> 0      </td><td>20161220</td></tr>\n",
       "\t<tr><td>3       </td><td>11      </td><td>1.2     </td><td>0.9     </td><td>1       </td><td>1       </td><td>107     </td><td>65      </td><td>206     </td><td>182     </td><td>⋯       </td><td>0.6     </td><td>18      </td><td>16      </td><td>25      </td><td>1       </td><td>0       </td><td>0       </td><td>NA      </td><td>NA      </td><td>20161220</td></tr>\n",
       "\t<tr><td>4       </td><td> 9      </td><td>0.2     </td><td>0.2     </td><td>1       </td><td>1       </td><td>120     </td><td>80      </td><td>110     </td><td>168     </td><td>⋯       </td><td>0.9     </td><td>28      </td><td>40      </td><td>50      </td><td>1       </td><td>1       </td><td>1       </td><td> 0      </td><td>NA      </td><td>20161220</td></tr>\n",
       "\t<tr><td>5       </td><td>16      </td><td>0.5     </td><td>0.6     </td><td>2       </td><td>2       </td><td> 89     </td><td>46      </td><td>104     </td><td>197     </td><td>⋯       </td><td>1.0     </td><td>20      </td><td>13      </td><td>19      </td><td>2       </td><td>0       </td><td>1       </td><td>NA      </td><td> 0      </td><td>20161220</td></tr>\n",
       "\t<tr><td>6       </td><td>11      </td><td>1.0     </td><td>0.8     </td><td>1       </td><td>1       </td><td>120     </td><td>80      </td><td> 96     </td><td>146     </td><td>⋯       </td><td>0.9     </td><td>22      </td><td>16      </td><td>12      </td><td>1       </td><td>1       </td><td>0       </td><td>NA      </td><td>NA      </td><td>20161220</td></tr>\n",
       "</tbody>\n",
       "</table>\n"
      ],
      "text/latex": [
       "\\begin{tabular}{r|lllllllllllllllllllllllll}\n",
       " 가입자일련번호 & 연령대코드(5세단위) & 시력(좌) & 시력(우) & 청력(좌) & 청력(우) & 수축기혈압 & 이완기혈압 & 식전혈당(공복혈당) & 총콜레스테롤 & ⋯ & 혈청크레아티닌 & (혈청지오티)AST & (혈청지오티)ALT & 감마지티피 & 흡연상태 & 음주여부 & 구강검진 수검여부 & 치아우식증유무 & 치석유무 & 데이터 기준일자\\\\\n",
       "\\hline\n",
       "\t 1        & 15       & 0.6      & 0.7      & 1        & 2        & 112      & 74       & 180      & 169      & ⋯        & 1.1      & 17       & 28       & 23       & 1        & 1        & 0        & NA       & NA       & 20161220\\\\\n",
       "\t 2        & 15       & 1.2      & 0.6      & 1        & 1        & 130      & 80       & 179      & 162      & ⋯        & 1.0      & 25       & 30       & 41       & 1        & 1        & 1        & NA       &  0       & 20161220\\\\\n",
       "\t 3        & 11       & 1.2      & 0.9      & 1        & 1        & 107      & 65       & 206      & 182      & ⋯        & 0.6      & 18       & 16       & 25       & 1        & 0        & 0        & NA       & NA       & 20161220\\\\\n",
       "\t 4        &  9       & 0.2      & 0.2      & 1        & 1        & 120      & 80       & 110      & 168      & ⋯        & 0.9      & 28       & 40       & 50       & 1        & 1        & 1        &  0       & NA       & 20161220\\\\\n",
       "\t 5        & 16       & 0.5      & 0.6      & 2        & 2        &  89      & 46       & 104      & 197      & ⋯        & 1.0      & 20       & 13       & 19       & 2        & 0        & 1        & NA       &  0       & 20161220\\\\\n",
       "\t 6        & 11       & 1.0      & 0.8      & 1        & 1        & 120      & 80       &  96      & 146      & ⋯        & 0.9      & 22       & 16       & 12       & 1        & 1        & 0        & NA       & NA       & 20161220\\\\\n",
       "\\end{tabular}\n"
      ],
      "text/markdown": [
       "\n",
       "가입자일련번호 | 연령대코드(5세단위) | 시력(좌) | 시력(우) | 청력(좌) | 청력(우) | 수축기혈압 | 이완기혈압 | 식전혈당(공복혈당) | 총콜레스테롤 | ⋯ | 혈청크레아티닌 | (혈청지오티)AST | (혈청지오티)ALT | 감마지티피 | 흡연상태 | 음주여부 | 구강검진 수검여부 | 치아우식증유무 | 치석유무 | 데이터 기준일자 | \n",
       "|---|---|---|---|---|---|\n",
       "| 1        | 15       | 0.6      | 0.7      | 1        | 2        | 112      | 74       | 180      | 169      | ⋯        | 1.1      | 17       | 28       | 23       | 1        | 1        | 0        | NA       | NA       | 20161220 | \n",
       "| 2        | 15       | 1.2      | 0.6      | 1        | 1        | 130      | 80       | 179      | 162      | ⋯        | 1.0      | 25       | 30       | 41       | 1        | 1        | 1        | NA       |  0       | 20161220 | \n",
       "| 3        | 11       | 1.2      | 0.9      | 1        | 1        | 107      | 65       | 206      | 182      | ⋯        | 0.6      | 18       | 16       | 25       | 1        | 0        | 0        | NA       | NA       | 20161220 | \n",
       "| 4        |  9       | 0.2      | 0.2      | 1        | 1        | 120      | 80       | 110      | 168      | ⋯        | 0.9      | 28       | 40       | 50       | 1        | 1        | 1        |  0       | NA       | 20161220 | \n",
       "| 5        | 16       | 0.5      | 0.6      | 2        | 2        |  89      | 46       | 104      | 197      | ⋯        | 1.0      | 20       | 13       | 19       | 2        | 0        | 1        | NA       |  0       | 20161220 | \n",
       "| 6        | 11       | 1.0      | 0.8      | 1        | 1        | 120      | 80       |  96      | 146      | ⋯        | 0.9      | 22       | 16       | 12       | 1        | 1        | 0        | NA       | NA       | 20161220 | \n",
       "\n",
       "\n"
      ],
      "text/plain": [
       "  가입자일련번호 연령대코드(5세단위) 시력(좌) 시력(우) 청력(좌) 청력(우)\n",
       "1 1              15                  0.6      0.7      1        2       \n",
       "2 2              15                  1.2      0.6      1        1       \n",
       "3 3              11                  1.2      0.9      1        1       \n",
       "4 4               9                  0.2      0.2      1        1       \n",
       "5 5              16                  0.5      0.6      2        2       \n",
       "6 6              11                  1.0      0.8      1        1       \n",
       "  수축기혈압 이완기혈압 식전혈당(공복혈당) 총콜레스테롤 ⋯ 혈청크레아티닌\n",
       "1 112        74         180                169          ⋯ 1.1           \n",
       "2 130        80         179                162          ⋯ 1.0           \n",
       "3 107        65         206                182          ⋯ 0.6           \n",
       "4 120        80         110                168          ⋯ 0.9           \n",
       "5  89        46         104                197          ⋯ 1.0           \n",
       "6 120        80          96                146          ⋯ 0.9           \n",
       "  (혈청지오티)AST (혈청지오티)ALT 감마지티피 흡연상태 음주여부\n",
       "1 17              28              23         1        1       \n",
       "2 25              30              41         1        1       \n",
       "3 18              16              25         1        0       \n",
       "4 28              40              50         1        1       \n",
       "5 20              13              19         2        0       \n",
       "6 22              16              12         1        1       \n",
       "  구강검진 수검여부 치아우식증유무 치석유무 데이터 기준일자\n",
       "1 0                 NA             NA       20161220       \n",
       "2 1                 NA              0       20161220       \n",
       "3 0                 NA             NA       20161220       \n",
       "4 1                  0             NA       20161220       \n",
       "5 1                 NA              0       20161220       \n",
       "6 0                 NA             NA       20161220       "
      ]
     },
     "metadata": {},
     "output_type": "display_data"
    }
   ],
   "source": [
    "dat5 <- raw[,!c(1,3, 5:8)]\n",
    "head(dat5)"
   ]
  },
  {
   "cell_type": "markdown",
   "metadata": {},
   "source": [
    "### Rename Variable"
   ]
  },
  {
   "cell_type": "code",
   "execution_count": 26,
   "metadata": {},
   "outputs": [
    {
     "data": {
      "text/html": [
       "<table>\n",
       "<thead><tr><th scope=col>기준년도</th><th scope=col>가입자일련번호</th><th scope=col>성별코드</th><th scope=col>연령대코드(5세단위)</th><th scope=col>시도코드</th><th scope=col>height</th><th scope=col>weight</th><th scope=col>허리둘레</th><th scope=col>시력(좌)</th><th scope=col>시력(우)</th><th scope=col>⋯</th><th scope=col>혈청크레아티닌</th><th scope=col>(혈청지오티)AST</th><th scope=col>(혈청지오티)ALT</th><th scope=col>감마지티피</th><th scope=col>흡연상태</th><th scope=col>음주여부</th><th scope=col>구강검진 수검여부</th><th scope=col>치아우식증유무</th><th scope=col>치석유무</th><th scope=col>데이터 기준일자</th></tr></thead>\n",
       "<tbody>\n",
       "\t<tr><td>2015    </td><td>1       </td><td>2       </td><td>15      </td><td>45      </td><td>155     </td><td>60      </td><td>88      </td><td>0.6     </td><td>0.7     </td><td>⋯       </td><td>1.1     </td><td>17      </td><td>28      </td><td>23      </td><td>1       </td><td>1       </td><td>0       </td><td>NA      </td><td>NA      </td><td>20161220</td></tr>\n",
       "\t<tr><td>2015    </td><td>2       </td><td>2       </td><td>15      </td><td>11      </td><td>155     </td><td>65      </td><td>98      </td><td>1.2     </td><td>0.6     </td><td>⋯       </td><td>1.0     </td><td>25      </td><td>30      </td><td>41      </td><td>1       </td><td>1       </td><td>1       </td><td>NA      </td><td> 0      </td><td>20161220</td></tr>\n",
       "\t<tr><td>2015    </td><td>3       </td><td>2       </td><td>11      </td><td>26      </td><td>155     </td><td>65      </td><td>85      </td><td>1.2     </td><td>0.9     </td><td>⋯       </td><td>0.6     </td><td>18      </td><td>16      </td><td>25      </td><td>1       </td><td>0       </td><td>0       </td><td>NA      </td><td>NA      </td><td>20161220</td></tr>\n",
       "\t<tr><td>2015    </td><td>4       </td><td>1       </td><td> 9      </td><td>41      </td><td>175     </td><td>75      </td><td>89      </td><td>0.2     </td><td>0.2     </td><td>⋯       </td><td>0.9     </td><td>28      </td><td>40      </td><td>50      </td><td>1       </td><td>1       </td><td>1       </td><td> 0      </td><td>NA      </td><td>20161220</td></tr>\n",
       "\t<tr><td>2015    </td><td>5       </td><td>1       </td><td>16      </td><td>47      </td><td>160     </td><td>50      </td><td>78      </td><td>0.5     </td><td>0.6     </td><td>⋯       </td><td>1.0     </td><td>20      </td><td>13      </td><td>19      </td><td>2       </td><td>0       </td><td>1       </td><td>NA      </td><td> 0      </td><td>20161220</td></tr>\n",
       "\t<tr><td>2015    </td><td>6       </td><td>1       </td><td>11      </td><td>26      </td><td>170     </td><td>60      </td><td>74      </td><td>1.0     </td><td>0.8     </td><td>⋯       </td><td>0.9     </td><td>22      </td><td>16      </td><td>12      </td><td>1       </td><td>1       </td><td>0       </td><td>NA      </td><td>NA      </td><td>20161220</td></tr>\n",
       "</tbody>\n",
       "</table>\n"
      ],
      "text/latex": [
       "\\begin{tabular}{r|lllllllllllllllllllllllllllllll}\n",
       " 기준년도 & 가입자일련번호 & 성별코드 & 연령대코드(5세단위) & 시도코드 & height & weight & 허리둘레 & 시력(좌) & 시력(우) & ⋯ & 혈청크레아티닌 & (혈청지오티)AST & (혈청지오티)ALT & 감마지티피 & 흡연상태 & 음주여부 & 구강검진 수검여부 & 치아우식증유무 & 치석유무 & 데이터 기준일자\\\\\n",
       "\\hline\n",
       "\t 2015     & 1        & 2        & 15       & 45       & 155      & 60       & 88       & 0.6      & 0.7      & ⋯        & 1.1      & 17       & 28       & 23       & 1        & 1        & 0        & NA       & NA       & 20161220\\\\\n",
       "\t 2015     & 2        & 2        & 15       & 11       & 155      & 65       & 98       & 1.2      & 0.6      & ⋯        & 1.0      & 25       & 30       & 41       & 1        & 1        & 1        & NA       &  0       & 20161220\\\\\n",
       "\t 2015     & 3        & 2        & 11       & 26       & 155      & 65       & 85       & 1.2      & 0.9      & ⋯        & 0.6      & 18       & 16       & 25       & 1        & 0        & 0        & NA       & NA       & 20161220\\\\\n",
       "\t 2015     & 4        & 1        &  9       & 41       & 175      & 75       & 89       & 0.2      & 0.2      & ⋯        & 0.9      & 28       & 40       & 50       & 1        & 1        & 1        &  0       & NA       & 20161220\\\\\n",
       "\t 2015     & 5        & 1        & 16       & 47       & 160      & 50       & 78       & 0.5      & 0.6      & ⋯        & 1.0      & 20       & 13       & 19       & 2        & 0        & 1        & NA       &  0       & 20161220\\\\\n",
       "\t 2015     & 6        & 1        & 11       & 26       & 170      & 60       & 74       & 1.0      & 0.8      & ⋯        & 0.9      & 22       & 16       & 12       & 1        & 1        & 0        & NA       & NA       & 20161220\\\\\n",
       "\\end{tabular}\n"
      ],
      "text/markdown": [
       "\n",
       "기준년도 | 가입자일련번호 | 성별코드 | 연령대코드(5세단위) | 시도코드 | height | weight | 허리둘레 | 시력(좌) | 시력(우) | ⋯ | 혈청크레아티닌 | (혈청지오티)AST | (혈청지오티)ALT | 감마지티피 | 흡연상태 | 음주여부 | 구강검진 수검여부 | 치아우식증유무 | 치석유무 | 데이터 기준일자 | \n",
       "|---|---|---|---|---|---|\n",
       "| 2015     | 1        | 2        | 15       | 45       | 155      | 60       | 88       | 0.6      | 0.7      | ⋯        | 1.1      | 17       | 28       | 23       | 1        | 1        | 0        | NA       | NA       | 20161220 | \n",
       "| 2015     | 2        | 2        | 15       | 11       | 155      | 65       | 98       | 1.2      | 0.6      | ⋯        | 1.0      | 25       | 30       | 41       | 1        | 1        | 1        | NA       |  0       | 20161220 | \n",
       "| 2015     | 3        | 2        | 11       | 26       | 155      | 65       | 85       | 1.2      | 0.9      | ⋯        | 0.6      | 18       | 16       | 25       | 1        | 0        | 0        | NA       | NA       | 20161220 | \n",
       "| 2015     | 4        | 1        |  9       | 41       | 175      | 75       | 89       | 0.2      | 0.2      | ⋯        | 0.9      | 28       | 40       | 50       | 1        | 1        | 1        |  0       | NA       | 20161220 | \n",
       "| 2015     | 5        | 1        | 16       | 47       | 160      | 50       | 78       | 0.5      | 0.6      | ⋯        | 1.0      | 20       | 13       | 19       | 2        | 0        | 1        | NA       |  0       | 20161220 | \n",
       "| 2015     | 6        | 1        | 11       | 26       | 170      | 60       | 74       | 1.0      | 0.8      | ⋯        | 0.9      | 22       | 16       | 12       | 1        | 1        | 0        | NA       | NA       | 20161220 | \n",
       "\n",
       "\n"
      ],
      "text/plain": [
       "  기준년도 가입자일련번호 성별코드 연령대코드(5세단위) 시도코드 height weight\n",
       "1 2015     1              2        15                  45       155    60    \n",
       "2 2015     2              2        15                  11       155    65    \n",
       "3 2015     3              2        11                  26       155    65    \n",
       "4 2015     4              1         9                  41       175    75    \n",
       "5 2015     5              1        16                  47       160    50    \n",
       "6 2015     6              1        11                  26       170    60    \n",
       "  허리둘레 시력(좌) 시력(우) ⋯ 혈청크레아티닌 (혈청지오티)AST (혈청지오티)ALT\n",
       "1 88       0.6      0.7      ⋯ 1.1            17              28             \n",
       "2 98       1.2      0.6      ⋯ 1.0            25              30             \n",
       "3 85       1.2      0.9      ⋯ 0.6            18              16             \n",
       "4 89       0.2      0.2      ⋯ 0.9            28              40             \n",
       "5 78       0.5      0.6      ⋯ 1.0            20              13             \n",
       "6 74       1.0      0.8      ⋯ 0.9            22              16             \n",
       "  감마지티피 흡연상태 음주여부 구강검진 수검여부 치아우식증유무 치석유무\n",
       "1 23         1        1        0                 NA             NA      \n",
       "2 41         1        1        1                 NA              0      \n",
       "3 25         1        0        0                 NA             NA      \n",
       "4 50         1        1        1                  0             NA      \n",
       "5 19         2        0        1                 NA              0      \n",
       "6 12         1        1        0                 NA             NA      \n",
       "  데이터 기준일자\n",
       "1 20161220       \n",
       "2 20161220       \n",
       "3 20161220       \n",
       "4 20161220       \n",
       "5 20161220       \n",
       "6 20161220       "
      ]
     },
     "metadata": {},
     "output_type": "display_data"
    }
   ],
   "source": [
    "setnames(raw, c(\"신장(5Cm단위)\", \"체중(5Kg 단위)\"), c(\"height\", \"weight\"))\n",
    "head(raw)"
   ]
  },
  {
   "cell_type": "markdown",
   "metadata": {},
   "source": [
    "### subsetting Rows/Filtering"
   ]
  },
  {
   "cell_type": "code",
   "execution_count": 27,
   "metadata": {},
   "outputs": [
    {
     "data": {
      "text/html": [
       "<table>\n",
       "<thead><tr><th scope=col>기준년도</th><th scope=col>가입자일련번호</th><th scope=col>성별코드</th><th scope=col>연령대코드(5세단위)</th><th scope=col>시도코드</th><th scope=col>height</th><th scope=col>weight</th><th scope=col>허리둘레</th><th scope=col>시력(좌)</th><th scope=col>시력(우)</th><th scope=col>⋯</th><th scope=col>혈청크레아티닌</th><th scope=col>(혈청지오티)AST</th><th scope=col>(혈청지오티)ALT</th><th scope=col>감마지티피</th><th scope=col>흡연상태</th><th scope=col>음주여부</th><th scope=col>구강검진 수검여부</th><th scope=col>치아우식증유무</th><th scope=col>치석유무</th><th scope=col>데이터 기준일자</th></tr></thead>\n",
       "<tbody>\n",
       "\t<tr><td>2015    </td><td> 4      </td><td>1       </td><td> 9      </td><td>41      </td><td>175     </td><td>75      </td><td>89      </td><td>0.2     </td><td>0.2     </td><td>⋯       </td><td>0.9     </td><td>28      </td><td>40      </td><td> 50     </td><td>1       </td><td>1       </td><td>1       </td><td> 0      </td><td>NA      </td><td>20161220</td></tr>\n",
       "\t<tr><td>2015    </td><td> 5      </td><td>1       </td><td>16      </td><td>47      </td><td>160     </td><td>50      </td><td>78      </td><td>0.5     </td><td>0.6     </td><td>⋯       </td><td>1.0     </td><td>20      </td><td>13      </td><td> 19     </td><td>2       </td><td>0       </td><td>1       </td><td>NA      </td><td> 0      </td><td>20161220</td></tr>\n",
       "\t<tr><td>2015    </td><td> 6      </td><td>1       </td><td>11      </td><td>26      </td><td>170     </td><td>60      </td><td>74      </td><td>1.0     </td><td>0.8     </td><td>⋯       </td><td>0.9     </td><td>22      </td><td>16      </td><td> 12     </td><td>1       </td><td>1       </td><td>0       </td><td>NA      </td><td>NA      </td><td>20161220</td></tr>\n",
       "\t<tr><td>2015    </td><td> 7      </td><td>1       </td><td>10      </td><td>44      </td><td>180     </td><td>90      </td><td>94      </td><td>0.7     </td><td>0.8     </td><td>⋯       </td><td>0.8     </td><td>66      </td><td>61      </td><td>152     </td><td>3       </td><td>0       </td><td>1       </td><td> 0      </td><td>NA      </td><td>20161220</td></tr>\n",
       "\t<tr><td>2015    </td><td>10      </td><td>1       </td><td> 6      </td><td>26      </td><td>185     </td><td>90      </td><td>81      </td><td>1.5     </td><td>1.5     </td><td>⋯       </td><td>0.9     </td><td>20      </td><td>22      </td><td> 41     </td><td>3       </td><td>0       </td><td>1       </td><td> 0      </td><td> 0      </td><td>20161220</td></tr>\n",
       "\t<tr><td>2015    </td><td>14      </td><td>1       </td><td>18      </td><td>30      </td><td>160     </td><td>60      </td><td>85      </td><td>0.7     </td><td>0.6     </td><td>⋯       </td><td>1.1     </td><td>28      </td><td>20      </td><td> 43     </td><td>3       </td><td>1       </td><td>1       </td><td>NA      </td><td> 0      </td><td>20161220</td></tr>\n",
       "</tbody>\n",
       "</table>\n"
      ],
      "text/latex": [
       "\\begin{tabular}{r|lllllllllllllllllllllllllllllll}\n",
       " 기준년도 & 가입자일련번호 & 성별코드 & 연령대코드(5세단위) & 시도코드 & height & weight & 허리둘레 & 시력(좌) & 시력(우) & ⋯ & 혈청크레아티닌 & (혈청지오티)AST & (혈청지오티)ALT & 감마지티피 & 흡연상태 & 음주여부 & 구강검진 수검여부 & 치아우식증유무 & 치석유무 & 데이터 기준일자\\\\\n",
       "\\hline\n",
       "\t 2015     &  4       & 1        &  9       & 41       & 175      & 75       & 89       & 0.2      & 0.2      & ⋯        & 0.9      & 28       & 40       &  50      & 1        & 1        & 1        &  0       & NA       & 20161220\\\\\n",
       "\t 2015     &  5       & 1        & 16       & 47       & 160      & 50       & 78       & 0.5      & 0.6      & ⋯        & 1.0      & 20       & 13       &  19      & 2        & 0        & 1        & NA       &  0       & 20161220\\\\\n",
       "\t 2015     &  6       & 1        & 11       & 26       & 170      & 60       & 74       & 1.0      & 0.8      & ⋯        & 0.9      & 22       & 16       &  12      & 1        & 1        & 0        & NA       & NA       & 20161220\\\\\n",
       "\t 2015     &  7       & 1        & 10       & 44       & 180      & 90       & 94       & 0.7      & 0.8      & ⋯        & 0.8      & 66       & 61       & 152      & 3        & 0        & 1        &  0       & NA       & 20161220\\\\\n",
       "\t 2015     & 10       & 1        &  6       & 26       & 185      & 90       & 81       & 1.5      & 1.5      & ⋯        & 0.9      & 20       & 22       &  41      & 3        & 0        & 1        &  0       &  0       & 20161220\\\\\n",
       "\t 2015     & 14       & 1        & 18       & 30       & 160      & 60       & 85       & 0.7      & 0.6      & ⋯        & 1.1      & 28       & 20       &  43      & 3        & 1        & 1        & NA       &  0       & 20161220\\\\\n",
       "\\end{tabular}\n"
      ],
      "text/markdown": [
       "\n",
       "기준년도 | 가입자일련번호 | 성별코드 | 연령대코드(5세단위) | 시도코드 | height | weight | 허리둘레 | 시력(좌) | 시력(우) | ⋯ | 혈청크레아티닌 | (혈청지오티)AST | (혈청지오티)ALT | 감마지티피 | 흡연상태 | 음주여부 | 구강검진 수검여부 | 치아우식증유무 | 치석유무 | 데이터 기준일자 | \n",
       "|---|---|---|---|---|---|\n",
       "| 2015     |  4       | 1        |  9       | 41       | 175      | 75       | 89       | 0.2      | 0.2      | ⋯        | 0.9      | 28       | 40       |  50      | 1        | 1        | 1        |  0       | NA       | 20161220 | \n",
       "| 2015     |  5       | 1        | 16       | 47       | 160      | 50       | 78       | 0.5      | 0.6      | ⋯        | 1.0      | 20       | 13       |  19      | 2        | 0        | 1        | NA       |  0       | 20161220 | \n",
       "| 2015     |  6       | 1        | 11       | 26       | 170      | 60       | 74       | 1.0      | 0.8      | ⋯        | 0.9      | 22       | 16       |  12      | 1        | 1        | 0        | NA       | NA       | 20161220 | \n",
       "| 2015     |  7       | 1        | 10       | 44       | 180      | 90       | 94       | 0.7      | 0.8      | ⋯        | 0.8      | 66       | 61       | 152      | 3        | 0        | 1        |  0       | NA       | 20161220 | \n",
       "| 2015     | 10       | 1        |  6       | 26       | 185      | 90       | 81       | 1.5      | 1.5      | ⋯        | 0.9      | 20       | 22       |  41      | 3        | 0        | 1        |  0       |  0       | 20161220 | \n",
       "| 2015     | 14       | 1        | 18       | 30       | 160      | 60       | 85       | 0.7      | 0.6      | ⋯        | 1.1      | 28       | 20       |  43      | 3        | 1        | 1        | NA       |  0       | 20161220 | \n",
       "\n",
       "\n"
      ],
      "text/plain": [
       "  기준년도 가입자일련번호 성별코드 연령대코드(5세단위) 시도코드 height weight\n",
       "1 2015      4             1         9                  41       175    75    \n",
       "2 2015      5             1        16                  47       160    50    \n",
       "3 2015      6             1        11                  26       170    60    \n",
       "4 2015      7             1        10                  44       180    90    \n",
       "5 2015     10             1         6                  26       185    90    \n",
       "6 2015     14             1        18                  30       160    60    \n",
       "  허리둘레 시력(좌) 시력(우) ⋯ 혈청크레아티닌 (혈청지오티)AST (혈청지오티)ALT\n",
       "1 89       0.2      0.2      ⋯ 0.9            28              40             \n",
       "2 78       0.5      0.6      ⋯ 1.0            20              13             \n",
       "3 74       1.0      0.8      ⋯ 0.9            22              16             \n",
       "4 94       0.7      0.8      ⋯ 0.8            66              61             \n",
       "5 81       1.5      1.5      ⋯ 0.9            20              22             \n",
       "6 85       0.7      0.6      ⋯ 1.1            28              20             \n",
       "  감마지티피 흡연상태 음주여부 구강검진 수검여부 치아우식증유무 치석유무\n",
       "1  50        1        1        1                  0             NA      \n",
       "2  19        2        0        1                 NA              0      \n",
       "3  12        1        1        0                 NA             NA      \n",
       "4 152        3        0        1                  0             NA      \n",
       "5  41        3        0        1                  0              0      \n",
       "6  43        3        1        1                 NA              0      \n",
       "  데이터 기준일자\n",
       "1 20161220       \n",
       "2 20161220       \n",
       "3 20161220       \n",
       "4 20161220       \n",
       "5 20161220       \n",
       "6 20161220       "
      ]
     },
     "metadata": {},
     "output_type": "display_data"
    }
   ],
   "source": [
    "dat5 <- raw[성별코드 == \"1\"]\n",
    "head(dat5)"
   ]
  },
  {
   "cell_type": "code",
   "execution_count": 28,
   "metadata": {},
   "outputs": [
    {
     "data": {
      "text/html": [
       "<ol class=list-inline>\n",
       "\t<li>538063</li>\n",
       "\t<li>1</li>\n",
       "</ol>\n"
      ],
      "text/latex": [
       "\\begin{enumerate*}\n",
       "\\item 538063\n",
       "\\item 1\n",
       "\\end{enumerate*}\n"
      ],
      "text/markdown": [
       "1. 538063\n",
       "2. 1\n",
       "\n",
       "\n"
      ],
      "text/plain": [
       "[1] 538063      1"
      ]
     },
     "metadata": {},
     "output_type": "display_data"
    },
    {
     "data": {
      "text/html": [
       "<ol class=list-inline>\n",
       "\t<li>538063</li>\n",
       "\t<li>1</li>\n",
       "</ol>\n"
      ],
      "text/latex": [
       "\\begin{enumerate*}\n",
       "\\item 538063\n",
       "\\item 1\n",
       "\\end{enumerate*}\n"
      ],
      "text/markdown": [
       "1. 538063\n",
       "2. 1\n",
       "\n",
       "\n"
      ],
      "text/plain": [
       "[1] 538063      1"
      ]
     },
     "metadata": {},
     "output_type": "display_data"
    },
    {
     "data": {
      "image/png": "[encoded data removed]",
      "text/plain": [
       "plot without title"
      ]
     },
     "metadata": {},
     "output_type": "display_data"
    }
   ],
   "source": [
    "dim(dat5[,\"height\"])\n",
    "dim(dat5[,\"weight\"])\n",
    "plot(dat5$height, dat5$weight)\n",
    "abline(lm(weight ~ height, data= dat5), col='red')"
   ]
  },
  {
   "cell_type": "code",
   "execution_count": 46,
   "metadata": {},
   "outputs": [
    {
     "data": {
      "text/plain": [
       "\n",
       "\tOne Sample t-test\n",
       "\n",
       "data:  dat5$weight\n",
       "t = 4855.9, df = 538060, p-value < 2.2e-16\n",
       "alternative hypothesis: true mean is not equal to 0\n",
       "95 percent confidence interval:\n",
       " 73.47108 73.53042\n",
       "sample estimates:\n",
       "mean of x \n",
       " 73.50075 \n"
      ]
     },
     "metadata": {},
     "output_type": "display_data"
    }
   ],
   "source": [
    "# 단일표본 t검정\n",
    "t.test(dat5$weight)\n",
    "weight_Ttest <- t.test(dat5$weight, alternative = \"two.sided\", mu = 70)"
   ]
  },
  {
   "cell_type": "markdown",
   "metadata": {},
   "source": [
    "---"
   ]
  },
  {
   "cell_type": "markdown",
   "metadata": {},
   "source": [
    "# nonlinear regression\n",
    "> * Convex Regression Model\n",
    "> * https://www.jstor.org/stable/2281132?seq=1#page_scan_tab_contents"
   ]
  },
  {
   "cell_type": "code",
   "execution_count": 7,
   "metadata": {},
   "outputs": [
    {
     "data": {
      "text/plain": [
       "R version 3.4.3 (2017-11-30)\n",
       "Platform: x86_64-apple-darwin13.4.0 (64-bit)\n",
       "Running under: macOS High Sierra 10.13.5\n",
       "\n",
       "Matrix products: default\n",
       "BLAS: /System/Library/Frameworks/Accelerate.framework/Versions/A/Frameworks/vecLib.framework/Versions/A/libBLAS.dylib\n",
       "LAPACK: /System/Library/Frameworks/Accelerate.framework/Versions/A/Frameworks/vecLib.framework/Versions/A/libLAPACK.dylib\n",
       "\n",
       "locale:\n",
       "[1] ko_KR.UTF-8/ko_KR.UTF-8/ko_KR.UTF-8/C/ko_KR.UTF-8/ko_KR.UTF-8\n",
       "\n",
       "attached base packages:\n",
       "[1] stats     graphics  grDevices utils     datasets  methods   base     \n",
       "\n",
       "loaded via a namespace (and not attached):\n",
       " [1] compiler_3.4.3  magrittr_1.5    IRdisplay_0.4.4 pbdZMQ_0.3-0   \n",
       " [5] tools_3.4.3     crayon_1.3.4    uuid_0.1-2      stringi_1.1.6  \n",
       " [9] IRkernel_0.8.11 jsonlite_1.5    stringr_1.2.0   digest_0.6.13  \n",
       "[13] repr_0.12.0     evaluate_0.10.1"
      ]
     },
     "metadata": {},
     "output_type": "display_data"
    }
   ],
   "source": [
    "sessionInfo()"
   ]
  },
  {
   "cell_type": "code",
   "execution_count": null,
   "metadata": {},
   "outputs": [],
   "source": []
  }
 ],
 "metadata": {
  "kernelspec": {
   "display_name": "R",
   "language": "R",
   "name": "ir"
  },
  "language_info": {
   "codemirror_mode": "r",
   "file_extension": ".r",
   "mimetype": "text/x-r-source",
   "name": "R",
   "pygments_lexer": "r",
   "version": "3.4.3"
  }
 },
 "nbformat": 4,
 "nbformat_minor": 2
}
