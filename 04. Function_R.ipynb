{
 "cells": [
  {
   "cell_type": "markdown",
   "metadata": {},
   "source": [
    "# apply"
   ]
  },
  {
   "cell_type": "code",
   "execution_count": 52,
   "metadata": {},
   "outputs": [
    {
     "data": {
      "text/html": [
       "<table>\n",
       "<tbody>\n",
       "\t<tr><td>1</td><td>4</td><td>7</td></tr>\n",
       "\t<tr><td>2</td><td>5</td><td>8</td></tr>\n",
       "\t<tr><td>3</td><td>6</td><td>9</td></tr>\n",
       "</tbody>\n",
       "</table>\n"
      ],
      "text/latex": [
       "\\begin{tabular}{lll}\n",
       "\t 1 & 4 & 7\\\\\n",
       "\t 2 & 5 & 8\\\\\n",
       "\t 3 & 6 & 9\\\\\n",
       "\\end{tabular}\n"
      ],
      "text/markdown": [
       "\n",
       "| 1 | 4 | 7 | \n",
       "| 2 | 5 | 8 | \n",
       "| 3 | 6 | 9 | \n",
       "\n",
       "\n"
      ],
      "text/plain": [
       "     [,1] [,2] [,3]\n",
       "[1,] 1    4    7   \n",
       "[2,] 2    5    8   \n",
       "[3,] 3    6    9   "
      ]
     },
     "metadata": {},
     "output_type": "display_data"
    }
   ],
   "source": [
    "matrix.data <- matrix(1:9, nrow = 3)\n",
    "matrix.data"
   ]
  },
  {
   "cell_type": "code",
   "execution_count": 53,
   "metadata": {},
   "outputs": [
    {
     "data": {
      "text/html": [
       "<ol class=list-inline>\n",
       "\t<li>12</li>\n",
       "\t<li>15</li>\n",
       "\t<li>18</li>\n",
       "</ol>\n"
      ],
      "text/latex": [
       "\\begin{enumerate*}\n",
       "\\item 12\n",
       "\\item 15\n",
       "\\item 18\n",
       "\\end{enumerate*}\n"
      ],
      "text/markdown": [
       "1. 12\n",
       "2. 15\n",
       "3. 18\n",
       "\n",
       "\n"
      ],
      "text/plain": [
       "[1] 12 15 18"
      ]
     },
     "metadata": {},
     "output_type": "display_data"
    }
   ],
   "source": [
    "apply(matrix.data, 1, sum)"
   ]
  },
  {
   "cell_type": "code",
   "execution_count": 55,
   "metadata": {},
   "outputs": [
    {
     "data": {
      "text/html": [
       "<ol class=list-inline>\n",
       "\t<li>12</li>\n",
       "\t<li>15</li>\n",
       "\t<li>18</li>\n",
       "</ol>\n"
      ],
      "text/latex": [
       "\\begin{enumerate*}\n",
       "\\item 12\n",
       "\\item 15\n",
       "\\item 18\n",
       "\\end{enumerate*}\n"
      ],
      "text/markdown": [
       "1. 12\n",
       "2. 15\n",
       "3. 18\n",
       "\n",
       "\n"
      ],
      "text/plain": [
       "[1] 12 15 18"
      ]
     },
     "metadata": {},
     "output_type": "display_data"
    }
   ],
   "source": [
    "rowSums(matrix.data)"
   ]
  },
  {
   "cell_type": "code",
   "execution_count": 54,
   "metadata": {},
   "outputs": [
    {
     "data": {
      "text/html": [
       "<ol class=list-inline>\n",
       "\t<li>6</li>\n",
       "\t<li>15</li>\n",
       "\t<li>24</li>\n",
       "</ol>\n"
      ],
      "text/latex": [
       "\\begin{enumerate*}\n",
       "\\item 6\n",
       "\\item 15\n",
       "\\item 24\n",
       "\\end{enumerate*}\n"
      ],
      "text/markdown": [
       "1. 6\n",
       "2. 15\n",
       "3. 24\n",
       "\n",
       "\n"
      ],
      "text/plain": [
       "[1]  6 15 24"
      ]
     },
     "metadata": {},
     "output_type": "display_data"
    }
   ],
   "source": [
    "apply(matrix.data, 2, sum)"
   ]
  },
  {
   "cell_type": "code",
   "execution_count": 56,
   "metadata": {},
   "outputs": [
    {
     "data": {
      "text/html": [
       "<ol class=list-inline>\n",
       "\t<li>6</li>\n",
       "\t<li>15</li>\n",
       "\t<li>24</li>\n",
       "</ol>\n"
      ],
      "text/latex": [
       "\\begin{enumerate*}\n",
       "\\item 6\n",
       "\\item 15\n",
       "\\item 24\n",
       "\\end{enumerate*}\n"
      ],
      "text/markdown": [
       "1. 6\n",
       "2. 15\n",
       "3. 24\n",
       "\n",
       "\n"
      ],
      "text/plain": [
       "[1]  6 15 24"
      ]
     },
     "metadata": {},
     "output_type": "display_data"
    }
   ],
   "source": [
    "colSums(matrix.data)"
   ]
  },
  {
   "cell_type": "code",
   "execution_count": 58,
   "metadata": {},
   "outputs": [
    {
     "data": {
      "text/html": [
       "<ol class=list-inline>\n",
       "\t<li>12</li>\n",
       "\t<li>15</li>\n",
       "\t<li>18</li>\n",
       "</ol>\n"
      ],
      "text/latex": [
       "\\begin{enumerate*}\n",
       "\\item 12\n",
       "\\item 15\n",
       "\\item 18\n",
       "\\end{enumerate*}\n"
      ],
      "text/markdown": [
       "1. 12\n",
       "2. 15\n",
       "3. 18\n",
       "\n",
       "\n"
      ],
      "text/plain": [
       "[1] 12 15 18"
      ]
     },
     "metadata": {},
     "output_type": "display_data"
    }
   ],
   "source": [
    "apply(matrix.data, 1, sum, na.rm=TRUE)"
   ]
  },
  {
   "cell_type": "code",
   "execution_count": 59,
   "metadata": {},
   "outputs": [
    {
     "data": {
      "text/html": [
       "<table>\n",
       "<tbody>\n",
       "\t<tr><td> 1</td><td>4 </td><td>7 </td></tr>\n",
       "\t<tr><td>NA</td><td>5 </td><td>8 </td></tr>\n",
       "\t<tr><td> 3</td><td>6 </td><td>9 </td></tr>\n",
       "</tbody>\n",
       "</table>\n"
      ],
      "text/latex": [
       "\\begin{tabular}{lll}\n",
       "\t  1 & 4  & 7 \\\\\n",
       "\t NA & 5  & 8 \\\\\n",
       "\t  3 & 6  & 9 \\\\\n",
       "\\end{tabular}\n"
      ],
      "text/markdown": [
       "\n",
       "|  1 | 4  | 7  | \n",
       "| NA | 5  | 8  | \n",
       "|  3 | 6  | 9  | \n",
       "\n",
       "\n"
      ],
      "text/plain": [
       "     [,1] [,2] [,3]\n",
       "[1,]  1   4    7   \n",
       "[2,] NA   5    8   \n",
       "[3,]  3   6    9   "
      ]
     },
     "metadata": {},
     "output_type": "display_data"
    }
   ],
   "source": [
    "matrix.data <- matrix(1:9, nrow = 3)\n",
    "matrix.data[2,1] <- NA\n",
    "matrix.data"
   ]
  },
  {
   "cell_type": "code",
   "execution_count": 60,
   "metadata": {},
   "outputs": [
    {
     "data": {
      "text/html": [
       "<ol class=list-inline>\n",
       "\t<li>12</li>\n",
       "\t<li>&lt;NA&gt;</li>\n",
       "\t<li>18</li>\n",
       "</ol>\n"
      ],
      "text/latex": [
       "\\begin{enumerate*}\n",
       "\\item 12\n",
       "\\item <NA>\n",
       "\\item 18\n",
       "\\end{enumerate*}\n"
      ],
      "text/markdown": [
       "1. 12\n",
       "2. &lt;NA&gt;\n",
       "3. 18\n",
       "\n",
       "\n"
      ],
      "text/plain": [
       "[1] 12 NA 18"
      ]
     },
     "metadata": {},
     "output_type": "display_data"
    }
   ],
   "source": [
    "rowSums(matrix.data)"
   ]
  },
  {
   "cell_type": "code",
   "execution_count": 61,
   "metadata": {},
   "outputs": [
    {
     "data": {
      "text/html": [
       "<ol class=list-inline>\n",
       "\t<li>12</li>\n",
       "\t<li>13</li>\n",
       "\t<li>18</li>\n",
       "</ol>\n"
      ],
      "text/latex": [
       "\\begin{enumerate*}\n",
       "\\item 12\n",
       "\\item 13\n",
       "\\item 18\n",
       "\\end{enumerate*}\n"
      ],
      "text/markdown": [
       "1. 12\n",
       "2. 13\n",
       "3. 18\n",
       "\n",
       "\n"
      ],
      "text/plain": [
       "[1] 12 13 18"
      ]
     },
     "metadata": {},
     "output_type": "display_data"
    }
   ],
   "source": [
    "rowSums(matrix.data, na.rm=TRUE)"
   ]
  },
  {
   "cell_type": "markdown",
   "metadata": {},
   "source": [
    "# lappy\n",
    "> * list의 각 원소에 함수를 적용\n",
    "> * list로 그 결과 리턴"
   ]
  },
  {
   "cell_type": "code",
   "execution_count": 14,
   "metadata": {},
   "outputs": [
    {
     "data": {
      "text/html": [
       "<ol>\n",
       "\t<li><ol class=list-inline>\n",
       "\t<li>1</li>\n",
       "\t<li>2</li>\n",
       "\t<li>3</li>\n",
       "</ol>\n",
       "</li>\n",
       "\t<li><ol class=list-inline>\n",
       "\t<li>4</li>\n",
       "\t<li>5</li>\n",
       "\t<li>6</li>\n",
       "</ol>\n",
       "</li>\n",
       "\t<li><ol class=list-inline>\n",
       "\t<li>7</li>\n",
       "\t<li>8</li>\n",
       "\t<li>9</li>\n",
       "</ol>\n",
       "</li>\n",
       "</ol>\n"
      ],
      "text/latex": [
       "\\begin{enumerate}\n",
       "\\item \\begin{enumerate*}\n",
       "\\item 1\n",
       "\\item 2\n",
       "\\item 3\n",
       "\\end{enumerate*}\n",
       "\n",
       "\\item \\begin{enumerate*}\n",
       "\\item 4\n",
       "\\item 5\n",
       "\\item 6\n",
       "\\end{enumerate*}\n",
       "\n",
       "\\item \\begin{enumerate*}\n",
       "\\item 7\n",
       "\\item 8\n",
       "\\item 9\n",
       "\\end{enumerate*}\n",
       "\n",
       "\\end{enumerate}\n"
      ],
      "text/markdown": [
       "1. 1. 1\n",
       "2. 2\n",
       "3. 3\n",
       "\n",
       "\n",
       "\n",
       "2. 1. 4\n",
       "2. 5\n",
       "3. 6\n",
       "\n",
       "\n",
       "\n",
       "3. 1. 7\n",
       "2. 8\n",
       "3. 9\n",
       "\n",
       "\n",
       "\n",
       "\n",
       "\n"
      ],
      "text/plain": [
       "[[1]]\n",
       "[1] 1 2 3\n",
       "\n",
       "[[2]]\n",
       "[1] 4 5 6\n",
       "\n",
       "[[3]]\n",
       "[1] 7 8 9\n"
      ]
     },
     "metadata": {},
     "output_type": "display_data"
    },
    {
     "name": "stdout",
     "output_type": "stream",
     "text": [
      "List of 3\n",
      " $ : int [1:3] 1 2 3\n",
      " $ : int [1:3] 4 5 6\n",
      " $ : int [1:3] 7 8 9\n"
     ]
    }
   ],
   "source": [
    "X <- list(1:3, 4:6, 7:9)\n",
    "X\n",
    "str(X)"
   ]
  },
  {
   "cell_type": "code",
   "execution_count": 15,
   "metadata": {},
   "outputs": [
    {
     "data": {
      "text/html": [
       "<ol>\n",
       "\t<li>2</li>\n",
       "\t<li>5</li>\n",
       "\t<li>8</li>\n",
       "</ol>\n"
      ],
      "text/latex": [
       "\\begin{enumerate}\n",
       "\\item 2\n",
       "\\item 5\n",
       "\\item 8\n",
       "\\end{enumerate}\n"
      ],
      "text/markdown": [
       "1. 2\n",
       "2. 5\n",
       "3. 8\n",
       "\n",
       "\n"
      ],
      "text/plain": [
       "[[1]]\n",
       "[1] 2\n",
       "\n",
       "[[2]]\n",
       "[1] 5\n",
       "\n",
       "[[3]]\n",
       "[1] 8\n"
      ]
     },
     "metadata": {},
     "output_type": "display_data"
    }
   ],
   "source": [
    "lapply(X, mean)"
   ]
  },
  {
   "cell_type": "markdown",
   "metadata": {},
   "source": [
    "# sapply\n",
    "> * vector로 리턴"
   ]
  },
  {
   "cell_type": "code",
   "execution_count": 62,
   "metadata": {},
   "outputs": [
    {
     "data": {
      "text/html": [
       "<ol class=list-inline>\n",
       "\t<li>2</li>\n",
       "\t<li>5</li>\n",
       "\t<li>8</li>\n",
       "</ol>\n"
      ],
      "text/latex": [
       "\\begin{enumerate*}\n",
       "\\item 2\n",
       "\\item 5\n",
       "\\item 8\n",
       "\\end{enumerate*}\n"
      ],
      "text/markdown": [
       "1. 2\n",
       "2. 5\n",
       "3. 8\n",
       "\n",
       "\n"
      ],
      "text/plain": [
       "[1] 2 5 8"
      ]
     },
     "metadata": {},
     "output_type": "display_data"
    }
   ],
   "source": [
    "sapply(X, mean)"
   ]
  },
  {
   "cell_type": "markdown",
   "metadata": {},
   "source": [
    "# mapply\n",
    "> * 여러 list의 각 원소에 대해 함수를 적용"
   ]
  },
  {
   "cell_type": "code",
   "execution_count": 65,
   "metadata": {},
   "outputs": [
    {
     "data": {
      "text/html": [
       "<dl class=dl-horizontal>\n",
       "\t<dt>A</dt>\n",
       "\t\t<dd>TRUE</dd>\n",
       "\t<dt>B</dt>\n",
       "\t\t<dd>FALSE</dd>\n",
       "\t<dt>C</dt>\n",
       "\t\t<dd>FALSE</dd>\n",
       "</dl>\n"
      ],
      "text/latex": [
       "\\begin{description*}\n",
       "\\item[A] TRUE\n",
       "\\item[B] FALSE\n",
       "\\item[C] FALSE\n",
       "\\end{description*}\n"
      ],
      "text/markdown": [
       "A\n",
       ":   TRUEB\n",
       ":   FALSEC\n",
       ":   FALSE\n",
       "\n"
      ],
      "text/plain": [
       "    A     B     C \n",
       " TRUE FALSE FALSE "
      ]
     },
     "metadata": {},
     "output_type": "display_data"
    }
   ],
   "source": [
    "list01 <- list(A=matrix(1:16, 4), B=matrix(1:16, 2), C = 1:5)\n",
    "list02 <- list(A=matrix(1:16, 4), B=matrix(1:16,8), c=6:16)\n",
    "\n",
    "mapply(identical, list01, list02)"
   ]
  },
  {
   "cell_type": "markdown",
   "metadata": {},
   "source": [
    "# do.call"
   ]
  },
  {
   "cell_type": "code",
   "execution_count": 16,
   "metadata": {},
   "outputs": [
    {
     "data": {
      "text/html": [
       "<table>\n",
       "<tbody>\n",
       "\t<tr><td>1</td><td>2</td><td>3</td></tr>\n",
       "\t<tr><td>4</td><td>5</td><td>6</td></tr>\n",
       "\t<tr><td>7</td><td>8</td><td>9</td></tr>\n",
       "</tbody>\n",
       "</table>\n"
      ],
      "text/latex": [
       "\\begin{tabular}{lll}\n",
       "\t 1 & 2 & 3\\\\\n",
       "\t 4 & 5 & 6\\\\\n",
       "\t 7 & 8 & 9\\\\\n",
       "\\end{tabular}\n"
      ],
      "text/markdown": [
       "\n",
       "| 1 | 2 | 3 | \n",
       "| 4 | 5 | 6 | \n",
       "| 7 | 8 | 9 | \n",
       "\n",
       "\n"
      ],
      "text/plain": [
       "     [,1] [,2] [,3]\n",
       "[1,] 1    2    3   \n",
       "[2,] 4    5    6   \n",
       "[3,] 7    8    9   "
      ]
     },
     "metadata": {},
     "output_type": "display_data"
    }
   ],
   "source": [
    "do.call(rbind, X)"
   ]
  },
  {
   "cell_type": "code",
   "execution_count": 20,
   "metadata": {},
   "outputs": [
    {
     "data": {
      "text/html": [
       "<table>\n",
       "<thead><tr><th scope=col>index</th><th scope=col>char</th><th scope=col>Z</th></tr></thead>\n",
       "<tbody>\n",
       "\t<tr><td>1        </td><td>n        </td><td>0.6832947</td></tr>\n",
       "</tbody>\n",
       "</table>\n"
      ],
      "text/latex": [
       "\\begin{tabular}{r|lll}\n",
       " index & char & Z\\\\\n",
       "\\hline\n",
       "\t 1         & n         & 0.6832947\\\\\n",
       "\\end{tabular}\n"
      ],
      "text/markdown": [
       "\n",
       "index | char | Z | \n",
       "|---|\n",
       "| 1         | n         | 0.6832947 | \n",
       "\n",
       "\n"
      ],
      "text/plain": [
       "  index char Z        \n",
       "1 1     n    0.6832947"
      ]
     },
     "metadata": {},
     "output_type": "display_data"
    }
   ],
   "source": [
    "data <- list()\n",
    "N <- 100000\n",
    "\n",
    "for (n in 1:N) {\n",
    "    data[[n]] <- data.frame(index = n,\n",
    "                           char=sample(letters, 1),\n",
    "                           Z = runif(1))\n",
    "}\n",
    "\n",
    "data[[1]]"
   ]
  },
  {
   "cell_type": "code",
   "execution_count": 29,
   "metadata": {},
   "outputs": [
    {
     "data": {
      "text/html": [
       "5.5"
      ],
      "text/latex": [
       "5.5"
      ],
      "text/markdown": [
       "5.5"
      ],
      "text/plain": [
       "[1] 5.5"
      ]
     },
     "metadata": {},
     "output_type": "display_data"
    }
   ],
   "source": [
    "mean.function <- function(x, func=mean){\n",
    "    do.call(func, args=list(x))\n",
    "}\n",
    "\n",
    "mean.function(c(1:10))"
   ]
  },
  {
   "cell_type": "markdown",
   "metadata": {},
   "source": [
    "# 제어문\n",
    "* ==, <, <=, >, >=, !=\n",
    "* as.numeric, as.facotr, as.character"
   ]
  },
  {
   "cell_type": "code",
   "execution_count": 33,
   "metadata": {},
   "outputs": [
    {
     "name": "stdout",
     "output_type": "stream",
     "text": [
      "[1] \"hello\"\n"
     ]
    }
   ],
   "source": [
    "example_par <- 1\n",
    "\n",
    "if (example_par == 1){\n",
    "    print(\"hello\")\n",
    "}"
   ]
  },
  {
   "cell_type": "code",
   "execution_count": 36,
   "metadata": {},
   "outputs": [],
   "source": [
    "if (example_par == 0){\n",
    "    print(\"hello\")\n",
    "}"
   ]
  },
  {
   "cell_type": "code",
   "execution_count": 37,
   "metadata": {},
   "outputs": [],
   "source": [
    "check_par <- function(x){\n",
    "    if(x==1){\n",
    "        print(\"Hello\")\n",
    "    } else {\n",
    "        print(\"no thanks\")\n",
    "    }\n",
    "}"
   ]
  },
  {
   "cell_type": "code",
   "execution_count": 38,
   "metadata": {},
   "outputs": [
    {
     "name": "stdout",
     "output_type": "stream",
     "text": [
      "[1] \"Hello\"\n"
     ]
    }
   ],
   "source": [
    "check_par(1)"
   ]
  },
  {
   "cell_type": "code",
   "execution_count": 39,
   "metadata": {},
   "outputs": [
    {
     "name": "stdout",
     "output_type": "stream",
     "text": [
      "[1] \"no thanks\"\n"
     ]
    }
   ],
   "source": [
    "check_par(0)"
   ]
  },
  {
   "cell_type": "code",
   "execution_count": 41,
   "metadata": {},
   "outputs": [
    {
     "name": "stdout",
     "output_type": "stream",
     "text": [
      "[1] \"Hello\"\n"
     ]
    }
   ],
   "source": [
    "check_par(TRUE)"
   ]
  },
  {
   "cell_type": "code",
   "execution_count": 42,
   "metadata": {},
   "outputs": [
    {
     "data": {
      "text/html": [
       "'Google'"
      ],
      "text/latex": [
       "'Google'"
      ],
      "text/markdown": [
       "'Google'"
      ],
      "text/plain": [
       "[1] \"Google\""
      ]
     },
     "metadata": {},
     "output_type": "display_data"
    }
   ],
   "source": [
    "ifelse(1 == 1, \"Google\", \"Facebook\")"
   ]
  },
  {
   "cell_type": "code",
   "execution_count": 43,
   "metadata": {},
   "outputs": [
    {
     "data": {
      "text/html": [
       "'Facebook'"
      ],
      "text/latex": [
       "'Facebook'"
      ],
      "text/markdown": [
       "'Facebook'"
      ],
      "text/plain": [
       "[1] \"Facebook\""
      ]
     },
     "metadata": {},
     "output_type": "display_data"
    }
   ],
   "source": [
    "ifelse(1 == 0, \"Google\", \"Facebook\")"
   ]
  },
  {
   "cell_type": "code",
   "execution_count": 45,
   "metadata": {},
   "outputs": [
    {
     "data": {
      "text/html": [
       "<ol class=list-inline>\n",
       "\t<li>'Yes'</li>\n",
       "\t<li>'Yes'</li>\n",
       "\t<li>'No'</li>\n",
       "\t<li>'Yes'</li>\n",
       "\t<li>'No'</li>\n",
       "\t<li>'Yes'</li>\n",
       "</ol>\n"
      ],
      "text/latex": [
       "\\begin{enumerate*}\n",
       "\\item 'Yes'\n",
       "\\item 'Yes'\n",
       "\\item 'No'\n",
       "\\item 'Yes'\n",
       "\\item 'No'\n",
       "\\item 'Yes'\n",
       "\\end{enumerate*}\n"
      ],
      "text/markdown": [
       "1. 'Yes'\n",
       "2. 'Yes'\n",
       "3. 'No'\n",
       "4. 'Yes'\n",
       "5. 'No'\n",
       "6. 'Yes'\n",
       "\n",
       "\n"
      ],
      "text/plain": [
       "[1] \"Yes\" \"Yes\" \"No\"  \"Yes\" \"No\"  \"Yes\""
      ]
     },
     "metadata": {},
     "output_type": "display_data"
    }
   ],
   "source": [
    "test_vector <- c(1, 1, 0, 1, 0, 1)\n",
    "ifelse(test_vector == 1, \"Yes\", \"No\")"
   ]
  },
  {
   "cell_type": "markdown",
   "metadata": {},
   "source": [
    "# loop"
   ]
  },
  {
   "cell_type": "markdown",
   "metadata": {},
   "source": [
    "## for"
   ]
  },
  {
   "cell_type": "code",
   "execution_count": 46,
   "metadata": {},
   "outputs": [
    {
     "name": "stdout",
     "output_type": "stream",
     "text": [
      "[1] 1\n",
      "[1] 2\n",
      "[1] 3\n",
      "[1] 4\n",
      "[1] 5\n",
      "[1] 6\n",
      "[1] 7\n",
      "[1] 8\n",
      "[1] 9\n",
      "[1] 10\n"
     ]
    }
   ],
   "source": [
    "for (i in 1:10){\n",
    "    print(i)\n",
    "}"
   ]
  },
  {
   "cell_type": "markdown",
   "metadata": {},
   "source": [
    "## while"
   ]
  },
  {
   "cell_type": "code",
   "execution_count": 47,
   "metadata": {},
   "outputs": [
    {
     "name": "stdout",
     "output_type": "stream",
     "text": [
      "[1] 1\n",
      "[1] 2\n",
      "[1] 3\n",
      "[1] 4\n",
      "[1] 5\n"
     ]
    }
   ],
   "source": [
    "x <- 1\n",
    "while (x <=5){\n",
    "    print(x)\n",
    "    x <- x+1\n",
    "}"
   ]
  },
  {
   "cell_type": "code",
   "execution_count": 48,
   "metadata": {},
   "outputs": [
    {
     "name": "stdout",
     "output_type": "stream",
     "text": [
      "[1] 1\n",
      "[1] 2\n",
      "[1] 4\n",
      "[1] 5\n",
      "[1] 6\n",
      "[1] 7\n",
      "[1] 8\n",
      "[1] 9\n",
      "[1] 10\n"
     ]
    }
   ],
   "source": [
    "for (i in 1:10){\n",
    "    if(i == 3){\n",
    "        next\n",
    "    }\n",
    "    print(i)\n",
    "}"
   ]
  },
  {
   "cell_type": "code",
   "execution_count": 49,
   "metadata": {},
   "outputs": [
    {
     "name": "stdout",
     "output_type": "stream",
     "text": [
      "[1] 1\n",
      "[1] 2\n",
      "[1] 3\n"
     ]
    }
   ],
   "source": [
    "for (i in 1:10){\n",
    "    if (i == 4){\n",
    "        break\n",
    "    }\n",
    "    print(i)\n",
    "}"
   ]
  },
  {
   "cell_type": "markdown",
   "metadata": {},
   "source": [
    "# group by"
   ]
  },
  {
   "cell_type": "code",
   "execution_count": 69,
   "metadata": {},
   "outputs": [
    {
     "data": {
      "text/html": [
       "<table>\n",
       "<thead><tr><th scope=col>carat</th><th scope=col>cut</th><th scope=col>color</th><th scope=col>clarity</th><th scope=col>depth</th><th scope=col>table</th><th scope=col>price</th><th scope=col>x</th><th scope=col>y</th><th scope=col>z</th></tr></thead>\n",
       "<tbody>\n",
       "\t<tr><td>0.23     </td><td>Ideal    </td><td>E        </td><td>SI2      </td><td>61.5     </td><td>55       </td><td>326      </td><td>3.95     </td><td>3.98     </td><td>2.43     </td></tr>\n",
       "\t<tr><td>0.21     </td><td>Premium  </td><td>E        </td><td>SI1      </td><td>59.8     </td><td>61       </td><td>326      </td><td>3.89     </td><td>3.84     </td><td>2.31     </td></tr>\n",
       "\t<tr><td>0.23     </td><td>Good     </td><td>E        </td><td>VS1      </td><td>56.9     </td><td>65       </td><td>327      </td><td>4.05     </td><td>4.07     </td><td>2.31     </td></tr>\n",
       "\t<tr><td>0.29     </td><td>Premium  </td><td>I        </td><td>VS2      </td><td>62.4     </td><td>58       </td><td>334      </td><td>4.20     </td><td>4.23     </td><td>2.63     </td></tr>\n",
       "\t<tr><td>0.31     </td><td>Good     </td><td>J        </td><td>SI2      </td><td>63.3     </td><td>58       </td><td>335      </td><td>4.34     </td><td>4.35     </td><td>2.75     </td></tr>\n",
       "\t<tr><td>0.24     </td><td>Very Good</td><td>J        </td><td>VVS2     </td><td>62.8     </td><td>57       </td><td>336      </td><td>3.94     </td><td>3.96     </td><td>2.48     </td></tr>\n",
       "</tbody>\n",
       "</table>\n"
      ],
      "text/latex": [
       "\\begin{tabular}{r|llllllllll}\n",
       " carat & cut & color & clarity & depth & table & price & x & y & z\\\\\n",
       "\\hline\n",
       "\t 0.23      & Ideal     & E         & SI2       & 61.5      & 55        & 326       & 3.95      & 3.98      & 2.43     \\\\\n",
       "\t 0.21      & Premium   & E         & SI1       & 59.8      & 61        & 326       & 3.89      & 3.84      & 2.31     \\\\\n",
       "\t 0.23      & Good      & E         & VS1       & 56.9      & 65        & 327       & 4.05      & 4.07      & 2.31     \\\\\n",
       "\t 0.29      & Premium   & I         & VS2       & 62.4      & 58        & 334       & 4.20      & 4.23      & 2.63     \\\\\n",
       "\t 0.31      & Good      & J         & SI2       & 63.3      & 58        & 335       & 4.34      & 4.35      & 2.75     \\\\\n",
       "\t 0.24      & Very Good & J         & VVS2      & 62.8      & 57        & 336       & 3.94      & 3.96      & 2.48     \\\\\n",
       "\\end{tabular}\n"
      ],
      "text/markdown": [
       "\n",
       "carat | cut | color | clarity | depth | table | price | x | y | z | \n",
       "|---|---|---|---|---|---|\n",
       "| 0.23      | Ideal     | E         | SI2       | 61.5      | 55        | 326       | 3.95      | 3.98      | 2.43      | \n",
       "| 0.21      | Premium   | E         | SI1       | 59.8      | 61        | 326       | 3.89      | 3.84      | 2.31      | \n",
       "| 0.23      | Good      | E         | VS1       | 56.9      | 65        | 327       | 4.05      | 4.07      | 2.31      | \n",
       "| 0.29      | Premium   | I         | VS2       | 62.4      | 58        | 334       | 4.20      | 4.23      | 2.63      | \n",
       "| 0.31      | Good      | J         | SI2       | 63.3      | 58        | 335       | 4.34      | 4.35      | 2.75      | \n",
       "| 0.24      | Very Good | J         | VVS2      | 62.8      | 57        | 336       | 3.94      | 3.96      | 2.48      | \n",
       "\n",
       "\n"
      ],
      "text/plain": [
       "  carat cut       color clarity depth table price x    y    z   \n",
       "1 0.23  Ideal     E     SI2     61.5  55    326   3.95 3.98 2.43\n",
       "2 0.21  Premium   E     SI1     59.8  61    326   3.89 3.84 2.31\n",
       "3 0.23  Good      E     VS1     56.9  65    327   4.05 4.07 2.31\n",
       "4 0.29  Premium   I     VS2     62.4  58    334   4.20 4.23 2.63\n",
       "5 0.31  Good      J     SI2     63.3  58    335   4.34 4.35 2.75\n",
       "6 0.24  Very Good J     VVS2    62.8  57    336   3.94 3.96 2.48"
      ]
     },
     "metadata": {},
     "output_type": "display_data"
    }
   ],
   "source": [
    "library(ggplot2)\n",
    "\n",
    "data(diamonds)\n",
    "head(diamonds)"
   ]
  },
  {
   "cell_type": "code",
   "execution_count": 72,
   "metadata": {},
   "outputs": [
    {
     "data": {
      "text/html": [
       "<table>\n",
       "<thead><tr><th scope=col>cut</th><th scope=col>price</th></tr></thead>\n",
       "<tbody>\n",
       "\t<tr><td>Fair     </td><td>4358.758 </td></tr>\n",
       "\t<tr><td>Good     </td><td>3928.864 </td></tr>\n",
       "\t<tr><td>Very Good</td><td>3981.760 </td></tr>\n",
       "\t<tr><td>Premium  </td><td>4584.258 </td></tr>\n",
       "\t<tr><td>Ideal    </td><td>3457.542 </td></tr>\n",
       "</tbody>\n",
       "</table>\n"
      ],
      "text/latex": [
       "\\begin{tabular}{r|ll}\n",
       " cut & price\\\\\n",
       "\\hline\n",
       "\t Fair      & 4358.758 \\\\\n",
       "\t Good      & 3928.864 \\\\\n",
       "\t Very Good & 3981.760 \\\\\n",
       "\t Premium   & 4584.258 \\\\\n",
       "\t Ideal     & 3457.542 \\\\\n",
       "\\end{tabular}\n"
      ],
      "text/markdown": [
       "\n",
       "cut | price | \n",
       "|---|---|---|---|---|\n",
       "| Fair      | 4358.758  | \n",
       "| Good      | 3928.864  | \n",
       "| Very Good | 3981.760  | \n",
       "| Premium   | 4584.258  | \n",
       "| Ideal     | 3457.542  | \n",
       "\n",
       "\n"
      ],
      "text/plain": [
       "  cut       price   \n",
       "1 Fair      4358.758\n",
       "2 Good      3928.864\n",
       "3 Very Good 3981.760\n",
       "4 Premium   4584.258\n",
       "5 Ideal     3457.542"
      ]
     },
     "metadata": {},
     "output_type": "display_data"
    }
   ],
   "source": [
    "aggregate(price ~ cut, diamonds, mean, na.rm=TRUE)"
   ]
  },
  {
   "cell_type": "code",
   "execution_count": 76,
   "metadata": {},
   "outputs": [
    {
     "data": {
      "text/plain": [
       "\n",
       "    D     E     F     G     H     I     J \n",
       " 6775  9797  9542 11292  8304  5422  2808 "
      ]
     },
     "metadata": {},
     "output_type": "display_data"
    }
   ],
   "source": [
    "table(diamonds$color)"
   ]
  },
  {
   "cell_type": "code",
   "execution_count": 78,
   "metadata": {},
   "outputs": [
    {
     "data": {
      "image/png": "[encoded data removed]",
      "text/plain": [
       "plot without title"
      ]
     },
     "metadata": {},
     "output_type": "display_data"
    }
   ],
   "source": [
    "pie(table(diamonds$cut))"
   ]
  },
  {
   "cell_type": "code",
   "execution_count": 82,
   "metadata": {},
   "outputs": [
    {
     "data": {
      "text/html": [
       "<table>\n",
       "<thead><tr><th scope=col>carat</th><th scope=col>cut</th><th scope=col>color</th><th scope=col>clarity</th><th scope=col>depth</th><th scope=col>table</th><th scope=col>price</th><th scope=col>x</th><th scope=col>y</th><th scope=col>z</th></tr></thead>\n",
       "<tbody>\n",
       "\t<tr><td>0.23     </td><td>Ideal    </td><td>E        </td><td>SI2      </td><td>61.5     </td><td>55       </td><td>326      </td><td>3.95     </td><td>3.98     </td><td>2.43     </td></tr>\n",
       "\t<tr><td>0.21     </td><td>Premium  </td><td>E        </td><td>SI1      </td><td>59.8     </td><td>61       </td><td>326      </td><td>3.89     </td><td>3.84     </td><td>2.31     </td></tr>\n",
       "\t<tr><td>0.23     </td><td>Good     </td><td>E        </td><td>VS1      </td><td>56.9     </td><td>65       </td><td>327      </td><td>4.05     </td><td>4.07     </td><td>2.31     </td></tr>\n",
       "\t<tr><td>0.29     </td><td>Premium  </td><td>I        </td><td>VS2      </td><td>62.4     </td><td>58       </td><td>334      </td><td>4.20     </td><td>4.23     </td><td>2.63     </td></tr>\n",
       "\t<tr><td>0.31     </td><td>Good     </td><td>J        </td><td>SI2      </td><td>63.3     </td><td>58       </td><td>335      </td><td>4.34     </td><td>4.35     </td><td>2.75     </td></tr>\n",
       "\t<tr><td>0.24     </td><td>Very Good</td><td>J        </td><td>VVS2     </td><td>62.8     </td><td>57       </td><td>336      </td><td>3.94     </td><td>3.96     </td><td>2.48     </td></tr>\n",
       "</tbody>\n",
       "</table>\n"
      ],
      "text/latex": [
       "\\begin{tabular}{r|llllllllll}\n",
       " carat & cut & color & clarity & depth & table & price & x & y & z\\\\\n",
       "\\hline\n",
       "\t 0.23      & Ideal     & E         & SI2       & 61.5      & 55        & 326       & 3.95      & 3.98      & 2.43     \\\\\n",
       "\t 0.21      & Premium   & E         & SI1       & 59.8      & 61        & 326       & 3.89      & 3.84      & 2.31     \\\\\n",
       "\t 0.23      & Good      & E         & VS1       & 56.9      & 65        & 327       & 4.05      & 4.07      & 2.31     \\\\\n",
       "\t 0.29      & Premium   & I         & VS2       & 62.4      & 58        & 334       & 4.20      & 4.23      & 2.63     \\\\\n",
       "\t 0.31      & Good      & J         & SI2       & 63.3      & 58        & 335       & 4.34      & 4.35      & 2.75     \\\\\n",
       "\t 0.24      & Very Good & J         & VVS2      & 62.8      & 57        & 336       & 3.94      & 3.96      & 2.48     \\\\\n",
       "\\end{tabular}\n"
      ],
      "text/markdown": [
       "\n",
       "carat | cut | color | clarity | depth | table | price | x | y | z | \n",
       "|---|---|---|---|---|---|\n",
       "| 0.23      | Ideal     | E         | SI2       | 61.5      | 55        | 326       | 3.95      | 3.98      | 2.43      | \n",
       "| 0.21      | Premium   | E         | SI1       | 59.8      | 61        | 326       | 3.89      | 3.84      | 2.31      | \n",
       "| 0.23      | Good      | E         | VS1       | 56.9      | 65        | 327       | 4.05      | 4.07      | 2.31      | \n",
       "| 0.29      | Premium   | I         | VS2       | 62.4      | 58        | 334       | 4.20      | 4.23      | 2.63      | \n",
       "| 0.31      | Good      | J         | SI2       | 63.3      | 58        | 335       | 4.34      | 4.35      | 2.75      | \n",
       "| 0.24      | Very Good | J         | VVS2      | 62.8      | 57        | 336       | 3.94      | 3.96      | 2.48      | \n",
       "\n",
       "\n"
      ],
      "text/plain": [
       "  carat cut       color clarity depth table price x    y    z   \n",
       "1 0.23  Ideal     E     SI2     61.5  55    326   3.95 3.98 2.43\n",
       "2 0.21  Premium   E     SI1     59.8  61    326   3.89 3.84 2.31\n",
       "3 0.23  Good      E     VS1     56.9  65    327   4.05 4.07 2.31\n",
       "4 0.29  Premium   I     VS2     62.4  58    334   4.20 4.23 2.63\n",
       "5 0.31  Good      J     SI2     63.3  58    335   4.34 4.35 2.75\n",
       "6 0.24  Very Good J     VVS2    62.8  57    336   3.94 3.96 2.48"
      ]
     },
     "metadata": {},
     "output_type": "display_data"
    }
   ],
   "source": [
    "library(data.table)\n",
    "\n",
    "diamondsDT <- data.table(diamonds)\n",
    "head(diamondsDT)"
   ]
  },
  {
   "cell_type": "code",
   "execution_count": 84,
   "metadata": {},
   "outputs": [
    {
     "name": "stdout",
     "output_type": "stream",
     "text": [
      "         NAME   NROW NCOL MB                                    COLS KEY\n",
      "1: diamondsDT 53,940   10  3 carat,cut,color,clarity,depth,table,...    \n",
      "Total: 3MB\n"
     ]
    }
   ],
   "source": [
    "tables()"
   ]
  },
  {
   "cell_type": "code",
   "execution_count": 87,
   "metadata": {},
   "outputs": [
    {
     "name": "stdout",
     "output_type": "stream",
     "text": [
      "         NAME   NROW NCOL MB                                    COLS KEY\n",
      "1: diamondsDT 53,940   10  3 carat,cut,color,clarity,depth,table,... cut\n",
      "Total: 3MB\n"
     ]
    },
    {
     "data": {
      "text/html": [
       "'cut'"
      ],
      "text/latex": [
       "'cut'"
      ],
      "text/markdown": [
       "'cut'"
      ],
      "text/plain": [
       "[1] \"cut\""
      ]
     },
     "metadata": {},
     "output_type": "display_data"
    }
   ],
   "source": [
    "setkey(diamondsDT, cut)\n",
    "tables()\n",
    "key(diamondsDT)"
   ]
  },
  {
   "cell_type": "code",
   "execution_count": 93,
   "metadata": {},
   "outputs": [
    {
     "data": {
      "text/html": [
       "<table>\n",
       "<thead><tr><th scope=col>cut</th><th scope=col>color</th><th scope=col>price</th><th scope=col>carat</th></tr></thead>\n",
       "<tbody>\n",
       "\t<tr><td>Fair     </td><td>E        </td><td>3682.312 </td><td>0.8566071</td></tr>\n",
       "\t<tr><td>Fair     </td><td>F        </td><td>3827.003 </td><td>0.9047115</td></tr>\n",
       "\t<tr><td>Fair     </td><td>H        </td><td>5135.683 </td><td>1.2191749</td></tr>\n",
       "\t<tr><td>Fair     </td><td>G        </td><td>4239.255 </td><td>1.0238217</td></tr>\n",
       "\t<tr><td>Fair     </td><td>J        </td><td>4975.655 </td><td>1.3411765</td></tr>\n",
       "\t<tr><td>Fair     </td><td>I        </td><td>4685.446 </td><td>1.1980571</td></tr>\n",
       "\t<tr><td>Fair     </td><td>D        </td><td>4291.061 </td><td>0.9201227</td></tr>\n",
       "\t<tr><td>Good     </td><td>E        </td><td>3423.644 </td><td>0.7451340</td></tr>\n",
       "\t<tr><td>Good     </td><td>J        </td><td>4574.173 </td><td>1.0995440</td></tr>\n",
       "\t<tr><td>Good     </td><td>I        </td><td>5078.533 </td><td>1.0572222</td></tr>\n",
       "\t<tr><td>Good     </td><td>F        </td><td>3495.750 </td><td>0.7759296</td></tr>\n",
       "\t<tr><td>Good     </td><td>H        </td><td>4276.255 </td><td>0.9147293</td></tr>\n",
       "\t<tr><td>Good     </td><td>D        </td><td>3405.382 </td><td>0.7445166</td></tr>\n",
       "\t<tr><td>Good     </td><td>G        </td><td>4123.482 </td><td>0.8508955</td></tr>\n",
       "\t<tr><td>Very Good</td><td>J        </td><td>5103.513 </td><td>1.1332153</td></tr>\n",
       "\t<tr><td>Very Good</td><td>I        </td><td>5255.880 </td><td>1.0469518</td></tr>\n",
       "\t<tr><td>Very Good</td><td>H        </td><td>4535.390 </td><td>0.9159485</td></tr>\n",
       "\t<tr><td>Very Good</td><td>E        </td><td>3214.652 </td><td>0.6763167</td></tr>\n",
       "\t<tr><td>Very Good</td><td>G        </td><td>3872.754 </td><td>0.7667986</td></tr>\n",
       "\t<tr><td>Very Good</td><td>D        </td><td>3470.467 </td><td>0.6964243</td></tr>\n",
       "\t<tr><td>Very Good</td><td>F        </td><td>3778.820 </td><td>0.7409612</td></tr>\n",
       "\t<tr><td>Premium  </td><td>E        </td><td>3538.914 </td><td>0.7177450</td></tr>\n",
       "\t<tr><td>Premium  </td><td>I        </td><td>5946.181 </td><td>1.1449370</td></tr>\n",
       "\t<tr><td>Premium  </td><td>F        </td><td>4324.890 </td><td>0.8270356</td></tr>\n",
       "\t<tr><td>Premium  </td><td>D        </td><td>3631.293 </td><td>0.7215471</td></tr>\n",
       "\t<tr><td>Premium  </td><td>J        </td><td>6294.592 </td><td>1.2930941</td></tr>\n",
       "\t<tr><td>Premium  </td><td>G        </td><td>4500.742 </td><td>0.8414877</td></tr>\n",
       "\t<tr><td>Premium  </td><td>H        </td><td>5216.707 </td><td>1.0164492</td></tr>\n",
       "\t<tr><td>Ideal    </td><td>E        </td><td>2597.550 </td><td>0.5784012</td></tr>\n",
       "\t<tr><td>Ideal    </td><td>J        </td><td>4918.186 </td><td>1.0635938</td></tr>\n",
       "\t<tr><td>Ideal    </td><td>I        </td><td>4451.970 </td><td>0.9130291</td></tr>\n",
       "\t<tr><td>Ideal    </td><td>G        </td><td>3720.706 </td><td>0.7007146</td></tr>\n",
       "\t<tr><td>Ideal    </td><td>D        </td><td>2629.095 </td><td>0.5657657</td></tr>\n",
       "\t<tr><td>Ideal    </td><td>F        </td><td>3374.939 </td><td>0.6558285</td></tr>\n",
       "\t<tr><td>Ideal    </td><td>H        </td><td>3889.335 </td><td>0.7995249</td></tr>\n",
       "</tbody>\n",
       "</table>\n"
      ],
      "text/latex": [
       "\\begin{tabular}{r|llll}\n",
       " cut & color & price & carat\\\\\n",
       "\\hline\n",
       "\t Fair      & E         & 3682.312  & 0.8566071\\\\\n",
       "\t Fair      & F         & 3827.003  & 0.9047115\\\\\n",
       "\t Fair      & H         & 5135.683  & 1.2191749\\\\\n",
       "\t Fair      & G         & 4239.255  & 1.0238217\\\\\n",
       "\t Fair      & J         & 4975.655  & 1.3411765\\\\\n",
       "\t Fair      & I         & 4685.446  & 1.1980571\\\\\n",
       "\t Fair      & D         & 4291.061  & 0.9201227\\\\\n",
       "\t Good      & E         & 3423.644  & 0.7451340\\\\\n",
       "\t Good      & J         & 4574.173  & 1.0995440\\\\\n",
       "\t Good      & I         & 5078.533  & 1.0572222\\\\\n",
       "\t Good      & F         & 3495.750  & 0.7759296\\\\\n",
       "\t Good      & H         & 4276.255  & 0.9147293\\\\\n",
       "\t Good      & D         & 3405.382  & 0.7445166\\\\\n",
       "\t Good      & G         & 4123.482  & 0.8508955\\\\\n",
       "\t Very Good & J         & 5103.513  & 1.1332153\\\\\n",
       "\t Very Good & I         & 5255.880  & 1.0469518\\\\\n",
       "\t Very Good & H         & 4535.390  & 0.9159485\\\\\n",
       "\t Very Good & E         & 3214.652  & 0.6763167\\\\\n",
       "\t Very Good & G         & 3872.754  & 0.7667986\\\\\n",
       "\t Very Good & D         & 3470.467  & 0.6964243\\\\\n",
       "\t Very Good & F         & 3778.820  & 0.7409612\\\\\n",
       "\t Premium   & E         & 3538.914  & 0.7177450\\\\\n",
       "\t Premium   & I         & 5946.181  & 1.1449370\\\\\n",
       "\t Premium   & F         & 4324.890  & 0.8270356\\\\\n",
       "\t Premium   & D         & 3631.293  & 0.7215471\\\\\n",
       "\t Premium   & J         & 6294.592  & 1.2930941\\\\\n",
       "\t Premium   & G         & 4500.742  & 0.8414877\\\\\n",
       "\t Premium   & H         & 5216.707  & 1.0164492\\\\\n",
       "\t Ideal     & E         & 2597.550  & 0.5784012\\\\\n",
       "\t Ideal     & J         & 4918.186  & 1.0635938\\\\\n",
       "\t Ideal     & I         & 4451.970  & 0.9130291\\\\\n",
       "\t Ideal     & G         & 3720.706  & 0.7007146\\\\\n",
       "\t Ideal     & D         & 2629.095  & 0.5657657\\\\\n",
       "\t Ideal     & F         & 3374.939  & 0.6558285\\\\\n",
       "\t Ideal     & H         & 3889.335  & 0.7995249\\\\\n",
       "\\end{tabular}\n"
      ],
      "text/markdown": [
       "\n",
       "cut | color | price | carat | \n",
       "|---|---|---|---|---|---|---|---|---|---|---|---|---|---|---|---|---|---|---|---|---|---|---|---|---|---|---|---|---|---|---|---|---|---|---|\n",
       "| Fair      | E         | 3682.312  | 0.8566071 | \n",
       "| Fair      | F         | 3827.003  | 0.9047115 | \n",
       "| Fair      | H         | 5135.683  | 1.2191749 | \n",
       "| Fair      | G         | 4239.255  | 1.0238217 | \n",
       "| Fair      | J         | 4975.655  | 1.3411765 | \n",
       "| Fair      | I         | 4685.446  | 1.1980571 | \n",
       "| Fair      | D         | 4291.061  | 0.9201227 | \n",
       "| Good      | E         | 3423.644  | 0.7451340 | \n",
       "| Good      | J         | 4574.173  | 1.0995440 | \n",
       "| Good      | I         | 5078.533  | 1.0572222 | \n",
       "| Good      | F         | 3495.750  | 0.7759296 | \n",
       "| Good      | H         | 4276.255  | 0.9147293 | \n",
       "| Good      | D         | 3405.382  | 0.7445166 | \n",
       "| Good      | G         | 4123.482  | 0.8508955 | \n",
       "| Very Good | J         | 5103.513  | 1.1332153 | \n",
       "| Very Good | I         | 5255.880  | 1.0469518 | \n",
       "| Very Good | H         | 4535.390  | 0.9159485 | \n",
       "| Very Good | E         | 3214.652  | 0.6763167 | \n",
       "| Very Good | G         | 3872.754  | 0.7667986 | \n",
       "| Very Good | D         | 3470.467  | 0.6964243 | \n",
       "| Very Good | F         | 3778.820  | 0.7409612 | \n",
       "| Premium   | E         | 3538.914  | 0.7177450 | \n",
       "| Premium   | I         | 5946.181  | 1.1449370 | \n",
       "| Premium   | F         | 4324.890  | 0.8270356 | \n",
       "| Premium   | D         | 3631.293  | 0.7215471 | \n",
       "| Premium   | J         | 6294.592  | 1.2930941 | \n",
       "| Premium   | G         | 4500.742  | 0.8414877 | \n",
       "| Premium   | H         | 5216.707  | 1.0164492 | \n",
       "| Ideal     | E         | 2597.550  | 0.5784012 | \n",
       "| Ideal     | J         | 4918.186  | 1.0635938 | \n",
       "| Ideal     | I         | 4451.970  | 0.9130291 | \n",
       "| Ideal     | G         | 3720.706  | 0.7007146 | \n",
       "| Ideal     | D         | 2629.095  | 0.5657657 | \n",
       "| Ideal     | F         | 3374.939  | 0.6558285 | \n",
       "| Ideal     | H         | 3889.335  | 0.7995249 | \n",
       "\n",
       "\n"
      ],
      "text/plain": [
       "   cut       color price    carat    \n",
       "1  Fair      E     3682.312 0.8566071\n",
       "2  Fair      F     3827.003 0.9047115\n",
       "3  Fair      H     5135.683 1.2191749\n",
       "4  Fair      G     4239.255 1.0238217\n",
       "5  Fair      J     4975.655 1.3411765\n",
       "6  Fair      I     4685.446 1.1980571\n",
       "7  Fair      D     4291.061 0.9201227\n",
       "8  Good      E     3423.644 0.7451340\n",
       "9  Good      J     4574.173 1.0995440\n",
       "10 Good      I     5078.533 1.0572222\n",
       "11 Good      F     3495.750 0.7759296\n",
       "12 Good      H     4276.255 0.9147293\n",
       "13 Good      D     3405.382 0.7445166\n",
       "14 Good      G     4123.482 0.8508955\n",
       "15 Very Good J     5103.513 1.1332153\n",
       "16 Very Good I     5255.880 1.0469518\n",
       "17 Very Good H     4535.390 0.9159485\n",
       "18 Very Good E     3214.652 0.6763167\n",
       "19 Very Good G     3872.754 0.7667986\n",
       "20 Very Good D     3470.467 0.6964243\n",
       "21 Very Good F     3778.820 0.7409612\n",
       "22 Premium   E     3538.914 0.7177450\n",
       "23 Premium   I     5946.181 1.1449370\n",
       "24 Premium   F     4324.890 0.8270356\n",
       "25 Premium   D     3631.293 0.7215471\n",
       "26 Premium   J     6294.592 1.2930941\n",
       "27 Premium   G     4500.742 0.8414877\n",
       "28 Premium   H     5216.707 1.0164492\n",
       "29 Ideal     E     2597.550 0.5784012\n",
       "30 Ideal     J     4918.186 1.0635938\n",
       "31 Ideal     I     4451.970 0.9130291\n",
       "32 Ideal     G     3720.706 0.7007146\n",
       "33 Ideal     D     2629.095 0.5657657\n",
       "34 Ideal     F     3374.939 0.6558285\n",
       "35 Ideal     H     3889.335 0.7995249"
      ]
     },
     "metadata": {},
     "output_type": "display_data"
    }
   ],
   "source": [
    "diamondsDT[, list(price=mean(price), carat =mean(carat)), \n",
    "           by=list(cut, color)]"
   ]
  },
  {
   "cell_type": "code",
   "execution_count": null,
   "metadata": {},
   "outputs": [],
   "source": []
  }
 ],
 "metadata": {
  "kernelspec": {
   "display_name": "R",
   "language": "R",
   "name": "ir"
  },
  "language_info": {
   "codemirror_mode": "r",
   "file_extension": ".r",
   "mimetype": "text/x-r-source",
   "name": "R",
   "pygments_lexer": "r",
   "version": "3.4.3"
  }
 },
 "nbformat": 4,
 "nbformat_minor": 2
}
